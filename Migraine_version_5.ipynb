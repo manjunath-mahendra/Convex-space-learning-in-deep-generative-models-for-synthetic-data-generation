{
 "cells": [
  {
   "cell_type": "markdown",
   "id": "7a3650ef-2449-4caa-b8ae-b8d77e99cf20",
   "metadata": {
    "tags": []
   },
   "source": [
    "# Semi-supervised synthetic data validation"
   ]
  },
  {
   "cell_type": "markdown",
   "id": "85f5f148-9358-459d-a023-3c3ab9b5bf38",
   "metadata": {},
   "source": [
    "### Importing necessary libraries"
   ]
  },
  {
   "cell_type": "code",
   "execution_count": 1,
   "id": "56b80e0e-b49b-4238-85be-28b96923aeb4",
   "metadata": {
    "tags": []
   },
   "outputs": [
    {
     "name": "stderr",
     "output_type": "stream",
     "text": [
      "2023-05-11 10:16:08.334886: W tensorflow/stream_executor/platform/default/dso_loader.cc:64] Could not load dynamic library 'libcudart.so.11.0'; dlerror: libcudart.so.11.0: cannot open shared object file: No such file or directory\n",
      "2023-05-11 10:16:08.334903: I tensorflow/stream_executor/cuda/cudart_stub.cc:29] Ignore above cudart dlerror if you do not have a GPU set up on your machine.\n"
     ]
    }
   ],
   "source": [
    "import numpy as np\n",
    "from library.generators.NextConvGeN import NextConvGeN\n"
   ]
  },
  {
   "cell_type": "code",
   "execution_count": 2,
   "id": "60a37ac3-8400-4930-9b8d-f50e51befb9f",
   "metadata": {},
   "outputs": [],
   "source": [
    "from fdc.fdc import feature_clustering, canberra_modified, Clustering, FDC\n",
    "from fdc.clustering import *"
   ]
  },
  {
   "cell_type": "code",
   "execution_count": 3,
   "id": "24a06985-a202-46b5-93db-f92a3ded0673",
   "metadata": {},
   "outputs": [],
   "source": [
    "import pandas as pd"
   ]
  },
  {
   "cell_type": "markdown",
   "id": "01d3d86f-4e08-4be3-bba9-e2f7b9202670",
   "metadata": {},
   "source": [
    "### Importing data"
   ]
  },
  {
   "cell_type": "code",
   "execution_count": 4,
   "id": "53e069b3-8bcc-46b0-852b-2a504e21197e",
   "metadata": {},
   "outputs": [],
   "source": [
    "data=pd.read_csv('preprocessed_migraine_data.csv')"
   ]
  },
  {
   "cell_type": "code",
   "execution_count": 5,
   "id": "ff8fb934-b029-4268-83e4-3151b2ad2f98",
   "metadata": {},
   "outputs": [
    {
     "data": {
      "text/html": [
       "<div>\n",
       "<style scoped>\n",
       "    .dataframe tbody tr th:only-of-type {\n",
       "        vertical-align: middle;\n",
       "    }\n",
       "\n",
       "    .dataframe tbody tr th {\n",
       "        vertical-align: top;\n",
       "    }\n",
       "\n",
       "    .dataframe thead th {\n",
       "        text-align: right;\n",
       "    }\n",
       "</style>\n",
       "<table border=\"1\" class=\"dataframe\">\n",
       "  <thead>\n",
       "    <tr style=\"text-align: right;\">\n",
       "      <th></th>\n",
       "      <th>Unnamed: 0</th>\n",
       "      <th>Age</th>\n",
       "      <th>Duration</th>\n",
       "      <th>Frequency</th>\n",
       "      <th>Location</th>\n",
       "      <th>Character</th>\n",
       "      <th>Intensity</th>\n",
       "      <th>Nausea</th>\n",
       "      <th>Vomit</th>\n",
       "      <th>Phonophobia</th>\n",
       "      <th>...</th>\n",
       "      <th>Dysphasia</th>\n",
       "      <th>Vertigo</th>\n",
       "      <th>Tinnitus</th>\n",
       "      <th>Hypoacusis</th>\n",
       "      <th>Diplopia</th>\n",
       "      <th>Defect</th>\n",
       "      <th>Conscience</th>\n",
       "      <th>Paresthesia</th>\n",
       "      <th>DPF</th>\n",
       "      <th>Type</th>\n",
       "    </tr>\n",
       "  </thead>\n",
       "  <tbody>\n",
       "    <tr>\n",
       "      <th>0</th>\n",
       "      <td>0</td>\n",
       "      <td>30</td>\n",
       "      <td>1</td>\n",
       "      <td>5</td>\n",
       "      <td>1</td>\n",
       "      <td>1</td>\n",
       "      <td>2</td>\n",
       "      <td>1</td>\n",
       "      <td>0</td>\n",
       "      <td>1</td>\n",
       "      <td>...</td>\n",
       "      <td>0</td>\n",
       "      <td>0</td>\n",
       "      <td>0</td>\n",
       "      <td>0</td>\n",
       "      <td>0</td>\n",
       "      <td>0</td>\n",
       "      <td>0</td>\n",
       "      <td>0</td>\n",
       "      <td>0</td>\n",
       "      <td>0</td>\n",
       "    </tr>\n",
       "    <tr>\n",
       "      <th>1</th>\n",
       "      <td>1</td>\n",
       "      <td>50</td>\n",
       "      <td>3</td>\n",
       "      <td>5</td>\n",
       "      <td>1</td>\n",
       "      <td>1</td>\n",
       "      <td>3</td>\n",
       "      <td>1</td>\n",
       "      <td>1</td>\n",
       "      <td>1</td>\n",
       "      <td>...</td>\n",
       "      <td>0</td>\n",
       "      <td>1</td>\n",
       "      <td>0</td>\n",
       "      <td>0</td>\n",
       "      <td>0</td>\n",
       "      <td>0</td>\n",
       "      <td>0</td>\n",
       "      <td>0</td>\n",
       "      <td>0</td>\n",
       "      <td>0</td>\n",
       "    </tr>\n",
       "    <tr>\n",
       "      <th>2</th>\n",
       "      <td>2</td>\n",
       "      <td>53</td>\n",
       "      <td>2</td>\n",
       "      <td>1</td>\n",
       "      <td>1</td>\n",
       "      <td>1</td>\n",
       "      <td>2</td>\n",
       "      <td>1</td>\n",
       "      <td>1</td>\n",
       "      <td>1</td>\n",
       "      <td>...</td>\n",
       "      <td>0</td>\n",
       "      <td>0</td>\n",
       "      <td>0</td>\n",
       "      <td>0</td>\n",
       "      <td>0</td>\n",
       "      <td>0</td>\n",
       "      <td>0</td>\n",
       "      <td>0</td>\n",
       "      <td>0</td>\n",
       "      <td>0</td>\n",
       "    </tr>\n",
       "    <tr>\n",
       "      <th>3</th>\n",
       "      <td>3</td>\n",
       "      <td>45</td>\n",
       "      <td>3</td>\n",
       "      <td>5</td>\n",
       "      <td>1</td>\n",
       "      <td>1</td>\n",
       "      <td>3</td>\n",
       "      <td>1</td>\n",
       "      <td>0</td>\n",
       "      <td>1</td>\n",
       "      <td>...</td>\n",
       "      <td>0</td>\n",
       "      <td>1</td>\n",
       "      <td>0</td>\n",
       "      <td>0</td>\n",
       "      <td>0</td>\n",
       "      <td>0</td>\n",
       "      <td>0</td>\n",
       "      <td>0</td>\n",
       "      <td>0</td>\n",
       "      <td>0</td>\n",
       "    </tr>\n",
       "    <tr>\n",
       "      <th>4</th>\n",
       "      <td>4</td>\n",
       "      <td>53</td>\n",
       "      <td>1</td>\n",
       "      <td>1</td>\n",
       "      <td>1</td>\n",
       "      <td>1</td>\n",
       "      <td>2</td>\n",
       "      <td>1</td>\n",
       "      <td>0</td>\n",
       "      <td>1</td>\n",
       "      <td>...</td>\n",
       "      <td>0</td>\n",
       "      <td>0</td>\n",
       "      <td>0</td>\n",
       "      <td>0</td>\n",
       "      <td>0</td>\n",
       "      <td>0</td>\n",
       "      <td>0</td>\n",
       "      <td>0</td>\n",
       "      <td>1</td>\n",
       "      <td>0</td>\n",
       "    </tr>\n",
       "    <tr>\n",
       "      <th>...</th>\n",
       "      <td>...</td>\n",
       "      <td>...</td>\n",
       "      <td>...</td>\n",
       "      <td>...</td>\n",
       "      <td>...</td>\n",
       "      <td>...</td>\n",
       "      <td>...</td>\n",
       "      <td>...</td>\n",
       "      <td>...</td>\n",
       "      <td>...</td>\n",
       "      <td>...</td>\n",
       "      <td>...</td>\n",
       "      <td>...</td>\n",
       "      <td>...</td>\n",
       "      <td>...</td>\n",
       "      <td>...</td>\n",
       "      <td>...</td>\n",
       "      <td>...</td>\n",
       "      <td>...</td>\n",
       "      <td>...</td>\n",
       "      <td>...</td>\n",
       "    </tr>\n",
       "    <tr>\n",
       "      <th>395</th>\n",
       "      <td>395</td>\n",
       "      <td>39</td>\n",
       "      <td>1</td>\n",
       "      <td>1</td>\n",
       "      <td>1</td>\n",
       "      <td>1</td>\n",
       "      <td>3</td>\n",
       "      <td>1</td>\n",
       "      <td>1</td>\n",
       "      <td>1</td>\n",
       "      <td>...</td>\n",
       "      <td>0</td>\n",
       "      <td>1</td>\n",
       "      <td>0</td>\n",
       "      <td>0</td>\n",
       "      <td>1</td>\n",
       "      <td>0</td>\n",
       "      <td>0</td>\n",
       "      <td>0</td>\n",
       "      <td>1</td>\n",
       "      <td>4</td>\n",
       "    </tr>\n",
       "    <tr>\n",
       "      <th>396</th>\n",
       "      <td>396</td>\n",
       "      <td>20</td>\n",
       "      <td>3</td>\n",
       "      <td>2</td>\n",
       "      <td>1</td>\n",
       "      <td>1</td>\n",
       "      <td>3</td>\n",
       "      <td>1</td>\n",
       "      <td>0</td>\n",
       "      <td>1</td>\n",
       "      <td>...</td>\n",
       "      <td>0</td>\n",
       "      <td>0</td>\n",
       "      <td>1</td>\n",
       "      <td>1</td>\n",
       "      <td>0</td>\n",
       "      <td>0</td>\n",
       "      <td>0</td>\n",
       "      <td>0</td>\n",
       "      <td>1</td>\n",
       "      <td>4</td>\n",
       "    </tr>\n",
       "    <tr>\n",
       "      <th>397</th>\n",
       "      <td>397</td>\n",
       "      <td>28</td>\n",
       "      <td>3</td>\n",
       "      <td>2</td>\n",
       "      <td>1</td>\n",
       "      <td>1</td>\n",
       "      <td>3</td>\n",
       "      <td>1</td>\n",
       "      <td>0</td>\n",
       "      <td>1</td>\n",
       "      <td>...</td>\n",
       "      <td>0</td>\n",
       "      <td>1</td>\n",
       "      <td>0</td>\n",
       "      <td>0</td>\n",
       "      <td>0</td>\n",
       "      <td>1</td>\n",
       "      <td>0</td>\n",
       "      <td>0</td>\n",
       "      <td>1</td>\n",
       "      <td>4</td>\n",
       "    </tr>\n",
       "    <tr>\n",
       "      <th>398</th>\n",
       "      <td>398</td>\n",
       "      <td>20</td>\n",
       "      <td>3</td>\n",
       "      <td>1</td>\n",
       "      <td>1</td>\n",
       "      <td>1</td>\n",
       "      <td>3</td>\n",
       "      <td>1</td>\n",
       "      <td>0</td>\n",
       "      <td>1</td>\n",
       "      <td>...</td>\n",
       "      <td>0</td>\n",
       "      <td>1</td>\n",
       "      <td>0</td>\n",
       "      <td>0</td>\n",
       "      <td>0</td>\n",
       "      <td>0</td>\n",
       "      <td>0</td>\n",
       "      <td>1</td>\n",
       "      <td>1</td>\n",
       "      <td>4</td>\n",
       "    </tr>\n",
       "    <tr>\n",
       "      <th>399</th>\n",
       "      <td>399</td>\n",
       "      <td>37</td>\n",
       "      <td>1</td>\n",
       "      <td>1</td>\n",
       "      <td>1</td>\n",
       "      <td>1</td>\n",
       "      <td>3</td>\n",
       "      <td>1</td>\n",
       "      <td>1</td>\n",
       "      <td>1</td>\n",
       "      <td>...</td>\n",
       "      <td>0</td>\n",
       "      <td>1</td>\n",
       "      <td>0</td>\n",
       "      <td>0</td>\n",
       "      <td>0</td>\n",
       "      <td>0</td>\n",
       "      <td>1</td>\n",
       "      <td>0</td>\n",
       "      <td>1</td>\n",
       "      <td>4</td>\n",
       "    </tr>\n",
       "  </tbody>\n",
       "</table>\n",
       "<p>400 rows × 23 columns</p>\n",
       "</div>"
      ],
      "text/plain": [
       "     Unnamed: 0  Age  Duration  Frequency  Location  Character  Intensity  \\\n",
       "0             0   30         1          5         1          1          2   \n",
       "1             1   50         3          5         1          1          3   \n",
       "2             2   53         2          1         1          1          2   \n",
       "3             3   45         3          5         1          1          3   \n",
       "4             4   53         1          1         1          1          2   \n",
       "..          ...  ...       ...        ...       ...        ...        ...   \n",
       "395         395   39         1          1         1          1          3   \n",
       "396         396   20         3          2         1          1          3   \n",
       "397         397   28         3          2         1          1          3   \n",
       "398         398   20         3          1         1          1          3   \n",
       "399         399   37         1          1         1          1          3   \n",
       "\n",
       "     Nausea  Vomit  Phonophobia  ...  Dysphasia  Vertigo  Tinnitus  \\\n",
       "0         1      0            1  ...          0        0         0   \n",
       "1         1      1            1  ...          0        1         0   \n",
       "2         1      1            1  ...          0        0         0   \n",
       "3         1      0            1  ...          0        1         0   \n",
       "4         1      0            1  ...          0        0         0   \n",
       "..      ...    ...          ...  ...        ...      ...       ...   \n",
       "395       1      1            1  ...          0        1         0   \n",
       "396       1      0            1  ...          0        0         1   \n",
       "397       1      0            1  ...          0        1         0   \n",
       "398       1      0            1  ...          0        1         0   \n",
       "399       1      1            1  ...          0        1         0   \n",
       "\n",
       "     Hypoacusis  Diplopia  Defect  Conscience  Paresthesia  DPF  Type  \n",
       "0             0         0       0           0            0    0     0  \n",
       "1             0         0       0           0            0    0     0  \n",
       "2             0         0       0           0            0    0     0  \n",
       "3             0         0       0           0            0    0     0  \n",
       "4             0         0       0           0            0    1     0  \n",
       "..          ...       ...     ...         ...          ...  ...   ...  \n",
       "395           0         1       0           0            0    1     4  \n",
       "396           1         0       0           0            0    1     4  \n",
       "397           0         0       1           0            0    1     4  \n",
       "398           0         0       0           0            1    1     4  \n",
       "399           0         0       0           1            0    1     4  \n",
       "\n",
       "[400 rows x 23 columns]"
      ]
     },
     "execution_count": 5,
     "metadata": {},
     "output_type": "execute_result"
    }
   ],
   "source": [
    "data"
   ]
  },
  {
   "cell_type": "code",
   "execution_count": 6,
   "id": "8aebf9eb-e0b3-40db-bcd0-bfc400e004ce",
   "metadata": {},
   "outputs": [],
   "source": [
    "data.drop(['Unnamed: 0','Type'],axis=1,inplace=True)"
   ]
  },
  {
   "cell_type": "code",
   "execution_count": 7,
   "id": "e633073d-271c-450a-87f9-a61755e2f011",
   "metadata": {},
   "outputs": [
    {
     "data": {
      "text/html": [
       "<div>\n",
       "<style scoped>\n",
       "    .dataframe tbody tr th:only-of-type {\n",
       "        vertical-align: middle;\n",
       "    }\n",
       "\n",
       "    .dataframe tbody tr th {\n",
       "        vertical-align: top;\n",
       "    }\n",
       "\n",
       "    .dataframe thead th {\n",
       "        text-align: right;\n",
       "    }\n",
       "</style>\n",
       "<table border=\"1\" class=\"dataframe\">\n",
       "  <thead>\n",
       "    <tr style=\"text-align: right;\">\n",
       "      <th></th>\n",
       "      <th>Age</th>\n",
       "      <th>Duration</th>\n",
       "      <th>Frequency</th>\n",
       "      <th>Location</th>\n",
       "      <th>Character</th>\n",
       "      <th>Intensity</th>\n",
       "      <th>Nausea</th>\n",
       "      <th>Vomit</th>\n",
       "      <th>Phonophobia</th>\n",
       "      <th>Photophobia</th>\n",
       "      <th>...</th>\n",
       "      <th>Sensory</th>\n",
       "      <th>Dysphasia</th>\n",
       "      <th>Vertigo</th>\n",
       "      <th>Tinnitus</th>\n",
       "      <th>Hypoacusis</th>\n",
       "      <th>Diplopia</th>\n",
       "      <th>Defect</th>\n",
       "      <th>Conscience</th>\n",
       "      <th>Paresthesia</th>\n",
       "      <th>DPF</th>\n",
       "    </tr>\n",
       "  </thead>\n",
       "  <tbody>\n",
       "    <tr>\n",
       "      <th>0</th>\n",
       "      <td>30</td>\n",
       "      <td>1</td>\n",
       "      <td>5</td>\n",
       "      <td>1</td>\n",
       "      <td>1</td>\n",
       "      <td>2</td>\n",
       "      <td>1</td>\n",
       "      <td>0</td>\n",
       "      <td>1</td>\n",
       "      <td>1</td>\n",
       "      <td>...</td>\n",
       "      <td>2</td>\n",
       "      <td>0</td>\n",
       "      <td>0</td>\n",
       "      <td>0</td>\n",
       "      <td>0</td>\n",
       "      <td>0</td>\n",
       "      <td>0</td>\n",
       "      <td>0</td>\n",
       "      <td>0</td>\n",
       "      <td>0</td>\n",
       "    </tr>\n",
       "    <tr>\n",
       "      <th>1</th>\n",
       "      <td>50</td>\n",
       "      <td>3</td>\n",
       "      <td>5</td>\n",
       "      <td>1</td>\n",
       "      <td>1</td>\n",
       "      <td>3</td>\n",
       "      <td>1</td>\n",
       "      <td>1</td>\n",
       "      <td>1</td>\n",
       "      <td>1</td>\n",
       "      <td>...</td>\n",
       "      <td>1</td>\n",
       "      <td>0</td>\n",
       "      <td>1</td>\n",
       "      <td>0</td>\n",
       "      <td>0</td>\n",
       "      <td>0</td>\n",
       "      <td>0</td>\n",
       "      <td>0</td>\n",
       "      <td>0</td>\n",
       "      <td>0</td>\n",
       "    </tr>\n",
       "    <tr>\n",
       "      <th>2</th>\n",
       "      <td>53</td>\n",
       "      <td>2</td>\n",
       "      <td>1</td>\n",
       "      <td>1</td>\n",
       "      <td>1</td>\n",
       "      <td>2</td>\n",
       "      <td>1</td>\n",
       "      <td>1</td>\n",
       "      <td>1</td>\n",
       "      <td>1</td>\n",
       "      <td>...</td>\n",
       "      <td>0</td>\n",
       "      <td>0</td>\n",
       "      <td>0</td>\n",
       "      <td>0</td>\n",
       "      <td>0</td>\n",
       "      <td>0</td>\n",
       "      <td>0</td>\n",
       "      <td>0</td>\n",
       "      <td>0</td>\n",
       "      <td>0</td>\n",
       "    </tr>\n",
       "    <tr>\n",
       "      <th>3</th>\n",
       "      <td>45</td>\n",
       "      <td>3</td>\n",
       "      <td>5</td>\n",
       "      <td>1</td>\n",
       "      <td>1</td>\n",
       "      <td>3</td>\n",
       "      <td>1</td>\n",
       "      <td>0</td>\n",
       "      <td>1</td>\n",
       "      <td>1</td>\n",
       "      <td>...</td>\n",
       "      <td>2</td>\n",
       "      <td>0</td>\n",
       "      <td>1</td>\n",
       "      <td>0</td>\n",
       "      <td>0</td>\n",
       "      <td>0</td>\n",
       "      <td>0</td>\n",
       "      <td>0</td>\n",
       "      <td>0</td>\n",
       "      <td>0</td>\n",
       "    </tr>\n",
       "    <tr>\n",
       "      <th>4</th>\n",
       "      <td>53</td>\n",
       "      <td>1</td>\n",
       "      <td>1</td>\n",
       "      <td>1</td>\n",
       "      <td>1</td>\n",
       "      <td>2</td>\n",
       "      <td>1</td>\n",
       "      <td>0</td>\n",
       "      <td>1</td>\n",
       "      <td>1</td>\n",
       "      <td>...</td>\n",
       "      <td>0</td>\n",
       "      <td>0</td>\n",
       "      <td>0</td>\n",
       "      <td>0</td>\n",
       "      <td>0</td>\n",
       "      <td>0</td>\n",
       "      <td>0</td>\n",
       "      <td>0</td>\n",
       "      <td>0</td>\n",
       "      <td>1</td>\n",
       "    </tr>\n",
       "    <tr>\n",
       "      <th>...</th>\n",
       "      <td>...</td>\n",
       "      <td>...</td>\n",
       "      <td>...</td>\n",
       "      <td>...</td>\n",
       "      <td>...</td>\n",
       "      <td>...</td>\n",
       "      <td>...</td>\n",
       "      <td>...</td>\n",
       "      <td>...</td>\n",
       "      <td>...</td>\n",
       "      <td>...</td>\n",
       "      <td>...</td>\n",
       "      <td>...</td>\n",
       "      <td>...</td>\n",
       "      <td>...</td>\n",
       "      <td>...</td>\n",
       "      <td>...</td>\n",
       "      <td>...</td>\n",
       "      <td>...</td>\n",
       "      <td>...</td>\n",
       "      <td>...</td>\n",
       "    </tr>\n",
       "    <tr>\n",
       "      <th>395</th>\n",
       "      <td>39</td>\n",
       "      <td>1</td>\n",
       "      <td>1</td>\n",
       "      <td>1</td>\n",
       "      <td>1</td>\n",
       "      <td>3</td>\n",
       "      <td>1</td>\n",
       "      <td>1</td>\n",
       "      <td>1</td>\n",
       "      <td>1</td>\n",
       "      <td>...</td>\n",
       "      <td>1</td>\n",
       "      <td>0</td>\n",
       "      <td>1</td>\n",
       "      <td>0</td>\n",
       "      <td>0</td>\n",
       "      <td>1</td>\n",
       "      <td>0</td>\n",
       "      <td>0</td>\n",
       "      <td>0</td>\n",
       "      <td>1</td>\n",
       "    </tr>\n",
       "    <tr>\n",
       "      <th>396</th>\n",
       "      <td>20</td>\n",
       "      <td>3</td>\n",
       "      <td>2</td>\n",
       "      <td>1</td>\n",
       "      <td>1</td>\n",
       "      <td>3</td>\n",
       "      <td>1</td>\n",
       "      <td>0</td>\n",
       "      <td>1</td>\n",
       "      <td>1</td>\n",
       "      <td>...</td>\n",
       "      <td>0</td>\n",
       "      <td>0</td>\n",
       "      <td>0</td>\n",
       "      <td>1</td>\n",
       "      <td>1</td>\n",
       "      <td>0</td>\n",
       "      <td>0</td>\n",
       "      <td>0</td>\n",
       "      <td>0</td>\n",
       "      <td>1</td>\n",
       "    </tr>\n",
       "    <tr>\n",
       "      <th>397</th>\n",
       "      <td>28</td>\n",
       "      <td>3</td>\n",
       "      <td>2</td>\n",
       "      <td>1</td>\n",
       "      <td>1</td>\n",
       "      <td>3</td>\n",
       "      <td>1</td>\n",
       "      <td>0</td>\n",
       "      <td>1</td>\n",
       "      <td>1</td>\n",
       "      <td>...</td>\n",
       "      <td>0</td>\n",
       "      <td>0</td>\n",
       "      <td>1</td>\n",
       "      <td>0</td>\n",
       "      <td>0</td>\n",
       "      <td>0</td>\n",
       "      <td>1</td>\n",
       "      <td>0</td>\n",
       "      <td>0</td>\n",
       "      <td>1</td>\n",
       "    </tr>\n",
       "    <tr>\n",
       "      <th>398</th>\n",
       "      <td>20</td>\n",
       "      <td>3</td>\n",
       "      <td>1</td>\n",
       "      <td>1</td>\n",
       "      <td>1</td>\n",
       "      <td>3</td>\n",
       "      <td>1</td>\n",
       "      <td>0</td>\n",
       "      <td>1</td>\n",
       "      <td>1</td>\n",
       "      <td>...</td>\n",
       "      <td>1</td>\n",
       "      <td>0</td>\n",
       "      <td>1</td>\n",
       "      <td>0</td>\n",
       "      <td>0</td>\n",
       "      <td>0</td>\n",
       "      <td>0</td>\n",
       "      <td>0</td>\n",
       "      <td>1</td>\n",
       "      <td>1</td>\n",
       "    </tr>\n",
       "    <tr>\n",
       "      <th>399</th>\n",
       "      <td>37</td>\n",
       "      <td>1</td>\n",
       "      <td>1</td>\n",
       "      <td>1</td>\n",
       "      <td>1</td>\n",
       "      <td>3</td>\n",
       "      <td>1</td>\n",
       "      <td>1</td>\n",
       "      <td>1</td>\n",
       "      <td>1</td>\n",
       "      <td>...</td>\n",
       "      <td>0</td>\n",
       "      <td>0</td>\n",
       "      <td>1</td>\n",
       "      <td>0</td>\n",
       "      <td>0</td>\n",
       "      <td>0</td>\n",
       "      <td>0</td>\n",
       "      <td>1</td>\n",
       "      <td>0</td>\n",
       "      <td>1</td>\n",
       "    </tr>\n",
       "  </tbody>\n",
       "</table>\n",
       "<p>400 rows × 21 columns</p>\n",
       "</div>"
      ],
      "text/plain": [
       "     Age  Duration  Frequency  Location  Character  Intensity  Nausea  Vomit  \\\n",
       "0     30         1          5         1          1          2       1      0   \n",
       "1     50         3          5         1          1          3       1      1   \n",
       "2     53         2          1         1          1          2       1      1   \n",
       "3     45         3          5         1          1          3       1      0   \n",
       "4     53         1          1         1          1          2       1      0   \n",
       "..   ...       ...        ...       ...        ...        ...     ...    ...   \n",
       "395   39         1          1         1          1          3       1      1   \n",
       "396   20         3          2         1          1          3       1      0   \n",
       "397   28         3          2         1          1          3       1      0   \n",
       "398   20         3          1         1          1          3       1      0   \n",
       "399   37         1          1         1          1          3       1      1   \n",
       "\n",
       "     Phonophobia  Photophobia  ...  Sensory  Dysphasia  Vertigo  Tinnitus  \\\n",
       "0              1            1  ...        2          0        0         0   \n",
       "1              1            1  ...        1          0        1         0   \n",
       "2              1            1  ...        0          0        0         0   \n",
       "3              1            1  ...        2          0        1         0   \n",
       "4              1            1  ...        0          0        0         0   \n",
       "..           ...          ...  ...      ...        ...      ...       ...   \n",
       "395            1            1  ...        1          0        1         0   \n",
       "396            1            1  ...        0          0        0         1   \n",
       "397            1            1  ...        0          0        1         0   \n",
       "398            1            1  ...        1          0        1         0   \n",
       "399            1            1  ...        0          0        1         0   \n",
       "\n",
       "     Hypoacusis  Diplopia  Defect  Conscience  Paresthesia  DPF  \n",
       "0             0         0       0           0            0    0  \n",
       "1             0         0       0           0            0    0  \n",
       "2             0         0       0           0            0    0  \n",
       "3             0         0       0           0            0    0  \n",
       "4             0         0       0           0            0    1  \n",
       "..          ...       ...     ...         ...          ...  ...  \n",
       "395           0         1       0           0            0    1  \n",
       "396           1         0       0           0            0    1  \n",
       "397           0         0       1           0            0    1  \n",
       "398           0         0       0           0            1    1  \n",
       "399           0         0       0           1            0    1  \n",
       "\n",
       "[400 rows x 21 columns]"
      ]
     },
     "execution_count": 7,
     "metadata": {},
     "output_type": "execute_result"
    }
   ],
   "source": [
    "data"
   ]
  },
  {
   "cell_type": "code",
   "execution_count": 8,
   "id": "f6585796-c7c5-4f06-a1f4-5f5aea784e42",
   "metadata": {},
   "outputs": [],
   "source": [
    "np.random.seed(42)\n",
    "data=data.sample(frac=1)"
   ]
  },
  {
   "cell_type": "code",
   "execution_count": 9,
   "id": "daf17014-4a05-4b90-9cc0-a83fdbb478db",
   "metadata": {},
   "outputs": [],
   "source": [
    "values=['Age','Duration','Frequency','Intensity','Visual','Nausea', 'Vomit','Location','Character','Dysphasia', 'Vertigo', 'Tinnitus','Sensory','Phonophobia','Photophobia', 'Hypoacusis', 'Diplopia', 'Defect','Conscience', 'Paresthesia', 'DPF']"
   ]
  },
  {
   "cell_type": "code",
   "execution_count": 10,
   "id": "f6300ef8-de66-4ac7-81f9-4abeba0e2910",
   "metadata": {},
   "outputs": [],
   "source": [
    "data=data[values]"
   ]
  },
  {
   "cell_type": "markdown",
   "id": "b660f1df-14b8-462c-a36c-5718f1881bda",
   "metadata": {},
   "source": [
    "### UMAP on entire data"
   ]
  },
  {
   "cell_type": "code",
   "execution_count": 11,
   "id": "2326c5ac-3967-4a6e-8488-dd1dd29796e3",
   "metadata": {},
   "outputs": [],
   "source": [
    "from fdc.fdc import feature_clustering"
   ]
  },
  {
   "cell_type": "code",
   "execution_count": 12,
   "id": "4f208ccd-b32d-4a0c-b8be-e6edf64b5664",
   "metadata": {},
   "outputs": [
    {
     "data": {
      "image/png": "[encoded data removed]",
      "text/plain": [
       "<Figure size 500x500 with 1 Axes>"
      ]
     },
     "metadata": {},
     "output_type": "display_data"
    }
   ],
   "source": [
    "np.random.seed(42)\n",
    "umap_emb=feature_clustering(25,0.001,'euclidean',data,True)"
   ]
  },
  {
   "cell_type": "code",
   "execution_count": 13,
   "id": "148f6dc3-10d2-467d-8536-4454201fd39e",
   "metadata": {},
   "outputs": [],
   "source": [
    "from fdc.clustering import Clustering"
   ]
  },
  {
   "cell_type": "code",
   "execution_count": 14,
   "id": "1092aad7-6830-4ef0-b377-b91f0edf89c2",
   "metadata": {},
   "outputs": [
    {
     "data": {
      "image/png": "[encoded data removed]",
      "text/plain": [
       "<Figure size 560.361x500 with 1 Axes>"
      ]
     },
     "metadata": {},
     "output_type": "display_data"
    }
   ],
   "source": [
    "np.random.seed(42)\n",
    "umap_clustering=Clustering(umap_emb,umap_emb,True)\n",
    "umap_cluster_list,umap_cluster_counts=umap_clustering.K_means(2)"
   ]
  },
  {
   "cell_type": "markdown",
   "id": "f0068723-e652-4358-a2c4-761f5e1833d8",
   "metadata": {},
   "source": [
    "### Feature-type Distributed Clustering (FDC)"
   ]
  },
  {
   "cell_type": "code",
   "execution_count": 15,
   "id": "d91f3053-c382-490a-9c6a-e3925f5d0660",
   "metadata": {},
   "outputs": [],
   "source": [
    "cont_list=['Age']\n",
    "\n",
    "ord_list=['Duration','Frequency','Intensity','Visual','Nausea', 'Vomit']\n",
    "\n",
    "nom_list=['Location','Character','Dysphasia', 'Vertigo', 'Tinnitus','Sensory','Phonophobia','Photophobia', 'Hypoacusis', 'Diplopia', 'Defect','Conscience', 'Paresthesia', 'DPF']\n"
   ]
  },
  {
   "cell_type": "code",
   "execution_count": 16,
   "id": "8597d25f-470b-41c5-8353-05f15421e850",
   "metadata": {},
   "outputs": [
    {
     "name": "stdout",
     "output_type": "stream",
     "text": [
      "FDC.normalize (init): 0.00002 / 0.000s\n",
      "FDC.normalize (clustering CONT): 2.14191 / 2.142s\n",
      "FDC.normalize (clustering ORD): 2.17718 / 4.319s\n",
      "FDC.normalize (clustering NOM): 2.77567 / 7.095s\n",
      "FDC.normalize (concat): 0.00007 / 7.095s\n",
      "FDC.normalize (umap 5 -> 2): 1.10231 / 8.197s\n",
      "FDC.normalize (array -> DataFrame): 0.00027 / 8.197s\n"
     ]
    },
    {
     "data": {
      "image/png": "[encoded data removed]",
      "text/plain": [
       "<Figure size 500x500 with 1 Axes>"
      ]
     },
     "metadata": {},
     "output_type": "display_data"
    },
    {
     "name": "stdout",
     "output_type": "stream",
     "text": [
      "FDC.normalize (plotting): 0.40609 / 8.604s\n",
      "FDC.normalize (array -> DataFrame): 0.00047 / 8.604s\n",
      "FDC.normalize (total): 0.00001 / 8.604s\n"
     ]
    }
   ],
   "source": [
    "from fdc.fdc import feature_clustering, canberra_modified, Clustering, FDC\n",
    "\n",
    "np.random.seed(42)\n",
    "\n",
    "fdc = FDC(clustering_cont=Clustering('euclidean',25,0.01)\n",
    "          , clustering_ord=Clustering(canberra_modified,25,0.01)\n",
    "          , clustering_nom=Clustering('hamming',25,0.01)\n",
    "          , visual=True\n",
    "          , use_pandas_output=True\n",
    "          , with_2d_embedding=True\n",
    "          )\n",
    "\n",
    "fdc.selectFeatures(continueous=cont_list, nomial=nom_list, ordinal=ord_list)\n",
    "\n",
    "FDC_emb_high,FDC_emb_low = fdc.normalize(data,cont_list=cont_list, nom_list=nom_list, ord_list=ord_list,\n",
    "                  with_2d_embedding=True,\n",
    "                  visual=True)"
   ]
  },
  {
   "cell_type": "markdown",
   "id": "c463a715-9608-4325-b72b-b710e1ccb589",
   "metadata": {},
   "source": [
    "### Clustering using K-means"
   ]
  },
  {
   "cell_type": "code",
   "execution_count": 17,
   "id": "80dbc9a4-8997-42d2-b4fd-49515bb2f8c1",
   "metadata": {
    "scrolled": false
   },
   "outputs": [
    {
     "data": {
      "image/png": "[encoded data removed]",
      "text/plain": [
       "<Figure size 560.361x500 with 1 Axes>"
      ]
     },
     "metadata": {},
     "output_type": "display_data"
    }
   ],
   "source": [
    "from fdc.clustering import *\n",
    "np.random.seed(42)\n",
    "clustering=Clustering(FDC_emb_low,FDC_emb_low,True)\n",
    "cluster_list,cluster_counts=clustering.K_means(4)"
   ]
  },
  {
   "cell_type": "code",
   "execution_count": 18,
   "id": "c2f410a1",
   "metadata": {},
   "outputs": [
    {
     "data": {
      "text/plain": [
       "array([137, 114,  56,  93])"
      ]
     },
     "execution_count": 18,
     "metadata": {},
     "output_type": "execute_result"
    }
   ],
   "source": [
    "cluster_counts"
   ]
  },
  {
   "cell_type": "markdown",
   "id": "efc4b041-6d68-4065-813f-3536799b9f23",
   "metadata": {},
   "source": [
    "### Concatinating cluster labels as Target to original data"
   ]
  },
  {
   "cell_type": "code",
   "execution_count": 19,
   "id": "5112b703-071c-45d4-8d31-ab14259214c7",
   "metadata": {},
   "outputs": [],
   "source": [
    "data[\"Target\"]=cluster_list"
   ]
  },
  {
   "cell_type": "code",
   "execution_count": 20,
   "id": "8e20b638-c2f8-4ab7-9142-ea25dfef1e16",
   "metadata": {},
   "outputs": [
    {
     "data": {
      "text/html": [
       "<div>\n",
       "<style scoped>\n",
       "    .dataframe tbody tr th:only-of-type {\n",
       "        vertical-align: middle;\n",
       "    }\n",
       "\n",
       "    .dataframe tbody tr th {\n",
       "        vertical-align: top;\n",
       "    }\n",
       "\n",
       "    .dataframe thead th {\n",
       "        text-align: right;\n",
       "    }\n",
       "</style>\n",
       "<table border=\"1\" class=\"dataframe\">\n",
       "  <thead>\n",
       "    <tr style=\"text-align: right;\">\n",
       "      <th></th>\n",
       "      <th>Age</th>\n",
       "      <th>Duration</th>\n",
       "      <th>Frequency</th>\n",
       "      <th>Intensity</th>\n",
       "      <th>Visual</th>\n",
       "      <th>Nausea</th>\n",
       "      <th>Vomit</th>\n",
       "      <th>Location</th>\n",
       "      <th>Character</th>\n",
       "      <th>Dysphasia</th>\n",
       "      <th>...</th>\n",
       "      <th>Sensory</th>\n",
       "      <th>Phonophobia</th>\n",
       "      <th>Photophobia</th>\n",
       "      <th>Hypoacusis</th>\n",
       "      <th>Diplopia</th>\n",
       "      <th>Defect</th>\n",
       "      <th>Conscience</th>\n",
       "      <th>Paresthesia</th>\n",
       "      <th>DPF</th>\n",
       "      <th>Target</th>\n",
       "    </tr>\n",
       "  </thead>\n",
       "  <tbody>\n",
       "    <tr>\n",
       "      <th>209</th>\n",
       "      <td>31</td>\n",
       "      <td>1</td>\n",
       "      <td>1</td>\n",
       "      <td>3</td>\n",
       "      <td>1</td>\n",
       "      <td>1</td>\n",
       "      <td>1</td>\n",
       "      <td>1</td>\n",
       "      <td>1</td>\n",
       "      <td>0</td>\n",
       "      <td>...</td>\n",
       "      <td>0</td>\n",
       "      <td>1</td>\n",
       "      <td>1</td>\n",
       "      <td>0</td>\n",
       "      <td>0</td>\n",
       "      <td>0</td>\n",
       "      <td>0</td>\n",
       "      <td>0</td>\n",
       "      <td>1</td>\n",
       "      <td>0</td>\n",
       "    </tr>\n",
       "    <tr>\n",
       "      <th>280</th>\n",
       "      <td>22</td>\n",
       "      <td>1</td>\n",
       "      <td>1</td>\n",
       "      <td>2</td>\n",
       "      <td>2</td>\n",
       "      <td>1</td>\n",
       "      <td>0</td>\n",
       "      <td>1</td>\n",
       "      <td>1</td>\n",
       "      <td>0</td>\n",
       "      <td>...</td>\n",
       "      <td>0</td>\n",
       "      <td>1</td>\n",
       "      <td>1</td>\n",
       "      <td>0</td>\n",
       "      <td>0</td>\n",
       "      <td>0</td>\n",
       "      <td>0</td>\n",
       "      <td>0</td>\n",
       "      <td>0</td>\n",
       "      <td>3</td>\n",
       "    </tr>\n",
       "    <tr>\n",
       "      <th>33</th>\n",
       "      <td>48</td>\n",
       "      <td>2</td>\n",
       "      <td>4</td>\n",
       "      <td>3</td>\n",
       "      <td>0</td>\n",
       "      <td>1</td>\n",
       "      <td>0</td>\n",
       "      <td>1</td>\n",
       "      <td>1</td>\n",
       "      <td>0</td>\n",
       "      <td>...</td>\n",
       "      <td>0</td>\n",
       "      <td>1</td>\n",
       "      <td>1</td>\n",
       "      <td>0</td>\n",
       "      <td>0</td>\n",
       "      <td>0</td>\n",
       "      <td>0</td>\n",
       "      <td>0</td>\n",
       "      <td>0</td>\n",
       "      <td>1</td>\n",
       "    </tr>\n",
       "    <tr>\n",
       "      <th>210</th>\n",
       "      <td>49</td>\n",
       "      <td>1</td>\n",
       "      <td>1</td>\n",
       "      <td>3</td>\n",
       "      <td>2</td>\n",
       "      <td>1</td>\n",
       "      <td>0</td>\n",
       "      <td>1</td>\n",
       "      <td>1</td>\n",
       "      <td>0</td>\n",
       "      <td>...</td>\n",
       "      <td>0</td>\n",
       "      <td>1</td>\n",
       "      <td>1</td>\n",
       "      <td>0</td>\n",
       "      <td>0</td>\n",
       "      <td>0</td>\n",
       "      <td>0</td>\n",
       "      <td>0</td>\n",
       "      <td>0</td>\n",
       "      <td>2</td>\n",
       "    </tr>\n",
       "    <tr>\n",
       "      <th>93</th>\n",
       "      <td>52</td>\n",
       "      <td>1</td>\n",
       "      <td>2</td>\n",
       "      <td>2</td>\n",
       "      <td>3</td>\n",
       "      <td>1</td>\n",
       "      <td>0</td>\n",
       "      <td>1</td>\n",
       "      <td>1</td>\n",
       "      <td>0</td>\n",
       "      <td>...</td>\n",
       "      <td>2</td>\n",
       "      <td>1</td>\n",
       "      <td>1</td>\n",
       "      <td>0</td>\n",
       "      <td>0</td>\n",
       "      <td>0</td>\n",
       "      <td>0</td>\n",
       "      <td>0</td>\n",
       "      <td>0</td>\n",
       "      <td>2</td>\n",
       "    </tr>\n",
       "    <tr>\n",
       "      <th>...</th>\n",
       "      <td>...</td>\n",
       "      <td>...</td>\n",
       "      <td>...</td>\n",
       "      <td>...</td>\n",
       "      <td>...</td>\n",
       "      <td>...</td>\n",
       "      <td>...</td>\n",
       "      <td>...</td>\n",
       "      <td>...</td>\n",
       "      <td>...</td>\n",
       "      <td>...</td>\n",
       "      <td>...</td>\n",
       "      <td>...</td>\n",
       "      <td>...</td>\n",
       "      <td>...</td>\n",
       "      <td>...</td>\n",
       "      <td>...</td>\n",
       "      <td>...</td>\n",
       "      <td>...</td>\n",
       "      <td>...</td>\n",
       "      <td>...</td>\n",
       "    </tr>\n",
       "    <tr>\n",
       "      <th>71</th>\n",
       "      <td>17</td>\n",
       "      <td>1</td>\n",
       "      <td>1</td>\n",
       "      <td>3</td>\n",
       "      <td>2</td>\n",
       "      <td>1</td>\n",
       "      <td>0</td>\n",
       "      <td>1</td>\n",
       "      <td>1</td>\n",
       "      <td>0</td>\n",
       "      <td>...</td>\n",
       "      <td>0</td>\n",
       "      <td>1</td>\n",
       "      <td>1</td>\n",
       "      <td>0</td>\n",
       "      <td>0</td>\n",
       "      <td>0</td>\n",
       "      <td>0</td>\n",
       "      <td>0</td>\n",
       "      <td>0</td>\n",
       "      <td>3</td>\n",
       "    </tr>\n",
       "    <tr>\n",
       "      <th>106</th>\n",
       "      <td>21</td>\n",
       "      <td>1</td>\n",
       "      <td>1</td>\n",
       "      <td>2</td>\n",
       "      <td>2</td>\n",
       "      <td>1</td>\n",
       "      <td>1</td>\n",
       "      <td>1</td>\n",
       "      <td>1</td>\n",
       "      <td>0</td>\n",
       "      <td>...</td>\n",
       "      <td>2</td>\n",
       "      <td>1</td>\n",
       "      <td>1</td>\n",
       "      <td>0</td>\n",
       "      <td>0</td>\n",
       "      <td>0</td>\n",
       "      <td>0</td>\n",
       "      <td>0</td>\n",
       "      <td>0</td>\n",
       "      <td>3</td>\n",
       "    </tr>\n",
       "    <tr>\n",
       "      <th>270</th>\n",
       "      <td>26</td>\n",
       "      <td>1</td>\n",
       "      <td>1</td>\n",
       "      <td>3</td>\n",
       "      <td>3</td>\n",
       "      <td>1</td>\n",
       "      <td>0</td>\n",
       "      <td>1</td>\n",
       "      <td>1</td>\n",
       "      <td>0</td>\n",
       "      <td>...</td>\n",
       "      <td>0</td>\n",
       "      <td>1</td>\n",
       "      <td>1</td>\n",
       "      <td>0</td>\n",
       "      <td>0</td>\n",
       "      <td>0</td>\n",
       "      <td>0</td>\n",
       "      <td>0</td>\n",
       "      <td>0</td>\n",
       "      <td>3</td>\n",
       "    </tr>\n",
       "    <tr>\n",
       "      <th>348</th>\n",
       "      <td>20</td>\n",
       "      <td>2</td>\n",
       "      <td>2</td>\n",
       "      <td>1</td>\n",
       "      <td>1</td>\n",
       "      <td>1</td>\n",
       "      <td>0</td>\n",
       "      <td>1</td>\n",
       "      <td>1</td>\n",
       "      <td>0</td>\n",
       "      <td>...</td>\n",
       "      <td>0</td>\n",
       "      <td>1</td>\n",
       "      <td>1</td>\n",
       "      <td>0</td>\n",
       "      <td>0</td>\n",
       "      <td>0</td>\n",
       "      <td>0</td>\n",
       "      <td>0</td>\n",
       "      <td>1</td>\n",
       "      <td>0</td>\n",
       "    </tr>\n",
       "    <tr>\n",
       "      <th>102</th>\n",
       "      <td>49</td>\n",
       "      <td>2</td>\n",
       "      <td>2</td>\n",
       "      <td>2</td>\n",
       "      <td>1</td>\n",
       "      <td>1</td>\n",
       "      <td>0</td>\n",
       "      <td>1</td>\n",
       "      <td>1</td>\n",
       "      <td>0</td>\n",
       "      <td>...</td>\n",
       "      <td>0</td>\n",
       "      <td>1</td>\n",
       "      <td>1</td>\n",
       "      <td>0</td>\n",
       "      <td>0</td>\n",
       "      <td>0</td>\n",
       "      <td>0</td>\n",
       "      <td>0</td>\n",
       "      <td>0</td>\n",
       "      <td>2</td>\n",
       "    </tr>\n",
       "  </tbody>\n",
       "</table>\n",
       "<p>400 rows × 22 columns</p>\n",
       "</div>"
      ],
      "text/plain": [
       "     Age  Duration  Frequency  Intensity  Visual  Nausea  Vomit  Location  \\\n",
       "209   31         1          1          3       1       1      1         1   \n",
       "280   22         1          1          2       2       1      0         1   \n",
       "33    48         2          4          3       0       1      0         1   \n",
       "210   49         1          1          3       2       1      0         1   \n",
       "93    52         1          2          2       3       1      0         1   \n",
       "..   ...       ...        ...        ...     ...     ...    ...       ...   \n",
       "71    17         1          1          3       2       1      0         1   \n",
       "106   21         1          1          2       2       1      1         1   \n",
       "270   26         1          1          3       3       1      0         1   \n",
       "348   20         2          2          1       1       1      0         1   \n",
       "102   49         2          2          2       1       1      0         1   \n",
       "\n",
       "     Character  Dysphasia  ...  Sensory  Phonophobia  Photophobia  Hypoacusis  \\\n",
       "209          1          0  ...        0            1            1           0   \n",
       "280          1          0  ...        0            1            1           0   \n",
       "33           1          0  ...        0            1            1           0   \n",
       "210          1          0  ...        0            1            1           0   \n",
       "93           1          0  ...        2            1            1           0   \n",
       "..         ...        ...  ...      ...          ...          ...         ...   \n",
       "71           1          0  ...        0            1            1           0   \n",
       "106          1          0  ...        2            1            1           0   \n",
       "270          1          0  ...        0            1            1           0   \n",
       "348          1          0  ...        0            1            1           0   \n",
       "102          1          0  ...        0            1            1           0   \n",
       "\n",
       "     Diplopia  Defect  Conscience  Paresthesia  DPF  Target  \n",
       "209         0       0           0            0    1       0  \n",
       "280         0       0           0            0    0       3  \n",
       "33          0       0           0            0    0       1  \n",
       "210         0       0           0            0    0       2  \n",
       "93          0       0           0            0    0       2  \n",
       "..        ...     ...         ...          ...  ...     ...  \n",
       "71          0       0           0            0    0       3  \n",
       "106         0       0           0            0    0       3  \n",
       "270         0       0           0            0    0       3  \n",
       "348         0       0           0            0    1       0  \n",
       "102         0       0           0            0    0       2  \n",
       "\n",
       "[400 rows x 22 columns]"
      ]
     },
     "execution_count": 20,
     "metadata": {},
     "output_type": "execute_result"
    }
   ],
   "source": [
    "data"
   ]
  },
  {
   "cell_type": "markdown",
   "id": "ba45aa63-9335-40e5-9904-fb70e7a04fe7",
   "metadata": {},
   "source": [
    "### Train-val split"
   ]
  },
  {
   "cell_type": "code",
   "execution_count": 21,
   "id": "baebcbc7-8504-450b-af5b-aa18b85955b8",
   "metadata": {},
   "outputs": [],
   "source": [
    "# Using Skicit-learn to split data into training and testing sets\n",
    "from sklearn.model_selection import train_test_split\n",
    "np.random.seed(42)\n",
    "# Split the data into training and testing sets\n",
    "train_features, test_features, train_labels, test_labels = train_test_split(np.array(data.drop([\"Target\"],axis=1)), np.array(cluster_list), test_size = 0.25, random_state = 42)"
   ]
  },
  {
   "cell_type": "markdown",
   "id": "50391cb0-eb23-45e8-9d6b-068c1c86c6e7",
   "metadata": {},
   "source": [
    "### Gradient boosting classifier for original traing data (Model-1)"
   ]
  },
  {
   "cell_type": "code",
   "execution_count": 22,
   "id": "15750348-21ad-4cdb-b33b-905583a1c314",
   "metadata": {
    "scrolled": true
   },
   "outputs": [],
   "source": [
    "from sklearn.ensemble import GradientBoostingClassifier\n",
    "np.random.seed(42)\n",
    "model_1 = GradientBoostingClassifier(n_estimators=20, learning_rate=0.5, max_features=2, max_depth=2, random_state=42)\n"
   ]
  },
  {
   "cell_type": "code",
   "execution_count": 23,
   "id": "85fbb50a",
   "metadata": {},
   "outputs": [
    {
     "name": "stdout",
     "output_type": "stream",
     "text": [
      "[0.85       0.98333333 0.95       0.95       0.88333333]\n",
      "Avg : 0.9233333333333335\n"
     ]
    }
   ],
   "source": [
    "from sklearn.model_selection import cross_val_score\n",
    "score_lr=cross_val_score(model_1, train_features, train_labels,cv=5)\n",
    "print(score_lr)\n",
    "print(\"Avg :\",np.average(score_lr))"
   ]
  },
  {
   "cell_type": "code",
   "execution_count": 24,
   "id": "dd457467",
   "metadata": {},
   "outputs": [
    {
     "data": {
      "text/html": [
       "<style>#sk-container-id-1 {color: black;background-color: white;}#sk-container-id-1 pre{padding: 0;}#sk-container-id-1 div.sk-toggleable {background-color: white;}#sk-container-id-1 label.sk-toggleable__label {cursor: pointer;display: block;width: 100%;margin-bottom: 0;padding: 0.3em;box-sizing: border-box;text-align: center;}#sk-container-id-1 label.sk-toggleable__label-arrow:before {content: \"▸\";float: left;margin-right: 0.25em;color: #696969;}#sk-container-id-1 label.sk-toggleable__label-arrow:hover:before {color: black;}#sk-container-id-1 div.sk-estimator:hover label.sk-toggleable__label-arrow:before {color: black;}#sk-container-id-1 div.sk-toggleable__content {max-height: 0;max-width: 0;overflow: hidden;text-align: left;background-color: #f0f8ff;}#sk-container-id-1 div.sk-toggleable__content pre {margin: 0.2em;color: black;border-radius: 0.25em;background-color: #f0f8ff;}#sk-container-id-1 input.sk-toggleable__control:checked~div.sk-toggleable__content {max-height: 200px;max-width: 100%;overflow: auto;}#sk-container-id-1 input.sk-toggleable__control:checked~label.sk-toggleable__label-arrow:before {content: \"▾\";}#sk-container-id-1 div.sk-estimator input.sk-toggleable__control:checked~label.sk-toggleable__label {background-color: #d4ebff;}#sk-container-id-1 div.sk-label input.sk-toggleable__control:checked~label.sk-toggleable__label {background-color: #d4ebff;}#sk-container-id-1 input.sk-hidden--visually {border: 0;clip: rect(1px 1px 1px 1px);clip: rect(1px, 1px, 1px, 1px);height: 1px;margin: -1px;overflow: hidden;padding: 0;position: absolute;width: 1px;}#sk-container-id-1 div.sk-estimator {font-family: monospace;background-color: #f0f8ff;border: 1px dotted black;border-radius: 0.25em;box-sizing: border-box;margin-bottom: 0.5em;}#sk-container-id-1 div.sk-estimator:hover {background-color: #d4ebff;}#sk-container-id-1 div.sk-parallel-item::after {content: \"\";width: 100%;border-bottom: 1px solid gray;flex-grow: 1;}#sk-container-id-1 div.sk-label:hover label.sk-toggleable__label {background-color: #d4ebff;}#sk-container-id-1 div.sk-serial::before {content: \"\";position: absolute;border-left: 1px solid gray;box-sizing: border-box;top: 0;bottom: 0;left: 50%;z-index: 0;}#sk-container-id-1 div.sk-serial {display: flex;flex-direction: column;align-items: center;background-color: white;padding-right: 0.2em;padding-left: 0.2em;position: relative;}#sk-container-id-1 div.sk-item {position: relative;z-index: 1;}#sk-container-id-1 div.sk-parallel {display: flex;align-items: stretch;justify-content: center;background-color: white;position: relative;}#sk-container-id-1 div.sk-item::before, #sk-container-id-1 div.sk-parallel-item::before {content: \"\";position: absolute;border-left: 1px solid gray;box-sizing: border-box;top: 0;bottom: 0;left: 50%;z-index: -1;}#sk-container-id-1 div.sk-parallel-item {display: flex;flex-direction: column;z-index: 1;position: relative;background-color: white;}#sk-container-id-1 div.sk-parallel-item:first-child::after {align-self: flex-end;width: 50%;}#sk-container-id-1 div.sk-parallel-item:last-child::after {align-self: flex-start;width: 50%;}#sk-container-id-1 div.sk-parallel-item:only-child::after {width: 0;}#sk-container-id-1 div.sk-dashed-wrapped {border: 1px dashed gray;margin: 0 0.4em 0.5em 0.4em;box-sizing: border-box;padding-bottom: 0.4em;background-color: white;}#sk-container-id-1 div.sk-label label {font-family: monospace;font-weight: bold;display: inline-block;line-height: 1.2em;}#sk-container-id-1 div.sk-label-container {text-align: center;}#sk-container-id-1 div.sk-container {/* jupyter's `normalize.less` sets `[hidden] { display: none; }` but bootstrap.min.css set `[hidden] { display: none !important; }` so we also need the `!important` here to be able to override the default hidden behavior on the sphinx rendered scikit-learn.org. See: https://github.com/scikit-learn/scikit-learn/issues/21755 */display: inline-block !important;position: relative;}#sk-container-id-1 div.sk-text-repr-fallback {display: none;}</style><div id=\"sk-container-id-1\" class=\"sk-top-container\"><div class=\"sk-text-repr-fallback\"><pre>GradientBoostingClassifier(learning_rate=0.5, max_depth=2, max_features=2,\n",
       "                           n_estimators=20, random_state=42)</pre><b>In a Jupyter environment, please rerun this cell to show the HTML representation or trust the notebook. <br />On GitHub, the HTML representation is unable to render, please try loading this page with nbviewer.org.</b></div><div class=\"sk-container\" hidden><div class=\"sk-item\"><div class=\"sk-estimator sk-toggleable\"><input class=\"sk-toggleable__control sk-hidden--visually\" id=\"sk-estimator-id-1\" type=\"checkbox\" checked><label for=\"sk-estimator-id-1\" class=\"sk-toggleable__label sk-toggleable__label-arrow\">GradientBoostingClassifier</label><div class=\"sk-toggleable__content\"><pre>GradientBoostingClassifier(learning_rate=0.5, max_depth=2, max_features=2,\n",
       "                           n_estimators=20, random_state=42)</pre></div></div></div></div></div>"
      ],
      "text/plain": [
       "GradientBoostingClassifier(learning_rate=0.5, max_depth=2, max_features=2,\n",
       "                           n_estimators=20, random_state=42)"
      ]
     },
     "execution_count": 24,
     "metadata": {},
     "output_type": "execute_result"
    }
   ],
   "source": [
    "model_1.fit(train_features,  train_labels)"
   ]
  },
  {
   "cell_type": "markdown",
   "id": "1866bf87-fb4d-424c-b7e7-548c53f04538",
   "metadata": {},
   "source": [
    "### Preparing training data for synthetic data generation"
   ]
  },
  {
   "cell_type": "code",
   "execution_count": 25,
   "id": "4902fa57-8bec-4dd3-8b03-5a54c60ef112",
   "metadata": {},
   "outputs": [],
   "source": [
    "train_features=pd.DataFrame(train_features)"
   ]
  },
  {
   "cell_type": "code",
   "execution_count": 26,
   "id": "322be8ac-b2be-489e-9bb4-884b3e6008f6",
   "metadata": {},
   "outputs": [],
   "source": [
    "train_features[\"Target\"]=train_labels"
   ]
  },
  {
   "cell_type": "code",
   "execution_count": 27,
   "id": "6b99aa96-5f7f-436b-9d31-88d8b976f0ba",
   "metadata": {},
   "outputs": [],
   "source": [
    "values=['Age','Duration','Frequency','Intensity','Visual','Nausea', 'Vomit','Location','Character','Dysphasia', 'Vertigo', 'Tinnitus','Sensory','Phonophobia','Photophobia', 'Hypoacusis', 'Diplopia', 'Defect','Conscience', 'Paresthesia', 'DPF', 'Target']"
   ]
  },
  {
   "cell_type": "code",
   "execution_count": 28,
   "id": "40d0e230-83f4-4b93-b132-21277c10f4b5",
   "metadata": {},
   "outputs": [],
   "source": [
    "train_features.to_csv('Migraine_training_data(semi_sup).csv',index=False)"
   ]
  },
  {
   "cell_type": "code",
   "execution_count": 29,
   "id": "2c085824-4e6d-4ead-bf83-51b066c2240c",
   "metadata": {},
   "outputs": [],
   "source": [
    "hold_out_data=pd.DataFrame(test_features)\n",
    "hold_out_data['Target']=test_labels\n",
    "hold_out_data.columns=values\n",
    "hold_out_data.to_csv('Migraine_hold_out__data(semi_sup).csv',index=False)"
   ]
  },
  {
   "cell_type": "code",
   "execution_count": 30,
   "id": "b10cec94-21fe-424d-8df1-ca202d096453",
   "metadata": {},
   "outputs": [],
   "source": [
    "dicts = {}\n",
    "for i in range(len(values)):\n",
    "        dicts[values[i]]=i\n"
   ]
  },
  {
   "cell_type": "code",
   "execution_count": 31,
   "id": "e5a31ca1-6158-4174-b987-d4cde25ab557",
   "metadata": {},
   "outputs": [],
   "source": [
    "train_features.rename(columns=dicts,inplace=True)\n"
   ]
  },
  {
   "cell_type": "code",
   "execution_count": 32,
   "id": "4af27809-bf33-4c5e-9c95-8a87672bd8ff",
   "metadata": {},
   "outputs": [
    {
     "data": {
      "text/html": [
       "<div>\n",
       "<style scoped>\n",
       "    .dataframe tbody tr th:only-of-type {\n",
       "        vertical-align: middle;\n",
       "    }\n",
       "\n",
       "    .dataframe tbody tr th {\n",
       "        vertical-align: top;\n",
       "    }\n",
       "\n",
       "    .dataframe thead th {\n",
       "        text-align: right;\n",
       "    }\n",
       "</style>\n",
       "<table border=\"1\" class=\"dataframe\">\n",
       "  <thead>\n",
       "    <tr style=\"text-align: right;\">\n",
       "      <th></th>\n",
       "      <th>0</th>\n",
       "      <th>1</th>\n",
       "      <th>2</th>\n",
       "      <th>3</th>\n",
       "      <th>4</th>\n",
       "      <th>5</th>\n",
       "      <th>6</th>\n",
       "      <th>7</th>\n",
       "      <th>8</th>\n",
       "      <th>9</th>\n",
       "      <th>...</th>\n",
       "      <th>12</th>\n",
       "      <th>13</th>\n",
       "      <th>14</th>\n",
       "      <th>15</th>\n",
       "      <th>16</th>\n",
       "      <th>17</th>\n",
       "      <th>18</th>\n",
       "      <th>19</th>\n",
       "      <th>20</th>\n",
       "      <th>21</th>\n",
       "    </tr>\n",
       "  </thead>\n",
       "  <tbody>\n",
       "    <tr>\n",
       "      <th>0</th>\n",
       "      <td>35</td>\n",
       "      <td>1</td>\n",
       "      <td>1</td>\n",
       "      <td>2</td>\n",
       "      <td>2</td>\n",
       "      <td>1</td>\n",
       "      <td>1</td>\n",
       "      <td>1</td>\n",
       "      <td>1</td>\n",
       "      <td>0</td>\n",
       "      <td>...</td>\n",
       "      <td>1</td>\n",
       "      <td>1</td>\n",
       "      <td>1</td>\n",
       "      <td>0</td>\n",
       "      <td>0</td>\n",
       "      <td>0</td>\n",
       "      <td>0</td>\n",
       "      <td>0</td>\n",
       "      <td>1</td>\n",
       "      <td>0</td>\n",
       "    </tr>\n",
       "    <tr>\n",
       "      <th>1</th>\n",
       "      <td>25</td>\n",
       "      <td>1</td>\n",
       "      <td>1</td>\n",
       "      <td>2</td>\n",
       "      <td>2</td>\n",
       "      <td>1</td>\n",
       "      <td>1</td>\n",
       "      <td>1</td>\n",
       "      <td>1</td>\n",
       "      <td>0</td>\n",
       "      <td>...</td>\n",
       "      <td>0</td>\n",
       "      <td>1</td>\n",
       "      <td>1</td>\n",
       "      <td>0</td>\n",
       "      <td>0</td>\n",
       "      <td>0</td>\n",
       "      <td>0</td>\n",
       "      <td>0</td>\n",
       "      <td>1</td>\n",
       "      <td>0</td>\n",
       "    </tr>\n",
       "    <tr>\n",
       "      <th>2</th>\n",
       "      <td>33</td>\n",
       "      <td>1</td>\n",
       "      <td>2</td>\n",
       "      <td>3</td>\n",
       "      <td>0</td>\n",
       "      <td>1</td>\n",
       "      <td>0</td>\n",
       "      <td>1</td>\n",
       "      <td>1</td>\n",
       "      <td>0</td>\n",
       "      <td>...</td>\n",
       "      <td>2</td>\n",
       "      <td>1</td>\n",
       "      <td>1</td>\n",
       "      <td>0</td>\n",
       "      <td>0</td>\n",
       "      <td>0</td>\n",
       "      <td>0</td>\n",
       "      <td>0</td>\n",
       "      <td>0</td>\n",
       "      <td>2</td>\n",
       "    </tr>\n",
       "    <tr>\n",
       "      <th>3</th>\n",
       "      <td>24</td>\n",
       "      <td>1</td>\n",
       "      <td>1</td>\n",
       "      <td>0</td>\n",
       "      <td>4</td>\n",
       "      <td>1</td>\n",
       "      <td>1</td>\n",
       "      <td>0</td>\n",
       "      <td>0</td>\n",
       "      <td>0</td>\n",
       "      <td>...</td>\n",
       "      <td>2</td>\n",
       "      <td>1</td>\n",
       "      <td>1</td>\n",
       "      <td>0</td>\n",
       "      <td>0</td>\n",
       "      <td>0</td>\n",
       "      <td>0</td>\n",
       "      <td>0</td>\n",
       "      <td>1</td>\n",
       "      <td>1</td>\n",
       "    </tr>\n",
       "    <tr>\n",
       "      <th>4</th>\n",
       "      <td>21</td>\n",
       "      <td>1</td>\n",
       "      <td>2</td>\n",
       "      <td>3</td>\n",
       "      <td>1</td>\n",
       "      <td>1</td>\n",
       "      <td>0</td>\n",
       "      <td>1</td>\n",
       "      <td>1</td>\n",
       "      <td>0</td>\n",
       "      <td>...</td>\n",
       "      <td>0</td>\n",
       "      <td>1</td>\n",
       "      <td>1</td>\n",
       "      <td>0</td>\n",
       "      <td>0</td>\n",
       "      <td>0</td>\n",
       "      <td>0</td>\n",
       "      <td>0</td>\n",
       "      <td>0</td>\n",
       "      <td>3</td>\n",
       "    </tr>\n",
       "    <tr>\n",
       "      <th>...</th>\n",
       "      <td>...</td>\n",
       "      <td>...</td>\n",
       "      <td>...</td>\n",
       "      <td>...</td>\n",
       "      <td>...</td>\n",
       "      <td>...</td>\n",
       "      <td>...</td>\n",
       "      <td>...</td>\n",
       "      <td>...</td>\n",
       "      <td>...</td>\n",
       "      <td>...</td>\n",
       "      <td>...</td>\n",
       "      <td>...</td>\n",
       "      <td>...</td>\n",
       "      <td>...</td>\n",
       "      <td>...</td>\n",
       "      <td>...</td>\n",
       "      <td>...</td>\n",
       "      <td>...</td>\n",
       "      <td>...</td>\n",
       "      <td>...</td>\n",
       "    </tr>\n",
       "    <tr>\n",
       "      <th>295</th>\n",
       "      <td>30</td>\n",
       "      <td>1</td>\n",
       "      <td>5</td>\n",
       "      <td>3</td>\n",
       "      <td>1</td>\n",
       "      <td>1</td>\n",
       "      <td>0</td>\n",
       "      <td>1</td>\n",
       "      <td>1</td>\n",
       "      <td>0</td>\n",
       "      <td>...</td>\n",
       "      <td>0</td>\n",
       "      <td>1</td>\n",
       "      <td>1</td>\n",
       "      <td>0</td>\n",
       "      <td>0</td>\n",
       "      <td>0</td>\n",
       "      <td>0</td>\n",
       "      <td>0</td>\n",
       "      <td>0</td>\n",
       "      <td>1</td>\n",
       "    </tr>\n",
       "    <tr>\n",
       "      <th>296</th>\n",
       "      <td>20</td>\n",
       "      <td>3</td>\n",
       "      <td>8</td>\n",
       "      <td>3</td>\n",
       "      <td>0</td>\n",
       "      <td>1</td>\n",
       "      <td>1</td>\n",
       "      <td>1</td>\n",
       "      <td>1</td>\n",
       "      <td>0</td>\n",
       "      <td>...</td>\n",
       "      <td>0</td>\n",
       "      <td>1</td>\n",
       "      <td>1</td>\n",
       "      <td>0</td>\n",
       "      <td>0</td>\n",
       "      <td>0</td>\n",
       "      <td>0</td>\n",
       "      <td>0</td>\n",
       "      <td>0</td>\n",
       "      <td>1</td>\n",
       "    </tr>\n",
       "    <tr>\n",
       "      <th>297</th>\n",
       "      <td>16</td>\n",
       "      <td>3</td>\n",
       "      <td>5</td>\n",
       "      <td>3</td>\n",
       "      <td>0</td>\n",
       "      <td>1</td>\n",
       "      <td>1</td>\n",
       "      <td>1</td>\n",
       "      <td>1</td>\n",
       "      <td>0</td>\n",
       "      <td>...</td>\n",
       "      <td>0</td>\n",
       "      <td>1</td>\n",
       "      <td>1</td>\n",
       "      <td>0</td>\n",
       "      <td>0</td>\n",
       "      <td>0</td>\n",
       "      <td>0</td>\n",
       "      <td>0</td>\n",
       "      <td>0</td>\n",
       "      <td>1</td>\n",
       "    </tr>\n",
       "    <tr>\n",
       "      <th>298</th>\n",
       "      <td>19</td>\n",
       "      <td>2</td>\n",
       "      <td>1</td>\n",
       "      <td>3</td>\n",
       "      <td>1</td>\n",
       "      <td>1</td>\n",
       "      <td>0</td>\n",
       "      <td>1</td>\n",
       "      <td>1</td>\n",
       "      <td>0</td>\n",
       "      <td>...</td>\n",
       "      <td>0</td>\n",
       "      <td>1</td>\n",
       "      <td>1</td>\n",
       "      <td>0</td>\n",
       "      <td>0</td>\n",
       "      <td>0</td>\n",
       "      <td>0</td>\n",
       "      <td>0</td>\n",
       "      <td>0</td>\n",
       "      <td>3</td>\n",
       "    </tr>\n",
       "    <tr>\n",
       "      <th>299</th>\n",
       "      <td>40</td>\n",
       "      <td>3</td>\n",
       "      <td>1</td>\n",
       "      <td>3</td>\n",
       "      <td>4</td>\n",
       "      <td>1</td>\n",
       "      <td>0</td>\n",
       "      <td>1</td>\n",
       "      <td>1</td>\n",
       "      <td>0</td>\n",
       "      <td>...</td>\n",
       "      <td>0</td>\n",
       "      <td>1</td>\n",
       "      <td>1</td>\n",
       "      <td>0</td>\n",
       "      <td>0</td>\n",
       "      <td>0</td>\n",
       "      <td>0</td>\n",
       "      <td>0</td>\n",
       "      <td>1</td>\n",
       "      <td>0</td>\n",
       "    </tr>\n",
       "  </tbody>\n",
       "</table>\n",
       "<p>300 rows × 22 columns</p>\n",
       "</div>"
      ],
      "text/plain": [
       "     0   1   2   3   4   5   6   7   8   9   ...  12  13  14  15  16  17  18  \\\n",
       "0    35   1   1   2   2   1   1   1   1   0  ...   1   1   1   0   0   0   0   \n",
       "1    25   1   1   2   2   1   1   1   1   0  ...   0   1   1   0   0   0   0   \n",
       "2    33   1   2   3   0   1   0   1   1   0  ...   2   1   1   0   0   0   0   \n",
       "3    24   1   1   0   4   1   1   0   0   0  ...   2   1   1   0   0   0   0   \n",
       "4    21   1   2   3   1   1   0   1   1   0  ...   0   1   1   0   0   0   0   \n",
       "..   ..  ..  ..  ..  ..  ..  ..  ..  ..  ..  ...  ..  ..  ..  ..  ..  ..  ..   \n",
       "295  30   1   5   3   1   1   0   1   1   0  ...   0   1   1   0   0   0   0   \n",
       "296  20   3   8   3   0   1   1   1   1   0  ...   0   1   1   0   0   0   0   \n",
       "297  16   3   5   3   0   1   1   1   1   0  ...   0   1   1   0   0   0   0   \n",
       "298  19   2   1   3   1   1   0   1   1   0  ...   0   1   1   0   0   0   0   \n",
       "299  40   3   1   3   4   1   0   1   1   0  ...   0   1   1   0   0   0   0   \n",
       "\n",
       "     19  20  21  \n",
       "0     0   1   0  \n",
       "1     0   1   0  \n",
       "2     0   0   2  \n",
       "3     0   1   1  \n",
       "4     0   0   3  \n",
       "..   ..  ..  ..  \n",
       "295   0   0   1  \n",
       "296   0   0   1  \n",
       "297   0   0   1  \n",
       "298   0   0   3  \n",
       "299   0   1   0  \n",
       "\n",
       "[300 rows x 22 columns]"
      ]
     },
     "execution_count": 32,
     "metadata": {},
     "output_type": "execute_result"
    }
   ],
   "source": [
    "train_features"
   ]
  },
  {
   "cell_type": "markdown",
   "id": "d4a943c9",
   "metadata": {},
   "source": [
    "## NextConvGen"
   ]
  },
  {
   "cell_type": "markdown",
   "id": "e9320149-e3c5-4dde-a452-1d2fa9ce9c65",
   "metadata": {},
   "source": [
    "### FDC for searcing neighbors for synthetic data generation"
   ]
  },
  {
   "cell_type": "code",
   "execution_count": 33,
   "id": "a02579bd-56a4-445b-acfd-28f7d6b7c9d2",
   "metadata": {},
   "outputs": [],
   "source": [
    "from fdc.fdc import feature_clustering, canberra_modified, Clustering, FDC\n",
    "np.random.seed(42)\n",
    "fdc = FDC()\n",
    "fdc.ord_list=list(range(data.shape[1]))[1:7]\n",
    "fdc.nom_list = list(range(data.shape[1]))[7:]\n",
    "fdc.cont_list =list(range(data.shape[1]))[:1]"
   ]
  },
  {
   "cell_type": "code",
   "execution_count": 34,
   "id": "8c19cc2c-2ba9-44d4-a296-7dbbd2f21190",
   "metadata": {},
   "outputs": [],
   "source": [
    "train_features=np.array(train_features)"
   ]
  },
  {
   "cell_type": "markdown",
   "id": "e00c0f28-1f1a-42c8-bfa7-6a7e197f69eb",
   "metadata": {},
   "source": [
    "### Preapring and training NextConvGen model"
   ]
  },
  {
   "cell_type": "code",
   "execution_count": 35,
   "id": "e1915d60-5e96-40c4-94a5-c6f2879050f7",
   "metadata": {},
   "outputs": [],
   "source": [
    "gen = NextConvGeN(train_features.shape[1], neb=5, fdc=fdc)"
   ]
  },
  {
   "cell_type": "code",
   "execution_count": 36,
   "id": "213fc23f-57a7-46e4-98ce-b3c280c88658",
   "metadata": {},
   "outputs": [
    {
     "name": "stderr",
     "output_type": "stream",
     "text": [
      "2023-05-11 10:16:25.817473: W tensorflow/stream_executor/platform/default/dso_loader.cc:64] Could not load dynamic library 'libcuda.so.1'; dlerror: libcuda.so.1: cannot open shared object file: No such file or directory\n",
      "2023-05-11 10:16:25.817490: W tensorflow/stream_executor/cuda/cuda_driver.cc:269] failed call to cuInit: UNKNOWN ERROR (303)\n",
      "2023-05-11 10:16:25.817503: I tensorflow/stream_executor/cuda/cuda_diagnostics.cc:156] kernel driver does not appear to be running on this host (f61d203ff696): /proc/driver/nvidia/version does not exist\n",
      "2023-05-11 10:16:25.817640: I tensorflow/core/platform/cpu_feature_guard.cc:151] This TensorFlow binary is optimized with oneAPI Deep Neural Network Library (oneDNN) to use the following CPU instructions in performance-critical operations:  AVX2 FMA\n",
      "To enable them in other operations, rebuild TensorFlow with the appropriate compiler flags.\n"
     ]
    }
   ],
   "source": [
    "gen.reset(train_features)"
   ]
  },
  {
   "cell_type": "code",
   "execution_count": 37,
   "id": "c375e689-0b2f-4bf3-89db-5099dcf61c45",
   "metadata": {},
   "outputs": [
    {
     "name": "stdout",
     "output_type": "stream",
     "text": [
      "FDC.normalize (init): 0.00002 / 0.000s\n",
      "FDC.normalize (clustering CONT): 2.01694 / 2.017s\n",
      "FDC.normalize (clustering ORD): 1.50771 / 3.525s\n",
      "FDC.normalize (clustering NOM): 2.07980 / 5.604s\n",
      "FDC.normalize (concat): 0.00007 / 5.605s\n",
      "FDC.normalize (total): 0.00001 / 5.605s\n",
      "|N| = (300, 5)\n",
      "|D| = (300, 22)\n",
      "[==========] [======    ] [======    ]\r"
     ]
    }
   ],
   "source": [
    "from fdc.fdc import feature_clustering, canberra_modified, Clustering, FDC\n",
    "np.random.seed(42)\n",
    "gen.train(train_features)"
   ]
  },
  {
   "cell_type": "markdown",
   "id": "0fd2fd7a-6a7d-4f60-a92f-8962292a1f79",
   "metadata": {},
   "source": [
    "### Generating 1000 synthetic points and randomly selecting the same legth of original training points for evaluation"
   ]
  },
  {
   "cell_type": "code",
   "execution_count": 38,
   "id": "4311a7fd-a690-4503-87c2-fac3f7a53a1d",
   "metadata": {},
   "outputs": [],
   "source": [
    "from fdc.NN_models import *\n",
    "np.random.seed(42)\n",
    "syn_train_data = syn_data_gen(gen,1000,values)"
   ]
  },
  {
   "cell_type": "code",
   "execution_count": 39,
   "id": "a3842328-9c3c-4c6d-8772-b110c539185d",
   "metadata": {},
   "outputs": [],
   "source": [
    "def balanced_synthetic_data(org_data,syn_data):\n",
    "    import math\n",
    "    org_data_len = org_data.shape[0]\n",
    "    class_counts = org_data.iloc[:,-1].value_counts()\n",
    "    column_names = list( syn_data.columns)\n",
    "    df_list=[]\n",
    "    for i in range(len(class_counts)):\n",
    "        m = len(syn_data[syn_data['Target']==i])\n",
    "\n",
    "        if m < class_counts[i]:\n",
    "            run=math.ceil(class_counts[i]/m)\n",
    "            syn_data = syn_data_gen(gen,org_data_len*run,values)\n",
    "        c_i=syn_data[syn_data['Target']==i].sample(n=int(class_counts[i]),axis=0,random_state=42)\n",
    "        df_list.append(c_i)\n",
    "    balanced_df=pd.concat(df_list,names=column_names)\n",
    "    return balanced_df"
   ]
  },
  {
   "cell_type": "code",
   "execution_count": 40,
   "id": "ff866903-5ef8-4fd5-a441-fa88ce1726c0",
   "metadata": {},
   "outputs": [],
   "source": [
    "syn_train_data=balanced_synthetic_data(pd.DataFrame(train_features),syn_train_data)"
   ]
  },
  {
   "cell_type": "code",
   "execution_count": 41,
   "id": "b2efa935-52e0-4571-a000-b5a7348f5757",
   "metadata": {},
   "outputs": [
    {
     "data": {
      "text/plain": [
       "0.0    106\n",
       "1.0     85\n",
       "3.0     71\n",
       "2.0     38\n",
       "Name: Target, dtype: int64"
      ]
     },
     "execution_count": 41,
     "metadata": {},
     "output_type": "execute_result"
    }
   ],
   "source": [
    "syn_train_data['Target'].value_counts()"
   ]
  },
  {
   "cell_type": "code",
   "execution_count": 42,
   "id": "7f58ebdd-8627-46af-b397-18e4e1255d54",
   "metadata": {},
   "outputs": [],
   "source": [
    "syn_train_data.to_csv('Migraine_NextConvGen_syn_data.csv',index=False)"
   ]
  },
  {
   "cell_type": "code",
   "execution_count": 43,
   "id": "e5556ddb-6750-4861-a142-9e0fc2589883",
   "metadata": {
    "tags": []
   },
   "outputs": [],
   "source": [
    "np.random.seed(42)\n",
    "syn_train_data=syn_train_data.sample(frac=1) #Shuffle the data set\n",
    "np.random.seed(42)\n",
    "i=[x for x in range(np.shape(syn_train_data)[0])]\n",
    "\n",
    "syn_train_data.set_index(pd.Series(i), inplace=True)"
   ]
  },
  {
   "cell_type": "code",
   "execution_count": 44,
   "id": "e7f5d292-1570-46cc-8c6f-ff798207a4c2",
   "metadata": {},
   "outputs": [
    {
     "data": {
      "text/html": [
       "<div>\n",
       "<style scoped>\n",
       "    .dataframe tbody tr th:only-of-type {\n",
       "        vertical-align: middle;\n",
       "    }\n",
       "\n",
       "    .dataframe tbody tr th {\n",
       "        vertical-align: top;\n",
       "    }\n",
       "\n",
       "    .dataframe thead th {\n",
       "        text-align: right;\n",
       "    }\n",
       "</style>\n",
       "<table border=\"1\" class=\"dataframe\">\n",
       "  <thead>\n",
       "    <tr style=\"text-align: right;\">\n",
       "      <th></th>\n",
       "      <th>Age</th>\n",
       "      <th>Duration</th>\n",
       "      <th>Frequency</th>\n",
       "      <th>Intensity</th>\n",
       "      <th>Visual</th>\n",
       "      <th>Nausea</th>\n",
       "      <th>Vomit</th>\n",
       "      <th>Location</th>\n",
       "      <th>Character</th>\n",
       "      <th>Dysphasia</th>\n",
       "      <th>...</th>\n",
       "      <th>Sensory</th>\n",
       "      <th>Phonophobia</th>\n",
       "      <th>Photophobia</th>\n",
       "      <th>Hypoacusis</th>\n",
       "      <th>Diplopia</th>\n",
       "      <th>Defect</th>\n",
       "      <th>Conscience</th>\n",
       "      <th>Paresthesia</th>\n",
       "      <th>DPF</th>\n",
       "      <th>Target</th>\n",
       "    </tr>\n",
       "  </thead>\n",
       "  <tbody>\n",
       "    <tr>\n",
       "      <th>0</th>\n",
       "      <td>53.999992</td>\n",
       "      <td>1.0</td>\n",
       "      <td>3.0</td>\n",
       "      <td>2.0</td>\n",
       "      <td>2.0</td>\n",
       "      <td>1.0</td>\n",
       "      <td>0.0</td>\n",
       "      <td>1.0</td>\n",
       "      <td>1.0</td>\n",
       "      <td>0.0</td>\n",
       "      <td>...</td>\n",
       "      <td>0.0</td>\n",
       "      <td>1.0</td>\n",
       "      <td>1.0</td>\n",
       "      <td>0.0</td>\n",
       "      <td>0.0</td>\n",
       "      <td>0.0</td>\n",
       "      <td>0.0</td>\n",
       "      <td>0.0</td>\n",
       "      <td>0.0</td>\n",
       "      <td>2.0</td>\n",
       "    </tr>\n",
       "    <tr>\n",
       "      <th>1</th>\n",
       "      <td>29.069387</td>\n",
       "      <td>1.0</td>\n",
       "      <td>3.0</td>\n",
       "      <td>3.0</td>\n",
       "      <td>2.0</td>\n",
       "      <td>1.0</td>\n",
       "      <td>1.0</td>\n",
       "      <td>1.0</td>\n",
       "      <td>1.0</td>\n",
       "      <td>0.0</td>\n",
       "      <td>...</td>\n",
       "      <td>0.0</td>\n",
       "      <td>1.0</td>\n",
       "      <td>1.0</td>\n",
       "      <td>0.0</td>\n",
       "      <td>0.0</td>\n",
       "      <td>0.0</td>\n",
       "      <td>0.0</td>\n",
       "      <td>0.0</td>\n",
       "      <td>0.0</td>\n",
       "      <td>3.0</td>\n",
       "    </tr>\n",
       "    <tr>\n",
       "      <th>2</th>\n",
       "      <td>66.511642</td>\n",
       "      <td>1.0</td>\n",
       "      <td>5.0</td>\n",
       "      <td>3.0</td>\n",
       "      <td>1.0</td>\n",
       "      <td>1.0</td>\n",
       "      <td>0.0</td>\n",
       "      <td>1.0</td>\n",
       "      <td>1.0</td>\n",
       "      <td>0.0</td>\n",
       "      <td>...</td>\n",
       "      <td>2.0</td>\n",
       "      <td>1.0</td>\n",
       "      <td>1.0</td>\n",
       "      <td>0.0</td>\n",
       "      <td>0.0</td>\n",
       "      <td>0.0</td>\n",
       "      <td>0.0</td>\n",
       "      <td>0.0</td>\n",
       "      <td>1.0</td>\n",
       "      <td>1.0</td>\n",
       "    </tr>\n",
       "    <tr>\n",
       "      <th>3</th>\n",
       "      <td>24.253651</td>\n",
       "      <td>1.0</td>\n",
       "      <td>1.0</td>\n",
       "      <td>2.0</td>\n",
       "      <td>1.0</td>\n",
       "      <td>1.0</td>\n",
       "      <td>0.0</td>\n",
       "      <td>1.0</td>\n",
       "      <td>1.0</td>\n",
       "      <td>0.0</td>\n",
       "      <td>...</td>\n",
       "      <td>2.0</td>\n",
       "      <td>1.0</td>\n",
       "      <td>1.0</td>\n",
       "      <td>0.0</td>\n",
       "      <td>0.0</td>\n",
       "      <td>0.0</td>\n",
       "      <td>0.0</td>\n",
       "      <td>0.0</td>\n",
       "      <td>1.0</td>\n",
       "      <td>0.0</td>\n",
       "    </tr>\n",
       "    <tr>\n",
       "      <th>4</th>\n",
       "      <td>28.815130</td>\n",
       "      <td>1.0</td>\n",
       "      <td>3.0</td>\n",
       "      <td>3.0</td>\n",
       "      <td>2.0</td>\n",
       "      <td>1.0</td>\n",
       "      <td>0.0</td>\n",
       "      <td>1.0</td>\n",
       "      <td>1.0</td>\n",
       "      <td>0.0</td>\n",
       "      <td>...</td>\n",
       "      <td>0.0</td>\n",
       "      <td>1.0</td>\n",
       "      <td>1.0</td>\n",
       "      <td>0.0</td>\n",
       "      <td>0.0</td>\n",
       "      <td>0.0</td>\n",
       "      <td>0.0</td>\n",
       "      <td>0.0</td>\n",
       "      <td>0.0</td>\n",
       "      <td>3.0</td>\n",
       "    </tr>\n",
       "    <tr>\n",
       "      <th>...</th>\n",
       "      <td>...</td>\n",
       "      <td>...</td>\n",
       "      <td>...</td>\n",
       "      <td>...</td>\n",
       "      <td>...</td>\n",
       "      <td>...</td>\n",
       "      <td>...</td>\n",
       "      <td>...</td>\n",
       "      <td>...</td>\n",
       "      <td>...</td>\n",
       "      <td>...</td>\n",
       "      <td>...</td>\n",
       "      <td>...</td>\n",
       "      <td>...</td>\n",
       "      <td>...</td>\n",
       "      <td>...</td>\n",
       "      <td>...</td>\n",
       "      <td>...</td>\n",
       "      <td>...</td>\n",
       "      <td>...</td>\n",
       "      <td>...</td>\n",
       "    </tr>\n",
       "    <tr>\n",
       "      <th>295</th>\n",
       "      <td>49.999992</td>\n",
       "      <td>1.0</td>\n",
       "      <td>5.0</td>\n",
       "      <td>2.0</td>\n",
       "      <td>1.0</td>\n",
       "      <td>1.0</td>\n",
       "      <td>1.0</td>\n",
       "      <td>1.0</td>\n",
       "      <td>1.0</td>\n",
       "      <td>0.0</td>\n",
       "      <td>...</td>\n",
       "      <td>1.0</td>\n",
       "      <td>1.0</td>\n",
       "      <td>1.0</td>\n",
       "      <td>0.0</td>\n",
       "      <td>0.0</td>\n",
       "      <td>0.0</td>\n",
       "      <td>0.0</td>\n",
       "      <td>0.0</td>\n",
       "      <td>0.0</td>\n",
       "      <td>1.0</td>\n",
       "    </tr>\n",
       "    <tr>\n",
       "      <th>296</th>\n",
       "      <td>35.115562</td>\n",
       "      <td>1.0</td>\n",
       "      <td>1.0</td>\n",
       "      <td>2.0</td>\n",
       "      <td>2.0</td>\n",
       "      <td>1.0</td>\n",
       "      <td>1.0</td>\n",
       "      <td>1.0</td>\n",
       "      <td>1.0</td>\n",
       "      <td>0.0</td>\n",
       "      <td>...</td>\n",
       "      <td>0.0</td>\n",
       "      <td>1.0</td>\n",
       "      <td>1.0</td>\n",
       "      <td>0.0</td>\n",
       "      <td>0.0</td>\n",
       "      <td>0.0</td>\n",
       "      <td>0.0</td>\n",
       "      <td>0.0</td>\n",
       "      <td>1.0</td>\n",
       "      <td>0.0</td>\n",
       "    </tr>\n",
       "    <tr>\n",
       "      <th>297</th>\n",
       "      <td>32.999992</td>\n",
       "      <td>2.0</td>\n",
       "      <td>5.0</td>\n",
       "      <td>0.0</td>\n",
       "      <td>3.0</td>\n",
       "      <td>1.0</td>\n",
       "      <td>0.0</td>\n",
       "      <td>0.0</td>\n",
       "      <td>0.0</td>\n",
       "      <td>0.0</td>\n",
       "      <td>...</td>\n",
       "      <td>0.0</td>\n",
       "      <td>1.0</td>\n",
       "      <td>1.0</td>\n",
       "      <td>0.0</td>\n",
       "      <td>0.0</td>\n",
       "      <td>0.0</td>\n",
       "      <td>0.0</td>\n",
       "      <td>0.0</td>\n",
       "      <td>1.0</td>\n",
       "      <td>1.0</td>\n",
       "    </tr>\n",
       "    <tr>\n",
       "      <th>298</th>\n",
       "      <td>18.999998</td>\n",
       "      <td>3.0</td>\n",
       "      <td>1.0</td>\n",
       "      <td>2.0</td>\n",
       "      <td>1.0</td>\n",
       "      <td>1.0</td>\n",
       "      <td>0.0</td>\n",
       "      <td>1.0</td>\n",
       "      <td>1.0</td>\n",
       "      <td>0.0</td>\n",
       "      <td>...</td>\n",
       "      <td>0.0</td>\n",
       "      <td>1.0</td>\n",
       "      <td>1.0</td>\n",
       "      <td>0.0</td>\n",
       "      <td>0.0</td>\n",
       "      <td>0.0</td>\n",
       "      <td>0.0</td>\n",
       "      <td>0.0</td>\n",
       "      <td>0.0</td>\n",
       "      <td>3.0</td>\n",
       "    </tr>\n",
       "    <tr>\n",
       "      <th>299</th>\n",
       "      <td>42.670212</td>\n",
       "      <td>1.0</td>\n",
       "      <td>1.0</td>\n",
       "      <td>2.0</td>\n",
       "      <td>2.0</td>\n",
       "      <td>1.0</td>\n",
       "      <td>0.0</td>\n",
       "      <td>1.0</td>\n",
       "      <td>1.0</td>\n",
       "      <td>0.0</td>\n",
       "      <td>...</td>\n",
       "      <td>0.0</td>\n",
       "      <td>1.0</td>\n",
       "      <td>1.0</td>\n",
       "      <td>0.0</td>\n",
       "      <td>0.0</td>\n",
       "      <td>0.0</td>\n",
       "      <td>0.0</td>\n",
       "      <td>0.0</td>\n",
       "      <td>1.0</td>\n",
       "      <td>0.0</td>\n",
       "    </tr>\n",
       "  </tbody>\n",
       "</table>\n",
       "<p>300 rows × 22 columns</p>\n",
       "</div>"
      ],
      "text/plain": [
       "           Age  Duration  Frequency  Intensity  Visual  Nausea  Vomit  \\\n",
       "0    53.999992       1.0        3.0        2.0     2.0     1.0    0.0   \n",
       "1    29.069387       1.0        3.0        3.0     2.0     1.0    1.0   \n",
       "2    66.511642       1.0        5.0        3.0     1.0     1.0    0.0   \n",
       "3    24.253651       1.0        1.0        2.0     1.0     1.0    0.0   \n",
       "4    28.815130       1.0        3.0        3.0     2.0     1.0    0.0   \n",
       "..         ...       ...        ...        ...     ...     ...    ...   \n",
       "295  49.999992       1.0        5.0        2.0     1.0     1.0    1.0   \n",
       "296  35.115562       1.0        1.0        2.0     2.0     1.0    1.0   \n",
       "297  32.999992       2.0        5.0        0.0     3.0     1.0    0.0   \n",
       "298  18.999998       3.0        1.0        2.0     1.0     1.0    0.0   \n",
       "299  42.670212       1.0        1.0        2.0     2.0     1.0    0.0   \n",
       "\n",
       "     Location  Character  Dysphasia  ...  Sensory  Phonophobia  Photophobia  \\\n",
       "0         1.0        1.0        0.0  ...      0.0          1.0          1.0   \n",
       "1         1.0        1.0        0.0  ...      0.0          1.0          1.0   \n",
       "2         1.0        1.0        0.0  ...      2.0          1.0          1.0   \n",
       "3         1.0        1.0        0.0  ...      2.0          1.0          1.0   \n",
       "4         1.0        1.0        0.0  ...      0.0          1.0          1.0   \n",
       "..        ...        ...        ...  ...      ...          ...          ...   \n",
       "295       1.0        1.0        0.0  ...      1.0          1.0          1.0   \n",
       "296       1.0        1.0        0.0  ...      0.0          1.0          1.0   \n",
       "297       0.0        0.0        0.0  ...      0.0          1.0          1.0   \n",
       "298       1.0        1.0        0.0  ...      0.0          1.0          1.0   \n",
       "299       1.0        1.0        0.0  ...      0.0          1.0          1.0   \n",
       "\n",
       "     Hypoacusis  Diplopia  Defect  Conscience  Paresthesia  DPF  Target  \n",
       "0           0.0       0.0     0.0         0.0          0.0  0.0     2.0  \n",
       "1           0.0       0.0     0.0         0.0          0.0  0.0     3.0  \n",
       "2           0.0       0.0     0.0         0.0          0.0  1.0     1.0  \n",
       "3           0.0       0.0     0.0         0.0          0.0  1.0     0.0  \n",
       "4           0.0       0.0     0.0         0.0          0.0  0.0     3.0  \n",
       "..          ...       ...     ...         ...          ...  ...     ...  \n",
       "295         0.0       0.0     0.0         0.0          0.0  0.0     1.0  \n",
       "296         0.0       0.0     0.0         0.0          0.0  1.0     0.0  \n",
       "297         0.0       0.0     0.0         0.0          0.0  1.0     1.0  \n",
       "298         0.0       0.0     0.0         0.0          0.0  0.0     3.0  \n",
       "299         0.0       0.0     0.0         0.0          0.0  1.0     0.0  \n",
       "\n",
       "[300 rows x 22 columns]"
      ]
     },
     "execution_count": 44,
     "metadata": {},
     "output_type": "execute_result"
    }
   ],
   "source": [
    "syn_train_data"
   ]
  },
  {
   "cell_type": "code",
   "execution_count": 45,
   "id": "52f87831-065f-41ed-a171-d372f43f7789",
   "metadata": {},
   "outputs": [],
   "source": [
    "def exact_match_score(original_df, synthetic_df):\n",
    "    original_data=original_df.drop('Target',axis=1,inplace=False)\n",
    "    synthetic_data=synthetic_df.drop('Target',axis=1,inplace=False)\n",
    "    n_matches = 0\n",
    "    repeated=[]\n",
    "    for i in range(synthetic_data.shape[0]):\n",
    "        if (original_data == synthetic_data.iloc[i, :]).all(axis=1).any():\n",
    "            repeated_data=synthetic_data.iloc[i, :]\n",
    "            repeated.append(repeated_data)\n",
    "            n_matches += 1    \n",
    "    print('The number of data points repeated in the synthetic data are',n_matches / synthetic_data.shape[0])\n",
    "    return pd.DataFrame(repeated)"
   ]
  },
  {
   "cell_type": "code",
   "execution_count": 46,
   "id": "843cff38-f8d4-4b1c-97f0-47958e46d273",
   "metadata": {},
   "outputs": [],
   "source": [
    "original_df=pd.read_csv('Migraine_training_data(semi_sup).csv')\n",
    "original_df.columns=values"
   ]
  },
  {
   "cell_type": "code",
   "execution_count": 47,
   "id": "ce93a3a8-3047-4f8b-8627-b98a36669d02",
   "metadata": {},
   "outputs": [
    {
     "name": "stdout",
     "output_type": "stream",
     "text": [
      "The number of data points repeated in the synthetic data are 0.01\n"
     ]
    },
    {
     "data": {
      "text/html": [
       "<div>\n",
       "<style scoped>\n",
       "    .dataframe tbody tr th:only-of-type {\n",
       "        vertical-align: middle;\n",
       "    }\n",
       "\n",
       "    .dataframe tbody tr th {\n",
       "        vertical-align: top;\n",
       "    }\n",
       "\n",
       "    .dataframe thead th {\n",
       "        text-align: right;\n",
       "    }\n",
       "</style>\n",
       "<table border=\"1\" class=\"dataframe\">\n",
       "  <thead>\n",
       "    <tr style=\"text-align: right;\">\n",
       "      <th></th>\n",
       "      <th>Age</th>\n",
       "      <th>Duration</th>\n",
       "      <th>Frequency</th>\n",
       "      <th>Intensity</th>\n",
       "      <th>Visual</th>\n",
       "      <th>Nausea</th>\n",
       "      <th>Vomit</th>\n",
       "      <th>Location</th>\n",
       "      <th>Character</th>\n",
       "      <th>Dysphasia</th>\n",
       "      <th>...</th>\n",
       "      <th>Tinnitus</th>\n",
       "      <th>Sensory</th>\n",
       "      <th>Phonophobia</th>\n",
       "      <th>Photophobia</th>\n",
       "      <th>Hypoacusis</th>\n",
       "      <th>Diplopia</th>\n",
       "      <th>Defect</th>\n",
       "      <th>Conscience</th>\n",
       "      <th>Paresthesia</th>\n",
       "      <th>DPF</th>\n",
       "    </tr>\n",
       "  </thead>\n",
       "  <tbody>\n",
       "    <tr>\n",
       "      <th>102</th>\n",
       "      <td>24.0</td>\n",
       "      <td>1.0</td>\n",
       "      <td>1.0</td>\n",
       "      <td>3.0</td>\n",
       "      <td>0.0</td>\n",
       "      <td>1.0</td>\n",
       "      <td>0.0</td>\n",
       "      <td>1.0</td>\n",
       "      <td>1.0</td>\n",
       "      <td>1.0</td>\n",
       "      <td>...</td>\n",
       "      <td>1.0</td>\n",
       "      <td>0.0</td>\n",
       "      <td>1.0</td>\n",
       "      <td>1.0</td>\n",
       "      <td>0.0</td>\n",
       "      <td>0.0</td>\n",
       "      <td>0.0</td>\n",
       "      <td>0.0</td>\n",
       "      <td>0.0</td>\n",
       "      <td>1.0</td>\n",
       "    </tr>\n",
       "    <tr>\n",
       "      <th>145</th>\n",
       "      <td>19.0</td>\n",
       "      <td>1.0</td>\n",
       "      <td>1.0</td>\n",
       "      <td>2.0</td>\n",
       "      <td>1.0</td>\n",
       "      <td>1.0</td>\n",
       "      <td>0.0</td>\n",
       "      <td>1.0</td>\n",
       "      <td>1.0</td>\n",
       "      <td>0.0</td>\n",
       "      <td>...</td>\n",
       "      <td>0.0</td>\n",
       "      <td>0.0</td>\n",
       "      <td>1.0</td>\n",
       "      <td>1.0</td>\n",
       "      <td>0.0</td>\n",
       "      <td>0.0</td>\n",
       "      <td>0.0</td>\n",
       "      <td>0.0</td>\n",
       "      <td>0.0</td>\n",
       "      <td>0.0</td>\n",
       "    </tr>\n",
       "    <tr>\n",
       "      <th>283</th>\n",
       "      <td>19.0</td>\n",
       "      <td>1.0</td>\n",
       "      <td>1.0</td>\n",
       "      <td>2.0</td>\n",
       "      <td>1.0</td>\n",
       "      <td>1.0</td>\n",
       "      <td>0.0</td>\n",
       "      <td>1.0</td>\n",
       "      <td>1.0</td>\n",
       "      <td>0.0</td>\n",
       "      <td>...</td>\n",
       "      <td>0.0</td>\n",
       "      <td>0.0</td>\n",
       "      <td>1.0</td>\n",
       "      <td>1.0</td>\n",
       "      <td>0.0</td>\n",
       "      <td>0.0</td>\n",
       "      <td>0.0</td>\n",
       "      <td>0.0</td>\n",
       "      <td>0.0</td>\n",
       "      <td>0.0</td>\n",
       "    </tr>\n",
       "  </tbody>\n",
       "</table>\n",
       "<p>3 rows × 21 columns</p>\n",
       "</div>"
      ],
      "text/plain": [
       "      Age  Duration  Frequency  Intensity  Visual  Nausea  Vomit  Location  \\\n",
       "102  24.0       1.0        1.0        3.0     0.0     1.0    0.0       1.0   \n",
       "145  19.0       1.0        1.0        2.0     1.0     1.0    0.0       1.0   \n",
       "283  19.0       1.0        1.0        2.0     1.0     1.0    0.0       1.0   \n",
       "\n",
       "     Character  Dysphasia  ...  Tinnitus  Sensory  Phonophobia  Photophobia  \\\n",
       "102        1.0        1.0  ...       1.0      0.0          1.0          1.0   \n",
       "145        1.0        0.0  ...       0.0      0.0          1.0          1.0   \n",
       "283        1.0        0.0  ...       0.0      0.0          1.0          1.0   \n",
       "\n",
       "     Hypoacusis  Diplopia  Defect  Conscience  Paresthesia  DPF  \n",
       "102         0.0       0.0     0.0         0.0          0.0  1.0  \n",
       "145         0.0       0.0     0.0         0.0          0.0  0.0  \n",
       "283         0.0       0.0     0.0         0.0          0.0  0.0  \n",
       "\n",
       "[3 rows x 21 columns]"
      ]
     },
     "execution_count": 47,
     "metadata": {},
     "output_type": "execute_result"
    }
   ],
   "source": [
    "exact_match_score(original_df,syn_train_data)"
   ]
  },
  {
   "cell_type": "code",
   "execution_count": 48,
   "id": "3b146f8b-e4b5-4e7b-a765-ece76677b41f",
   "metadata": {},
   "outputs": [
    {
     "data": {
      "text/plain": [
       "18"
      ]
     },
     "execution_count": 48,
     "metadata": {},
     "output_type": "execute_result"
    }
   ],
   "source": [
    "len(syn_train_data[syn_train_data.duplicated(keep=False)])"
   ]
  },
  {
   "cell_type": "markdown",
   "id": "22664373-fe16-4b85-880c-49e4f2f76e02",
   "metadata": {},
   "source": [
    "### Train test split on synthetic data"
   ]
  },
  {
   "cell_type": "code",
   "execution_count": 49,
   "id": "7ea16747-b8f6-4a5e-9ecb-99631f54dee5",
   "metadata": {},
   "outputs": [],
   "source": [
    "syn_train_features, syn_test_features, syn_train_labels, syn_test_labels = train_test_split(np.array(syn_train_data.drop([\"Target\"],axis=1)), np.array(syn_train_data[\"Target\"]), test_size = 0.25, random_state = 42)"
   ]
  },
  {
   "cell_type": "markdown",
   "id": "965f13f6-c8ad-4e17-bf46-ed7e004cbff6",
   "metadata": {},
   "source": [
    "### Gradient boosting classifier on NextConvGen generated synthetic training data  (Model-2)"
   ]
  },
  {
   "cell_type": "code",
   "execution_count": 50,
   "id": "a53a70a4-d263-4b7a-b61a-8a9a3a670315",
   "metadata": {
    "scrolled": true
   },
   "outputs": [],
   "source": [
    "from sklearn.ensemble import GradientBoostingClassifier\n",
    "NextConvGen_model_2 = GradientBoostingClassifier(n_estimators=20, learning_rate=0.5, max_features=2, max_depth=2, random_state=42)\n"
   ]
  },
  {
   "cell_type": "markdown",
   "id": "b720e9be",
   "metadata": {},
   "source": [
    "### 5 Fold Cross Validation"
   ]
  },
  {
   "cell_type": "code",
   "execution_count": 51,
   "id": "7e79af0b",
   "metadata": {},
   "outputs": [
    {
     "name": "stdout",
     "output_type": "stream",
     "text": [
      "[0.95555556 0.93333333 1.         0.95555556 0.93333333]\n",
      "Avg : 0.9555555555555555\n"
     ]
    }
   ],
   "source": [
    "score_lr=cross_val_score(NextConvGen_model_2, syn_train_features, syn_train_labels,cv=5)\n",
    "print(score_lr)\n",
    "print(\"Avg :\",np.average(score_lr))\n"
   ]
  },
  {
   "cell_type": "code",
   "execution_count": 52,
   "id": "bb3429b1",
   "metadata": {},
   "outputs": [
    {
     "data": {
      "text/html": [
       "<style>#sk-container-id-2 {color: black;background-color: white;}#sk-container-id-2 pre{padding: 0;}#sk-container-id-2 div.sk-toggleable {background-color: white;}#sk-container-id-2 label.sk-toggleable__label {cursor: pointer;display: block;width: 100%;margin-bottom: 0;padding: 0.3em;box-sizing: border-box;text-align: center;}#sk-container-id-2 label.sk-toggleable__label-arrow:before {content: \"▸\";float: left;margin-right: 0.25em;color: #696969;}#sk-container-id-2 label.sk-toggleable__label-arrow:hover:before {color: black;}#sk-container-id-2 div.sk-estimator:hover label.sk-toggleable__label-arrow:before {color: black;}#sk-container-id-2 div.sk-toggleable__content {max-height: 0;max-width: 0;overflow: hidden;text-align: left;background-color: #f0f8ff;}#sk-container-id-2 div.sk-toggleable__content pre {margin: 0.2em;color: black;border-radius: 0.25em;background-color: #f0f8ff;}#sk-container-id-2 input.sk-toggleable__control:checked~div.sk-toggleable__content {max-height: 200px;max-width: 100%;overflow: auto;}#sk-container-id-2 input.sk-toggleable__control:checked~label.sk-toggleable__label-arrow:before {content: \"▾\";}#sk-container-id-2 div.sk-estimator input.sk-toggleable__control:checked~label.sk-toggleable__label {background-color: #d4ebff;}#sk-container-id-2 div.sk-label input.sk-toggleable__control:checked~label.sk-toggleable__label {background-color: #d4ebff;}#sk-container-id-2 input.sk-hidden--visually {border: 0;clip: rect(1px 1px 1px 1px);clip: rect(1px, 1px, 1px, 1px);height: 1px;margin: -1px;overflow: hidden;padding: 0;position: absolute;width: 1px;}#sk-container-id-2 div.sk-estimator {font-family: monospace;background-color: #f0f8ff;border: 1px dotted black;border-radius: 0.25em;box-sizing: border-box;margin-bottom: 0.5em;}#sk-container-id-2 div.sk-estimator:hover {background-color: #d4ebff;}#sk-container-id-2 div.sk-parallel-item::after {content: \"\";width: 100%;border-bottom: 1px solid gray;flex-grow: 1;}#sk-container-id-2 div.sk-label:hover label.sk-toggleable__label {background-color: #d4ebff;}#sk-container-id-2 div.sk-serial::before {content: \"\";position: absolute;border-left: 1px solid gray;box-sizing: border-box;top: 0;bottom: 0;left: 50%;z-index: 0;}#sk-container-id-2 div.sk-serial {display: flex;flex-direction: column;align-items: center;background-color: white;padding-right: 0.2em;padding-left: 0.2em;position: relative;}#sk-container-id-2 div.sk-item {position: relative;z-index: 1;}#sk-container-id-2 div.sk-parallel {display: flex;align-items: stretch;justify-content: center;background-color: white;position: relative;}#sk-container-id-2 div.sk-item::before, #sk-container-id-2 div.sk-parallel-item::before {content: \"\";position: absolute;border-left: 1px solid gray;box-sizing: border-box;top: 0;bottom: 0;left: 50%;z-index: -1;}#sk-container-id-2 div.sk-parallel-item {display: flex;flex-direction: column;z-index: 1;position: relative;background-color: white;}#sk-container-id-2 div.sk-parallel-item:first-child::after {align-self: flex-end;width: 50%;}#sk-container-id-2 div.sk-parallel-item:last-child::after {align-self: flex-start;width: 50%;}#sk-container-id-2 div.sk-parallel-item:only-child::after {width: 0;}#sk-container-id-2 div.sk-dashed-wrapped {border: 1px dashed gray;margin: 0 0.4em 0.5em 0.4em;box-sizing: border-box;padding-bottom: 0.4em;background-color: white;}#sk-container-id-2 div.sk-label label {font-family: monospace;font-weight: bold;display: inline-block;line-height: 1.2em;}#sk-container-id-2 div.sk-label-container {text-align: center;}#sk-container-id-2 div.sk-container {/* jupyter's `normalize.less` sets `[hidden] { display: none; }` but bootstrap.min.css set `[hidden] { display: none !important; }` so we also need the `!important` here to be able to override the default hidden behavior on the sphinx rendered scikit-learn.org. See: https://github.com/scikit-learn/scikit-learn/issues/21755 */display: inline-block !important;position: relative;}#sk-container-id-2 div.sk-text-repr-fallback {display: none;}</style><div id=\"sk-container-id-2\" class=\"sk-top-container\"><div class=\"sk-text-repr-fallback\"><pre>GradientBoostingClassifier(learning_rate=0.5, max_depth=2, max_features=2,\n",
       "                           n_estimators=20, random_state=42)</pre><b>In a Jupyter environment, please rerun this cell to show the HTML representation or trust the notebook. <br />On GitHub, the HTML representation is unable to render, please try loading this page with nbviewer.org.</b></div><div class=\"sk-container\" hidden><div class=\"sk-item\"><div class=\"sk-estimator sk-toggleable\"><input class=\"sk-toggleable__control sk-hidden--visually\" id=\"sk-estimator-id-2\" type=\"checkbox\" checked><label for=\"sk-estimator-id-2\" class=\"sk-toggleable__label sk-toggleable__label-arrow\">GradientBoostingClassifier</label><div class=\"sk-toggleable__content\"><pre>GradientBoostingClassifier(learning_rate=0.5, max_depth=2, max_features=2,\n",
       "                           n_estimators=20, random_state=42)</pre></div></div></div></div></div>"
      ],
      "text/plain": [
       "GradientBoostingClassifier(learning_rate=0.5, max_depth=2, max_features=2,\n",
       "                           n_estimators=20, random_state=42)"
      ]
     },
     "execution_count": 52,
     "metadata": {},
     "output_type": "execute_result"
    }
   ],
   "source": [
    "NextConvGen_model_2.fit(syn_train_features,syn_train_labels )"
   ]
  },
  {
   "cell_type": "markdown",
   "id": "b2cce01c-9e72-472c-9e7d-b37237dbac13",
   "metadata": {},
   "source": [
    "### Case-1: predicting validation data using Model-1\n"
   ]
  },
  {
   "cell_type": "code",
   "execution_count": 53,
   "id": "5da6fd08-9bd9-46d8-a179-1cc21e3c909c",
   "metadata": {},
   "outputs": [
    {
     "name": "stdout",
     "output_type": "stream",
     "text": [
      "F1_Score of cluster 0 is 0.875\n",
      "Geometric mean of cluster 0 is 0.8754275592730114\n",
      "Correctly predicted data points in cluster 0 is 90.32258064516128%\n",
      "\n",
      "\n",
      "F1_Score of cluster 1 is 0.9824561403508771\n",
      "Geometric mean of cluster 1 is 0.982607368881035\n",
      "Correctly predicted data points in cluster 1 is 96.55172413793103%\n",
      "\n",
      "\n",
      "F1_Score of cluster 2 is 0.9142857142857143\n",
      "Geometric mean of cluster 2 is 0.9146591207600471\n",
      "Correctly predicted data points in cluster 2 is 88.88888888888889%\n",
      "\n",
      "\n",
      "F1_Score of cluster 3 is 0.9090909090909091\n",
      "Geometric mean of cluster 3 is 0.9090909090909091\n",
      "Correctly predicted data points in cluster 3 is 90.9090909090909%\n",
      "\n",
      "\n",
      "weigted average F1_Score of all clusters is 0.9207337092731829\n",
      "weighted average Geometric mean of all clusters is 0.9209773220869419\n",
      "weighted average of Correctly predicted data points in all clusters is 91.99999999999999%\n"
     ]
    }
   ],
   "source": [
    "x=model_1.predict(np.array(test_features))\n",
    "cluster_wise_F1score(list(test_labels),list(x))"
   ]
  },
  {
   "cell_type": "markdown",
   "id": "c164bdd4-1d1d-4c83-937a-1b639fe602d7",
   "metadata": {},
   "source": [
    "### Case-2: Predicting validation data using Model-2\n"
   ]
  },
  {
   "cell_type": "code",
   "execution_count": 54,
   "id": "b90230ce-35e9-4301-9d0d-9ec1a168afaf",
   "metadata": {},
   "outputs": [
    {
     "name": "stdout",
     "output_type": "stream",
     "text": [
      "F1_Score of cluster 0 is 0.8115942028985507\n",
      "Geometric mean of cluster 0 is 0.8158031654472909\n",
      "Correctly predicted data points in cluster 0 is 90.32258064516128%\n",
      "\n",
      "\n",
      "F1_Score of cluster 1 is 0.9454545454545454\n",
      "Geometric mean of cluster 1 is 0.9468641529479986\n",
      "Correctly predicted data points in cluster 1 is 89.65517241379311%\n",
      "\n",
      "\n",
      "F1_Score of cluster 2 is 0.8888888888888888\n",
      "Geometric mean of cluster 2 is 0.8888888888888888\n",
      "Correctly predicted data points in cluster 2 is 88.88888888888889%\n",
      "\n",
      "\n",
      "F1_Score of cluster 3 is 0.7999999999999999\n",
      "Geometric mean of cluster 3 is 0.8040302522073697\n",
      "Correctly predicted data points in cluster 3 is 72.72727272727273%\n",
      "\n",
      "\n",
      "weigted average F1_Score of all clusters is 0.8617760210803687\n",
      "weighted average Geometric mean of all clusters is 0.864376241129201\n",
      "weighted average of Correctly predicted data points in all clusters is 86.0%\n"
     ]
    }
   ],
   "source": [
    "y=NextConvGen_model_2.predict(np.array(test_features))\n",
    "\n",
    "cluster_wise_F1score(list(test_labels),list(y))"
   ]
  },
  {
   "cell_type": "markdown",
   "id": "c8e7b3a0-e915-4dea-a9a8-1fd179e6c1a1",
   "metadata": {},
   "source": [
    "### Comparing predicted values from Case-1 & Case-2"
   ]
  },
  {
   "cell_type": "code",
   "execution_count": 55,
   "id": "8d3c1fcb-71cd-44d0-8175-a1823d97a80e",
   "metadata": {
    "tags": []
   },
   "outputs": [
    {
     "name": "stdout",
     "output_type": "stream",
     "text": [
      "F1_Score of cluster 0 is 0.9295774647887324\n",
      "Geometric mean of cluster 0 is 0.9318911162960933\n",
      "Correctly predicted data points in cluster 0 is 100.0%\n",
      "\n",
      "\n",
      "F1_Score of cluster 1 is 0.962962962962963\n",
      "Geometric mean of cluster 1 is 0.9636241116594315\n",
      "Correctly predicted data points in cluster 1 is 92.85714285714286%\n",
      "\n",
      "\n",
      "F1_Score of cluster 2 is 0.9714285714285714\n",
      "Geometric mean of cluster 2 is 0.97182531580755\n",
      "Correctly predicted data points in cluster 2 is 100.0%\n",
      "\n",
      "\n",
      "F1_Score of cluster 3 is 0.9\n",
      "Geometric mean of cluster 3 is 0.9045340337332909\n",
      "Correctly predicted data points in cluster 3 is 81.81818181818183%\n",
      "\n",
      "\n",
      "weigted average F1_Score of all clusters is 0.9395330501527686\n",
      "weighted average Geometric mean of all clusters is 0.9415466107509591\n",
      "weighted average of Correctly predicted data points in all clusters is 94.0%\n"
     ]
    }
   ],
   "source": [
    "cluster_wise_F1score(list(x),list(y))"
   ]
  },
  {
   "cell_type": "markdown",
   "id": "25bc6d7d-34bc-45c5-8911-3caca94d352e",
   "metadata": {},
   "source": [
    "### UMAP on synthetic data"
   ]
  },
  {
   "cell_type": "code",
   "execution_count": 56,
   "id": "7cefcf61-7dc8-4cb3-b554-006801adab12",
   "metadata": {},
   "outputs": [
    {
     "data": {
      "image/png": "[encoded data removed]",
      "text/plain": [
       "<Figure size 500x500 with 1 Axes>"
      ]
     },
     "metadata": {},
     "output_type": "display_data"
    }
   ],
   "source": [
    "from fdc.fdc import feature_clustering, canberra_modified, Clustering, FDC\n",
    "np.random.seed(42)\n",
    "syn_emb_low=feature_clustering(25,0.001,'euclidean',syn_train_data.drop([\"Target\"],axis=1),True)"
   ]
  },
  {
   "cell_type": "markdown",
   "id": "12c13c35-b359-4599-9b5f-6e7cf238c102",
   "metadata": {},
   "source": [
    "### FDC on synthetic data"
   ]
  },
  {
   "cell_type": "code",
   "execution_count": 57,
   "id": "18a794d3-bd52-4537-95b1-6330690e9d7b",
   "metadata": {},
   "outputs": [
    {
     "name": "stdout",
     "output_type": "stream",
     "text": [
      "FDC.normalize (init): 0.00002 / 0.000s\n",
      "FDC.normalize (clustering CONT): 0.98638 / 0.986s\n",
      "FDC.normalize (clustering ORD): 1.57229 / 2.559s\n",
      "FDC.normalize (clustering NOM): 2.40273 / 4.961s\n",
      "FDC.normalize (concat): 0.00007 / 4.961s\n",
      "FDC.normalize (umap 5 -> 2): 0.98019 / 5.942s\n",
      "FDC.normalize (array -> DataFrame): 0.00028 / 5.942s\n"
     ]
    },
    {
     "data": {
      "image/png": "[encoded data removed]",
      "text/plain": [
       "<Figure size 500x500 with 1 Axes>"
      ]
     },
     "metadata": {},
     "output_type": "display_data"
    },
    {
     "name": "stdout",
     "output_type": "stream",
     "text": [
      "FDC.normalize (plotting): 0.40234 / 6.344s\n",
      "FDC.normalize (array -> DataFrame): 0.00018 / 6.344s\n",
      "FDC.normalize (total): 0.00001 / 6.344s\n"
     ]
    }
   ],
   "source": [
    "from fdc.fdc import feature_clustering, canberra_modified, Clustering, FDC\n",
    "\n",
    "np.random.seed(42)\n",
    "fdc = FDC(clustering_cont=Clustering('euclidean',25,0.01)\n",
    "          , clustering_ord=Clustering(canberra_modified,25,0.01)\n",
    "          , clustering_nom=Clustering('hamming',25,0.01)\n",
    "          , visual=True\n",
    "          , use_pandas_output=True\n",
    "          , with_2d_embedding=True\n",
    "          )\n",
    "\n",
    "fdc.selectFeatures(continueous=cont_list, nomial=nom_list, ordinal=ord_list)\n",
    "\n",
    "FDC_emb_high,FDC_emb_low = fdc.normalize(syn_train_data.drop([\"Target\"],axis=1),cont_list=cont_list, nom_list=nom_list, ord_list=ord_list,\n",
    "                  with_2d_embedding=True,\n",
    "                  visual=True)"
   ]
  },
  {
   "cell_type": "code",
   "execution_count": 58,
   "id": "50f7de13-0c82-4676-9046-cb048cb20207",
   "metadata": {},
   "outputs": [
    {
     "data": {
      "image/png": "[encoded data removed]",
      "text/plain": [
       "<Figure size 560.361x500 with 1 Axes>"
      ]
     },
     "metadata": {},
     "output_type": "display_data"
    }
   ],
   "source": [
    "from fdc.clustering import *\n",
    "clustering=Clustering(FDC_emb_low,FDC_emb_low,True)\n",
    "cluster_list,cluster_counts=clustering.K_means(4)"
   ]
  },
  {
   "cell_type": "code",
   "execution_count": 59,
   "id": "5164e221",
   "metadata": {},
   "outputs": [
    {
     "data": {
      "text/plain": [
       "array([ 71, 126,  74,  29])"
      ]
     },
     "execution_count": 59,
     "metadata": {},
     "output_type": "execute_result"
    }
   ],
   "source": [
    "cluster_counts"
   ]
  },
  {
   "cell_type": "markdown",
   "id": "9c381506",
   "metadata": {},
   "source": [
    "## CTGAN"
   ]
  },
  {
   "cell_type": "code",
   "execution_count": 60,
   "id": "6ae28422-0bbb-41e0-b77a-70f6b4bd7fb9",
   "metadata": {},
   "outputs": [],
   "source": [
    "train_features= pd.DataFrame(train_features)"
   ]
  },
  {
   "cell_type": "code",
   "execution_count": 61,
   "id": "da43656e",
   "metadata": {},
   "outputs": [],
   "source": [
    "dicts = {}\n",
    "for i in range(len(values)):\n",
    "        dicts[i]=values[i]\n"
   ]
  },
  {
   "cell_type": "code",
   "execution_count": 62,
   "id": "012f260e",
   "metadata": {},
   "outputs": [],
   "source": [
    "train_features.rename(columns=dicts,inplace=True)\n"
   ]
  },
  {
   "cell_type": "code",
   "execution_count": 63,
   "id": "75691f1d",
   "metadata": {},
   "outputs": [],
   "source": [
    "from sdv.tabular import CTGAN"
   ]
  },
  {
   "cell_type": "code",
   "execution_count": 64,
   "id": "f389037f",
   "metadata": {},
   "outputs": [],
   "source": [
    "gen=CTGAN()"
   ]
  },
  {
   "cell_type": "code",
   "execution_count": 65,
   "id": "887db476",
   "metadata": {},
   "outputs": [],
   "source": [
    "gen.fit(train_features)"
   ]
  },
  {
   "cell_type": "markdown",
   "id": "6cce973b",
   "metadata": {},
   "source": [
    "### Generating 1000 synthetic points and randomly selecting the same legth of original training points for evaluation"
   ]
  },
  {
   "cell_type": "code",
   "execution_count": 66,
   "id": "32120e20",
   "metadata": {},
   "outputs": [],
   "source": [
    "syn_train_data= gen.sample(num_rows=1000)"
   ]
  },
  {
   "cell_type": "code",
   "execution_count": 67,
   "id": "adc89b53",
   "metadata": {},
   "outputs": [],
   "source": [
    "from fdc.NN_models import *\n",
    "CTGAN_syn_data=balanced_synthetic_data_CTGAN(train_features,syn_train_data,gen)"
   ]
  },
  {
   "cell_type": "code",
   "execution_count": 68,
   "id": "69472947-05f2-4b86-ad69-b5c1bb7af93c",
   "metadata": {},
   "outputs": [],
   "source": [
    "CTGAN_syn_data.to_csv('Migraine_CTGAN_syn_data.csv',index=False)"
   ]
  },
  {
   "cell_type": "code",
   "execution_count": 69,
   "id": "ce9afe21",
   "metadata": {},
   "outputs": [],
   "source": [
    "np.random.seed(42)\n",
    "CTGAN_syn_data=CTGAN_syn_data.sample(frac=1) #Shuffle the data set\n",
    "np.random.seed(42)\n",
    "i=[x for x in range(np.shape(CTGAN_syn_data)[0])]\n",
    "\n",
    "CTGAN_syn_data.set_index(pd.Series(i), inplace=True)"
   ]
  },
  {
   "cell_type": "code",
   "execution_count": 70,
   "id": "3c8267d7-d9d1-4d9f-9f68-a3b12973e0d4",
   "metadata": {},
   "outputs": [
    {
     "name": "stdout",
     "output_type": "stream",
     "text": [
      "The number of data points repeated in the synthetic data are 0.013333333333333334\n"
     ]
    },
    {
     "data": {
      "text/html": [
       "<div>\n",
       "<style scoped>\n",
       "    .dataframe tbody tr th:only-of-type {\n",
       "        vertical-align: middle;\n",
       "    }\n",
       "\n",
       "    .dataframe tbody tr th {\n",
       "        vertical-align: top;\n",
       "    }\n",
       "\n",
       "    .dataframe thead th {\n",
       "        text-align: right;\n",
       "    }\n",
       "</style>\n",
       "<table border=\"1\" class=\"dataframe\">\n",
       "  <thead>\n",
       "    <tr style=\"text-align: right;\">\n",
       "      <th></th>\n",
       "      <th>Age</th>\n",
       "      <th>Duration</th>\n",
       "      <th>Frequency</th>\n",
       "      <th>Intensity</th>\n",
       "      <th>Visual</th>\n",
       "      <th>Nausea</th>\n",
       "      <th>Vomit</th>\n",
       "      <th>Location</th>\n",
       "      <th>Character</th>\n",
       "      <th>Dysphasia</th>\n",
       "      <th>...</th>\n",
       "      <th>Tinnitus</th>\n",
       "      <th>Sensory</th>\n",
       "      <th>Phonophobia</th>\n",
       "      <th>Photophobia</th>\n",
       "      <th>Hypoacusis</th>\n",
       "      <th>Diplopia</th>\n",
       "      <th>Defect</th>\n",
       "      <th>Conscience</th>\n",
       "      <th>Paresthesia</th>\n",
       "      <th>DPF</th>\n",
       "    </tr>\n",
       "  </thead>\n",
       "  <tbody>\n",
       "    <tr>\n",
       "      <th>48</th>\n",
       "      <td>19</td>\n",
       "      <td>1</td>\n",
       "      <td>2</td>\n",
       "      <td>2</td>\n",
       "      <td>2</td>\n",
       "      <td>1</td>\n",
       "      <td>0</td>\n",
       "      <td>1</td>\n",
       "      <td>1</td>\n",
       "      <td>0</td>\n",
       "      <td>...</td>\n",
       "      <td>0</td>\n",
       "      <td>0</td>\n",
       "      <td>1</td>\n",
       "      <td>1</td>\n",
       "      <td>0</td>\n",
       "      <td>0</td>\n",
       "      <td>0</td>\n",
       "      <td>0</td>\n",
       "      <td>0</td>\n",
       "      <td>1</td>\n",
       "    </tr>\n",
       "    <tr>\n",
       "      <th>78</th>\n",
       "      <td>29</td>\n",
       "      <td>1</td>\n",
       "      <td>1</td>\n",
       "      <td>3</td>\n",
       "      <td>1</td>\n",
       "      <td>1</td>\n",
       "      <td>0</td>\n",
       "      <td>1</td>\n",
       "      <td>1</td>\n",
       "      <td>0</td>\n",
       "      <td>...</td>\n",
       "      <td>0</td>\n",
       "      <td>0</td>\n",
       "      <td>1</td>\n",
       "      <td>1</td>\n",
       "      <td>0</td>\n",
       "      <td>0</td>\n",
       "      <td>0</td>\n",
       "      <td>0</td>\n",
       "      <td>0</td>\n",
       "      <td>0</td>\n",
       "    </tr>\n",
       "    <tr>\n",
       "      <th>165</th>\n",
       "      <td>23</td>\n",
       "      <td>1</td>\n",
       "      <td>1</td>\n",
       "      <td>2</td>\n",
       "      <td>2</td>\n",
       "      <td>1</td>\n",
       "      <td>0</td>\n",
       "      <td>1</td>\n",
       "      <td>1</td>\n",
       "      <td>0</td>\n",
       "      <td>...</td>\n",
       "      <td>0</td>\n",
       "      <td>1</td>\n",
       "      <td>1</td>\n",
       "      <td>1</td>\n",
       "      <td>0</td>\n",
       "      <td>0</td>\n",
       "      <td>0</td>\n",
       "      <td>0</td>\n",
       "      <td>0</td>\n",
       "      <td>0</td>\n",
       "    </tr>\n",
       "    <tr>\n",
       "      <th>219</th>\n",
       "      <td>25</td>\n",
       "      <td>1</td>\n",
       "      <td>1</td>\n",
       "      <td>3</td>\n",
       "      <td>2</td>\n",
       "      <td>1</td>\n",
       "      <td>0</td>\n",
       "      <td>1</td>\n",
       "      <td>1</td>\n",
       "      <td>0</td>\n",
       "      <td>...</td>\n",
       "      <td>0</td>\n",
       "      <td>0</td>\n",
       "      <td>1</td>\n",
       "      <td>1</td>\n",
       "      <td>0</td>\n",
       "      <td>0</td>\n",
       "      <td>0</td>\n",
       "      <td>0</td>\n",
       "      <td>0</td>\n",
       "      <td>0</td>\n",
       "    </tr>\n",
       "  </tbody>\n",
       "</table>\n",
       "<p>4 rows × 21 columns</p>\n",
       "</div>"
      ],
      "text/plain": [
       "     Age  Duration  Frequency  Intensity  Visual  Nausea  Vomit  Location  \\\n",
       "48    19         1          2          2       2       1      0         1   \n",
       "78    29         1          1          3       1       1      0         1   \n",
       "165   23         1          1          2       2       1      0         1   \n",
       "219   25         1          1          3       2       1      0         1   \n",
       "\n",
       "     Character  Dysphasia  ...  Tinnitus  Sensory  Phonophobia  Photophobia  \\\n",
       "48           1          0  ...         0        0            1            1   \n",
       "78           1          0  ...         0        0            1            1   \n",
       "165          1          0  ...         0        1            1            1   \n",
       "219          1          0  ...         0        0            1            1   \n",
       "\n",
       "     Hypoacusis  Diplopia  Defect  Conscience  Paresthesia  DPF  \n",
       "48            0         0       0           0            0    1  \n",
       "78            0         0       0           0            0    0  \n",
       "165           0         0       0           0            0    0  \n",
       "219           0         0       0           0            0    0  \n",
       "\n",
       "[4 rows x 21 columns]"
      ]
     },
     "execution_count": 70,
     "metadata": {},
     "output_type": "execute_result"
    }
   ],
   "source": [
    "exact_match_score(original_df,CTGAN_syn_data)"
   ]
  },
  {
   "cell_type": "code",
   "execution_count": 71,
   "id": "5a3d778e-9c42-4cef-b082-bac61dd4a37c",
   "metadata": {},
   "outputs": [
    {
     "data": {
      "text/plain": [
       "0"
      ]
     },
     "execution_count": 71,
     "metadata": {},
     "output_type": "execute_result"
    }
   ],
   "source": [
    "len(CTGAN_syn_data[CTGAN_syn_data.duplicated(keep=False)])"
   ]
  },
  {
   "cell_type": "markdown",
   "id": "d29e970d",
   "metadata": {},
   "source": [
    "### Train-test split on CTGAN generated synthetic data points"
   ]
  },
  {
   "cell_type": "code",
   "execution_count": 72,
   "id": "c7e0bb11",
   "metadata": {},
   "outputs": [],
   "source": [
    "syn_train_features, syn_test_features, syn_train_labels, syn_test_labels = train_test_split(np.array(CTGAN_syn_data.drop([\"Target\"],axis=1)), np.array(CTGAN_syn_data[\"Target\"]), test_size = 0.25, random_state = 42)"
   ]
  },
  {
   "cell_type": "markdown",
   "id": "efd0e051",
   "metadata": {},
   "source": [
    "### Gradient boosting classifier on CTGAN generated synthetic training data  (Model-2)"
   ]
  },
  {
   "cell_type": "code",
   "execution_count": 73,
   "id": "71edf250",
   "metadata": {},
   "outputs": [],
   "source": [
    "from sklearn.ensemble import GradientBoostingClassifier\n",
    "CTGAN_model_2 = GradientBoostingClassifier(n_estimators=20, learning_rate=0.5, max_features=2, max_depth=2, random_state=42)\n"
   ]
  },
  {
   "cell_type": "markdown",
   "id": "0ee3fdcd",
   "metadata": {},
   "source": [
    "### 5 Fold Cross validation"
   ]
  },
  {
   "cell_type": "code",
   "execution_count": 74,
   "id": "0527f63f",
   "metadata": {},
   "outputs": [
    {
     "name": "stdout",
     "output_type": "stream",
     "text": [
      "[0.22222222 0.24444444 0.15555556 0.26666667 0.22222222]\n",
      "Avg : 0.22222222222222224\n"
     ]
    }
   ],
   "source": [
    "score_lr=cross_val_score(CTGAN_model_2, syn_train_features, syn_train_labels,cv=5)\n",
    "print(score_lr)\n",
    "print(\"Avg :\",np.average(score_lr))\n"
   ]
  },
  {
   "cell_type": "code",
   "execution_count": 75,
   "id": "dfc15293",
   "metadata": {},
   "outputs": [
    {
     "data": {
      "text/html": [
       "<style>#sk-container-id-3 {color: black;background-color: white;}#sk-container-id-3 pre{padding: 0;}#sk-container-id-3 div.sk-toggleable {background-color: white;}#sk-container-id-3 label.sk-toggleable__label {cursor: pointer;display: block;width: 100%;margin-bottom: 0;padding: 0.3em;box-sizing: border-box;text-align: center;}#sk-container-id-3 label.sk-toggleable__label-arrow:before {content: \"▸\";float: left;margin-right: 0.25em;color: #696969;}#sk-container-id-3 label.sk-toggleable__label-arrow:hover:before {color: black;}#sk-container-id-3 div.sk-estimator:hover label.sk-toggleable__label-arrow:before {color: black;}#sk-container-id-3 div.sk-toggleable__content {max-height: 0;max-width: 0;overflow: hidden;text-align: left;background-color: #f0f8ff;}#sk-container-id-3 div.sk-toggleable__content pre {margin: 0.2em;color: black;border-radius: 0.25em;background-color: #f0f8ff;}#sk-container-id-3 input.sk-toggleable__control:checked~div.sk-toggleable__content {max-height: 200px;max-width: 100%;overflow: auto;}#sk-container-id-3 input.sk-toggleable__control:checked~label.sk-toggleable__label-arrow:before {content: \"▾\";}#sk-container-id-3 div.sk-estimator input.sk-toggleable__control:checked~label.sk-toggleable__label {background-color: #d4ebff;}#sk-container-id-3 div.sk-label input.sk-toggleable__control:checked~label.sk-toggleable__label {background-color: #d4ebff;}#sk-container-id-3 input.sk-hidden--visually {border: 0;clip: rect(1px 1px 1px 1px);clip: rect(1px, 1px, 1px, 1px);height: 1px;margin: -1px;overflow: hidden;padding: 0;position: absolute;width: 1px;}#sk-container-id-3 div.sk-estimator {font-family: monospace;background-color: #f0f8ff;border: 1px dotted black;border-radius: 0.25em;box-sizing: border-box;margin-bottom: 0.5em;}#sk-container-id-3 div.sk-estimator:hover {background-color: #d4ebff;}#sk-container-id-3 div.sk-parallel-item::after {content: \"\";width: 100%;border-bottom: 1px solid gray;flex-grow: 1;}#sk-container-id-3 div.sk-label:hover label.sk-toggleable__label {background-color: #d4ebff;}#sk-container-id-3 div.sk-serial::before {content: \"\";position: absolute;border-left: 1px solid gray;box-sizing: border-box;top: 0;bottom: 0;left: 50%;z-index: 0;}#sk-container-id-3 div.sk-serial {display: flex;flex-direction: column;align-items: center;background-color: white;padding-right: 0.2em;padding-left: 0.2em;position: relative;}#sk-container-id-3 div.sk-item {position: relative;z-index: 1;}#sk-container-id-3 div.sk-parallel {display: flex;align-items: stretch;justify-content: center;background-color: white;position: relative;}#sk-container-id-3 div.sk-item::before, #sk-container-id-3 div.sk-parallel-item::before {content: \"\";position: absolute;border-left: 1px solid gray;box-sizing: border-box;top: 0;bottom: 0;left: 50%;z-index: -1;}#sk-container-id-3 div.sk-parallel-item {display: flex;flex-direction: column;z-index: 1;position: relative;background-color: white;}#sk-container-id-3 div.sk-parallel-item:first-child::after {align-self: flex-end;width: 50%;}#sk-container-id-3 div.sk-parallel-item:last-child::after {align-self: flex-start;width: 50%;}#sk-container-id-3 div.sk-parallel-item:only-child::after {width: 0;}#sk-container-id-3 div.sk-dashed-wrapped {border: 1px dashed gray;margin: 0 0.4em 0.5em 0.4em;box-sizing: border-box;padding-bottom: 0.4em;background-color: white;}#sk-container-id-3 div.sk-label label {font-family: monospace;font-weight: bold;display: inline-block;line-height: 1.2em;}#sk-container-id-3 div.sk-label-container {text-align: center;}#sk-container-id-3 div.sk-container {/* jupyter's `normalize.less` sets `[hidden] { display: none; }` but bootstrap.min.css set `[hidden] { display: none !important; }` so we also need the `!important` here to be able to override the default hidden behavior on the sphinx rendered scikit-learn.org. See: https://github.com/scikit-learn/scikit-learn/issues/21755 */display: inline-block !important;position: relative;}#sk-container-id-3 div.sk-text-repr-fallback {display: none;}</style><div id=\"sk-container-id-3\" class=\"sk-top-container\"><div class=\"sk-text-repr-fallback\"><pre>GradientBoostingClassifier(learning_rate=0.5, max_depth=2, max_features=2,\n",
       "                           n_estimators=20, random_state=42)</pre><b>In a Jupyter environment, please rerun this cell to show the HTML representation or trust the notebook. <br />On GitHub, the HTML representation is unable to render, please try loading this page with nbviewer.org.</b></div><div class=\"sk-container\" hidden><div class=\"sk-item\"><div class=\"sk-estimator sk-toggleable\"><input class=\"sk-toggleable__control sk-hidden--visually\" id=\"sk-estimator-id-3\" type=\"checkbox\" checked><label for=\"sk-estimator-id-3\" class=\"sk-toggleable__label sk-toggleable__label-arrow\">GradientBoostingClassifier</label><div class=\"sk-toggleable__content\"><pre>GradientBoostingClassifier(learning_rate=0.5, max_depth=2, max_features=2,\n",
       "                           n_estimators=20, random_state=42)</pre></div></div></div></div></div>"
      ],
      "text/plain": [
       "GradientBoostingClassifier(learning_rate=0.5, max_depth=2, max_features=2,\n",
       "                           n_estimators=20, random_state=42)"
      ]
     },
     "execution_count": 75,
     "metadata": {},
     "output_type": "execute_result"
    }
   ],
   "source": [
    "CTGAN_model_2.fit(syn_train_features,syn_train_labels )"
   ]
  },
  {
   "cell_type": "markdown",
   "id": "33bc76da",
   "metadata": {},
   "source": [
    "### Case-1: predicting validation data using Model-1\n"
   ]
  },
  {
   "cell_type": "code",
   "execution_count": 76,
   "id": "84c964ee",
   "metadata": {},
   "outputs": [
    {
     "name": "stdout",
     "output_type": "stream",
     "text": [
      "F1_Score of cluster 0 is 0.875\n",
      "Geometric mean of cluster 0 is 0.8754275592730114\n",
      "Correctly predicted data points in cluster 0 is 90.32258064516128%\n",
      "\n",
      "\n",
      "F1_Score of cluster 1 is 0.9824561403508771\n",
      "Geometric mean of cluster 1 is 0.982607368881035\n",
      "Correctly predicted data points in cluster 1 is 96.55172413793103%\n",
      "\n",
      "\n",
      "F1_Score of cluster 2 is 0.9142857142857143\n",
      "Geometric mean of cluster 2 is 0.9146591207600471\n",
      "Correctly predicted data points in cluster 2 is 88.88888888888889%\n",
      "\n",
      "\n",
      "F1_Score of cluster 3 is 0.9090909090909091\n",
      "Geometric mean of cluster 3 is 0.9090909090909091\n",
      "Correctly predicted data points in cluster 3 is 90.9090909090909%\n",
      "\n",
      "\n",
      "weigted average F1_Score of all clusters is 0.9207337092731829\n",
      "weighted average Geometric mean of all clusters is 0.9209773220869419\n",
      "weighted average of Correctly predicted data points in all clusters is 91.99999999999999%\n"
     ]
    }
   ],
   "source": [
    "x=model_1.predict(np.array(test_features))\n",
    "cluster_wise_F1score(list(test_labels),list(x))"
   ]
  },
  {
   "cell_type": "markdown",
   "id": "94c80ca6",
   "metadata": {},
   "source": [
    "### Case-2: predicting validation data using Model-2\n"
   ]
  },
  {
   "cell_type": "code",
   "execution_count": 77,
   "id": "5be931d4",
   "metadata": {},
   "outputs": [
    {
     "name": "stdout",
     "output_type": "stream",
     "text": [
      "F1_Score of cluster 0 is 0.2702702702702703\n",
      "Geometric mean of cluster 0 is 0.27389551783238836\n",
      "Correctly predicted data points in cluster 0 is 32.25806451612903%\n",
      "\n",
      "\n",
      "F1_Score of cluster 1 is 0.0\n",
      "Geometric mean of cluster 1 is 0.0\n",
      "Correctly predicted data points in cluster 1 is 0.0%\n",
      "\n",
      "\n",
      "F1_Score of cluster 2 is 0.11764705882352942\n",
      "Geometric mean of cluster 2 is 0.12309149097933274\n",
      "Correctly predicted data points in cluster 2 is 16.666666666666664%\n",
      "\n",
      "\n",
      "F1_Score of cluster 3 is 0.20512820512820512\n",
      "Geometric mean of cluster 3 is 0.20683507599800766\n",
      "Correctly predicted data points in cluster 3 is 18.181818181818183%\n",
      "\n",
      "\n",
      "weigted average F1_Score of all clusters is 0.1500884595002242\n",
      "weighted average Geometric mean of all clusters is 0.15256779562388195\n",
      "weighted average of Correctly predicted data points in all clusters is 17.0%\n"
     ]
    }
   ],
   "source": [
    "y=CTGAN_model_2.predict(np.array(test_features))\n",
    "\n",
    "cluster_wise_F1score(list(test_labels),list(y))"
   ]
  },
  {
   "cell_type": "markdown",
   "id": "ab30bc7f",
   "metadata": {},
   "source": [
    "### Comparing predicted values from Case-1 & Case-2"
   ]
  },
  {
   "cell_type": "code",
   "execution_count": 78,
   "id": "2f3a83f6",
   "metadata": {},
   "outputs": [
    {
     "name": "stdout",
     "output_type": "stream",
     "text": [
      "F1_Score of cluster 0 is 0.23684210526315788\n",
      "Geometric mean of cluster 0 is 0.2389193429408545\n",
      "Correctly predicted data points in cluster 0 is 27.27272727272727%\n",
      "\n",
      "\n",
      "F1_Score of cluster 1 is 0.0\n",
      "Geometric mean of cluster 1 is 0.0\n",
      "Correctly predicted data points in cluster 1 is 0.0%\n",
      "\n",
      "\n",
      "F1_Score of cluster 2 is 0.04\n",
      "Geometric mean of cluster 2 is 0.04222003309207491\n",
      "Correctly predicted data points in cluster 2 is 5.88235294117647%\n",
      "\n",
      "\n",
      "F1_Score of cluster 3 is 0.25641025641025644\n",
      "Geometric mean of cluster 3 is 0.2585438449975096\n",
      "Correctly predicted data points in cluster 3 is 22.727272727272727%\n",
      "\n",
      "\n",
      "weigted average F1_Score of all clusters is 0.14136815114709853\n",
      "weighted average Geometric mean of all clusters is 0.14290043469558683\n",
      "weighted average of Correctly predicted data points in all clusters is 15.0%\n"
     ]
    }
   ],
   "source": [
    "cluster_wise_F1score(list(x),list(y))"
   ]
  },
  {
   "cell_type": "markdown",
   "id": "b50196a0",
   "metadata": {},
   "source": [
    "### UMAP on CTGAN synthetic data"
   ]
  },
  {
   "cell_type": "code",
   "execution_count": 79,
   "id": "9e29fa6f",
   "metadata": {},
   "outputs": [
    {
     "data": {
      "image/png": "[encoded data removed]",
      "text/plain": [
       "<Figure size 500x500 with 1 Axes>"
      ]
     },
     "metadata": {},
     "output_type": "display_data"
    }
   ],
   "source": [
    "from fdc.fdc import feature_clustering, canberra_modified, Clustering, FDC\n",
    "np.random.seed(42)\n",
    "syn_emb_low=feature_clustering(20,0.001,'euclidean',CTGAN_syn_data.drop([\"Target\"],axis=1),True)"
   ]
  },
  {
   "cell_type": "markdown",
   "id": "7f688b86",
   "metadata": {},
   "source": [
    "### FDC on CTGAN synthetic data"
   ]
  },
  {
   "cell_type": "code",
   "execution_count": 80,
   "id": "ccedd423",
   "metadata": {},
   "outputs": [
    {
     "name": "stdout",
     "output_type": "stream",
     "text": [
      "FDC.normalize (init): 0.00002 / 0.000s\n",
      "FDC.normalize (clustering CONT): 1.40102 / 1.401s\n",
      "FDC.normalize (clustering ORD): 1.38660 / 2.788s\n",
      "FDC.normalize (clustering NOM): 2.00138 / 4.789s\n",
      "FDC.normalize (concat): 0.00007 / 4.789s\n",
      "FDC.normalize (umap 5 -> 2): 1.12368 / 5.913s\n",
      "FDC.normalize (array -> DataFrame): 0.00027 / 5.913s\n"
     ]
    },
    {
     "data": {
      "image/png": "[encoded data removed]",
      "text/plain": [
       "<Figure size 500x500 with 1 Axes>"
      ]
     },
     "metadata": {},
     "output_type": "display_data"
    },
    {
     "name": "stdout",
     "output_type": "stream",
     "text": [
      "FDC.normalize (plotting): 0.39984 / 6.313s\n",
      "FDC.normalize (array -> DataFrame): 0.00017 / 6.313s\n",
      "FDC.normalize (total): 0.00001 / 6.313s\n"
     ]
    }
   ],
   "source": [
    "from fdc.fdc import feature_clustering, canberra_modified, Clustering, FDC\n",
    "\n",
    "np.random.seed(42)\n",
    "fdc = FDC(clustering_cont=Clustering('euclidean',25,0.01)\n",
    "          , clustering_ord=Clustering(canberra_modified,25,0.01)\n",
    "          , clustering_nom=Clustering('hamming',25,0.01)\n",
    "          , visual=True\n",
    "          , use_pandas_output=True\n",
    "          , with_2d_embedding=True\n",
    "          )\n",
    "\n",
    "fdc.selectFeatures(continueous=cont_list, nomial=nom_list, ordinal=ord_list)\n",
    "\n",
    "FDC_emb_high,FDC_emb_low = fdc.normalize(CTGAN_syn_data.drop([\"Target\"],axis=1),cont_list=cont_list, nom_list=nom_list, ord_list=ord_list,\n",
    "                  with_2d_embedding=True,\n",
    "                  visual=True)"
   ]
  },
  {
   "cell_type": "code",
   "execution_count": 81,
   "id": "7dce96a4",
   "metadata": {
    "scrolled": false
   },
   "outputs": [
    {
     "data": {
      "image/png": "[encoded data removed]",
      "text/plain": [
       "<Figure size 560.361x500 with 1 Axes>"
      ]
     },
     "metadata": {},
     "output_type": "display_data"
    }
   ],
   "source": [
    "from fdc.clustering import *\n",
    "clustering=Clustering(FDC_emb_low,FDC_emb_low,True)\n",
    "cluster_list,cluster_counts=clustering.K_means(4)"
   ]
  },
  {
   "cell_type": "markdown",
   "id": "a646d832",
   "metadata": {},
   "source": [
    "## CTABGAN"
   ]
  },
  {
   "cell_type": "markdown",
   "id": "768d06ec",
   "metadata": {},
   "source": [
    "train_features= pd.DataFrame(train_features)"
   ]
  },
  {
   "cell_type": "markdown",
   "id": "b2e48da1",
   "metadata": {},
   "source": [
    "dicts = {}\n",
    "for i in range(len(values)):\n",
    "        dicts[i]=values[i]\n"
   ]
  },
  {
   "cell_type": "markdown",
   "id": "42238875",
   "metadata": {},
   "source": [
    "train_features.rename(columns=dicts,inplace=True)\n"
   ]
  },
  {
   "cell_type": "code",
   "execution_count": 82,
   "id": "7be23e1c",
   "metadata": {},
   "outputs": [],
   "source": [
    "import tensorflow as tf\n",
    "from tensorflow import keras\n",
    "from tensorflow.keras import layers\n",
    "from library.generators.ctab import CtabGan"
   ]
  },
  {
   "cell_type": "code",
   "execution_count": 83,
   "id": "159323c2",
   "metadata": {},
   "outputs": [],
   "source": [
    "gen=CtabGan()"
   ]
  },
  {
   "cell_type": "code",
   "execution_count": 84,
   "id": "a574e67d-1ab2-4393-a914-be96a13e4ab4",
   "metadata": {},
   "outputs": [],
   "source": [
    "gen.reset(train_features)"
   ]
  },
  {
   "cell_type": "code",
   "execution_count": 85,
   "id": "fb1680fe",
   "metadata": {},
   "outputs": [
    {
     "name": "stderr",
     "output_type": "stream",
     "text": [
      "100%|██████████| 10/10 [00:10<00:00,  1.09s/it]\n"
     ]
    }
   ],
   "source": [
    "gen.train(train_features)"
   ]
  },
  {
   "cell_type": "markdown",
   "id": "ea4c9f6a",
   "metadata": {},
   "source": [
    "### Generating 1000 synthetic points and randomly selecting the same legth of original training points for evaluation"
   ]
  },
  {
   "cell_type": "code",
   "execution_count": 86,
   "id": "b2fe3748",
   "metadata": {},
   "outputs": [],
   "source": [
    "CTABGAN_syn_data= gen.generateData(1000)"
   ]
  },
  {
   "cell_type": "code",
   "execution_count": 87,
   "id": "94967163",
   "metadata": {},
   "outputs": [],
   "source": [
    "CTABGAN_syn_data=pd.DataFrame(CTABGAN_syn_data)"
   ]
  },
  {
   "cell_type": "code",
   "execution_count": 88,
   "id": "b30a0817",
   "metadata": {},
   "outputs": [],
   "source": [
    "CTABGAN_syn_data.rename(columns=dicts,inplace=True)"
   ]
  },
  {
   "cell_type": "code",
   "execution_count": 89,
   "id": "0075d7eb",
   "metadata": {},
   "outputs": [],
   "source": [
    "for i in values[1:]:\n",
    "    CTABGAN_syn_data[i]=abs(np.round(CTABGAN_syn_data[i]))"
   ]
  },
  {
   "cell_type": "code",
   "execution_count": 90,
   "id": "609f3ffc",
   "metadata": {},
   "outputs": [],
   "source": [
    "from fdc.NN_models import *\n",
    "CTABGAN_syn_data=balanced_synthetic_data_CTGAN(train_features,CTABGAN_syn_data,gen)"
   ]
  },
  {
   "cell_type": "code",
   "execution_count": 91,
   "id": "9e3a5eb4",
   "metadata": {},
   "outputs": [],
   "source": [
    "CTABGAN_syn_data.to_csv('Migraine_CTABGAN_syn_data.csv',index=False)"
   ]
  },
  {
   "cell_type": "code",
   "execution_count": 92,
   "id": "9595b254",
   "metadata": {},
   "outputs": [],
   "source": [
    "np.random.seed(42)\n",
    "CTABGAN_syn_data=CTABGAN_syn_data.sample(frac=1) #Shuffle the data set\n",
    "np.random.seed(42)\n",
    "i=[x for x in range(np.shape(CTABGAN_syn_data)[0])]\n",
    "\n",
    "CTABGAN_syn_data.set_index(pd.Series(i), inplace=True)"
   ]
  },
  {
   "cell_type": "code",
   "execution_count": 93,
   "id": "cd549f32-7553-41e3-a4d3-207dd35b568f",
   "metadata": {},
   "outputs": [
    {
     "name": "stdout",
     "output_type": "stream",
     "text": [
      "The number of data points repeated in the synthetic data are 0.0\n"
     ]
    },
    {
     "data": {
      "text/html": [
       "<div>\n",
       "<style scoped>\n",
       "    .dataframe tbody tr th:only-of-type {\n",
       "        vertical-align: middle;\n",
       "    }\n",
       "\n",
       "    .dataframe tbody tr th {\n",
       "        vertical-align: top;\n",
       "    }\n",
       "\n",
       "    .dataframe thead th {\n",
       "        text-align: right;\n",
       "    }\n",
       "</style>\n",
       "<table border=\"1\" class=\"dataframe\">\n",
       "  <thead>\n",
       "    <tr style=\"text-align: right;\">\n",
       "      <th></th>\n",
       "    </tr>\n",
       "  </thead>\n",
       "  <tbody>\n",
       "  </tbody>\n",
       "</table>\n",
       "</div>"
      ],
      "text/plain": [
       "Empty DataFrame\n",
       "Columns: []\n",
       "Index: []"
      ]
     },
     "execution_count": 93,
     "metadata": {},
     "output_type": "execute_result"
    }
   ],
   "source": [
    "exact_match_score(original_df,CTABGAN_syn_data)"
   ]
  },
  {
   "cell_type": "code",
   "execution_count": 94,
   "id": "ccf6246a-bb51-4cf2-8bdf-a41b3b731bf9",
   "metadata": {},
   "outputs": [
    {
     "data": {
      "text/plain": [
       "0"
      ]
     },
     "execution_count": 94,
     "metadata": {},
     "output_type": "execute_result"
    }
   ],
   "source": [
    "len(CTABGAN_syn_data[CTABGAN_syn_data.duplicated(keep=False)])"
   ]
  },
  {
   "cell_type": "markdown",
   "id": "541536d7",
   "metadata": {},
   "source": [
    "### Train-test split on CTABGAN generated synthetic data points"
   ]
  },
  {
   "cell_type": "code",
   "execution_count": 95,
   "id": "51b8ec88",
   "metadata": {},
   "outputs": [],
   "source": [
    "syn_train_features, syn_test_features, syn_train_labels, syn_test_labels = train_test_split(np.array(CTABGAN_syn_data.drop([\"Target\"],axis=1)), np.array(CTABGAN_syn_data[\"Target\"]), test_size = 0.25, random_state = 42)"
   ]
  },
  {
   "cell_type": "markdown",
   "id": "9b5bc5a5",
   "metadata": {},
   "source": [
    "### Gradient boosting classifier on CTABGAN generated synthetic training data  (Model-2)"
   ]
  },
  {
   "cell_type": "code",
   "execution_count": 96,
   "id": "b97d9657",
   "metadata": {},
   "outputs": [],
   "source": [
    "from sklearn.ensemble import GradientBoostingClassifier\n",
    "CTABGAN_model_2 = GradientBoostingClassifier(n_estimators=20, learning_rate=0.5, max_features=2, max_depth=2, random_state=42)\n"
   ]
  },
  {
   "cell_type": "markdown",
   "id": "31906809",
   "metadata": {},
   "source": [
    "### 5 Fold Cross validation"
   ]
  },
  {
   "cell_type": "code",
   "execution_count": 97,
   "id": "c5ddabe1",
   "metadata": {},
   "outputs": [
    {
     "name": "stdout",
     "output_type": "stream",
     "text": [
      "[0.17777778 0.15555556 0.22222222 0.13333333 0.28888889]\n",
      "Avg : 0.19555555555555554\n"
     ]
    }
   ],
   "source": [
    "score_lr=cross_val_score(CTABGAN_model_2, syn_train_features, syn_train_labels,cv=5)\n",
    "print(score_lr)\n",
    "print(\"Avg :\",np.average(score_lr))\n"
   ]
  },
  {
   "cell_type": "code",
   "execution_count": 98,
   "id": "27e7a1eb",
   "metadata": {},
   "outputs": [
    {
     "data": {
      "text/html": [
       "<style>#sk-container-id-4 {color: black;background-color: white;}#sk-container-id-4 pre{padding: 0;}#sk-container-id-4 div.sk-toggleable {background-color: white;}#sk-container-id-4 label.sk-toggleable__label {cursor: pointer;display: block;width: 100%;margin-bottom: 0;padding: 0.3em;box-sizing: border-box;text-align: center;}#sk-container-id-4 label.sk-toggleable__label-arrow:before {content: \"▸\";float: left;margin-right: 0.25em;color: #696969;}#sk-container-id-4 label.sk-toggleable__label-arrow:hover:before {color: black;}#sk-container-id-4 div.sk-estimator:hover label.sk-toggleable__label-arrow:before {color: black;}#sk-container-id-4 div.sk-toggleable__content {max-height: 0;max-width: 0;overflow: hidden;text-align: left;background-color: #f0f8ff;}#sk-container-id-4 div.sk-toggleable__content pre {margin: 0.2em;color: black;border-radius: 0.25em;background-color: #f0f8ff;}#sk-container-id-4 input.sk-toggleable__control:checked~div.sk-toggleable__content {max-height: 200px;max-width: 100%;overflow: auto;}#sk-container-id-4 input.sk-toggleable__control:checked~label.sk-toggleable__label-arrow:before {content: \"▾\";}#sk-container-id-4 div.sk-estimator input.sk-toggleable__control:checked~label.sk-toggleable__label {background-color: #d4ebff;}#sk-container-id-4 div.sk-label input.sk-toggleable__control:checked~label.sk-toggleable__label {background-color: #d4ebff;}#sk-container-id-4 input.sk-hidden--visually {border: 0;clip: rect(1px 1px 1px 1px);clip: rect(1px, 1px, 1px, 1px);height: 1px;margin: -1px;overflow: hidden;padding: 0;position: absolute;width: 1px;}#sk-container-id-4 div.sk-estimator {font-family: monospace;background-color: #f0f8ff;border: 1px dotted black;border-radius: 0.25em;box-sizing: border-box;margin-bottom: 0.5em;}#sk-container-id-4 div.sk-estimator:hover {background-color: #d4ebff;}#sk-container-id-4 div.sk-parallel-item::after {content: \"\";width: 100%;border-bottom: 1px solid gray;flex-grow: 1;}#sk-container-id-4 div.sk-label:hover label.sk-toggleable__label {background-color: #d4ebff;}#sk-container-id-4 div.sk-serial::before {content: \"\";position: absolute;border-left: 1px solid gray;box-sizing: border-box;top: 0;bottom: 0;left: 50%;z-index: 0;}#sk-container-id-4 div.sk-serial {display: flex;flex-direction: column;align-items: center;background-color: white;padding-right: 0.2em;padding-left: 0.2em;position: relative;}#sk-container-id-4 div.sk-item {position: relative;z-index: 1;}#sk-container-id-4 div.sk-parallel {display: flex;align-items: stretch;justify-content: center;background-color: white;position: relative;}#sk-container-id-4 div.sk-item::before, #sk-container-id-4 div.sk-parallel-item::before {content: \"\";position: absolute;border-left: 1px solid gray;box-sizing: border-box;top: 0;bottom: 0;left: 50%;z-index: -1;}#sk-container-id-4 div.sk-parallel-item {display: flex;flex-direction: column;z-index: 1;position: relative;background-color: white;}#sk-container-id-4 div.sk-parallel-item:first-child::after {align-self: flex-end;width: 50%;}#sk-container-id-4 div.sk-parallel-item:last-child::after {align-self: flex-start;width: 50%;}#sk-container-id-4 div.sk-parallel-item:only-child::after {width: 0;}#sk-container-id-4 div.sk-dashed-wrapped {border: 1px dashed gray;margin: 0 0.4em 0.5em 0.4em;box-sizing: border-box;padding-bottom: 0.4em;background-color: white;}#sk-container-id-4 div.sk-label label {font-family: monospace;font-weight: bold;display: inline-block;line-height: 1.2em;}#sk-container-id-4 div.sk-label-container {text-align: center;}#sk-container-id-4 div.sk-container {/* jupyter's `normalize.less` sets `[hidden] { display: none; }` but bootstrap.min.css set `[hidden] { display: none !important; }` so we also need the `!important` here to be able to override the default hidden behavior on the sphinx rendered scikit-learn.org. See: https://github.com/scikit-learn/scikit-learn/issues/21755 */display: inline-block !important;position: relative;}#sk-container-id-4 div.sk-text-repr-fallback {display: none;}</style><div id=\"sk-container-id-4\" class=\"sk-top-container\"><div class=\"sk-text-repr-fallback\"><pre>GradientBoostingClassifier(learning_rate=0.5, max_depth=2, max_features=2,\n",
       "                           n_estimators=20, random_state=42)</pre><b>In a Jupyter environment, please rerun this cell to show the HTML representation or trust the notebook. <br />On GitHub, the HTML representation is unable to render, please try loading this page with nbviewer.org.</b></div><div class=\"sk-container\" hidden><div class=\"sk-item\"><div class=\"sk-estimator sk-toggleable\"><input class=\"sk-toggleable__control sk-hidden--visually\" id=\"sk-estimator-id-4\" type=\"checkbox\" checked><label for=\"sk-estimator-id-4\" class=\"sk-toggleable__label sk-toggleable__label-arrow\">GradientBoostingClassifier</label><div class=\"sk-toggleable__content\"><pre>GradientBoostingClassifier(learning_rate=0.5, max_depth=2, max_features=2,\n",
       "                           n_estimators=20, random_state=42)</pre></div></div></div></div></div>"
      ],
      "text/plain": [
       "GradientBoostingClassifier(learning_rate=0.5, max_depth=2, max_features=2,\n",
       "                           n_estimators=20, random_state=42)"
      ]
     },
     "execution_count": 98,
     "metadata": {},
     "output_type": "execute_result"
    }
   ],
   "source": [
    "CTABGAN_model_2.fit(syn_train_features,syn_train_labels )"
   ]
  },
  {
   "cell_type": "markdown",
   "id": "0e73b165",
   "metadata": {},
   "source": [
    "### Case-1: predicting validation data using Model-1\n"
   ]
  },
  {
   "cell_type": "code",
   "execution_count": 99,
   "id": "cd47ba9e",
   "metadata": {},
   "outputs": [
    {
     "name": "stdout",
     "output_type": "stream",
     "text": [
      "F1_Score of cluster 0 is 0.875\n",
      "Geometric mean of cluster 0 is 0.8754275592730114\n",
      "Correctly predicted data points in cluster 0 is 90.32258064516128%\n",
      "\n",
      "\n",
      "F1_Score of cluster 1 is 0.9824561403508771\n",
      "Geometric mean of cluster 1 is 0.982607368881035\n",
      "Correctly predicted data points in cluster 1 is 96.55172413793103%\n",
      "\n",
      "\n",
      "F1_Score of cluster 2 is 0.9142857142857143\n",
      "Geometric mean of cluster 2 is 0.9146591207600471\n",
      "Correctly predicted data points in cluster 2 is 88.88888888888889%\n",
      "\n",
      "\n",
      "F1_Score of cluster 3 is 0.9090909090909091\n",
      "Geometric mean of cluster 3 is 0.9090909090909091\n",
      "Correctly predicted data points in cluster 3 is 90.9090909090909%\n",
      "\n",
      "\n",
      "weigted average F1_Score of all clusters is 0.9207337092731829\n",
      "weighted average Geometric mean of all clusters is 0.9209773220869419\n",
      "weighted average of Correctly predicted data points in all clusters is 91.99999999999999%\n"
     ]
    }
   ],
   "source": [
    "x=model_1.predict(np.array(test_features))\n",
    "cluster_wise_F1score(list(test_labels),list(x))"
   ]
  },
  {
   "cell_type": "markdown",
   "id": "f47a7e95",
   "metadata": {},
   "source": [
    "### Case-2: predicting validation data using Model-2\n"
   ]
  },
  {
   "cell_type": "code",
   "execution_count": 100,
   "id": "b27b5ac0",
   "metadata": {},
   "outputs": [
    {
     "name": "stdout",
     "output_type": "stream",
     "text": [
      "F1_Score of cluster 0 is 0.28571428571428575\n",
      "Geometric mean of cluster 0 is 0.28575028575042866\n",
      "Correctly predicted data points in cluster 0 is 29.03225806451613%\n",
      "\n",
      "\n",
      "F1_Score of cluster 1 is 0.18604651162790697\n",
      "Geometric mean of cluster 1 is 0.19851666679418606\n",
      "Correctly predicted data points in cluster 1 is 13.793103448275861%\n",
      "\n",
      "\n",
      "F1_Score of cluster 2 is 0.39999999999999997\n",
      "Geometric mean of cluster 2 is 0.4001633653325206\n",
      "Correctly predicted data points in cluster 2 is 38.88888888888889%\n",
      "\n",
      "\n",
      "F1_Score of cluster 3 is 0.03389830508474577\n",
      "Geometric mean of cluster 3 is 0.03504998186163908\n",
      "Correctly predicted data points in cluster 3 is 4.545454545454546%\n",
      "\n",
      "\n",
      "weigted average F1_Score of all clusters is 0.22198254406216567\n",
      "weighted average Geometric mean of all clusters is 0.22589282372236114\n",
      "weighted average of Correctly predicted data points in all clusters is 21.0%\n"
     ]
    }
   ],
   "source": [
    "y=CTABGAN_model_2.predict(np.array(test_features))\n",
    "\n",
    "cluster_wise_F1score(list(test_labels),list(y))"
   ]
  },
  {
   "cell_type": "markdown",
   "id": "1716217b",
   "metadata": {},
   "source": [
    "### Comparing predicted values from Case-1 & Case-2"
   ]
  },
  {
   "cell_type": "code",
   "execution_count": 101,
   "id": "a881eb47",
   "metadata": {},
   "outputs": [
    {
     "name": "stdout",
     "output_type": "stream",
     "text": [
      "F1_Score of cluster 0 is 0.3076923076923077\n",
      "Geometric mean of cluster 0 is 0.30772872744833185\n",
      "Correctly predicted data points in cluster 0 is 30.303030303030305%\n",
      "\n",
      "\n",
      "F1_Score of cluster 1 is 0.14285714285714285\n",
      "Geometric mean of cluster 1 is 0.1515228816828316\n",
      "Correctly predicted data points in cluster 1 is 10.714285714285714%\n",
      "\n",
      "\n",
      "F1_Score of cluster 2 is 0.4117647058823529\n",
      "Geometric mean of cluster 2 is 0.4117647058823529\n",
      "Correctly predicted data points in cluster 2 is 41.17647058823529%\n",
      "\n",
      "\n",
      "F1_Score of cluster 3 is 0.06779661016949154\n",
      "Geometric mean of cluster 3 is 0.07009996372327816\n",
      "Correctly predicted data points in cluster 3 is 9.090909090909092%\n",
      "\n",
      "\n",
      "weigted average F1_Score of all clusters is 0.22645371577574971\n",
      "weighted average Geometric mean of all clusters is 0.22939887894826358\n",
      "weighted average of Correctly predicted data points in all clusters is 22.0%\n"
     ]
    }
   ],
   "source": [
    "cluster_wise_F1score(list(x),list(y))"
   ]
  },
  {
   "cell_type": "markdown",
   "id": "f189ccef",
   "metadata": {},
   "source": [
    "### UMAP on CTABGAN synthetic data"
   ]
  },
  {
   "cell_type": "code",
   "execution_count": 102,
   "id": "d3bafe2a",
   "metadata": {},
   "outputs": [
    {
     "data": {
      "image/png": "[encoded data removed]",
      "text/plain": [
       "<Figure size 500x500 with 1 Axes>"
      ]
     },
     "metadata": {},
     "output_type": "display_data"
    }
   ],
   "source": [
    "from fdc.fdc import feature_clustering, canberra_modified, Clustering, FDC\n",
    "np.random.seed(42)\n",
    "syn_emb_low=feature_clustering(20,0.001,'euclidean',CTABGAN_syn_data.drop([\"Target\"],axis=1),True)"
   ]
  },
  {
   "cell_type": "markdown",
   "id": "284493b8",
   "metadata": {},
   "source": [
    "### FDC on CTABGAN synthetic data"
   ]
  },
  {
   "cell_type": "code",
   "execution_count": 103,
   "id": "9aa4b3ae",
   "metadata": {},
   "outputs": [
    {
     "name": "stdout",
     "output_type": "stream",
     "text": [
      "FDC.normalize (init): 0.00002 / 0.000s\n",
      "FDC.normalize (clustering CONT): 0.97898 / 0.979s\n",
      "FDC.normalize (clustering ORD): 0.95580 / 1.935s\n",
      "FDC.normalize (clustering NOM): 1.13602 / 3.071s\n",
      "FDC.normalize (concat): 0.00007 / 3.071s\n",
      "FDC.normalize (umap 5 -> 2): 0.99636 / 4.067s\n",
      "FDC.normalize (array -> DataFrame): 0.00026 / 4.068s\n"
     ]
    },
    {
     "data": {
      "image/png": "[encoded data removed]",
      "text/plain": [
       "<Figure size 500x500 with 1 Axes>"
      ]
     },
     "metadata": {},
     "output_type": "display_data"
    },
    {
     "name": "stdout",
     "output_type": "stream",
     "text": [
      "FDC.normalize (plotting): 0.40367 / 4.471s\n",
      "FDC.normalize (array -> DataFrame): 0.00018 / 4.471s\n",
      "FDC.normalize (total): 0.00001 / 4.471s\n"
     ]
    }
   ],
   "source": [
    "from fdc.fdc import feature_clustering, canberra_modified, Clustering, FDC\n",
    "\n",
    "np.random.seed(42)\n",
    "fdc = FDC(clustering_cont=Clustering('euclidean',25,0.01)\n",
    "          , clustering_ord=Clustering(canberra_modified,25,0.01)\n",
    "          , clustering_nom=Clustering('hamming',25,0.01)\n",
    "          , visual=True\n",
    "          , use_pandas_output=True\n",
    "          , with_2d_embedding=True\n",
    "          )\n",
    "\n",
    "fdc.selectFeatures(continueous=cont_list, nomial=nom_list, ordinal=ord_list)\n",
    "\n",
    "FDC_emb_high,FDC_emb_low = fdc.normalize(CTABGAN_syn_data.drop([\"Target\"],axis=1),cont_list=cont_list, nom_list=nom_list, ord_list=ord_list,\n",
    "                  with_2d_embedding=True,\n",
    "                  visual=True)"
   ]
  },
  {
   "cell_type": "code",
   "execution_count": 104,
   "id": "df8c7a60",
   "metadata": {
    "scrolled": false
   },
   "outputs": [
    {
     "data": {
      "image/png": "[encoded data removed]",
      "text/plain": [
       "<Figure size 560.361x500 with 1 Axes>"
      ]
     },
     "metadata": {},
     "output_type": "display_data"
    }
   ],
   "source": [
    "from fdc.clustering import *\n",
    "clustering=Clustering(FDC_emb_low,FDC_emb_low,True)\n",
    "cluster_list,cluster_counts=clustering.K_means(4)"
   ]
  },
  {
   "cell_type": "markdown",
   "id": "dce637fd-8e89-4d65-8da4-7c1375dc55dc",
   "metadata": {},
   "source": [
    "### Tabddpm"
   ]
  },
  {
   "cell_type": "code",
   "execution_count": 105,
   "id": "4bbf68c3-9a34-4d66-a882-effd92e2fa50",
   "metadata": {},
   "outputs": [],
   "source": [
    "\n",
    "Tabddpm_syn_data=pd.read_csv('Migraine_synth_data_semi_tddpm.csv')\n",
    "Tabddpm_syn_data.drop(['Unnamed: 0'],axis=1,inplace=True)\n",
    "\n"
   ]
  },
  {
   "cell_type": "code",
   "execution_count": 106,
   "id": "70850e4c-29a3-40f5-91d1-620727bc6d64",
   "metadata": {},
   "outputs": [
    {
     "data": {
      "text/plain": [
       "0    658\n",
       "1    574\n",
       "3    480\n",
       "2    288\n",
       "Name: Target, dtype: int64"
      ]
     },
     "execution_count": 106,
     "metadata": {},
     "output_type": "execute_result"
    }
   ],
   "source": [
    "Tabddpm_syn_data['Target'].value_counts()"
   ]
  },
  {
   "cell_type": "code",
   "execution_count": 107,
   "id": "29f3bc3a-2c15-45eb-8fa2-4fc411817ab3",
   "metadata": {},
   "outputs": [],
   "source": [
    "def balanced_synthetic_data(org_data,syn_data):\n",
    "    import math\n",
    "    org_data_len = org_data.shape[0]\n",
    "    class_counts = org_data.iloc[:,-1].value_counts()\n",
    "    column_names = list( syn_data.columns)\n",
    "    df_list=[]\n",
    "    for i in range(len(class_counts)):\n",
    "        c_i=syn_data[syn_data['Target']==i].sample(n=int(class_counts[i]),axis=0,random_state=42)\n",
    "        df_list.append(c_i)\n",
    "    balanced_df=pd.concat(df_list,names=column_names)\n",
    "    return balanced_df"
   ]
  },
  {
   "cell_type": "code",
   "execution_count": 108,
   "id": "4386d29b-44fd-430f-a4a7-5f54d8769122",
   "metadata": {},
   "outputs": [],
   "source": [
    "Tabddpm_syn_data=balanced_synthetic_data(pd.DataFrame(train_features),Tabddpm_syn_data)"
   ]
  },
  {
   "cell_type": "code",
   "execution_count": 109,
   "id": "eccc7c2e-3bfd-4519-9aa5-5bc06241bd22",
   "metadata": {},
   "outputs": [
    {
     "data": {
      "text/plain": [
       "0    106\n",
       "1     85\n",
       "3     71\n",
       "2     38\n",
       "Name: Target, dtype: int64"
      ]
     },
     "execution_count": 109,
     "metadata": {},
     "output_type": "execute_result"
    }
   ],
   "source": [
    "Tabddpm_syn_data['Target'].value_counts()"
   ]
  },
  {
   "cell_type": "code",
   "execution_count": 110,
   "id": "d07677c0-6789-4529-bda5-961139e08727",
   "metadata": {},
   "outputs": [],
   "source": [
    "Tabddpm_syn_data.to_csv('Migraine_Tabddpm_syn_data(semi_sup).csv',index=False)"
   ]
  },
  {
   "cell_type": "code",
   "execution_count": 111,
   "id": "023f4b60-6815-4335-afd1-62c5784f954b",
   "metadata": {
    "tags": []
   },
   "outputs": [],
   "source": [
    "np.random.seed(42)\n",
    "Tabddpm_syn_data=Tabddpm_syn_data.sample(frac=1) #Shuffle the data set\n",
    "np.random.seed(42)\n",
    "i=[x for x in range(np.shape(Tabddpm_syn_data)[0])]\n",
    "\n",
    "Tabddpm_syn_data.set_index(pd.Series(i), inplace=True)"
   ]
  },
  {
   "cell_type": "code",
   "execution_count": 112,
   "id": "4a0a4bf3-4845-41bc-9503-2de8aaf1bd5e",
   "metadata": {},
   "outputs": [
    {
     "data": {
      "text/html": [
       "<div>\n",
       "<style scoped>\n",
       "    .dataframe tbody tr th:only-of-type {\n",
       "        vertical-align: middle;\n",
       "    }\n",
       "\n",
       "    .dataframe tbody tr th {\n",
       "        vertical-align: top;\n",
       "    }\n",
       "\n",
       "    .dataframe thead th {\n",
       "        text-align: right;\n",
       "    }\n",
       "</style>\n",
       "<table border=\"1\" class=\"dataframe\">\n",
       "  <thead>\n",
       "    <tr style=\"text-align: right;\">\n",
       "      <th></th>\n",
       "      <th>Age</th>\n",
       "      <th>Duration</th>\n",
       "      <th>Frequency</th>\n",
       "      <th>Intensity</th>\n",
       "      <th>Visual</th>\n",
       "      <th>Nausea</th>\n",
       "      <th>Vomit</th>\n",
       "      <th>Location</th>\n",
       "      <th>Character</th>\n",
       "      <th>Dysphasia</th>\n",
       "      <th>...</th>\n",
       "      <th>Sensory</th>\n",
       "      <th>Phonophobia</th>\n",
       "      <th>Photophobia</th>\n",
       "      <th>Hypoacusis</th>\n",
       "      <th>Diplopia</th>\n",
       "      <th>Defect</th>\n",
       "      <th>Conscience</th>\n",
       "      <th>Paresthesia</th>\n",
       "      <th>DPF</th>\n",
       "      <th>Target</th>\n",
       "    </tr>\n",
       "  </thead>\n",
       "  <tbody>\n",
       "    <tr>\n",
       "      <th>0</th>\n",
       "      <td>38.376574</td>\n",
       "      <td>1</td>\n",
       "      <td>2</td>\n",
       "      <td>3</td>\n",
       "      <td>2</td>\n",
       "      <td>1</td>\n",
       "      <td>0</td>\n",
       "      <td>1</td>\n",
       "      <td>1</td>\n",
       "      <td>0</td>\n",
       "      <td>...</td>\n",
       "      <td>0</td>\n",
       "      <td>1</td>\n",
       "      <td>1</td>\n",
       "      <td>0</td>\n",
       "      <td>0</td>\n",
       "      <td>0</td>\n",
       "      <td>0</td>\n",
       "      <td>0</td>\n",
       "      <td>0</td>\n",
       "      <td>2</td>\n",
       "    </tr>\n",
       "    <tr>\n",
       "      <th>1</th>\n",
       "      <td>28.958235</td>\n",
       "      <td>1</td>\n",
       "      <td>1</td>\n",
       "      <td>3</td>\n",
       "      <td>2</td>\n",
       "      <td>1</td>\n",
       "      <td>0</td>\n",
       "      <td>1</td>\n",
       "      <td>1</td>\n",
       "      <td>0</td>\n",
       "      <td>...</td>\n",
       "      <td>0</td>\n",
       "      <td>1</td>\n",
       "      <td>1</td>\n",
       "      <td>0</td>\n",
       "      <td>0</td>\n",
       "      <td>0</td>\n",
       "      <td>0</td>\n",
       "      <td>0</td>\n",
       "      <td>0</td>\n",
       "      <td>3</td>\n",
       "    </tr>\n",
       "    <tr>\n",
       "      <th>2</th>\n",
       "      <td>49.888851</td>\n",
       "      <td>1</td>\n",
       "      <td>5</td>\n",
       "      <td>2</td>\n",
       "      <td>1</td>\n",
       "      <td>1</td>\n",
       "      <td>0</td>\n",
       "      <td>1</td>\n",
       "      <td>1</td>\n",
       "      <td>0</td>\n",
       "      <td>...</td>\n",
       "      <td>1</td>\n",
       "      <td>1</td>\n",
       "      <td>1</td>\n",
       "      <td>0</td>\n",
       "      <td>0</td>\n",
       "      <td>0</td>\n",
       "      <td>0</td>\n",
       "      <td>0</td>\n",
       "      <td>0</td>\n",
       "      <td>1</td>\n",
       "    </tr>\n",
       "    <tr>\n",
       "      <th>3</th>\n",
       "      <td>50.356217</td>\n",
       "      <td>3</td>\n",
       "      <td>1</td>\n",
       "      <td>2</td>\n",
       "      <td>2</td>\n",
       "      <td>1</td>\n",
       "      <td>0</td>\n",
       "      <td>1</td>\n",
       "      <td>1</td>\n",
       "      <td>0</td>\n",
       "      <td>...</td>\n",
       "      <td>1</td>\n",
       "      <td>1</td>\n",
       "      <td>1</td>\n",
       "      <td>0</td>\n",
       "      <td>0</td>\n",
       "      <td>0</td>\n",
       "      <td>0</td>\n",
       "      <td>0</td>\n",
       "      <td>1</td>\n",
       "      <td>0</td>\n",
       "    </tr>\n",
       "    <tr>\n",
       "      <th>4</th>\n",
       "      <td>29.005870</td>\n",
       "      <td>1</td>\n",
       "      <td>1</td>\n",
       "      <td>3</td>\n",
       "      <td>1</td>\n",
       "      <td>1</td>\n",
       "      <td>0</td>\n",
       "      <td>1</td>\n",
       "      <td>1</td>\n",
       "      <td>0</td>\n",
       "      <td>...</td>\n",
       "      <td>0</td>\n",
       "      <td>1</td>\n",
       "      <td>1</td>\n",
       "      <td>0</td>\n",
       "      <td>0</td>\n",
       "      <td>0</td>\n",
       "      <td>0</td>\n",
       "      <td>0</td>\n",
       "      <td>0</td>\n",
       "      <td>3</td>\n",
       "    </tr>\n",
       "    <tr>\n",
       "      <th>...</th>\n",
       "      <td>...</td>\n",
       "      <td>...</td>\n",
       "      <td>...</td>\n",
       "      <td>...</td>\n",
       "      <td>...</td>\n",
       "      <td>...</td>\n",
       "      <td>...</td>\n",
       "      <td>...</td>\n",
       "      <td>...</td>\n",
       "      <td>...</td>\n",
       "      <td>...</td>\n",
       "      <td>...</td>\n",
       "      <td>...</td>\n",
       "      <td>...</td>\n",
       "      <td>...</td>\n",
       "      <td>...</td>\n",
       "      <td>...</td>\n",
       "      <td>...</td>\n",
       "      <td>...</td>\n",
       "      <td>...</td>\n",
       "      <td>...</td>\n",
       "    </tr>\n",
       "    <tr>\n",
       "      <th>295</th>\n",
       "      <td>54.741908</td>\n",
       "      <td>1</td>\n",
       "      <td>5</td>\n",
       "      <td>3</td>\n",
       "      <td>0</td>\n",
       "      <td>1</td>\n",
       "      <td>1</td>\n",
       "      <td>1</td>\n",
       "      <td>1</td>\n",
       "      <td>0</td>\n",
       "      <td>...</td>\n",
       "      <td>0</td>\n",
       "      <td>1</td>\n",
       "      <td>1</td>\n",
       "      <td>0</td>\n",
       "      <td>0</td>\n",
       "      <td>0</td>\n",
       "      <td>0</td>\n",
       "      <td>0</td>\n",
       "      <td>1</td>\n",
       "      <td>1</td>\n",
       "    </tr>\n",
       "    <tr>\n",
       "      <th>296</th>\n",
       "      <td>35.025700</td>\n",
       "      <td>2</td>\n",
       "      <td>1</td>\n",
       "      <td>2</td>\n",
       "      <td>0</td>\n",
       "      <td>1</td>\n",
       "      <td>0</td>\n",
       "      <td>1</td>\n",
       "      <td>1</td>\n",
       "      <td>0</td>\n",
       "      <td>...</td>\n",
       "      <td>1</td>\n",
       "      <td>1</td>\n",
       "      <td>1</td>\n",
       "      <td>0</td>\n",
       "      <td>0</td>\n",
       "      <td>0</td>\n",
       "      <td>0</td>\n",
       "      <td>0</td>\n",
       "      <td>0</td>\n",
       "      <td>0</td>\n",
       "    </tr>\n",
       "    <tr>\n",
       "      <th>297</th>\n",
       "      <td>50.638470</td>\n",
       "      <td>1</td>\n",
       "      <td>5</td>\n",
       "      <td>2</td>\n",
       "      <td>2</td>\n",
       "      <td>1</td>\n",
       "      <td>1</td>\n",
       "      <td>1</td>\n",
       "      <td>1</td>\n",
       "      <td>0</td>\n",
       "      <td>...</td>\n",
       "      <td>2</td>\n",
       "      <td>1</td>\n",
       "      <td>1</td>\n",
       "      <td>0</td>\n",
       "      <td>0</td>\n",
       "      <td>0</td>\n",
       "      <td>0</td>\n",
       "      <td>0</td>\n",
       "      <td>1</td>\n",
       "      <td>1</td>\n",
       "    </tr>\n",
       "    <tr>\n",
       "      <th>298</th>\n",
       "      <td>19.592787</td>\n",
       "      <td>1</td>\n",
       "      <td>3</td>\n",
       "      <td>2</td>\n",
       "      <td>2</td>\n",
       "      <td>1</td>\n",
       "      <td>0</td>\n",
       "      <td>1</td>\n",
       "      <td>1</td>\n",
       "      <td>0</td>\n",
       "      <td>...</td>\n",
       "      <td>0</td>\n",
       "      <td>1</td>\n",
       "      <td>1</td>\n",
       "      <td>0</td>\n",
       "      <td>0</td>\n",
       "      <td>0</td>\n",
       "      <td>0</td>\n",
       "      <td>0</td>\n",
       "      <td>0</td>\n",
       "      <td>3</td>\n",
       "    </tr>\n",
       "    <tr>\n",
       "      <th>299</th>\n",
       "      <td>25.026402</td>\n",
       "      <td>2</td>\n",
       "      <td>1</td>\n",
       "      <td>2</td>\n",
       "      <td>1</td>\n",
       "      <td>1</td>\n",
       "      <td>0</td>\n",
       "      <td>1</td>\n",
       "      <td>1</td>\n",
       "      <td>0</td>\n",
       "      <td>...</td>\n",
       "      <td>0</td>\n",
       "      <td>1</td>\n",
       "      <td>1</td>\n",
       "      <td>0</td>\n",
       "      <td>0</td>\n",
       "      <td>0</td>\n",
       "      <td>0</td>\n",
       "      <td>0</td>\n",
       "      <td>1</td>\n",
       "      <td>0</td>\n",
       "    </tr>\n",
       "  </tbody>\n",
       "</table>\n",
       "<p>300 rows × 22 columns</p>\n",
       "</div>"
      ],
      "text/plain": [
       "           Age  Duration  Frequency  Intensity  Visual  Nausea  Vomit  \\\n",
       "0    38.376574         1          2          3       2       1      0   \n",
       "1    28.958235         1          1          3       2       1      0   \n",
       "2    49.888851         1          5          2       1       1      0   \n",
       "3    50.356217         3          1          2       2       1      0   \n",
       "4    29.005870         1          1          3       1       1      0   \n",
       "..         ...       ...        ...        ...     ...     ...    ...   \n",
       "295  54.741908         1          5          3       0       1      1   \n",
       "296  35.025700         2          1          2       0       1      0   \n",
       "297  50.638470         1          5          2       2       1      1   \n",
       "298  19.592787         1          3          2       2       1      0   \n",
       "299  25.026402         2          1          2       1       1      0   \n",
       "\n",
       "     Location  Character  Dysphasia  ...  Sensory  Phonophobia  Photophobia  \\\n",
       "0           1          1          0  ...        0            1            1   \n",
       "1           1          1          0  ...        0            1            1   \n",
       "2           1          1          0  ...        1            1            1   \n",
       "3           1          1          0  ...        1            1            1   \n",
       "4           1          1          0  ...        0            1            1   \n",
       "..        ...        ...        ...  ...      ...          ...          ...   \n",
       "295         1          1          0  ...        0            1            1   \n",
       "296         1          1          0  ...        1            1            1   \n",
       "297         1          1          0  ...        2            1            1   \n",
       "298         1          1          0  ...        0            1            1   \n",
       "299         1          1          0  ...        0            1            1   \n",
       "\n",
       "     Hypoacusis  Diplopia  Defect  Conscience  Paresthesia  DPF  Target  \n",
       "0             0         0       0           0            0    0       2  \n",
       "1             0         0       0           0            0    0       3  \n",
       "2             0         0       0           0            0    0       1  \n",
       "3             0         0       0           0            0    1       0  \n",
       "4             0         0       0           0            0    0       3  \n",
       "..          ...       ...     ...         ...          ...  ...     ...  \n",
       "295           0         0       0           0            0    1       1  \n",
       "296           0         0       0           0            0    0       0  \n",
       "297           0         0       0           0            0    1       1  \n",
       "298           0         0       0           0            0    0       3  \n",
       "299           0         0       0           0            0    1       0  \n",
       "\n",
       "[300 rows x 22 columns]"
      ]
     },
     "execution_count": 112,
     "metadata": {},
     "output_type": "execute_result"
    }
   ],
   "source": [
    "Tabddpm_syn_data"
   ]
  },
  {
   "cell_type": "code",
   "execution_count": 113,
   "id": "1473b0cf-0465-4317-9534-cd25a5d7f211",
   "metadata": {},
   "outputs": [
    {
     "name": "stdout",
     "output_type": "stream",
     "text": [
      "The number of data points repeated in the synthetic data are 0.013333333333333334\n"
     ]
    },
    {
     "data": {
      "text/html": [
       "<div>\n",
       "<style scoped>\n",
       "    .dataframe tbody tr th:only-of-type {\n",
       "        vertical-align: middle;\n",
       "    }\n",
       "\n",
       "    .dataframe tbody tr th {\n",
       "        vertical-align: top;\n",
       "    }\n",
       "\n",
       "    .dataframe thead th {\n",
       "        text-align: right;\n",
       "    }\n",
       "</style>\n",
       "<table border=\"1\" class=\"dataframe\">\n",
       "  <thead>\n",
       "    <tr style=\"text-align: right;\">\n",
       "      <th></th>\n",
       "      <th>Age</th>\n",
       "      <th>Duration</th>\n",
       "      <th>Frequency</th>\n",
       "      <th>Intensity</th>\n",
       "      <th>Visual</th>\n",
       "      <th>Nausea</th>\n",
       "      <th>Vomit</th>\n",
       "      <th>Location</th>\n",
       "      <th>Character</th>\n",
       "      <th>Dysphasia</th>\n",
       "      <th>...</th>\n",
       "      <th>Tinnitus</th>\n",
       "      <th>Sensory</th>\n",
       "      <th>Phonophobia</th>\n",
       "      <th>Photophobia</th>\n",
       "      <th>Hypoacusis</th>\n",
       "      <th>Diplopia</th>\n",
       "      <th>Defect</th>\n",
       "      <th>Conscience</th>\n",
       "      <th>Paresthesia</th>\n",
       "      <th>DPF</th>\n",
       "    </tr>\n",
       "  </thead>\n",
       "  <tbody>\n",
       "    <tr>\n",
       "      <th>8</th>\n",
       "      <td>15.0</td>\n",
       "      <td>2.0</td>\n",
       "      <td>2.0</td>\n",
       "      <td>2.0</td>\n",
       "      <td>1.0</td>\n",
       "      <td>1.0</td>\n",
       "      <td>0.0</td>\n",
       "      <td>1.0</td>\n",
       "      <td>1.0</td>\n",
       "      <td>0.0</td>\n",
       "      <td>...</td>\n",
       "      <td>0.0</td>\n",
       "      <td>1.0</td>\n",
       "      <td>1.0</td>\n",
       "      <td>1.0</td>\n",
       "      <td>0.0</td>\n",
       "      <td>0.0</td>\n",
       "      <td>0.0</td>\n",
       "      <td>0.0</td>\n",
       "      <td>0.0</td>\n",
       "      <td>0.0</td>\n",
       "    </tr>\n",
       "    <tr>\n",
       "      <th>81</th>\n",
       "      <td>69.0</td>\n",
       "      <td>1.0</td>\n",
       "      <td>5.0</td>\n",
       "      <td>3.0</td>\n",
       "      <td>1.0</td>\n",
       "      <td>1.0</td>\n",
       "      <td>0.0</td>\n",
       "      <td>1.0</td>\n",
       "      <td>1.0</td>\n",
       "      <td>0.0</td>\n",
       "      <td>...</td>\n",
       "      <td>0.0</td>\n",
       "      <td>2.0</td>\n",
       "      <td>1.0</td>\n",
       "      <td>1.0</td>\n",
       "      <td>0.0</td>\n",
       "      <td>0.0</td>\n",
       "      <td>0.0</td>\n",
       "      <td>0.0</td>\n",
       "      <td>0.0</td>\n",
       "      <td>1.0</td>\n",
       "    </tr>\n",
       "    <tr>\n",
       "      <th>111</th>\n",
       "      <td>15.0</td>\n",
       "      <td>2.0</td>\n",
       "      <td>2.0</td>\n",
       "      <td>3.0</td>\n",
       "      <td>1.0</td>\n",
       "      <td>1.0</td>\n",
       "      <td>0.0</td>\n",
       "      <td>1.0</td>\n",
       "      <td>1.0</td>\n",
       "      <td>0.0</td>\n",
       "      <td>...</td>\n",
       "      <td>0.0</td>\n",
       "      <td>0.0</td>\n",
       "      <td>1.0</td>\n",
       "      <td>1.0</td>\n",
       "      <td>0.0</td>\n",
       "      <td>0.0</td>\n",
       "      <td>0.0</td>\n",
       "      <td>0.0</td>\n",
       "      <td>0.0</td>\n",
       "      <td>0.0</td>\n",
       "    </tr>\n",
       "    <tr>\n",
       "      <th>215</th>\n",
       "      <td>15.0</td>\n",
       "      <td>2.0</td>\n",
       "      <td>2.0</td>\n",
       "      <td>2.0</td>\n",
       "      <td>1.0</td>\n",
       "      <td>1.0</td>\n",
       "      <td>0.0</td>\n",
       "      <td>1.0</td>\n",
       "      <td>1.0</td>\n",
       "      <td>0.0</td>\n",
       "      <td>...</td>\n",
       "      <td>0.0</td>\n",
       "      <td>1.0</td>\n",
       "      <td>1.0</td>\n",
       "      <td>1.0</td>\n",
       "      <td>0.0</td>\n",
       "      <td>0.0</td>\n",
       "      <td>0.0</td>\n",
       "      <td>0.0</td>\n",
       "      <td>0.0</td>\n",
       "      <td>0.0</td>\n",
       "    </tr>\n",
       "  </tbody>\n",
       "</table>\n",
       "<p>4 rows × 21 columns</p>\n",
       "</div>"
      ],
      "text/plain": [
       "      Age  Duration  Frequency  Intensity  Visual  Nausea  Vomit  Location  \\\n",
       "8    15.0       2.0        2.0        2.0     1.0     1.0    0.0       1.0   \n",
       "81   69.0       1.0        5.0        3.0     1.0     1.0    0.0       1.0   \n",
       "111  15.0       2.0        2.0        3.0     1.0     1.0    0.0       1.0   \n",
       "215  15.0       2.0        2.0        2.0     1.0     1.0    0.0       1.0   \n",
       "\n",
       "     Character  Dysphasia  ...  Tinnitus  Sensory  Phonophobia  Photophobia  \\\n",
       "8          1.0        0.0  ...       0.0      1.0          1.0          1.0   \n",
       "81         1.0        0.0  ...       0.0      2.0          1.0          1.0   \n",
       "111        1.0        0.0  ...       0.0      0.0          1.0          1.0   \n",
       "215        1.0        0.0  ...       0.0      1.0          1.0          1.0   \n",
       "\n",
       "     Hypoacusis  Diplopia  Defect  Conscience  Paresthesia  DPF  \n",
       "8           0.0       0.0     0.0         0.0          0.0  0.0  \n",
       "81          0.0       0.0     0.0         0.0          0.0  1.0  \n",
       "111         0.0       0.0     0.0         0.0          0.0  0.0  \n",
       "215         0.0       0.0     0.0         0.0          0.0  0.0  \n",
       "\n",
       "[4 rows x 21 columns]"
      ]
     },
     "execution_count": 113,
     "metadata": {},
     "output_type": "execute_result"
    }
   ],
   "source": [
    "exact_match_score(original_df,Tabddpm_syn_data)"
   ]
  },
  {
   "cell_type": "code",
   "execution_count": 114,
   "id": "aaaf891e-318d-461d-b4a5-852a074238c5",
   "metadata": {},
   "outputs": [
    {
     "data": {
      "text/plain": [
       "2"
      ]
     },
     "execution_count": 114,
     "metadata": {},
     "output_type": "execute_result"
    }
   ],
   "source": [
    "len(Tabddpm_syn_data[Tabddpm_syn_data.duplicated(keep=False)])"
   ]
  },
  {
   "cell_type": "markdown",
   "id": "25647d8a-6fa4-47e7-a242-7a169a49548e",
   "metadata": {},
   "source": [
    "### Train test split on synthetic data"
   ]
  },
  {
   "cell_type": "code",
   "execution_count": 115,
   "id": "6be01f99-b211-4b80-8867-6781d64a9363",
   "metadata": {},
   "outputs": [],
   "source": [
    "syn_train_features, syn_test_features, syn_train_labels, syn_test_labels = train_test_split(np.array(Tabddpm_syn_data.drop([\"Target\"],axis=1)), np.array(Tabddpm_syn_data[\"Target\"]), test_size = 0.25, random_state = 42)"
   ]
  },
  {
   "cell_type": "markdown",
   "id": "a001e553-7c4d-4936-91a6-77ece7931819",
   "metadata": {},
   "source": [
    "### Gradient boosting classifier on Tabddpm generated synthetic training data  (Model-2)"
   ]
  },
  {
   "cell_type": "code",
   "execution_count": 116,
   "id": "e712d8ee-f1b6-4c22-bc46-452e389f622a",
   "metadata": {
    "scrolled": true
   },
   "outputs": [],
   "source": [
    "from sklearn.ensemble import GradientBoostingClassifier\n",
    "tabddpm_model_2 = GradientBoostingClassifier(n_estimators=20, learning_rate=0.5, max_features=2, max_depth=2, random_state=42)\n"
   ]
  },
  {
   "cell_type": "markdown",
   "id": "1ead2026-8823-443f-9862-546d4aae8c81",
   "metadata": {},
   "source": [
    "### 5 Fold Cross Validation"
   ]
  },
  {
   "cell_type": "code",
   "execution_count": 117,
   "id": "2bad8949-01ca-4a02-aced-23da127057a9",
   "metadata": {},
   "outputs": [
    {
     "name": "stdout",
     "output_type": "stream",
     "text": [
      "[0.91111111 0.95555556 0.95555556 0.97777778 0.95555556]\n",
      "Avg : 0.9511111111111111\n"
     ]
    }
   ],
   "source": [
    "score_lr=cross_val_score(tabddpm_model_2, syn_train_features, syn_train_labels,cv=5)\n",
    "print(score_lr)\n",
    "print(\"Avg :\",np.average(score_lr))\n"
   ]
  },
  {
   "cell_type": "code",
   "execution_count": 118,
   "id": "11190d70-ebee-446d-b421-dd5d689185d5",
   "metadata": {},
   "outputs": [
    {
     "data": {
      "text/html": [
       "<style>#sk-container-id-5 {color: black;background-color: white;}#sk-container-id-5 pre{padding: 0;}#sk-container-id-5 div.sk-toggleable {background-color: white;}#sk-container-id-5 label.sk-toggleable__label {cursor: pointer;display: block;width: 100%;margin-bottom: 0;padding: 0.3em;box-sizing: border-box;text-align: center;}#sk-container-id-5 label.sk-toggleable__label-arrow:before {content: \"▸\";float: left;margin-right: 0.25em;color: #696969;}#sk-container-id-5 label.sk-toggleable__label-arrow:hover:before {color: black;}#sk-container-id-5 div.sk-estimator:hover label.sk-toggleable__label-arrow:before {color: black;}#sk-container-id-5 div.sk-toggleable__content {max-height: 0;max-width: 0;overflow: hidden;text-align: left;background-color: #f0f8ff;}#sk-container-id-5 div.sk-toggleable__content pre {margin: 0.2em;color: black;border-radius: 0.25em;background-color: #f0f8ff;}#sk-container-id-5 input.sk-toggleable__control:checked~div.sk-toggleable__content {max-height: 200px;max-width: 100%;overflow: auto;}#sk-container-id-5 input.sk-toggleable__control:checked~label.sk-toggleable__label-arrow:before {content: \"▾\";}#sk-container-id-5 div.sk-estimator input.sk-toggleable__control:checked~label.sk-toggleable__label {background-color: #d4ebff;}#sk-container-id-5 div.sk-label input.sk-toggleable__control:checked~label.sk-toggleable__label {background-color: #d4ebff;}#sk-container-id-5 input.sk-hidden--visually {border: 0;clip: rect(1px 1px 1px 1px);clip: rect(1px, 1px, 1px, 1px);height: 1px;margin: -1px;overflow: hidden;padding: 0;position: absolute;width: 1px;}#sk-container-id-5 div.sk-estimator {font-family: monospace;background-color: #f0f8ff;border: 1px dotted black;border-radius: 0.25em;box-sizing: border-box;margin-bottom: 0.5em;}#sk-container-id-5 div.sk-estimator:hover {background-color: #d4ebff;}#sk-container-id-5 div.sk-parallel-item::after {content: \"\";width: 100%;border-bottom: 1px solid gray;flex-grow: 1;}#sk-container-id-5 div.sk-label:hover label.sk-toggleable__label {background-color: #d4ebff;}#sk-container-id-5 div.sk-serial::before {content: \"\";position: absolute;border-left: 1px solid gray;box-sizing: border-box;top: 0;bottom: 0;left: 50%;z-index: 0;}#sk-container-id-5 div.sk-serial {display: flex;flex-direction: column;align-items: center;background-color: white;padding-right: 0.2em;padding-left: 0.2em;position: relative;}#sk-container-id-5 div.sk-item {position: relative;z-index: 1;}#sk-container-id-5 div.sk-parallel {display: flex;align-items: stretch;justify-content: center;background-color: white;position: relative;}#sk-container-id-5 div.sk-item::before, #sk-container-id-5 div.sk-parallel-item::before {content: \"\";position: absolute;border-left: 1px solid gray;box-sizing: border-box;top: 0;bottom: 0;left: 50%;z-index: -1;}#sk-container-id-5 div.sk-parallel-item {display: flex;flex-direction: column;z-index: 1;position: relative;background-color: white;}#sk-container-id-5 div.sk-parallel-item:first-child::after {align-self: flex-end;width: 50%;}#sk-container-id-5 div.sk-parallel-item:last-child::after {align-self: flex-start;width: 50%;}#sk-container-id-5 div.sk-parallel-item:only-child::after {width: 0;}#sk-container-id-5 div.sk-dashed-wrapped {border: 1px dashed gray;margin: 0 0.4em 0.5em 0.4em;box-sizing: border-box;padding-bottom: 0.4em;background-color: white;}#sk-container-id-5 div.sk-label label {font-family: monospace;font-weight: bold;display: inline-block;line-height: 1.2em;}#sk-container-id-5 div.sk-label-container {text-align: center;}#sk-container-id-5 div.sk-container {/* jupyter's `normalize.less` sets `[hidden] { display: none; }` but bootstrap.min.css set `[hidden] { display: none !important; }` so we also need the `!important` here to be able to override the default hidden behavior on the sphinx rendered scikit-learn.org. See: https://github.com/scikit-learn/scikit-learn/issues/21755 */display: inline-block !important;position: relative;}#sk-container-id-5 div.sk-text-repr-fallback {display: none;}</style><div id=\"sk-container-id-5\" class=\"sk-top-container\"><div class=\"sk-text-repr-fallback\"><pre>GradientBoostingClassifier(learning_rate=0.5, max_depth=2, max_features=2,\n",
       "                           n_estimators=20, random_state=42)</pre><b>In a Jupyter environment, please rerun this cell to show the HTML representation or trust the notebook. <br />On GitHub, the HTML representation is unable to render, please try loading this page with nbviewer.org.</b></div><div class=\"sk-container\" hidden><div class=\"sk-item\"><div class=\"sk-estimator sk-toggleable\"><input class=\"sk-toggleable__control sk-hidden--visually\" id=\"sk-estimator-id-5\" type=\"checkbox\" checked><label for=\"sk-estimator-id-5\" class=\"sk-toggleable__label sk-toggleable__label-arrow\">GradientBoostingClassifier</label><div class=\"sk-toggleable__content\"><pre>GradientBoostingClassifier(learning_rate=0.5, max_depth=2, max_features=2,\n",
       "                           n_estimators=20, random_state=42)</pre></div></div></div></div></div>"
      ],
      "text/plain": [
       "GradientBoostingClassifier(learning_rate=0.5, max_depth=2, max_features=2,\n",
       "                           n_estimators=20, random_state=42)"
      ]
     },
     "execution_count": 118,
     "metadata": {},
     "output_type": "execute_result"
    }
   ],
   "source": [
    "tabddpm_model_2.fit(syn_train_features,syn_train_labels )"
   ]
  },
  {
   "cell_type": "markdown",
   "id": "22b59440-d8f4-43f1-aefb-133ca14ca02b",
   "metadata": {},
   "source": [
    "### Case-1: predicting validation data using Model-1\n"
   ]
  },
  {
   "cell_type": "code",
   "execution_count": 119,
   "id": "8e4f07e9-f73b-4e7e-bb0d-a465003930cf",
   "metadata": {},
   "outputs": [
    {
     "name": "stdout",
     "output_type": "stream",
     "text": [
      "F1_Score of cluster 0 is 0.875\n",
      "Geometric mean of cluster 0 is 0.8754275592730114\n",
      "Correctly predicted data points in cluster 0 is 90.32258064516128%\n",
      "\n",
      "\n",
      "F1_Score of cluster 1 is 0.9824561403508771\n",
      "Geometric mean of cluster 1 is 0.982607368881035\n",
      "Correctly predicted data points in cluster 1 is 96.55172413793103%\n",
      "\n",
      "\n",
      "F1_Score of cluster 2 is 0.9142857142857143\n",
      "Geometric mean of cluster 2 is 0.9146591207600471\n",
      "Correctly predicted data points in cluster 2 is 88.88888888888889%\n",
      "\n",
      "\n",
      "F1_Score of cluster 3 is 0.9090909090909091\n",
      "Geometric mean of cluster 3 is 0.9090909090909091\n",
      "Correctly predicted data points in cluster 3 is 90.9090909090909%\n",
      "\n",
      "\n",
      "weigted average F1_Score of all clusters is 0.9207337092731829\n",
      "weighted average Geometric mean of all clusters is 0.9209773220869419\n",
      "weighted average of Correctly predicted data points in all clusters is 91.99999999999999%\n"
     ]
    }
   ],
   "source": [
    "x=model_1.predict(np.array(test_features))\n",
    "cluster_wise_F1score(list(test_labels),list(x))"
   ]
  },
  {
   "cell_type": "markdown",
   "id": "b6a64648-429f-48e9-a3ee-35c05e842433",
   "metadata": {},
   "source": [
    "### Case-2: Predicting validation data using Model-2\n"
   ]
  },
  {
   "cell_type": "code",
   "execution_count": 120,
   "id": "afd1dae3-5a44-4bc8-a262-55025b7f46d9",
   "metadata": {},
   "outputs": [
    {
     "name": "stdout",
     "output_type": "stream",
     "text": [
      "F1_Score of cluster 0 is 0.8923076923076922\n",
      "Geometric mean of cluster 0 is 0.8932596002688612\n",
      "Correctly predicted data points in cluster 0 is 93.54838709677419%\n",
      "\n",
      "\n",
      "F1_Score of cluster 1 is 1.0\n",
      "Geometric mean of cluster 1 is 1.0\n",
      "Correctly predicted data points in cluster 1 is 100.0%\n",
      "\n",
      "\n",
      "F1_Score of cluster 2 is 0.9142857142857143\n",
      "Geometric mean of cluster 2 is 0.9146591207600471\n",
      "Correctly predicted data points in cluster 2 is 88.88888888888889%\n",
      "\n",
      "\n",
      "F1_Score of cluster 3 is 0.9047619047619048\n",
      "Geometric mean of cluster 3 is 0.9057894597833127\n",
      "Correctly predicted data points in cluster 3 is 86.36363636363636%\n",
      "\n",
      "\n",
      "weigted average F1_Score of all clusters is 0.9302344322344321\n",
      "weighted average Geometric mean of all clusters is 0.9308227989724842\n",
      "weighted average of Correctly predicted data points in all clusters is 93.0%\n"
     ]
    }
   ],
   "source": [
    "y=tabddpm_model_2.predict(np.array(test_features))\n",
    "\n",
    "cluster_wise_F1score(list(test_labels),list(y))"
   ]
  },
  {
   "cell_type": "markdown",
   "id": "6481edf3-2d6a-4452-8486-d3395ee04b6e",
   "metadata": {},
   "source": [
    "### Comparing predicted values from Case-1 & Case-2"
   ]
  },
  {
   "cell_type": "code",
   "execution_count": 121,
   "id": "17602feb-69aa-4c67-b1dd-29ab9520fdb3",
   "metadata": {
    "tags": []
   },
   "outputs": [
    {
     "name": "stdout",
     "output_type": "stream",
     "text": [
      "F1_Score of cluster 0 is 0.9253731343283583\n",
      "Geometric mean of cluster 0 is 0.9254762227411248\n",
      "Correctly predicted data points in cluster 0 is 93.93939393939394%\n",
      "\n",
      "\n",
      "F1_Score of cluster 1 is 0.9824561403508771\n",
      "Geometric mean of cluster 1 is 0.982607368881035\n",
      "Correctly predicted data points in cluster 1 is 100.0%\n",
      "\n",
      "\n",
      "F1_Score of cluster 2 is 0.9411764705882353\n",
      "Geometric mean of cluster 2 is 0.9411764705882353\n",
      "Correctly predicted data points in cluster 2 is 94.11764705882352%\n",
      "\n",
      "\n",
      "F1_Score of cluster 3 is 0.9523809523809523\n",
      "Geometric mean of cluster 3 is 0.9534625892455924\n",
      "Correctly predicted data points in cluster 3 is 90.9090909090909%\n",
      "\n",
      "\n",
      "weigted average F1_Score of all clusters is 0.9499846631504134\n",
      "weighted average Geometric mean of all clusters is 0.9502989864252913\n",
      "weighted average of Correctly predicted data points in all clusters is 95.0%\n"
     ]
    }
   ],
   "source": [
    "cluster_wise_F1score(list(x),list(y))"
   ]
  },
  {
   "cell_type": "markdown",
   "id": "c112bb25-b75c-4f99-80ff-622095d82b0c",
   "metadata": {},
   "source": [
    "### UMAP on synthetic data"
   ]
  },
  {
   "cell_type": "code",
   "execution_count": 122,
   "id": "f6a3289c-01ac-4263-b2d7-f5527c1de3f6",
   "metadata": {},
   "outputs": [
    {
     "data": {
      "image/png": "[encoded data removed]",
      "text/plain": [
       "<Figure size 500x500 with 1 Axes>"
      ]
     },
     "metadata": {},
     "output_type": "display_data"
    }
   ],
   "source": [
    "from fdc.fdc import feature_clustering, canberra_modified, Clustering, FDC\n",
    "np.random.seed(42)\n",
    "syn_emb_low=feature_clustering(25,0.001,'euclidean',Tabddpm_syn_data.drop([\"Target\"],axis=1),True)"
   ]
  },
  {
   "cell_type": "markdown",
   "id": "925f1b27-33e5-43ef-8f45-f5496dca1d52",
   "metadata": {},
   "source": [
    "### FDC on synthetic data"
   ]
  },
  {
   "cell_type": "code",
   "execution_count": 123,
   "id": "93c67f5f-8ff2-440a-a0e9-a607b7fedf62",
   "metadata": {},
   "outputs": [
    {
     "name": "stdout",
     "output_type": "stream",
     "text": [
      "FDC.normalize (init): 0.00006 / 0.000s\n",
      "FDC.normalize (clustering CONT): 0.97924 / 0.979s\n",
      "FDC.normalize (clustering ORD): 1.71860 / 2.698s\n",
      "FDC.normalize (clustering NOM): 2.27004 / 4.968s\n",
      "FDC.normalize (concat): 0.00007 / 4.968s\n",
      "FDC.normalize (umap 5 -> 2): 0.99229 / 5.960s\n",
      "FDC.normalize (array -> DataFrame): 0.00030 / 5.961s\n"
     ]
    },
    {
     "data": {
      "image/png": "[encoded data removed]",
      "text/plain": [
       "<Figure size 500x500 with 1 Axes>"
      ]
     },
     "metadata": {},
     "output_type": "display_data"
    },
    {
     "name": "stdout",
     "output_type": "stream",
     "text": [
      "FDC.normalize (plotting): 0.42415 / 6.385s\n",
      "FDC.normalize (array -> DataFrame): 0.00019 / 6.385s\n",
      "FDC.normalize (total): 0.00001 / 6.385s\n"
     ]
    }
   ],
   "source": [
    "from fdc.fdc import feature_clustering, canberra_modified, Clustering, FDC\n",
    "\n",
    "np.random.seed(42)\n",
    "fdc = FDC(clustering_cont=Clustering('euclidean',25,0.01)\n",
    "          , clustering_ord=Clustering(canberra_modified,25,0.01)\n",
    "          , clustering_nom=Clustering('hamming',25,0.01)\n",
    "          , visual=True\n",
    "          , use_pandas_output=True\n",
    "          , with_2d_embedding=True\n",
    "          )\n",
    "\n",
    "fdc.selectFeatures(continueous=cont_list, nomial=nom_list, ordinal=ord_list)\n",
    "\n",
    "FDC_emb_high,FDC_emb_low = fdc.normalize(Tabddpm_syn_data.drop([\"Target\"],axis=1),cont_list=cont_list, nom_list=nom_list, ord_list=ord_list,\n",
    "                  with_2d_embedding=True,\n",
    "                  visual=True)"
   ]
  },
  {
   "cell_type": "code",
   "execution_count": 124,
   "id": "6e88433f-cd3b-4983-abc8-c7f7e0ecbacf",
   "metadata": {},
   "outputs": [
    {
     "data": {
      "image/png": "[encoded data removed]",
      "text/plain": [
       "<Figure size 560.361x500 with 1 Axes>"
      ]
     },
     "metadata": {},
     "output_type": "display_data"
    }
   ],
   "source": [
    "from fdc.clustering import *\n",
    "clustering=Clustering(FDC_emb_low,FDC_emb_low,True)\n",
    "cluster_list,cluster_counts=clustering.K_means(4)"
   ]
  },
  {
   "cell_type": "code",
   "execution_count": 125,
   "id": "ae1a1c83-1cc0-4ab7-b1b7-7244a2882aed",
   "metadata": {},
   "outputs": [
    {
     "data": {
      "text/plain": [
       "array([ 91, 134,  46,  29])"
      ]
     },
     "execution_count": 125,
     "metadata": {},
     "output_type": "execute_result"
    }
   ],
   "source": [
    "cluster_counts"
   ]
  },
  {
   "cell_type": "code",
   "execution_count": null,
   "id": "5c625b28-0f70-4fb0-919b-32d5c680be5d",
   "metadata": {},
   "outputs": [],
   "source": []
  }
 ],
 "metadata": {
  "kernelspec": {
   "display_name": "Python 3 (ipykernel)",
   "language": "python",
   "name": "python3"
  },
  "language_info": {
   "codemirror_mode": {
    "name": "ipython",
    "version": 3
   },
   "file_extension": ".py",
   "mimetype": "text/x-python",
   "name": "python",
   "nbconvert_exporter": "python",
   "pygments_lexer": "ipython3",
   "version": "3.10.7"
  }
 },
 "nbformat": 4,
 "nbformat_minor": 5
}
