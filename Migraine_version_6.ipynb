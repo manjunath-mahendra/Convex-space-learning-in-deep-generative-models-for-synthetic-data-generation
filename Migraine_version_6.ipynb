{
 "cells": [
  {
   "cell_type": "markdown",
   "id": "7a3650ef-2449-4caa-b8ae-b8d77e99cf20",
   "metadata": {
    "tags": []
   },
   "source": [
    "# Supervised synthetic data validation"
   ]
  },
  {
   "cell_type": "markdown",
   "id": "85f5f148-9358-459d-a023-3c3ab9b5bf38",
   "metadata": {},
   "source": [
    "### Importing necessary libraries"
   ]
  },
  {
   "cell_type": "code",
   "execution_count": 1,
   "id": "56b80e0e-b49b-4238-85be-28b96923aeb4",
   "metadata": {
    "tags": []
   },
   "outputs": [
    {
     "name": "stderr",
     "output_type": "stream",
     "text": [
      "2023-05-09 14:10:34.867600: W tensorflow/stream_executor/platform/default/dso_loader.cc:64] Could not load dynamic library 'libcudart.so.11.0'; dlerror: libcudart.so.11.0: cannot open shared object file: No such file or directory\n",
      "2023-05-09 14:10:34.867616: I tensorflow/stream_executor/cuda/cudart_stub.cc:29] Ignore above cudart dlerror if you do not have a GPU set up on your machine.\n"
     ]
    }
   ],
   "source": [
    "import numpy as np\n",
    "from library.generators.NextConvGeN import NextConvGeN\n",
    "from fdc.fdc import feature_clustering, canberra_modified, Clustering, FDC\n",
    "from fdc.clustering import *\n",
    "import pandas as pd"
   ]
  },
  {
   "cell_type": "markdown",
   "id": "01d3d86f-4e08-4be3-bba9-e2f7b9202670",
   "metadata": {},
   "source": [
    "### Importing data"
   ]
  },
  {
   "cell_type": "code",
   "execution_count": 2,
   "id": "53e069b3-8bcc-46b0-852b-2a504e21197e",
   "metadata": {},
   "outputs": [],
   "source": [
    "data=pd.read_csv('preprocessed_migraine_data.csv')"
   ]
  },
  {
   "cell_type": "code",
   "execution_count": 3,
   "id": "e633073d-271c-450a-87f9-a61755e2f011",
   "metadata": {},
   "outputs": [],
   "source": [
    "data.drop(['Unnamed: 0'],axis=1,inplace=True)\n",
    "data=data.rename(columns = {'Type': 'Target'})"
   ]
  },
  {
   "cell_type": "code",
   "execution_count": 4,
   "id": "f6585796-c7c5-4f06-a1f4-5f5aea784e42",
   "metadata": {},
   "outputs": [],
   "source": [
    "np.random.seed(42)\n",
    "data=data.sample(frac=1)"
   ]
  },
  {
   "cell_type": "code",
   "execution_count": 5,
   "id": "daf17014-4a05-4b90-9cc0-a83fdbb478db",
   "metadata": {},
   "outputs": [],
   "source": [
    "values=['Age','Duration','Frequency','Intensity','Visual','Nausea', 'Vomit','Location','Character','Dysphasia', 'Vertigo', 'Tinnitus','Sensory','Phonophobia','Photophobia', 'Hypoacusis', 'Diplopia', 'Defect','Conscience', 'Paresthesia', 'DPF', 'Target']"
   ]
  },
  {
   "cell_type": "code",
   "execution_count": 6,
   "id": "f8f379a7-9a31-4db0-a100-d7e5ab2cda6c",
   "metadata": {},
   "outputs": [
    {
     "data": {
      "text/plain": [
       " 0    247\n",
       " 1     60\n",
       " 2     24\n",
       " 3     20\n",
       " 4     18\n",
       "-1     17\n",
       " 5     14\n",
       "Name: Target, dtype: int64"
      ]
     },
     "execution_count": 6,
     "metadata": {},
     "output_type": "execute_result"
    }
   ],
   "source": [
    "data['Target'].value_counts()"
   ]
  },
  {
   "cell_type": "code",
   "execution_count": 7,
   "id": "95079bee-be40-4807-89da-0570d69c560c",
   "metadata": {},
   "outputs": [],
   "source": [
    "data= data[data['Target']!=-1]"
   ]
  },
  {
   "cell_type": "code",
   "execution_count": 8,
   "id": "f6300ef8-de66-4ac7-81f9-4abeba0e2910",
   "metadata": {},
   "outputs": [],
   "source": [
    "data=data[values]"
   ]
  },
  {
   "cell_type": "code",
   "execution_count": 9,
   "id": "ad7f6a11-b45d-40dc-9127-8a09638a73c9",
   "metadata": {},
   "outputs": [
    {
     "data": {
      "text/plain": [
       "0    247\n",
       "1     60\n",
       "2     24\n",
       "3     20\n",
       "4     18\n",
       "5     14\n",
       "Name: Target, dtype: int64"
      ]
     },
     "execution_count": 9,
     "metadata": {},
     "output_type": "execute_result"
    }
   ],
   "source": [
    "data['Target'].value_counts()"
   ]
  },
  {
   "cell_type": "markdown",
   "id": "ba45aa63-9335-40e5-9904-fb70e7a04fe7",
   "metadata": {},
   "source": [
    "### Train-val split"
   ]
  },
  {
   "cell_type": "code",
   "execution_count": 10,
   "id": "baebcbc7-8504-450b-af5b-aa18b85955b8",
   "metadata": {},
   "outputs": [],
   "source": [
    "# Using Skicit-learn to split data into training and testing sets\n",
    "from sklearn.model_selection import train_test_split\n",
    "# Split the data into training and testing sets\n",
    "train_features, test_features, train_labels, test_labels = train_test_split(np.array(data.drop([\"Target\"],axis=1)), np.array(data['Target']), test_size = 0.25, random_state = 42)"
   ]
  },
  {
   "cell_type": "markdown",
   "id": "50391cb0-eb23-45e8-9d6b-068c1c86c6e7",
   "metadata": {},
   "source": [
    "### Gradient boosting classifier for original training data (Model-1)"
   ]
  },
  {
   "cell_type": "code",
   "execution_count": 11,
   "id": "15750348-21ad-4cdb-b33b-905583a1c314",
   "metadata": {},
   "outputs": [
    {
     "data": {
      "text/html": [
       "<style>#sk-container-id-1 {color: black;background-color: white;}#sk-container-id-1 pre{padding: 0;}#sk-container-id-1 div.sk-toggleable {background-color: white;}#sk-container-id-1 label.sk-toggleable__label {cursor: pointer;display: block;width: 100%;margin-bottom: 0;padding: 0.3em;box-sizing: border-box;text-align: center;}#sk-container-id-1 label.sk-toggleable__label-arrow:before {content: \"▸\";float: left;margin-right: 0.25em;color: #696969;}#sk-container-id-1 label.sk-toggleable__label-arrow:hover:before {color: black;}#sk-container-id-1 div.sk-estimator:hover label.sk-toggleable__label-arrow:before {color: black;}#sk-container-id-1 div.sk-toggleable__content {max-height: 0;max-width: 0;overflow: hidden;text-align: left;background-color: #f0f8ff;}#sk-container-id-1 div.sk-toggleable__content pre {margin: 0.2em;color: black;border-radius: 0.25em;background-color: #f0f8ff;}#sk-container-id-1 input.sk-toggleable__control:checked~div.sk-toggleable__content {max-height: 200px;max-width: 100%;overflow: auto;}#sk-container-id-1 input.sk-toggleable__control:checked~label.sk-toggleable__label-arrow:before {content: \"▾\";}#sk-container-id-1 div.sk-estimator input.sk-toggleable__control:checked~label.sk-toggleable__label {background-color: #d4ebff;}#sk-container-id-1 div.sk-label input.sk-toggleable__control:checked~label.sk-toggleable__label {background-color: #d4ebff;}#sk-container-id-1 input.sk-hidden--visually {border: 0;clip: rect(1px 1px 1px 1px);clip: rect(1px, 1px, 1px, 1px);height: 1px;margin: -1px;overflow: hidden;padding: 0;position: absolute;width: 1px;}#sk-container-id-1 div.sk-estimator {font-family: monospace;background-color: #f0f8ff;border: 1px dotted black;border-radius: 0.25em;box-sizing: border-box;margin-bottom: 0.5em;}#sk-container-id-1 div.sk-estimator:hover {background-color: #d4ebff;}#sk-container-id-1 div.sk-parallel-item::after {content: \"\";width: 100%;border-bottom: 1px solid gray;flex-grow: 1;}#sk-container-id-1 div.sk-label:hover label.sk-toggleable__label {background-color: #d4ebff;}#sk-container-id-1 div.sk-serial::before {content: \"\";position: absolute;border-left: 1px solid gray;box-sizing: border-box;top: 0;bottom: 0;left: 50%;z-index: 0;}#sk-container-id-1 div.sk-serial {display: flex;flex-direction: column;align-items: center;background-color: white;padding-right: 0.2em;padding-left: 0.2em;position: relative;}#sk-container-id-1 div.sk-item {position: relative;z-index: 1;}#sk-container-id-1 div.sk-parallel {display: flex;align-items: stretch;justify-content: center;background-color: white;position: relative;}#sk-container-id-1 div.sk-item::before, #sk-container-id-1 div.sk-parallel-item::before {content: \"\";position: absolute;border-left: 1px solid gray;box-sizing: border-box;top: 0;bottom: 0;left: 50%;z-index: -1;}#sk-container-id-1 div.sk-parallel-item {display: flex;flex-direction: column;z-index: 1;position: relative;background-color: white;}#sk-container-id-1 div.sk-parallel-item:first-child::after {align-self: flex-end;width: 50%;}#sk-container-id-1 div.sk-parallel-item:last-child::after {align-self: flex-start;width: 50%;}#sk-container-id-1 div.sk-parallel-item:only-child::after {width: 0;}#sk-container-id-1 div.sk-dashed-wrapped {border: 1px dashed gray;margin: 0 0.4em 0.5em 0.4em;box-sizing: border-box;padding-bottom: 0.4em;background-color: white;}#sk-container-id-1 div.sk-label label {font-family: monospace;font-weight: bold;display: inline-block;line-height: 1.2em;}#sk-container-id-1 div.sk-label-container {text-align: center;}#sk-container-id-1 div.sk-container {/* jupyter's `normalize.less` sets `[hidden] { display: none; }` but bootstrap.min.css set `[hidden] { display: none !important; }` so we also need the `!important` here to be able to override the default hidden behavior on the sphinx rendered scikit-learn.org. See: https://github.com/scikit-learn/scikit-learn/issues/21755 */display: inline-block !important;position: relative;}#sk-container-id-1 div.sk-text-repr-fallback {display: none;}</style><div id=\"sk-container-id-1\" class=\"sk-top-container\"><div class=\"sk-text-repr-fallback\"><pre>GradientBoostingClassifier(learning_rate=0.5, max_depth=2, max_features=2,\n",
       "                           n_estimators=20, random_state=42)</pre><b>In a Jupyter environment, please rerun this cell to show the HTML representation or trust the notebook. <br />On GitHub, the HTML representation is unable to render, please try loading this page with nbviewer.org.</b></div><div class=\"sk-container\" hidden><div class=\"sk-item\"><div class=\"sk-estimator sk-toggleable\"><input class=\"sk-toggleable__control sk-hidden--visually\" id=\"sk-estimator-id-1\" type=\"checkbox\" checked><label for=\"sk-estimator-id-1\" class=\"sk-toggleable__label sk-toggleable__label-arrow\">GradientBoostingClassifier</label><div class=\"sk-toggleable__content\"><pre>GradientBoostingClassifier(learning_rate=0.5, max_depth=2, max_features=2,\n",
       "                           n_estimators=20, random_state=42)</pre></div></div></div></div></div>"
      ],
      "text/plain": [
       "GradientBoostingClassifier(learning_rate=0.5, max_depth=2, max_features=2,\n",
       "                           n_estimators=20, random_state=42)"
      ]
     },
     "execution_count": 11,
     "metadata": {},
     "output_type": "execute_result"
    }
   ],
   "source": [
    "from sklearn.ensemble import GradientBoostingClassifier\n",
    "np.random.seed(42)\n",
    "model_1 = GradientBoostingClassifier(n_estimators=20, learning_rate=0.5, max_features=2, max_depth=2, random_state=42)\n",
    "model_1.fit(train_features,  train_labels)"
   ]
  },
  {
   "cell_type": "code",
   "execution_count": 12,
   "id": "ca674b70-00a2-4c3b-8f49-1df131007821",
   "metadata": {},
   "outputs": [
    {
     "name": "stdout",
     "output_type": "stream",
     "text": [
      "[0.93103448 0.89655172 0.92982456 0.9122807  0.85964912]\n",
      "Avg : 0.9058681185722929\n"
     ]
    }
   ],
   "source": [
    "from sklearn.model_selection import cross_val_score\n",
    "np.random.seed(42)\n",
    "score_lr=cross_val_score(model_1, train_features, train_labels,cv=5)\n",
    "print(score_lr)\n",
    "print(\"Avg :\",np.average(score_lr))"
   ]
  },
  {
   "cell_type": "markdown",
   "id": "1866bf87-fb4d-424c-b7e7-548c53f04538",
   "metadata": {},
   "source": [
    "### Preparing training data for synthetic data generation"
   ]
  },
  {
   "cell_type": "code",
   "execution_count": 13,
   "id": "4902fa57-8bec-4dd3-8b03-5a54c60ef112",
   "metadata": {},
   "outputs": [],
   "source": [
    "train_features=pd.DataFrame(train_features)"
   ]
  },
  {
   "cell_type": "code",
   "execution_count": 14,
   "id": "322be8ac-b2be-489e-9bb4-884b3e6008f6",
   "metadata": {},
   "outputs": [],
   "source": [
    "train_features['Target']=train_labels"
   ]
  },
  {
   "cell_type": "code",
   "execution_count": 15,
   "id": "b24b7fcc-17ab-4b64-a8e4-56ae2b76f34c",
   "metadata": {},
   "outputs": [],
   "source": [
    "train_features.to_csv('Migraine_training_data(sup).csv',index=False)"
   ]
  },
  {
   "cell_type": "code",
   "execution_count": 16,
   "id": "a0dc1f83-93f1-45af-b955-c83d90809819",
   "metadata": {},
   "outputs": [],
   "source": [
    "hold_out_data=pd.DataFrame(test_features)\n",
    "hold_out_data['Target']=test_labels\n",
    "hold_out_data.columns=values\n",
    "hold_out_data.to_csv('Migraine_hold_out__data(sup).csv',index=False)"
   ]
  },
  {
   "cell_type": "code",
   "execution_count": 17,
   "id": "b10cec94-21fe-424d-8df1-ca202d096453",
   "metadata": {},
   "outputs": [],
   "source": [
    "dicts = {}\n",
    "for i in range(len(values)):\n",
    "        dicts[values[i]]=i\n"
   ]
  },
  {
   "cell_type": "code",
   "execution_count": 18,
   "id": "e5a31ca1-6158-4174-b987-d4cde25ab557",
   "metadata": {},
   "outputs": [],
   "source": [
    "train_features.rename(columns=dicts,inplace=True)\n"
   ]
  },
  {
   "cell_type": "code",
   "execution_count": 19,
   "id": "4af27809-bf33-4c5e-9c95-8a87672bd8ff",
   "metadata": {},
   "outputs": [
    {
     "data": {
      "text/html": [
       "<div>\n",
       "<style scoped>\n",
       "    .dataframe tbody tr th:only-of-type {\n",
       "        vertical-align: middle;\n",
       "    }\n",
       "\n",
       "    .dataframe tbody tr th {\n",
       "        vertical-align: top;\n",
       "    }\n",
       "\n",
       "    .dataframe thead th {\n",
       "        text-align: right;\n",
       "    }\n",
       "</style>\n",
       "<table border=\"1\" class=\"dataframe\">\n",
       "  <thead>\n",
       "    <tr style=\"text-align: right;\">\n",
       "      <th></th>\n",
       "      <th>0</th>\n",
       "      <th>1</th>\n",
       "      <th>2</th>\n",
       "      <th>3</th>\n",
       "      <th>4</th>\n",
       "      <th>5</th>\n",
       "      <th>6</th>\n",
       "      <th>7</th>\n",
       "      <th>8</th>\n",
       "      <th>9</th>\n",
       "      <th>...</th>\n",
       "      <th>12</th>\n",
       "      <th>13</th>\n",
       "      <th>14</th>\n",
       "      <th>15</th>\n",
       "      <th>16</th>\n",
       "      <th>17</th>\n",
       "      <th>18</th>\n",
       "      <th>19</th>\n",
       "      <th>20</th>\n",
       "      <th>21</th>\n",
       "    </tr>\n",
       "  </thead>\n",
       "  <tbody>\n",
       "    <tr>\n",
       "      <th>0</th>\n",
       "      <td>43</td>\n",
       "      <td>3</td>\n",
       "      <td>1</td>\n",
       "      <td>2</td>\n",
       "      <td>2</td>\n",
       "      <td>1</td>\n",
       "      <td>0</td>\n",
       "      <td>1</td>\n",
       "      <td>1</td>\n",
       "      <td>0</td>\n",
       "      <td>...</td>\n",
       "      <td>1</td>\n",
       "      <td>1</td>\n",
       "      <td>1</td>\n",
       "      <td>0</td>\n",
       "      <td>0</td>\n",
       "      <td>0</td>\n",
       "      <td>0</td>\n",
       "      <td>0</td>\n",
       "      <td>0</td>\n",
       "      <td>0</td>\n",
       "    </tr>\n",
       "    <tr>\n",
       "      <th>1</th>\n",
       "      <td>17</td>\n",
       "      <td>3</td>\n",
       "      <td>1</td>\n",
       "      <td>3</td>\n",
       "      <td>3</td>\n",
       "      <td>1</td>\n",
       "      <td>0</td>\n",
       "      <td>1</td>\n",
       "      <td>1</td>\n",
       "      <td>0</td>\n",
       "      <td>...</td>\n",
       "      <td>0</td>\n",
       "      <td>1</td>\n",
       "      <td>1</td>\n",
       "      <td>0</td>\n",
       "      <td>0</td>\n",
       "      <td>0</td>\n",
       "      <td>0</td>\n",
       "      <td>0</td>\n",
       "      <td>1</td>\n",
       "      <td>2</td>\n",
       "    </tr>\n",
       "    <tr>\n",
       "      <th>2</th>\n",
       "      <td>19</td>\n",
       "      <td>2</td>\n",
       "      <td>1</td>\n",
       "      <td>3</td>\n",
       "      <td>1</td>\n",
       "      <td>1</td>\n",
       "      <td>0</td>\n",
       "      <td>1</td>\n",
       "      <td>1</td>\n",
       "      <td>0</td>\n",
       "      <td>...</td>\n",
       "      <td>0</td>\n",
       "      <td>1</td>\n",
       "      <td>1</td>\n",
       "      <td>0</td>\n",
       "      <td>0</td>\n",
       "      <td>0</td>\n",
       "      <td>0</td>\n",
       "      <td>0</td>\n",
       "      <td>0</td>\n",
       "      <td>0</td>\n",
       "    </tr>\n",
       "    <tr>\n",
       "      <th>3</th>\n",
       "      <td>29</td>\n",
       "      <td>2</td>\n",
       "      <td>1</td>\n",
       "      <td>2</td>\n",
       "      <td>1</td>\n",
       "      <td>1</td>\n",
       "      <td>0</td>\n",
       "      <td>1</td>\n",
       "      <td>1</td>\n",
       "      <td>0</td>\n",
       "      <td>...</td>\n",
       "      <td>1</td>\n",
       "      <td>1</td>\n",
       "      <td>1</td>\n",
       "      <td>0</td>\n",
       "      <td>0</td>\n",
       "      <td>0</td>\n",
       "      <td>0</td>\n",
       "      <td>0</td>\n",
       "      <td>0</td>\n",
       "      <td>0</td>\n",
       "    </tr>\n",
       "    <tr>\n",
       "      <th>4</th>\n",
       "      <td>17</td>\n",
       "      <td>2</td>\n",
       "      <td>5</td>\n",
       "      <td>3</td>\n",
       "      <td>0</td>\n",
       "      <td>1</td>\n",
       "      <td>1</td>\n",
       "      <td>1</td>\n",
       "      <td>1</td>\n",
       "      <td>0</td>\n",
       "      <td>...</td>\n",
       "      <td>0</td>\n",
       "      <td>1</td>\n",
       "      <td>1</td>\n",
       "      <td>0</td>\n",
       "      <td>0</td>\n",
       "      <td>0</td>\n",
       "      <td>0</td>\n",
       "      <td>0</td>\n",
       "      <td>1</td>\n",
       "      <td>1</td>\n",
       "    </tr>\n",
       "    <tr>\n",
       "      <th>...</th>\n",
       "      <td>...</td>\n",
       "      <td>...</td>\n",
       "      <td>...</td>\n",
       "      <td>...</td>\n",
       "      <td>...</td>\n",
       "      <td>...</td>\n",
       "      <td>...</td>\n",
       "      <td>...</td>\n",
       "      <td>...</td>\n",
       "      <td>...</td>\n",
       "      <td>...</td>\n",
       "      <td>...</td>\n",
       "      <td>...</td>\n",
       "      <td>...</td>\n",
       "      <td>...</td>\n",
       "      <td>...</td>\n",
       "      <td>...</td>\n",
       "      <td>...</td>\n",
       "      <td>...</td>\n",
       "      <td>...</td>\n",
       "      <td>...</td>\n",
       "    </tr>\n",
       "    <tr>\n",
       "      <th>282</th>\n",
       "      <td>17</td>\n",
       "      <td>1</td>\n",
       "      <td>2</td>\n",
       "      <td>3</td>\n",
       "      <td>1</td>\n",
       "      <td>1</td>\n",
       "      <td>0</td>\n",
       "      <td>1</td>\n",
       "      <td>1</td>\n",
       "      <td>0</td>\n",
       "      <td>...</td>\n",
       "      <td>0</td>\n",
       "      <td>1</td>\n",
       "      <td>1</td>\n",
       "      <td>0</td>\n",
       "      <td>0</td>\n",
       "      <td>0</td>\n",
       "      <td>0</td>\n",
       "      <td>0</td>\n",
       "      <td>0</td>\n",
       "      <td>0</td>\n",
       "    </tr>\n",
       "    <tr>\n",
       "      <th>283</th>\n",
       "      <td>30</td>\n",
       "      <td>1</td>\n",
       "      <td>1</td>\n",
       "      <td>3</td>\n",
       "      <td>1</td>\n",
       "      <td>1</td>\n",
       "      <td>0</td>\n",
       "      <td>1</td>\n",
       "      <td>1</td>\n",
       "      <td>0</td>\n",
       "      <td>...</td>\n",
       "      <td>0</td>\n",
       "      <td>1</td>\n",
       "      <td>1</td>\n",
       "      <td>0</td>\n",
       "      <td>0</td>\n",
       "      <td>0</td>\n",
       "      <td>0</td>\n",
       "      <td>0</td>\n",
       "      <td>0</td>\n",
       "      <td>0</td>\n",
       "    </tr>\n",
       "    <tr>\n",
       "      <th>284</th>\n",
       "      <td>22</td>\n",
       "      <td>2</td>\n",
       "      <td>3</td>\n",
       "      <td>3</td>\n",
       "      <td>1</td>\n",
       "      <td>1</td>\n",
       "      <td>0</td>\n",
       "      <td>1</td>\n",
       "      <td>1</td>\n",
       "      <td>0</td>\n",
       "      <td>...</td>\n",
       "      <td>0</td>\n",
       "      <td>1</td>\n",
       "      <td>1</td>\n",
       "      <td>0</td>\n",
       "      <td>0</td>\n",
       "      <td>0</td>\n",
       "      <td>0</td>\n",
       "      <td>0</td>\n",
       "      <td>0</td>\n",
       "      <td>0</td>\n",
       "    </tr>\n",
       "    <tr>\n",
       "      <th>285</th>\n",
       "      <td>27</td>\n",
       "      <td>1</td>\n",
       "      <td>5</td>\n",
       "      <td>2</td>\n",
       "      <td>2</td>\n",
       "      <td>1</td>\n",
       "      <td>0</td>\n",
       "      <td>1</td>\n",
       "      <td>1</td>\n",
       "      <td>0</td>\n",
       "      <td>...</td>\n",
       "      <td>0</td>\n",
       "      <td>1</td>\n",
       "      <td>1</td>\n",
       "      <td>0</td>\n",
       "      <td>0</td>\n",
       "      <td>0</td>\n",
       "      <td>0</td>\n",
       "      <td>0</td>\n",
       "      <td>1</td>\n",
       "      <td>0</td>\n",
       "    </tr>\n",
       "    <tr>\n",
       "      <th>286</th>\n",
       "      <td>30</td>\n",
       "      <td>1</td>\n",
       "      <td>2</td>\n",
       "      <td>0</td>\n",
       "      <td>3</td>\n",
       "      <td>1</td>\n",
       "      <td>0</td>\n",
       "      <td>0</td>\n",
       "      <td>0</td>\n",
       "      <td>0</td>\n",
       "      <td>...</td>\n",
       "      <td>2</td>\n",
       "      <td>1</td>\n",
       "      <td>1</td>\n",
       "      <td>0</td>\n",
       "      <td>0</td>\n",
       "      <td>0</td>\n",
       "      <td>0</td>\n",
       "      <td>0</td>\n",
       "      <td>0</td>\n",
       "      <td>3</td>\n",
       "    </tr>\n",
       "  </tbody>\n",
       "</table>\n",
       "<p>287 rows × 22 columns</p>\n",
       "</div>"
      ],
      "text/plain": [
       "     0   1   2   3   4   5   6   7   8   9   ...  12  13  14  15  16  17  18  \\\n",
       "0    43   3   1   2   2   1   0   1   1   0  ...   1   1   1   0   0   0   0   \n",
       "1    17   3   1   3   3   1   0   1   1   0  ...   0   1   1   0   0   0   0   \n",
       "2    19   2   1   3   1   1   0   1   1   0  ...   0   1   1   0   0   0   0   \n",
       "3    29   2   1   2   1   1   0   1   1   0  ...   1   1   1   0   0   0   0   \n",
       "4    17   2   5   3   0   1   1   1   1   0  ...   0   1   1   0   0   0   0   \n",
       "..   ..  ..  ..  ..  ..  ..  ..  ..  ..  ..  ...  ..  ..  ..  ..  ..  ..  ..   \n",
       "282  17   1   2   3   1   1   0   1   1   0  ...   0   1   1   0   0   0   0   \n",
       "283  30   1   1   3   1   1   0   1   1   0  ...   0   1   1   0   0   0   0   \n",
       "284  22   2   3   3   1   1   0   1   1   0  ...   0   1   1   0   0   0   0   \n",
       "285  27   1   5   2   2   1   0   1   1   0  ...   0   1   1   0   0   0   0   \n",
       "286  30   1   2   0   3   1   0   0   0   0  ...   2   1   1   0   0   0   0   \n",
       "\n",
       "     19  20  21  \n",
       "0     0   0   0  \n",
       "1     0   1   2  \n",
       "2     0   0   0  \n",
       "3     0   0   0  \n",
       "4     0   1   1  \n",
       "..   ..  ..  ..  \n",
       "282   0   0   0  \n",
       "283   0   0   0  \n",
       "284   0   0   0  \n",
       "285   0   1   0  \n",
       "286   0   0   3  \n",
       "\n",
       "[287 rows x 22 columns]"
      ]
     },
     "execution_count": 19,
     "metadata": {},
     "output_type": "execute_result"
    }
   ],
   "source": [
    "train_features"
   ]
  },
  {
   "cell_type": "markdown",
   "id": "e9320149-e3c5-4dde-a452-1d2fa9ce9c65",
   "metadata": {},
   "source": [
    "### FDC for searcing neighbors for synthetic data generation"
   ]
  },
  {
   "cell_type": "code",
   "execution_count": 20,
   "id": "a02579bd-56a4-445b-acfd-28f7d6b7c9d2",
   "metadata": {},
   "outputs": [],
   "source": [
    "from fdc.fdc import feature_clustering, canberra_modified, Clustering, FDC\n",
    "np.random.seed(42)\n",
    "fdc = FDC()\n",
    "fdc.ord_list=list(range(data.shape[1]))[1:7]\n",
    "fdc.nom_list = list(range(data.shape[1]))[7:]\n",
    "fdc.cont_list =list(range(data.shape[1]))[:1]"
   ]
  },
  {
   "cell_type": "code",
   "execution_count": 21,
   "id": "8c19cc2c-2ba9-44d4-a296-7dbbd2f21190",
   "metadata": {},
   "outputs": [],
   "source": [
    "train_features=np.array(train_features)"
   ]
  },
  {
   "cell_type": "markdown",
   "id": "e00c0f28-1f1a-42c8-bfa7-6a7e197f69eb",
   "metadata": {},
   "source": [
    "### Preapring and training NextConvGen model"
   ]
  },
  {
   "cell_type": "code",
   "execution_count": 22,
   "id": "e1915d60-5e96-40c4-94a5-c6f2879050f7",
   "metadata": {},
   "outputs": [],
   "source": [
    "gen = NextConvGeN(train_features.shape[1], neb=5, fdc=fdc)"
   ]
  },
  {
   "cell_type": "code",
   "execution_count": 23,
   "id": "213fc23f-57a7-46e4-98ce-b3c280c88658",
   "metadata": {},
   "outputs": [
    {
     "name": "stderr",
     "output_type": "stream",
     "text": [
      "2023-05-09 14:10:39.867011: W tensorflow/stream_executor/platform/default/dso_loader.cc:64] Could not load dynamic library 'libcuda.so.1'; dlerror: libcuda.so.1: cannot open shared object file: No such file or directory\n",
      "2023-05-09 14:10:39.867028: W tensorflow/stream_executor/cuda/cuda_driver.cc:269] failed call to cuInit: UNKNOWN ERROR (303)\n",
      "2023-05-09 14:10:39.867041: I tensorflow/stream_executor/cuda/cuda_diagnostics.cc:156] kernel driver does not appear to be running on this host (f61d203ff696): /proc/driver/nvidia/version does not exist\n",
      "2023-05-09 14:10:39.867166: I tensorflow/core/platform/cpu_feature_guard.cc:151] This TensorFlow binary is optimized with oneAPI Deep Neural Network Library (oneDNN) to use the following CPU instructions in performance-critical operations:  AVX2 FMA\n",
      "To enable them in other operations, rebuild TensorFlow with the appropriate compiler flags.\n"
     ]
    }
   ],
   "source": [
    "gen.reset(train_features)"
   ]
  },
  {
   "cell_type": "code",
   "execution_count": 24,
   "id": "750021f5-f8a6-4527-979d-c44b12e86c9d",
   "metadata": {
    "tags": []
   },
   "outputs": [
    {
     "data": {
      "text/plain": [
       "array([[43,  3,  1, ...,  0,  0,  0],\n",
       "       [17,  3,  1, ...,  0,  1,  2],\n",
       "       [19,  2,  1, ...,  0,  0,  0],\n",
       "       ...,\n",
       "       [22,  2,  3, ...,  0,  0,  0],\n",
       "       [27,  1,  5, ...,  0,  1,  0],\n",
       "       [30,  1,  2, ...,  0,  0,  3]])"
      ]
     },
     "execution_count": 24,
     "metadata": {},
     "output_type": "execute_result"
    }
   ],
   "source": [
    "train_features"
   ]
  },
  {
   "cell_type": "code",
   "execution_count": 25,
   "id": "c375e689-0b2f-4bf3-89db-5099dcf61c45",
   "metadata": {},
   "outputs": [
    {
     "name": "stdout",
     "output_type": "stream",
     "text": [
      "FDC.normalize (init): 0.00001 / 0.000s\n",
      "FDC.normalize (clustering CONT): 5.29699 / 5.297s\n",
      "FDC.normalize (clustering ORD): 1.77891 / 7.076s\n",
      "FDC.normalize (clustering NOM): 2.38937 / 9.465s\n",
      "FDC.normalize (concat): 0.00007 / 9.465s\n",
      "FDC.normalize (total): 0.00001 / 9.465s\n",
      "|N| = (287, 5)\n",
      "|D| = (287, 22)\n",
      "[===       ] [======    ] [======    ]\r"
     ]
    },
    {
     "ename": "KeyboardInterrupt",
     "evalue": "",
     "output_type": "error",
     "traceback": [
      "\u001b[0;31m---------------------------------------------------------------------------\u001b[0m",
      "\u001b[0;31mKeyboardInterrupt\u001b[0m                         Traceback (most recent call last)",
      "Cell \u001b[0;32mIn[25], line 3\u001b[0m\n\u001b[1;32m      1\u001b[0m \u001b[38;5;28;01mfrom\u001b[39;00m \u001b[38;5;21;01mfdc\u001b[39;00m\u001b[38;5;21;01m.\u001b[39;00m\u001b[38;5;21;01mfdc\u001b[39;00m \u001b[38;5;28;01mimport\u001b[39;00m feature_clustering, canberra_modified, Clustering, FDC\n\u001b[1;32m      2\u001b[0m np\u001b[38;5;241m.\u001b[39mrandom\u001b[38;5;241m.\u001b[39mseed(\u001b[38;5;241m42\u001b[39m)\n\u001b[0;32m----> 3\u001b[0m \u001b[43mgen\u001b[49m\u001b[38;5;241;43m.\u001b[39;49m\u001b[43mtrain\u001b[49m\u001b[43m(\u001b[49m\u001b[43mtrain_features\u001b[49m\u001b[43m)\u001b[49m\n",
      "File \u001b[0;32m~/private/T2DM data/library/generators/NextConvGeN.py:136\u001b[0m, in \u001b[0;36mNextConvGeN.train\u001b[0;34m(self, data, discTrainCount, batchSize)\u001b[0m\n\u001b[1;32m    133\u001b[0m \u001b[38;5;28mself\u001b[39m\u001b[38;5;241m.\u001b[39mtiming[\u001b[38;5;124m\"\u001b[39m\u001b[38;5;124mNbhSearch\u001b[39m\u001b[38;5;124m\"\u001b[39m]\u001b[38;5;241m.\u001b[39mstop()\n\u001b[1;32m    135\u001b[0m \u001b[38;5;66;03m# Do the training.\u001b[39;00m\n\u001b[0;32m--> 136\u001b[0m \u001b[38;5;28;43mself\u001b[39;49m\u001b[38;5;241;43m.\u001b[39;49m\u001b[43m_rough_learning\u001b[49m\u001b[43m(\u001b[49m\u001b[43mdata\u001b[49m\u001b[43m,\u001b[49m\u001b[43m \u001b[49m\u001b[43mdiscTrainCount\u001b[49m\u001b[43m,\u001b[49m\u001b[43m \u001b[49m\u001b[43mbatchSize\u001b[49m\u001b[38;5;241;43m=\u001b[39;49m\u001b[43mbatchSize\u001b[49m\u001b[43m)\u001b[49m\n\u001b[1;32m    138\u001b[0m \u001b[38;5;66;03m# Neighborhood in majority class is no longer needed. So save memory.\u001b[39;00m\n\u001b[1;32m    139\u001b[0m \u001b[38;5;28mself\u001b[39m\u001b[38;5;241m.\u001b[39misTrained \u001b[38;5;241m=\u001b[39m \u001b[38;5;28;01mTrue\u001b[39;00m\n",
      "File \u001b[0;32m~/private/T2DM data/library/generators/NextConvGeN.py:460\u001b[0m, in \u001b[0;36mNextConvGeN._rough_learning\u001b[0;34m(self, data, discTrainCount, batchSize)\u001b[0m\n\u001b[1;32m    458\u001b[0m \u001b[38;5;28mself\u001b[39m\u001b[38;5;241m.\u001b[39mtiming[\u001b[38;5;124m\"\u001b[39m\u001b[38;5;124mFit\u001b[39m\u001b[38;5;124m\"\u001b[39m]\u001b[38;5;241m.\u001b[39mstart()\n\u001b[1;32m    459\u001b[0m discriminator\u001b[38;5;241m.\u001b[39mtrainable \u001b[38;5;241m=\u001b[39m \u001b[38;5;28;01mTrue\u001b[39;00m\n\u001b[0;32m--> 460\u001b[0m \u001b[43mdiscriminator\u001b[49m\u001b[38;5;241;43m.\u001b[39;49m\u001b[43mfit\u001b[49m\u001b[43m(\u001b[49m\u001b[43mx\u001b[49m\u001b[38;5;241;43m=\u001b[39;49m\u001b[43msamples\u001b[49m\u001b[43m,\u001b[49m\u001b[43m \u001b[49m\u001b[43mverbose\u001b[49m\u001b[38;5;241;43m=\u001b[39;49m\u001b[38;5;241;43m0\u001b[39;49m\u001b[43m)\u001b[49m\n\u001b[1;32m    461\u001b[0m discriminator\u001b[38;5;241m.\u001b[39mtrainable \u001b[38;5;241m=\u001b[39m \u001b[38;5;28;01mFalse\u001b[39;00m\n\u001b[1;32m    462\u001b[0m \u001b[38;5;28mself\u001b[39m\u001b[38;5;241m.\u001b[39mtiming[\u001b[38;5;124m\"\u001b[39m\u001b[38;5;124mFit\u001b[39m\u001b[38;5;124m\"\u001b[39m]\u001b[38;5;241m.\u001b[39mstop()\n",
      "File \u001b[0;32m/usr/local/lib/python3.8/site-packages/keras/utils/traceback_utils.py:64\u001b[0m, in \u001b[0;36mfilter_traceback.<locals>.error_handler\u001b[0;34m(*args, **kwargs)\u001b[0m\n\u001b[1;32m     62\u001b[0m filtered_tb \u001b[38;5;241m=\u001b[39m \u001b[38;5;28;01mNone\u001b[39;00m\n\u001b[1;32m     63\u001b[0m \u001b[38;5;28;01mtry\u001b[39;00m:\n\u001b[0;32m---> 64\u001b[0m   \u001b[38;5;28;01mreturn\u001b[39;00m \u001b[43mfn\u001b[49m\u001b[43m(\u001b[49m\u001b[38;5;241;43m*\u001b[39;49m\u001b[43margs\u001b[49m\u001b[43m,\u001b[49m\u001b[43m \u001b[49m\u001b[38;5;241;43m*\u001b[39;49m\u001b[38;5;241;43m*\u001b[39;49m\u001b[43mkwargs\u001b[49m\u001b[43m)\u001b[49m\n\u001b[1;32m     65\u001b[0m \u001b[38;5;28;01mexcept\u001b[39;00m \u001b[38;5;167;01mException\u001b[39;00m \u001b[38;5;28;01mas\u001b[39;00m e:  \u001b[38;5;66;03m# pylint: disable=broad-except\u001b[39;00m\n\u001b[1;32m     66\u001b[0m   filtered_tb \u001b[38;5;241m=\u001b[39m _process_traceback_frames(e\u001b[38;5;241m.\u001b[39m__traceback__)\n",
      "File \u001b[0;32m/usr/local/lib/python3.8/site-packages/keras/engine/training.py:1216\u001b[0m, in \u001b[0;36mModel.fit\u001b[0;34m(self, x, y, batch_size, epochs, verbose, callbacks, validation_split, validation_data, shuffle, class_weight, sample_weight, initial_epoch, steps_per_epoch, validation_steps, validation_batch_size, validation_freq, max_queue_size, workers, use_multiprocessing)\u001b[0m\n\u001b[1;32m   1209\u001b[0m \u001b[38;5;28;01mwith\u001b[39;00m tf\u001b[38;5;241m.\u001b[39mprofiler\u001b[38;5;241m.\u001b[39mexperimental\u001b[38;5;241m.\u001b[39mTrace(\n\u001b[1;32m   1210\u001b[0m     \u001b[38;5;124m'\u001b[39m\u001b[38;5;124mtrain\u001b[39m\u001b[38;5;124m'\u001b[39m,\n\u001b[1;32m   1211\u001b[0m     epoch_num\u001b[38;5;241m=\u001b[39mepoch,\n\u001b[1;32m   1212\u001b[0m     step_num\u001b[38;5;241m=\u001b[39mstep,\n\u001b[1;32m   1213\u001b[0m     batch_size\u001b[38;5;241m=\u001b[39mbatch_size,\n\u001b[1;32m   1214\u001b[0m     _r\u001b[38;5;241m=\u001b[39m\u001b[38;5;241m1\u001b[39m):\n\u001b[1;32m   1215\u001b[0m   callbacks\u001b[38;5;241m.\u001b[39mon_train_batch_begin(step)\n\u001b[0;32m-> 1216\u001b[0m   tmp_logs \u001b[38;5;241m=\u001b[39m \u001b[38;5;28;43mself\u001b[39;49m\u001b[38;5;241;43m.\u001b[39;49m\u001b[43mtrain_function\u001b[49m\u001b[43m(\u001b[49m\u001b[43miterator\u001b[49m\u001b[43m)\u001b[49m\n\u001b[1;32m   1217\u001b[0m   \u001b[38;5;28;01mif\u001b[39;00m data_handler\u001b[38;5;241m.\u001b[39mshould_sync:\n\u001b[1;32m   1218\u001b[0m     context\u001b[38;5;241m.\u001b[39masync_wait()\n",
      "File \u001b[0;32m/usr/local/lib/python3.8/site-packages/tensorflow/python/util/traceback_utils.py:150\u001b[0m, in \u001b[0;36mfilter_traceback.<locals>.error_handler\u001b[0;34m(*args, **kwargs)\u001b[0m\n\u001b[1;32m    148\u001b[0m filtered_tb \u001b[38;5;241m=\u001b[39m \u001b[38;5;28;01mNone\u001b[39;00m\n\u001b[1;32m    149\u001b[0m \u001b[38;5;28;01mtry\u001b[39;00m:\n\u001b[0;32m--> 150\u001b[0m   \u001b[38;5;28;01mreturn\u001b[39;00m \u001b[43mfn\u001b[49m\u001b[43m(\u001b[49m\u001b[38;5;241;43m*\u001b[39;49m\u001b[43margs\u001b[49m\u001b[43m,\u001b[49m\u001b[43m \u001b[49m\u001b[38;5;241;43m*\u001b[39;49m\u001b[38;5;241;43m*\u001b[39;49m\u001b[43mkwargs\u001b[49m\u001b[43m)\u001b[49m\n\u001b[1;32m    151\u001b[0m \u001b[38;5;28;01mexcept\u001b[39;00m \u001b[38;5;167;01mException\u001b[39;00m \u001b[38;5;28;01mas\u001b[39;00m e:\n\u001b[1;32m    152\u001b[0m   filtered_tb \u001b[38;5;241m=\u001b[39m _process_traceback_frames(e\u001b[38;5;241m.\u001b[39m__traceback__)\n",
      "File \u001b[0;32m/usr/local/lib/python3.8/site-packages/tensorflow/python/eager/def_function.py:910\u001b[0m, in \u001b[0;36mFunction.__call__\u001b[0;34m(self, *args, **kwds)\u001b[0m\n\u001b[1;32m    907\u001b[0m compiler \u001b[38;5;241m=\u001b[39m \u001b[38;5;124m\"\u001b[39m\u001b[38;5;124mxla\u001b[39m\u001b[38;5;124m\"\u001b[39m \u001b[38;5;28;01mif\u001b[39;00m \u001b[38;5;28mself\u001b[39m\u001b[38;5;241m.\u001b[39m_jit_compile \u001b[38;5;28;01melse\u001b[39;00m \u001b[38;5;124m\"\u001b[39m\u001b[38;5;124mnonXla\u001b[39m\u001b[38;5;124m\"\u001b[39m\n\u001b[1;32m    909\u001b[0m \u001b[38;5;28;01mwith\u001b[39;00m OptionalXlaContext(\u001b[38;5;28mself\u001b[39m\u001b[38;5;241m.\u001b[39m_jit_compile):\n\u001b[0;32m--> 910\u001b[0m   result \u001b[38;5;241m=\u001b[39m \u001b[38;5;28;43mself\u001b[39;49m\u001b[38;5;241;43m.\u001b[39;49m\u001b[43m_call\u001b[49m\u001b[43m(\u001b[49m\u001b[38;5;241;43m*\u001b[39;49m\u001b[43margs\u001b[49m\u001b[43m,\u001b[49m\u001b[43m \u001b[49m\u001b[38;5;241;43m*\u001b[39;49m\u001b[38;5;241;43m*\u001b[39;49m\u001b[43mkwds\u001b[49m\u001b[43m)\u001b[49m\n\u001b[1;32m    912\u001b[0m new_tracing_count \u001b[38;5;241m=\u001b[39m \u001b[38;5;28mself\u001b[39m\u001b[38;5;241m.\u001b[39mexperimental_get_tracing_count()\n\u001b[1;32m    913\u001b[0m without_tracing \u001b[38;5;241m=\u001b[39m (tracing_count \u001b[38;5;241m==\u001b[39m new_tracing_count)\n",
      "File \u001b[0;32m/usr/local/lib/python3.8/site-packages/tensorflow/python/eager/def_function.py:942\u001b[0m, in \u001b[0;36mFunction._call\u001b[0;34m(self, *args, **kwds)\u001b[0m\n\u001b[1;32m    939\u001b[0m   \u001b[38;5;28mself\u001b[39m\u001b[38;5;241m.\u001b[39m_lock\u001b[38;5;241m.\u001b[39mrelease()\n\u001b[1;32m    940\u001b[0m   \u001b[38;5;66;03m# In this case we have created variables on the first call, so we run the\u001b[39;00m\n\u001b[1;32m    941\u001b[0m   \u001b[38;5;66;03m# defunned version which is guaranteed to never create variables.\u001b[39;00m\n\u001b[0;32m--> 942\u001b[0m   \u001b[38;5;28;01mreturn\u001b[39;00m \u001b[38;5;28;43mself\u001b[39;49m\u001b[38;5;241;43m.\u001b[39;49m\u001b[43m_stateless_fn\u001b[49m\u001b[43m(\u001b[49m\u001b[38;5;241;43m*\u001b[39;49m\u001b[43margs\u001b[49m\u001b[43m,\u001b[49m\u001b[43m \u001b[49m\u001b[38;5;241;43m*\u001b[39;49m\u001b[38;5;241;43m*\u001b[39;49m\u001b[43mkwds\u001b[49m\u001b[43m)\u001b[49m  \u001b[38;5;66;03m# pylint: disable=not-callable\u001b[39;00m\n\u001b[1;32m    943\u001b[0m \u001b[38;5;28;01melif\u001b[39;00m \u001b[38;5;28mself\u001b[39m\u001b[38;5;241m.\u001b[39m_stateful_fn \u001b[38;5;129;01mis\u001b[39;00m \u001b[38;5;129;01mnot\u001b[39;00m \u001b[38;5;28;01mNone\u001b[39;00m:\n\u001b[1;32m    944\u001b[0m   \u001b[38;5;66;03m# Release the lock early so that multiple threads can perform the call\u001b[39;00m\n\u001b[1;32m    945\u001b[0m   \u001b[38;5;66;03m# in parallel.\u001b[39;00m\n\u001b[1;32m    946\u001b[0m   \u001b[38;5;28mself\u001b[39m\u001b[38;5;241m.\u001b[39m_lock\u001b[38;5;241m.\u001b[39mrelease()\n",
      "File \u001b[0;32m/usr/local/lib/python3.8/site-packages/tensorflow/python/eager/function.py:3130\u001b[0m, in \u001b[0;36mFunction.__call__\u001b[0;34m(self, *args, **kwargs)\u001b[0m\n\u001b[1;32m   3127\u001b[0m \u001b[38;5;28;01mwith\u001b[39;00m \u001b[38;5;28mself\u001b[39m\u001b[38;5;241m.\u001b[39m_lock:\n\u001b[1;32m   3128\u001b[0m   (graph_function,\n\u001b[1;32m   3129\u001b[0m    filtered_flat_args) \u001b[38;5;241m=\u001b[39m \u001b[38;5;28mself\u001b[39m\u001b[38;5;241m.\u001b[39m_maybe_define_function(args, kwargs)\n\u001b[0;32m-> 3130\u001b[0m \u001b[38;5;28;01mreturn\u001b[39;00m \u001b[43mgraph_function\u001b[49m\u001b[38;5;241;43m.\u001b[39;49m\u001b[43m_call_flat\u001b[49m\u001b[43m(\u001b[49m\n\u001b[1;32m   3131\u001b[0m \u001b[43m    \u001b[49m\u001b[43mfiltered_flat_args\u001b[49m\u001b[43m,\u001b[49m\u001b[43m \u001b[49m\u001b[43mcaptured_inputs\u001b[49m\u001b[38;5;241;43m=\u001b[39;49m\u001b[43mgraph_function\u001b[49m\u001b[38;5;241;43m.\u001b[39;49m\u001b[43mcaptured_inputs\u001b[49m\u001b[43m)\u001b[49m\n",
      "File \u001b[0;32m/usr/local/lib/python3.8/site-packages/tensorflow/python/eager/function.py:1959\u001b[0m, in \u001b[0;36mConcreteFunction._call_flat\u001b[0;34m(self, args, captured_inputs, cancellation_manager)\u001b[0m\n\u001b[1;32m   1955\u001b[0m possible_gradient_type \u001b[38;5;241m=\u001b[39m gradients_util\u001b[38;5;241m.\u001b[39mPossibleTapeGradientTypes(args)\n\u001b[1;32m   1956\u001b[0m \u001b[38;5;28;01mif\u001b[39;00m (possible_gradient_type \u001b[38;5;241m==\u001b[39m gradients_util\u001b[38;5;241m.\u001b[39mPOSSIBLE_GRADIENT_TYPES_NONE\n\u001b[1;32m   1957\u001b[0m     \u001b[38;5;129;01mand\u001b[39;00m executing_eagerly):\n\u001b[1;32m   1958\u001b[0m   \u001b[38;5;66;03m# No tape is watching; skip to running the function.\u001b[39;00m\n\u001b[0;32m-> 1959\u001b[0m   \u001b[38;5;28;01mreturn\u001b[39;00m \u001b[38;5;28mself\u001b[39m\u001b[38;5;241m.\u001b[39m_build_call_outputs(\u001b[38;5;28;43mself\u001b[39;49m\u001b[38;5;241;43m.\u001b[39;49m\u001b[43m_inference_function\u001b[49m\u001b[38;5;241;43m.\u001b[39;49m\u001b[43mcall\u001b[49m\u001b[43m(\u001b[49m\n\u001b[1;32m   1960\u001b[0m \u001b[43m      \u001b[49m\u001b[43mctx\u001b[49m\u001b[43m,\u001b[49m\u001b[43m \u001b[49m\u001b[43margs\u001b[49m\u001b[43m,\u001b[49m\u001b[43m \u001b[49m\u001b[43mcancellation_manager\u001b[49m\u001b[38;5;241;43m=\u001b[39;49m\u001b[43mcancellation_manager\u001b[49m\u001b[43m)\u001b[49m)\n\u001b[1;32m   1961\u001b[0m forward_backward \u001b[38;5;241m=\u001b[39m \u001b[38;5;28mself\u001b[39m\u001b[38;5;241m.\u001b[39m_select_forward_and_backward_functions(\n\u001b[1;32m   1962\u001b[0m     args,\n\u001b[1;32m   1963\u001b[0m     possible_gradient_type,\n\u001b[1;32m   1964\u001b[0m     executing_eagerly)\n\u001b[1;32m   1965\u001b[0m forward_function, args_with_tangents \u001b[38;5;241m=\u001b[39m forward_backward\u001b[38;5;241m.\u001b[39mforward()\n",
      "File \u001b[0;32m/usr/local/lib/python3.8/site-packages/tensorflow/python/eager/function.py:598\u001b[0m, in \u001b[0;36m_EagerDefinedFunction.call\u001b[0;34m(self, ctx, args, cancellation_manager)\u001b[0m\n\u001b[1;32m    596\u001b[0m \u001b[38;5;28;01mwith\u001b[39;00m _InterpolateFunctionError(\u001b[38;5;28mself\u001b[39m):\n\u001b[1;32m    597\u001b[0m   \u001b[38;5;28;01mif\u001b[39;00m cancellation_manager \u001b[38;5;129;01mis\u001b[39;00m \u001b[38;5;28;01mNone\u001b[39;00m:\n\u001b[0;32m--> 598\u001b[0m     outputs \u001b[38;5;241m=\u001b[39m \u001b[43mexecute\u001b[49m\u001b[38;5;241;43m.\u001b[39;49m\u001b[43mexecute\u001b[49m\u001b[43m(\u001b[49m\n\u001b[1;32m    599\u001b[0m \u001b[43m        \u001b[49m\u001b[38;5;28;43mstr\u001b[39;49m\u001b[43m(\u001b[49m\u001b[38;5;28;43mself\u001b[39;49m\u001b[38;5;241;43m.\u001b[39;49m\u001b[43msignature\u001b[49m\u001b[38;5;241;43m.\u001b[39;49m\u001b[43mname\u001b[49m\u001b[43m)\u001b[49m\u001b[43m,\u001b[49m\n\u001b[1;32m    600\u001b[0m \u001b[43m        \u001b[49m\u001b[43mnum_outputs\u001b[49m\u001b[38;5;241;43m=\u001b[39;49m\u001b[38;5;28;43mself\u001b[39;49m\u001b[38;5;241;43m.\u001b[39;49m\u001b[43m_num_outputs\u001b[49m\u001b[43m,\u001b[49m\n\u001b[1;32m    601\u001b[0m \u001b[43m        \u001b[49m\u001b[43minputs\u001b[49m\u001b[38;5;241;43m=\u001b[39;49m\u001b[43margs\u001b[49m\u001b[43m,\u001b[49m\n\u001b[1;32m    602\u001b[0m \u001b[43m        \u001b[49m\u001b[43mattrs\u001b[49m\u001b[38;5;241;43m=\u001b[39;49m\u001b[43mattrs\u001b[49m\u001b[43m,\u001b[49m\n\u001b[1;32m    603\u001b[0m \u001b[43m        \u001b[49m\u001b[43mctx\u001b[49m\u001b[38;5;241;43m=\u001b[39;49m\u001b[43mctx\u001b[49m\u001b[43m)\u001b[49m\n\u001b[1;32m    604\u001b[0m   \u001b[38;5;28;01melse\u001b[39;00m:\n\u001b[1;32m    605\u001b[0m     outputs \u001b[38;5;241m=\u001b[39m execute\u001b[38;5;241m.\u001b[39mexecute_with_cancellation(\n\u001b[1;32m    606\u001b[0m         \u001b[38;5;28mstr\u001b[39m(\u001b[38;5;28mself\u001b[39m\u001b[38;5;241m.\u001b[39msignature\u001b[38;5;241m.\u001b[39mname),\n\u001b[1;32m    607\u001b[0m         num_outputs\u001b[38;5;241m=\u001b[39m\u001b[38;5;28mself\u001b[39m\u001b[38;5;241m.\u001b[39m_num_outputs,\n\u001b[0;32m   (...)\u001b[0m\n\u001b[1;32m    610\u001b[0m         ctx\u001b[38;5;241m=\u001b[39mctx,\n\u001b[1;32m    611\u001b[0m         cancellation_manager\u001b[38;5;241m=\u001b[39mcancellation_manager)\n",
      "File \u001b[0;32m/usr/local/lib/python3.8/site-packages/tensorflow/python/eager/execute.py:58\u001b[0m, in \u001b[0;36mquick_execute\u001b[0;34m(op_name, num_outputs, inputs, attrs, ctx, name)\u001b[0m\n\u001b[1;32m     56\u001b[0m \u001b[38;5;28;01mtry\u001b[39;00m:\n\u001b[1;32m     57\u001b[0m   ctx\u001b[38;5;241m.\u001b[39mensure_initialized()\n\u001b[0;32m---> 58\u001b[0m   tensors \u001b[38;5;241m=\u001b[39m \u001b[43mpywrap_tfe\u001b[49m\u001b[38;5;241;43m.\u001b[39;49m\u001b[43mTFE_Py_Execute\u001b[49m\u001b[43m(\u001b[49m\u001b[43mctx\u001b[49m\u001b[38;5;241;43m.\u001b[39;49m\u001b[43m_handle\u001b[49m\u001b[43m,\u001b[49m\u001b[43m \u001b[49m\u001b[43mdevice_name\u001b[49m\u001b[43m,\u001b[49m\u001b[43m \u001b[49m\u001b[43mop_name\u001b[49m\u001b[43m,\u001b[49m\n\u001b[1;32m     59\u001b[0m \u001b[43m                                      \u001b[49m\u001b[43minputs\u001b[49m\u001b[43m,\u001b[49m\u001b[43m \u001b[49m\u001b[43mattrs\u001b[49m\u001b[43m,\u001b[49m\u001b[43m \u001b[49m\u001b[43mnum_outputs\u001b[49m\u001b[43m)\u001b[49m\n\u001b[1;32m     60\u001b[0m \u001b[38;5;28;01mexcept\u001b[39;00m core\u001b[38;5;241m.\u001b[39m_NotOkStatusException \u001b[38;5;28;01mas\u001b[39;00m e:\n\u001b[1;32m     61\u001b[0m   \u001b[38;5;28;01mif\u001b[39;00m name \u001b[38;5;129;01mis\u001b[39;00m \u001b[38;5;129;01mnot\u001b[39;00m \u001b[38;5;28;01mNone\u001b[39;00m:\n",
      "\u001b[0;31mKeyboardInterrupt\u001b[0m: "
     ]
    }
   ],
   "source": [
    "from fdc.fdc import feature_clustering, canberra_modified, Clustering, FDC\n",
    "np.random.seed(42)\n",
    "gen.train(train_features)"
   ]
  },
  {
   "cell_type": "markdown",
   "id": "0fd2fd7a-6a7d-4f60-a92f-8962292a1f79",
   "metadata": {},
   "source": [
    "### Generating 1000 synthetic points and randomly selecting 300 points for evaluation"
   ]
  },
  {
   "cell_type": "code",
   "execution_count": null,
   "id": "4311a7fd-a690-4503-87c2-fac3f7a53a1d",
   "metadata": {},
   "outputs": [],
   "source": [
    "from fdc.NN_models import *\n",
    "np.random.seed(42)\n",
    "syn_train_data = syn_data_gen(gen,1000,values)"
   ]
  },
  {
   "cell_type": "code",
   "execution_count": null,
   "id": "a3842328-9c3c-4c6d-8772-b110c539185d",
   "metadata": {},
   "outputs": [],
   "source": [
    "def balanced_synthetic_data(org_data,syn_data):\n",
    "    import math\n",
    "    org_data_len = org_data.shape[0]\n",
    "    class_counts = org_data.iloc[:,-1].value_counts()\n",
    "    column_names = list( syn_data.columns)\n",
    "    df_list=[]\n",
    "    for i in range(len(class_counts)):\n",
    "        m = len(syn_data[syn_data['Target']==i])\n",
    "\n",
    "        if m < class_counts[i]:\n",
    "            run=math.ceil(class_counts[i]/m)\n",
    "            syn_data = syn_data_gen(gen,org_data_len*run,values)\n",
    "        c_i=syn_data[syn_data['Target']==i].sample(n=int(class_counts[i]),axis=0,random_state=42)\n",
    "        df_list.append(c_i)\n",
    "    balanced_df=pd.concat(df_list,names=column_names)\n",
    "    return balanced_df"
   ]
  },
  {
   "cell_type": "code",
   "execution_count": null,
   "id": "ff866903-5ef8-4fd5-a441-fa88ce1726c0",
   "metadata": {},
   "outputs": [],
   "source": [
    "syn_train_data=balanced_synthetic_data(pd.DataFrame(train_features),syn_train_data)"
   ]
  },
  {
   "cell_type": "code",
   "execution_count": null,
   "id": "59585ee8-ccdb-4e65-98b6-ccdd8f936988",
   "metadata": {},
   "outputs": [],
   "source": [
    "syn_train_data.to_csv('Migraine_NextConvGen_syn_data(supervised).csv',index=False)"
   ]
  },
  {
   "cell_type": "code",
   "execution_count": null,
   "id": "b2efa935-52e0-4571-a000-b5a7348f5757",
   "metadata": {},
   "outputs": [],
   "source": [
    "syn_train_data['Target'].value_counts()"
   ]
  },
  {
   "cell_type": "code",
   "execution_count": null,
   "id": "e5556ddb-6750-4861-a142-9e0fc2589883",
   "metadata": {},
   "outputs": [],
   "source": [
    "np.random.seed(42)\n",
    "syn_train_data=syn_train_data.sample(frac=1) #Shuffle the data set\n",
    "np.random.seed(42)\n",
    "i=[x for x in range(np.shape(syn_train_data)[0])]\n",
    "\n",
    "syn_train_data.set_index(pd.Series(i), inplace=True)"
   ]
  },
  {
   "cell_type": "code",
   "execution_count": null,
   "id": "33b9cfa3-d207-49fd-85a8-f04ec70a344d",
   "metadata": {},
   "outputs": [],
   "source": [
    "def exact_match_score(original_df, synthetic_df):\n",
    "    original_data=original_df.drop('Target',axis=1,inplace=False)\n",
    "    synthetic_data=synthetic_df.drop('Target',axis=1,inplace=False)\n",
    "    n_matches = 0\n",
    "    repeated=[]\n",
    "    for i in range(synthetic_data.shape[0]):\n",
    "        if (original_data == synthetic_data.iloc[i, :]).all(axis=1).any():\n",
    "            repeated_data=synthetic_data.iloc[i, :]\n",
    "            repeated.append(repeated_data)\n",
    "            n_matches += 1    \n",
    "    print('The number of data points repeated in the synthetic data are',n_matches / synthetic_data.shape[0])\n",
    "    return pd.DataFrame(repeated)"
   ]
  },
  {
   "cell_type": "code",
   "execution_count": null,
   "id": "191adfe1-7a3b-4189-823b-9a1bd92cbf89",
   "metadata": {},
   "outputs": [],
   "source": [
    "original_df=pd.read_csv('Migraine_training_data(sup).csv')\n",
    "original_df.columns=values"
   ]
  },
  {
   "cell_type": "code",
   "execution_count": null,
   "id": "de7a8281-7c39-49ac-b0b0-bf80de116d63",
   "metadata": {},
   "outputs": [],
   "source": [
    "exact_match_score(original_df,syn_train_data)"
   ]
  },
  {
   "cell_type": "code",
   "execution_count": null,
   "id": "9e66d1cc-260f-4745-81af-43506af0c815",
   "metadata": {},
   "outputs": [],
   "source": [
    "len(syn_train_data[syn_train_data.duplicated(keep=False)])"
   ]
  },
  {
   "cell_type": "markdown",
   "id": "22664373-fe16-4b85-880c-49e4f2f76e02",
   "metadata": {},
   "source": [
    "### Train test split on synthetic data"
   ]
  },
  {
   "cell_type": "code",
   "execution_count": null,
   "id": "7ea16747-b8f6-4a5e-9ecb-99631f54dee5",
   "metadata": {},
   "outputs": [],
   "source": [
    "syn_train_features, syn_test_features, syn_train_labels, syn_test_labels = train_test_split(np.array(syn_train_data.drop(['Target'],axis=1)), np.array(syn_train_data['Target']), test_size = 0.25, random_state = 42)"
   ]
  },
  {
   "cell_type": "markdown",
   "id": "965f13f6-c8ad-4e17-bf46-ed7e004cbff6",
   "metadata": {},
   "source": [
    "### Gradient boosting classifier for synthetic samples traing data (Model-2)"
   ]
  },
  {
   "cell_type": "code",
   "execution_count": null,
   "id": "a53a70a4-d263-4b7a-b61a-8a9a3a670315",
   "metadata": {},
   "outputs": [],
   "source": [
    "from sklearn.ensemble import GradientBoostingClassifier\n",
    "NextConvGen_model_2 = GradientBoostingClassifier(n_estimators=20, learning_rate=0.5, max_features=2, max_depth=2, random_state=42)\n"
   ]
  },
  {
   "cell_type": "markdown",
   "id": "f0ea5ee1",
   "metadata": {},
   "source": [
    "### 5 Fold Cross Validation"
   ]
  },
  {
   "cell_type": "code",
   "execution_count": null,
   "id": "c8eb5fc9",
   "metadata": {},
   "outputs": [],
   "source": [
    "score_lr=cross_val_score(NextConvGen_model_2, syn_train_features, syn_train_labels,cv=5)\n",
    "print(score_lr)\n",
    "print(\"Avg :\",np.average(score_lr))\n"
   ]
  },
  {
   "cell_type": "code",
   "execution_count": null,
   "id": "c9cc8fc4",
   "metadata": {},
   "outputs": [],
   "source": [
    "NextConvGen_model_2.fit(syn_train_features,syn_train_labels )"
   ]
  },
  {
   "cell_type": "markdown",
   "id": "b2cce01c-9e72-472c-9e7d-b37237dbac13",
   "metadata": {},
   "source": [
    "### Case-1: predicting validation data using Model-1\n"
   ]
  },
  {
   "cell_type": "code",
   "execution_count": null,
   "id": "5da6fd08-9bd9-46d8-a179-1cc21e3c909c",
   "metadata": {},
   "outputs": [],
   "source": [
    "x=model_1.predict(np.array(test_features))\n",
    "cluster_wise_F1score(list(test_labels),list(x))"
   ]
  },
  {
   "cell_type": "markdown",
   "id": "c164bdd4-1d1d-4c83-937a-1b639fe602d7",
   "metadata": {},
   "source": [
    "### Case-2: Predicting validation data using Model-2\n"
   ]
  },
  {
   "cell_type": "code",
   "execution_count": null,
   "id": "b90230ce-35e9-4301-9d0d-9ec1a168afaf",
   "metadata": {},
   "outputs": [],
   "source": [
    "y=NextConvGen_model_2.predict(np.array(test_features))\n",
    "\n",
    "cluster_wise_F1score(list(test_labels),list(y))"
   ]
  },
  {
   "cell_type": "markdown",
   "id": "c8e7b3a0-e915-4dea-a9a8-1fd179e6c1a1",
   "metadata": {},
   "source": [
    "### Comparing predicted values from Case-1 & Case-2"
   ]
  },
  {
   "cell_type": "code",
   "execution_count": null,
   "id": "8d3c1fcb-71cd-44d0-8175-a1823d97a80e",
   "metadata": {
    "tags": []
   },
   "outputs": [],
   "source": [
    "cluster_wise_F1score(list(x),list(y))"
   ]
  },
  {
   "cell_type": "markdown",
   "id": "8afa899e",
   "metadata": {},
   "source": [
    "### CTGAN"
   ]
  },
  {
   "cell_type": "code",
   "execution_count": null,
   "id": "8fb93a52-59b9-441b-84a1-0fcdbeb46eb9",
   "metadata": {},
   "outputs": [],
   "source": [
    "train_features=pd.DataFrame(train_features)"
   ]
  },
  {
   "cell_type": "code",
   "execution_count": null,
   "id": "992ad18d-efd4-4105-9014-65b1ed6666ad",
   "metadata": {},
   "outputs": [],
   "source": [
    "dicts = {}\n",
    "for i in range(len(values)):\n",
    "        dicts[i]=values[i]"
   ]
  },
  {
   "cell_type": "code",
   "execution_count": null,
   "id": "80e90501",
   "metadata": {},
   "outputs": [],
   "source": [
    "train_features.rename(columns=dicts,inplace=True)\n"
   ]
  },
  {
   "cell_type": "code",
   "execution_count": null,
   "id": "45fce2c0",
   "metadata": {},
   "outputs": [],
   "source": [
    "train_features"
   ]
  },
  {
   "cell_type": "code",
   "execution_count": null,
   "id": "5a74707d",
   "metadata": {},
   "outputs": [],
   "source": [
    "from sdv.tabular import CTGAN"
   ]
  },
  {
   "cell_type": "code",
   "execution_count": null,
   "id": "b466684f",
   "metadata": {},
   "outputs": [],
   "source": [
    "gen=CTGAN()"
   ]
  },
  {
   "cell_type": "code",
   "execution_count": null,
   "id": "7cd581a2",
   "metadata": {},
   "outputs": [],
   "source": [
    "gen.fit(train_features)"
   ]
  },
  {
   "cell_type": "markdown",
   "id": "c93ffdf9",
   "metadata": {},
   "source": [
    "### Generating 1000 synthetic points and randomly selecting 300 points for evaluation"
   ]
  },
  {
   "cell_type": "code",
   "execution_count": null,
   "id": "51f17e8a",
   "metadata": {},
   "outputs": [],
   "source": [
    "CTGAN_syn_data= gen.sample(num_rows=462)"
   ]
  },
  {
   "cell_type": "code",
   "execution_count": null,
   "id": "b9f31f20",
   "metadata": {},
   "outputs": [],
   "source": [
    "from fdc.NN_models import *\n",
    "np.random.seed(42)\n",
    "CTGAN_syn_data=balanced_synthetic_data_CTGAN(train_features,CTGAN_syn_data,gen)"
   ]
  },
  {
   "cell_type": "code",
   "execution_count": null,
   "id": "bae6881b-cade-4bca-938b-3a6d24bf87ab",
   "metadata": {},
   "outputs": [],
   "source": [
    "CTGAN_syn_data.to_csv('Migraine_CTGAN_syn_data(supervised).csv',index=False)"
   ]
  },
  {
   "cell_type": "code",
   "execution_count": null,
   "id": "52d65af6",
   "metadata": {},
   "outputs": [],
   "source": [
    "np.random.seed(42)\n",
    "CTGAN_syn_data=CTGAN_syn_data.sample(frac=1) #Shuffle the data set\n",
    "np.random.seed(42)\n",
    "i=[x for x in range(np.shape(CTGAN_syn_data)[0])]\n",
    "\n",
    "CTGAN_syn_data.set_index(pd.Series(i), inplace=True)"
   ]
  },
  {
   "cell_type": "markdown",
   "id": "8eaaa822",
   "metadata": {},
   "source": [
    "### Train test split on synthetic data"
   ]
  },
  {
   "cell_type": "code",
   "execution_count": null,
   "id": "94c737c5",
   "metadata": {},
   "outputs": [],
   "source": [
    "syn_train_features, syn_test_features, syn_train_labels, syn_test_labels = train_test_split(np.array(CTGAN_syn_data.drop([\"Target\"],axis=1)), np.array(CTGAN_syn_data[\"Target\"]), test_size = 0.25, random_state = 42)"
   ]
  },
  {
   "cell_type": "markdown",
   "id": "b3b648c2",
   "metadata": {},
   "source": [
    "### Gradient boosting classifier on CTGAN generated synthetic training data  (Model-2)"
   ]
  },
  {
   "cell_type": "code",
   "execution_count": null,
   "id": "ad77f82d",
   "metadata": {},
   "outputs": [],
   "source": [
    "from sklearn.ensemble import GradientBoostingClassifier\n",
    "CTGAN_model_2 = GradientBoostingClassifier(n_estimators=20, learning_rate=0.5, max_features=2, max_depth=2, random_state=42)\n"
   ]
  },
  {
   "cell_type": "markdown",
   "id": "57aa987a",
   "metadata": {},
   "source": [
    "### 5 Fold Cross validation"
   ]
  },
  {
   "cell_type": "code",
   "execution_count": null,
   "id": "ceae8e20",
   "metadata": {},
   "outputs": [],
   "source": [
    "score_lr=cross_val_score(CTGAN_model_2, syn_train_features, syn_train_labels,cv=5)\n",
    "print(score_lr)\n",
    "print(\"Avg :\",np.average(score_lr))\n"
   ]
  },
  {
   "cell_type": "code",
   "execution_count": null,
   "id": "a1512f0e",
   "metadata": {},
   "outputs": [],
   "source": [
    "CTGAN_model_2.fit(syn_train_features,syn_train_labels )"
   ]
  },
  {
   "cell_type": "markdown",
   "id": "68f66315",
   "metadata": {},
   "source": [
    "### Case-1: predicting validation data using Model-1\n"
   ]
  },
  {
   "cell_type": "code",
   "execution_count": null,
   "id": "01bd7b42",
   "metadata": {},
   "outputs": [],
   "source": [
    "x=model_1.predict(np.array(test_features))\n",
    "cluster_wise_F1score(list(test_labels),list(x))"
   ]
  },
  {
   "cell_type": "markdown",
   "id": "8ef13444",
   "metadata": {},
   "source": [
    "### Case-2: predicting validation data using Model-2\n"
   ]
  },
  {
   "cell_type": "code",
   "execution_count": null,
   "id": "517d0462",
   "metadata": {},
   "outputs": [],
   "source": [
    "y=CTGAN_model_2.predict(np.array(test_features))\n",
    "\n",
    "cluster_wise_F1score(list(test_labels),list(y))"
   ]
  },
  {
   "cell_type": "markdown",
   "id": "55afb47c",
   "metadata": {},
   "source": [
    "### Comparing predicted values from Case-1 & Case-2"
   ]
  },
  {
   "cell_type": "code",
   "execution_count": null,
   "id": "90e34db3",
   "metadata": {},
   "outputs": [],
   "source": [
    "cluster_wise_F1score(list(x),list(y))"
   ]
  },
  {
   "cell_type": "markdown",
   "id": "ae4e6935",
   "metadata": {},
   "source": [
    "### CTABGAN"
   ]
  },
  {
   "cell_type": "code",
   "execution_count": null,
   "id": "d7560596",
   "metadata": {},
   "outputs": [],
   "source": [
    "import tensorflow as tf\n",
    "from tensorflow import keras\n",
    "from tensorflow.keras import layers\n",
    "from library.generators.ctab import CtabGan"
   ]
  },
  {
   "cell_type": "code",
   "execution_count": null,
   "id": "50e34968",
   "metadata": {},
   "outputs": [],
   "source": [
    "gen=CtabGan()"
   ]
  },
  {
   "cell_type": "code",
   "execution_count": null,
   "id": "77f32968",
   "metadata": {},
   "outputs": [],
   "source": [
    "gen.reset(train_features)"
   ]
  },
  {
   "cell_type": "code",
   "execution_count": null,
   "id": "e46e4921",
   "metadata": {},
   "outputs": [],
   "source": [
    "gen.train(train_features)"
   ]
  },
  {
   "cell_type": "markdown",
   "id": "017bbe07",
   "metadata": {},
   "source": [
    "### Generating 1000 synthetic points and randomly selecting 300 points for evaluation"
   ]
  },
  {
   "cell_type": "code",
   "execution_count": null,
   "id": "feca59da",
   "metadata": {},
   "outputs": [],
   "source": [
    "CTABGAN_syn_data= gen.generateData(10000)"
   ]
  },
  {
   "cell_type": "code",
   "execution_count": null,
   "id": "9e51e528",
   "metadata": {},
   "outputs": [],
   "source": [
    "CTABGAN_syn_data=pd.DataFrame(CTABGAN_syn_data)"
   ]
  },
  {
   "cell_type": "code",
   "execution_count": null,
   "id": "92b65322",
   "metadata": {},
   "outputs": [],
   "source": [
    "CTABGAN_syn_data.rename(columns=dicts,inplace=True)\n"
   ]
  },
  {
   "cell_type": "code",
   "execution_count": null,
   "id": "b5532e8c",
   "metadata": {},
   "outputs": [],
   "source": [
    "CTABGAN_syn_data"
   ]
  },
  {
   "cell_type": "code",
   "execution_count": null,
   "id": "964581b8",
   "metadata": {},
   "outputs": [],
   "source": [
    "for i in values[7:]:\n",
    "    CTABGAN_syn_data[i]=abs(np.round(CTABGAN_syn_data[i]))"
   ]
  },
  {
   "cell_type": "code",
   "execution_count": null,
   "id": "52c5d678-a635-4f58-accb-a6d32dc9b95a",
   "metadata": {},
   "outputs": [],
   "source": [
    "CTABGAN_syn_data['Target'].value_counts()"
   ]
  },
  {
   "cell_type": "code",
   "execution_count": null,
   "id": "3728633d-ba59-452a-826b-7d87e4776d57",
   "metadata": {},
   "outputs": [],
   "source": [
    "CTABGAN_syn_data['Target']"
   ]
  },
  {
   "cell_type": "code",
   "execution_count": null,
   "id": "811f8a07",
   "metadata": {},
   "outputs": [],
   "source": [
    "CTABGAN_syn_data.to_csv('Migraine_CTABGAN_syn_data(supervised).csv',index=False)"
   ]
  },
  {
   "cell_type": "code",
   "execution_count": null,
   "id": "bf46f75c",
   "metadata": {},
   "outputs": [],
   "source": [
    "np.random.seed(42)\n",
    "CTABGAN_syn_data=CTABGAN_syn_data.sample(frac=1) #Shuffle the data set\n",
    "np.random.seed(42)\n",
    "i=[x for x in range(np.shape(CTABGAN_syn_data)[0])]\n",
    "\n",
    "CTABGAN_syn_data.set_index(pd.Series(i), inplace=True)"
   ]
  },
  {
   "cell_type": "markdown",
   "id": "0c3b2ac1",
   "metadata": {},
   "source": [
    "### Train test split on synthetic data"
   ]
  },
  {
   "cell_type": "code",
   "execution_count": null,
   "id": "926956fa",
   "metadata": {},
   "outputs": [],
   "source": [
    "syn_train_features, syn_test_features, syn_train_labels, syn_test_labels = train_test_split(np.array(CTABGAN_syn_data.drop([\"Target\"],axis=1)), np.array(CTABGAN_syn_data[\"Target\"]), test_size = 0.25, random_state = 42)"
   ]
  },
  {
   "cell_type": "markdown",
   "id": "5b9111d6",
   "metadata": {},
   "source": [
    "### Gradient boosting classifier on CTGAN generated synthetic training data  (Model-2)"
   ]
  },
  {
   "cell_type": "code",
   "execution_count": null,
   "id": "dbe9ada2",
   "metadata": {},
   "outputs": [],
   "source": [
    "from sklearn.ensemble import GradientBoostingClassifier\n",
    "CTABGAN_model_2 = GradientBoostingClassifier(n_estimators=20, learning_rate=0.5, max_features=2, max_depth=2, random_state=42)\n"
   ]
  },
  {
   "cell_type": "markdown",
   "id": "bd71d74b",
   "metadata": {},
   "source": [
    "### 5 Fold Cross validation"
   ]
  },
  {
   "cell_type": "code",
   "execution_count": null,
   "id": "ea468261",
   "metadata": {},
   "outputs": [],
   "source": [
    "score_lr=cross_val_score(CTABGAN_model_2, syn_train_features, syn_train_labels,cv=5)\n",
    "print(score_lr)\n",
    "print(\"Avg :\",np.average(score_lr))\n"
   ]
  },
  {
   "cell_type": "code",
   "execution_count": null,
   "id": "4211cd3a",
   "metadata": {},
   "outputs": [],
   "source": [
    "CTABGAN_model_2.fit(syn_train_features,syn_train_labels )"
   ]
  },
  {
   "cell_type": "markdown",
   "id": "cea79e74",
   "metadata": {},
   "source": [
    "### Case-1: predicting validation data using Model-1\n"
   ]
  },
  {
   "cell_type": "code",
   "execution_count": null,
   "id": "302417e1",
   "metadata": {},
   "outputs": [],
   "source": [
    "x=model_1.predict(np.array(test_features))\n",
    "cluster_wise_F1score(list(test_labels),list(x))"
   ]
  },
  {
   "cell_type": "markdown",
   "id": "dbad68c0",
   "metadata": {},
   "source": [
    "### Case-2: predicting validation data using Model-2\n"
   ]
  },
  {
   "cell_type": "code",
   "execution_count": null,
   "id": "7a3e213e",
   "metadata": {},
   "outputs": [],
   "source": [
    "y=CTABGAN_model_2.predict(np.array(test_features))\n",
    "\n",
    "cluster_wise_F1score(list(test_labels),list(y))"
   ]
  },
  {
   "cell_type": "markdown",
   "id": "3c7021df",
   "metadata": {},
   "source": [
    "### Comparing predicted values from Case-1 & Case-2"
   ]
  },
  {
   "cell_type": "code",
   "execution_count": null,
   "id": "d35e94eb",
   "metadata": {},
   "outputs": [],
   "source": [
    "cluster_wise_F1score(list(x),list(y))"
   ]
  },
  {
   "cell_type": "markdown",
   "id": "acf00cf0-f45b-4f97-bf19-9298e0cb4537",
   "metadata": {},
   "source": [
    "### Tabddpm"
   ]
  },
  {
   "cell_type": "code",
   "execution_count": null,
   "id": "53ec561a-a62f-47dd-bde4-63bdf1d34609",
   "metadata": {},
   "outputs": [],
   "source": [
    "\n",
    "Tabddpm_syn_data=pd.read_csv('Migraine_synth_data_tddpm.csv')\n",
    "Tabddpm_syn_data.drop(['Unnamed: 0'],axis=1,inplace=True)\n",
    "\n"
   ]
  },
  {
   "cell_type": "code",
   "execution_count": null,
   "id": "889e6183-d808-400a-b787-a889ac6c971c",
   "metadata": {},
   "outputs": [],
   "source": [
    "Tabddpm_syn_data['Target'].value_counts()"
   ]
  },
  {
   "cell_type": "code",
   "execution_count": null,
   "id": "19135d93-fd5d-41dd-bf93-e500149a6a1a",
   "metadata": {},
   "outputs": [],
   "source": [
    "def balanced_synthetic_data(org_data,syn_data):\n",
    "    import math\n",
    "    org_data_len = org_data.shape[0]\n",
    "    class_counts = org_data.iloc[:,-1].value_counts()\n",
    "    column_names = list( syn_data.columns)\n",
    "    df_list=[]\n",
    "    for i in range(len(class_counts)):\n",
    "        c_i=syn_data[syn_data['Target']==i].sample(n=int(class_counts[i]),axis=0,random_state=42)\n",
    "        df_list.append(c_i)\n",
    "    balanced_df=pd.concat(df_list,names=column_names)\n",
    "    return balanced_df"
   ]
  },
  {
   "cell_type": "code",
   "execution_count": null,
   "id": "0ec6e705-b7a2-43a9-b824-33cf1fb40fee",
   "metadata": {},
   "outputs": [],
   "source": [
    "Tabddpm_syn_data=balanced_synthetic_data(pd.DataFrame(train_features),Tabddpm_syn_data)"
   ]
  },
  {
   "cell_type": "code",
   "execution_count": null,
   "id": "0c163ffb-cc2c-466b-938d-fb1cddc8a7c4",
   "metadata": {},
   "outputs": [],
   "source": [
    "Tabddpm_syn_data['Target'].value_counts()"
   ]
  },
  {
   "cell_type": "code",
   "execution_count": null,
   "id": "40161a3e-25bc-4118-9969-11a65163ee27",
   "metadata": {},
   "outputs": [],
   "source": [
    "Tabddpm_syn_data.to_csv('Migraine_Tabddpm_syn_data(sup).csv',index=False)"
   ]
  },
  {
   "cell_type": "code",
   "execution_count": null,
   "id": "093e5657-8e79-472f-9181-679f203b76d2",
   "metadata": {},
   "outputs": [],
   "source": [
    "np.random.seed(42)\n",
    "Tabddpm_syn_data=Tabddpm_syn_data.sample(frac=1) #Shuffle the data set\n",
    "np.random.seed(42)\n",
    "i=[x for x in range(np.shape(Tabddpm_syn_data)[0])]\n",
    "\n",
    "Tabddpm_syn_data.set_index(pd.Series(i), inplace=True)"
   ]
  },
  {
   "cell_type": "markdown",
   "id": "1dd24228-e4fb-4a79-a711-d35dcf19a86b",
   "metadata": {},
   "source": [
    "### Train test split on synthetic data"
   ]
  },
  {
   "cell_type": "code",
   "execution_count": null,
   "id": "e1f302b6-6c8c-4439-90dc-2ce47f75cb3f",
   "metadata": {},
   "outputs": [],
   "source": [
    "syn_train_features, syn_test_features, syn_train_labels, syn_test_labels = train_test_split(np.array(Tabddpm_syn_data.drop(['Target'],axis=1)), np.array(Tabddpm_syn_data['Target']), test_size = 0.25, random_state = 42)"
   ]
  },
  {
   "cell_type": "markdown",
   "id": "9a6347a9-5bb9-46af-9e82-592060a8dca1",
   "metadata": {},
   "source": [
    "### Gradient boosting classifier for synthetic samples training data (Model-2)"
   ]
  },
  {
   "cell_type": "code",
   "execution_count": null,
   "id": "4f614ca1-378f-4386-ba73-ad2dcc6b8fc9",
   "metadata": {},
   "outputs": [],
   "source": [
    "from sklearn.ensemble import GradientBoostingClassifier\n",
    "Tabddpm_model_2 = GradientBoostingClassifier(n_estimators=20, learning_rate=0.5, max_features=2, max_depth=2, random_state=42)\n"
   ]
  },
  {
   "cell_type": "markdown",
   "id": "293e4c83-fe23-4d10-a6d6-886f16cbcfef",
   "metadata": {},
   "source": [
    "### 5 Fold Cross Validation"
   ]
  },
  {
   "cell_type": "code",
   "execution_count": null,
   "id": "237ba7be-cd43-475c-a206-7ed0cb74f4e4",
   "metadata": {},
   "outputs": [],
   "source": [
    "score_lr=cross_val_score(Tabddpm_model_2, syn_train_features, syn_train_labels,cv=5)\n",
    "print(score_lr)\n",
    "print(\"Avg :\",np.average(score_lr))\n"
   ]
  },
  {
   "cell_type": "code",
   "execution_count": null,
   "id": "c94b89c5-e294-458d-84fa-591b53f99f6d",
   "metadata": {},
   "outputs": [],
   "source": [
    "Tabddpm_model_2.fit(syn_train_features,syn_train_labels )"
   ]
  },
  {
   "cell_type": "markdown",
   "id": "c9b02f7e-808a-42fe-b7b8-a4727678c21b",
   "metadata": {},
   "source": [
    "### Case-1: predicting validation data using Model-1\n"
   ]
  },
  {
   "cell_type": "code",
   "execution_count": null,
   "id": "44983518-03e3-43c8-94a4-bb0733ab8d46",
   "metadata": {},
   "outputs": [],
   "source": [
    "x=model_1.predict(np.array(test_features))\n",
    "cluster_wise_F1score(list(test_labels),list(x))"
   ]
  },
  {
   "cell_type": "markdown",
   "id": "36e05bad-15b1-40b2-b42f-e74c605aae0e",
   "metadata": {},
   "source": [
    "### Case-2: Predicting validation data using Model-2\n"
   ]
  },
  {
   "cell_type": "code",
   "execution_count": null,
   "id": "18a80592-4cc6-4369-b35a-4cbea758cf71",
   "metadata": {},
   "outputs": [],
   "source": [
    "y=Tabddpm_model_2.predict(np.array(test_features))\n",
    "\n",
    "cluster_wise_F1score(list(test_labels),list(y))"
   ]
  },
  {
   "cell_type": "markdown",
   "id": "e0f18649-5578-4af3-b0e9-d043edef5562",
   "metadata": {},
   "source": [
    "### Comparing predicted values from Case-1 & Case-2"
   ]
  },
  {
   "cell_type": "code",
   "execution_count": null,
   "id": "0f758cdc-861b-4898-a48c-8a5fb24f87f0",
   "metadata": {
    "tags": []
   },
   "outputs": [],
   "source": [
    "cluster_wise_F1score(list(x),list(y))"
   ]
  }
 ],
 "metadata": {
  "kernelspec": {
   "display_name": "Python 3 (ipykernel)",
   "language": "python",
   "name": "python3"
  },
  "language_info": {
   "codemirror_mode": {
    "name": "ipython",
    "version": 3
   },
   "file_extension": ".py",
   "mimetype": "text/x-python",
   "name": "python",
   "nbconvert_exporter": "python",
   "pygments_lexer": "ipython3",
   "version": "3.8.15"
  }
 },
 "nbformat": 4,
 "nbformat_minor": 5
}
