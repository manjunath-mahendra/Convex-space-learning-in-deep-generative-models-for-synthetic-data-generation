{
 "cells": [
  {
   "cell_type": "markdown",
   "id": "7a3650ef-2449-4caa-b8ae-b8d77e99cf20",
   "metadata": {
    "tags": []
   },
   "source": [
    "# Semi-supervised synthetic data validation"
   ]
  },
  {
   "cell_type": "markdown",
   "id": "85f5f148-9358-459d-a023-3c3ab9b5bf38",
   "metadata": {},
   "source": [
    "### Importing necessary libraries"
   ]
  },
  {
   "cell_type": "code",
   "execution_count": 1,
   "id": "56b80e0e-b49b-4238-85be-28b96923aeb4",
   "metadata": {
    "tags": []
   },
   "outputs": [
    {
     "name": "stderr",
     "output_type": "stream",
     "text": [
      "2023-05-11 10:39:31.064178: W tensorflow/stream_executor/platform/default/dso_loader.cc:64] Could not load dynamic library 'libcudart.so.11.0'; dlerror: libcudart.so.11.0: cannot open shared object file: No such file or directory\n",
      "2023-05-11 10:39:31.064195: I tensorflow/stream_executor/cuda/cudart_stub.cc:29] Ignore above cudart dlerror if you do not have a GPU set up on your machine.\n"
     ]
    }
   ],
   "source": [
    "import numpy as np\n",
    "from library.generators.NextConvGeN import NextConvGeN\n"
   ]
  },
  {
   "cell_type": "code",
   "execution_count": 2,
   "id": "60a37ac3-8400-4930-9b8d-f50e51befb9f",
   "metadata": {},
   "outputs": [],
   "source": [
    "from fdc.fdc import feature_clustering, canberra_modified, Clustering, FDC\n",
    "from fdc.clustering import *"
   ]
  },
  {
   "cell_type": "code",
   "execution_count": 3,
   "id": "24a06985-a202-46b5-93db-f92a3ded0673",
   "metadata": {},
   "outputs": [],
   "source": [
    "import pandas as pd"
   ]
  },
  {
   "cell_type": "markdown",
   "id": "01d3d86f-4e08-4be3-bba9-e2f7b9202670",
   "metadata": {},
   "source": [
    "### Importing data"
   ]
  },
  {
   "cell_type": "code",
   "execution_count": 4,
   "id": "53e069b3-8bcc-46b0-852b-2a504e21197e",
   "metadata": {},
   "outputs": [],
   "source": [
    "data=pd.read_csv('preprocessed_cirrhosis.csv')"
   ]
  },
  {
   "cell_type": "code",
   "execution_count": 5,
   "id": "8aebf9eb-e0b3-40db-bcd0-bfc400e004ce",
   "metadata": {},
   "outputs": [],
   "source": [
    "data=data.drop(['Stage'],axis=1) #dropping target column"
   ]
  },
  {
   "cell_type": "code",
   "execution_count": 6,
   "id": "e633073d-271c-450a-87f9-a61755e2f011",
   "metadata": {},
   "outputs": [
    {
     "data": {
      "text/html": [
       "<div>\n",
       "<style scoped>\n",
       "    .dataframe tbody tr th:only-of-type {\n",
       "        vertical-align: middle;\n",
       "    }\n",
       "\n",
       "    .dataframe tbody tr th {\n",
       "        vertical-align: top;\n",
       "    }\n",
       "\n",
       "    .dataframe thead th {\n",
       "        text-align: right;\n",
       "    }\n",
       "</style>\n",
       "<table border=\"1\" class=\"dataframe\">\n",
       "  <thead>\n",
       "    <tr style=\"text-align: right;\">\n",
       "      <th></th>\n",
       "      <th>N_Days</th>\n",
       "      <th>Status</th>\n",
       "      <th>Drug</th>\n",
       "      <th>Age</th>\n",
       "      <th>Sex</th>\n",
       "      <th>Ascites</th>\n",
       "      <th>Hepatomegaly</th>\n",
       "      <th>Spiders</th>\n",
       "      <th>Edema</th>\n",
       "      <th>Bilirubin</th>\n",
       "      <th>Cholesterol</th>\n",
       "      <th>Albumin</th>\n",
       "      <th>Copper</th>\n",
       "      <th>Alk_Phos</th>\n",
       "      <th>SGOT</th>\n",
       "      <th>Tryglicerides</th>\n",
       "      <th>Platelets</th>\n",
       "      <th>Prothrombin</th>\n",
       "    </tr>\n",
       "  </thead>\n",
       "  <tbody>\n",
       "    <tr>\n",
       "      <th>0</th>\n",
       "      <td>2011</td>\n",
       "      <td>1</td>\n",
       "      <td>0.0</td>\n",
       "      <td>23376</td>\n",
       "      <td>0</td>\n",
       "      <td>0.0</td>\n",
       "      <td>1.0</td>\n",
       "      <td>0.0</td>\n",
       "      <td>0</td>\n",
       "      <td>1.1</td>\n",
       "      <td>187.0</td>\n",
       "      <td>3.69</td>\n",
       "      <td>12.0</td>\n",
       "      <td>654.000000</td>\n",
       "      <td>110.566667</td>\n",
       "      <td>58.0</td>\n",
       "      <td>139.0</td>\n",
       "      <td>10.5</td>\n",
       "    </tr>\n",
       "    <tr>\n",
       "      <th>1</th>\n",
       "      <td>4795</td>\n",
       "      <td>0</td>\n",
       "      <td>1.0</td>\n",
       "      <td>12419</td>\n",
       "      <td>0</td>\n",
       "      <td>0.0</td>\n",
       "      <td>0.0</td>\n",
       "      <td>0.0</td>\n",
       "      <td>0</td>\n",
       "      <td>1.8</td>\n",
       "      <td>132.0</td>\n",
       "      <td>3.24</td>\n",
       "      <td>17.0</td>\n",
       "      <td>423.000000</td>\n",
       "      <td>114.085000</td>\n",
       "      <td>46.0</td>\n",
       "      <td>203.0</td>\n",
       "      <td>18.0</td>\n",
       "    </tr>\n",
       "    <tr>\n",
       "      <th>2</th>\n",
       "      <td>1581</td>\n",
       "      <td>0</td>\n",
       "      <td>0.0</td>\n",
       "      <td>24472</td>\n",
       "      <td>0</td>\n",
       "      <td>0.0</td>\n",
       "      <td>0.0</td>\n",
       "      <td>0.0</td>\n",
       "      <td>0</td>\n",
       "      <td>0.7</td>\n",
       "      <td>246.0</td>\n",
       "      <td>3.06</td>\n",
       "      <td>33.0</td>\n",
       "      <td>3561.533333</td>\n",
       "      <td>111.656667</td>\n",
       "      <td>69.0</td>\n",
       "      <td>165.0</td>\n",
       "      <td>10.0</td>\n",
       "    </tr>\n",
       "    <tr>\n",
       "      <th>3</th>\n",
       "      <td>3282</td>\n",
       "      <td>1</td>\n",
       "      <td>0.0</td>\n",
       "      <td>19567</td>\n",
       "      <td>0</td>\n",
       "      <td>0.0</td>\n",
       "      <td>1.0</td>\n",
       "      <td>0.0</td>\n",
       "      <td>1</td>\n",
       "      <td>2.3</td>\n",
       "      <td>260.0</td>\n",
       "      <td>3.18</td>\n",
       "      <td>231.0</td>\n",
       "      <td>11320.200000</td>\n",
       "      <td>105.780000</td>\n",
       "      <td>94.0</td>\n",
       "      <td>216.0</td>\n",
       "      <td>12.4</td>\n",
       "    </tr>\n",
       "    <tr>\n",
       "      <th>4</th>\n",
       "      <td>140</td>\n",
       "      <td>1</td>\n",
       "      <td>0.0</td>\n",
       "      <td>25340</td>\n",
       "      <td>1</td>\n",
       "      <td>0.0</td>\n",
       "      <td>0.0</td>\n",
       "      <td>1.0</td>\n",
       "      <td>2</td>\n",
       "      <td>2.4</td>\n",
       "      <td>168.0</td>\n",
       "      <td>2.56</td>\n",
       "      <td>225.0</td>\n",
       "      <td>1056.000000</td>\n",
       "      <td>120.900000</td>\n",
       "      <td>75.0</td>\n",
       "      <td>108.0</td>\n",
       "      <td>14.1</td>\n",
       "    </tr>\n",
       "    <tr>\n",
       "      <th>...</th>\n",
       "      <td>...</td>\n",
       "      <td>...</td>\n",
       "      <td>...</td>\n",
       "      <td>...</td>\n",
       "      <td>...</td>\n",
       "      <td>...</td>\n",
       "      <td>...</td>\n",
       "      <td>...</td>\n",
       "      <td>...</td>\n",
       "      <td>...</td>\n",
       "      <td>...</td>\n",
       "      <td>...</td>\n",
       "      <td>...</td>\n",
       "      <td>...</td>\n",
       "      <td>...</td>\n",
       "      <td>...</td>\n",
       "      <td>...</td>\n",
       "      <td>...</td>\n",
       "    </tr>\n",
       "    <tr>\n",
       "      <th>413</th>\n",
       "      <td>4184</td>\n",
       "      <td>0</td>\n",
       "      <td>1.0</td>\n",
       "      <td>11868</td>\n",
       "      <td>0</td>\n",
       "      <td>0.0</td>\n",
       "      <td>0.0</td>\n",
       "      <td>0.0</td>\n",
       "      <td>0</td>\n",
       "      <td>0.5</td>\n",
       "      <td>320.0</td>\n",
       "      <td>3.54</td>\n",
       "      <td>51.0</td>\n",
       "      <td>1243.000000</td>\n",
       "      <td>122.450000</td>\n",
       "      <td>80.0</td>\n",
       "      <td>225.0</td>\n",
       "      <td>10.0</td>\n",
       "    </tr>\n",
       "    <tr>\n",
       "      <th>414</th>\n",
       "      <td>3388</td>\n",
       "      <td>0</td>\n",
       "      <td>1.0</td>\n",
       "      <td>22836</td>\n",
       "      <td>0</td>\n",
       "      <td>0.0</td>\n",
       "      <td>0.0</td>\n",
       "      <td>0.0</td>\n",
       "      <td>0</td>\n",
       "      <td>0.6</td>\n",
       "      <td>212.0</td>\n",
       "      <td>4.03</td>\n",
       "      <td>10.0</td>\n",
       "      <td>648.000000</td>\n",
       "      <td>71.300000</td>\n",
       "      <td>77.0</td>\n",
       "      <td>316.0</td>\n",
       "      <td>17.1</td>\n",
       "    </tr>\n",
       "    <tr>\n",
       "      <th>415</th>\n",
       "      <td>1569</td>\n",
       "      <td>0</td>\n",
       "      <td>1.0</td>\n",
       "      <td>18435</td>\n",
       "      <td>0</td>\n",
       "      <td>0.0</td>\n",
       "      <td>1.0</td>\n",
       "      <td>0.0</td>\n",
       "      <td>0</td>\n",
       "      <td>1.0</td>\n",
       "      <td>321.0</td>\n",
       "      <td>3.50</td>\n",
       "      <td>94.0</td>\n",
       "      <td>955.000000</td>\n",
       "      <td>111.000000</td>\n",
       "      <td>177.0</td>\n",
       "      <td>289.0</td>\n",
       "      <td>9.7</td>\n",
       "    </tr>\n",
       "    <tr>\n",
       "      <th>416</th>\n",
       "      <td>2855</td>\n",
       "      <td>0</td>\n",
       "      <td>0.0</td>\n",
       "      <td>19724</td>\n",
       "      <td>0</td>\n",
       "      <td>0.0</td>\n",
       "      <td>1.0</td>\n",
       "      <td>0.0</td>\n",
       "      <td>0</td>\n",
       "      <td>1.4</td>\n",
       "      <td>251.0</td>\n",
       "      <td>3.82</td>\n",
       "      <td>24.0</td>\n",
       "      <td>2958.366667</td>\n",
       "      <td>112.438333</td>\n",
       "      <td>73.0</td>\n",
       "      <td>249.0</td>\n",
       "      <td>10.3</td>\n",
       "    </tr>\n",
       "    <tr>\n",
       "      <th>417</th>\n",
       "      <td>110</td>\n",
       "      <td>1</td>\n",
       "      <td>1.0</td>\n",
       "      <td>17884</td>\n",
       "      <td>0</td>\n",
       "      <td>1.0</td>\n",
       "      <td>1.0</td>\n",
       "      <td>1.0</td>\n",
       "      <td>2</td>\n",
       "      <td>2.5</td>\n",
       "      <td>188.0</td>\n",
       "      <td>3.67</td>\n",
       "      <td>57.0</td>\n",
       "      <td>1273.000000</td>\n",
       "      <td>119.350000</td>\n",
       "      <td>102.0</td>\n",
       "      <td>110.0</td>\n",
       "      <td>11.1</td>\n",
       "    </tr>\n",
       "  </tbody>\n",
       "</table>\n",
       "<p>418 rows × 18 columns</p>\n",
       "</div>"
      ],
      "text/plain": [
       "     N_Days  Status  Drug    Age  Sex  Ascites  Hepatomegaly  Spiders  Edema  \\\n",
       "0      2011       1   0.0  23376    0      0.0           1.0      0.0      0   \n",
       "1      4795       0   1.0  12419    0      0.0           0.0      0.0      0   \n",
       "2      1581       0   0.0  24472    0      0.0           0.0      0.0      0   \n",
       "3      3282       1   0.0  19567    0      0.0           1.0      0.0      1   \n",
       "4       140       1   0.0  25340    1      0.0           0.0      1.0      2   \n",
       "..      ...     ...   ...    ...  ...      ...           ...      ...    ...   \n",
       "413    4184       0   1.0  11868    0      0.0           0.0      0.0      0   \n",
       "414    3388       0   1.0  22836    0      0.0           0.0      0.0      0   \n",
       "415    1569       0   1.0  18435    0      0.0           1.0      0.0      0   \n",
       "416    2855       0   0.0  19724    0      0.0           1.0      0.0      0   \n",
       "417     110       1   1.0  17884    0      1.0           1.0      1.0      2   \n",
       "\n",
       "     Bilirubin  Cholesterol  Albumin  Copper      Alk_Phos        SGOT  \\\n",
       "0          1.1        187.0     3.69    12.0    654.000000  110.566667   \n",
       "1          1.8        132.0     3.24    17.0    423.000000  114.085000   \n",
       "2          0.7        246.0     3.06    33.0   3561.533333  111.656667   \n",
       "3          2.3        260.0     3.18   231.0  11320.200000  105.780000   \n",
       "4          2.4        168.0     2.56   225.0   1056.000000  120.900000   \n",
       "..         ...          ...      ...     ...           ...         ...   \n",
       "413        0.5        320.0     3.54    51.0   1243.000000  122.450000   \n",
       "414        0.6        212.0     4.03    10.0    648.000000   71.300000   \n",
       "415        1.0        321.0     3.50    94.0    955.000000  111.000000   \n",
       "416        1.4        251.0     3.82    24.0   2958.366667  112.438333   \n",
       "417        2.5        188.0     3.67    57.0   1273.000000  119.350000   \n",
       "\n",
       "     Tryglicerides  Platelets  Prothrombin  \n",
       "0             58.0      139.0         10.5  \n",
       "1             46.0      203.0         18.0  \n",
       "2             69.0      165.0         10.0  \n",
       "3             94.0      216.0         12.4  \n",
       "4             75.0      108.0         14.1  \n",
       "..             ...        ...          ...  \n",
       "413           80.0      225.0         10.0  \n",
       "414           77.0      316.0         17.1  \n",
       "415          177.0      289.0          9.7  \n",
       "416           73.0      249.0         10.3  \n",
       "417          102.0      110.0         11.1  \n",
       "\n",
       "[418 rows x 18 columns]"
      ]
     },
     "execution_count": 6,
     "metadata": {},
     "output_type": "execute_result"
    }
   ],
   "source": [
    "data"
   ]
  },
  {
   "cell_type": "code",
   "execution_count": 7,
   "id": "f6585796-c7c5-4f06-a1f4-5f5aea784e42",
   "metadata": {},
   "outputs": [],
   "source": [
    "np.random.seed(42)\n",
    "data=data.sample(frac=1)"
   ]
  },
  {
   "cell_type": "code",
   "execution_count": 8,
   "id": "daf17014-4a05-4b90-9cc0-a83fdbb478db",
   "metadata": {},
   "outputs": [],
   "source": [
    "values=['N_Days','Age','Bilirubin','Cholesterol','Albumin','Copper','Alk_Phos',\n",
    "        'SGOT','Tryglicerides','Platelets','Prothrombin','Ascites','Hepatomegaly','Spiders','Edema',\n",
    "       'Status','Drug','Sex']"
   ]
  },
  {
   "cell_type": "code",
   "execution_count": 9,
   "id": "f6300ef8-de66-4ac7-81f9-4abeba0e2910",
   "metadata": {},
   "outputs": [],
   "source": [
    "data=data[values]"
   ]
  },
  {
   "cell_type": "markdown",
   "id": "b660f1df-14b8-462c-a36c-5718f1881bda",
   "metadata": {},
   "source": [
    "### UMAP on entire data"
   ]
  },
  {
   "cell_type": "code",
   "execution_count": 10,
   "id": "2326c5ac-3967-4a6e-8488-dd1dd29796e3",
   "metadata": {},
   "outputs": [],
   "source": [
    "from fdc.fdc import feature_clustering"
   ]
  },
  {
   "cell_type": "code",
   "execution_count": 11,
   "id": "4f208ccd-b32d-4a0c-b8be-e6edf64b5664",
   "metadata": {},
   "outputs": [
    {
     "data": {
      "image/png": "[encoded data removed]",
      "text/plain": [
       "<Figure size 500x500 with 1 Axes>"
      ]
     },
     "metadata": {},
     "output_type": "display_data"
    }
   ],
   "source": [
    "np.random.seed(42)\n",
    "umap_emb=feature_clustering(30,0.01,'euclidean',data,True)"
   ]
  },
  {
   "cell_type": "code",
   "execution_count": 12,
   "id": "148f6dc3-10d2-467d-8536-4454201fd39e",
   "metadata": {},
   "outputs": [],
   "source": [
    "from fdc.clustering import Clustering"
   ]
  },
  {
   "cell_type": "code",
   "execution_count": 13,
   "id": "1092aad7-6830-4ef0-b377-b91f0edf89c2",
   "metadata": {},
   "outputs": [
    {
     "data": {
      "image/png": "[encoded data removed]",
      "text/plain": [
       "<Figure size 560.361x500 with 1 Axes>"
      ]
     },
     "metadata": {},
     "output_type": "display_data"
    }
   ],
   "source": [
    "np.random.seed(42)\n",
    "umap_clustering=Clustering(umap_emb,umap_emb,True)\n",
    "umap_cluster_list,umap_cluster_counts=umap_clustering.K_means(2)"
   ]
  },
  {
   "cell_type": "markdown",
   "id": "f0068723-e652-4358-a2c4-761f5e1833d8",
   "metadata": {},
   "source": [
    "### Feature-type Distributed Clustering (FDC)"
   ]
  },
  {
   "cell_type": "code",
   "execution_count": 14,
   "id": "d91f3053-c382-490a-9c6a-e3925f5d0660",
   "metadata": {},
   "outputs": [],
   "source": [
    "cont_list=['N_Days','Age','Bilirubin','Cholesterol','Albumin','Copper','Alk_Phos','SGOT','Tryglicerides','Platelets','Prothrombin']\n",
    "\n",
    "ord_list=['Ascites','Hepatomegaly','Spiders','Edema']\n",
    "\n",
    "nom_list=['Status','Drug','Sex']\n"
   ]
  },
  {
   "cell_type": "code",
   "execution_count": 15,
   "id": "8597d25f-470b-41c5-8353-05f15421e850",
   "metadata": {},
   "outputs": [
    {
     "name": "stdout",
     "output_type": "stream",
     "text": [
      "FDC.normalize (init): 0.00001 / 0.000s\n",
      "FDC.normalize (clustering CONT): 1.79581 / 1.796s\n",
      "FDC.normalize (clustering ORD): 4.30493 / 6.101s\n",
      "FDC.normalize (clustering NOM): 3.93273 / 10.033s\n",
      "FDC.normalize (concat): 0.00022 / 10.034s\n",
      "FDC.normalize (umap 5 -> 2): 1.52524 / 11.559s\n",
      "FDC.normalize (array -> DataFrame): 0.00028 / 11.559s\n"
     ]
    },
    {
     "data": {
      "image/png": "[encoded data removed]",
      "text/plain": [
       "<Figure size 500x500 with 1 Axes>"
      ]
     },
     "metadata": {},
     "output_type": "display_data"
    },
    {
     "name": "stdout",
     "output_type": "stream",
     "text": [
      "FDC.normalize (plotting): 0.41961 / 11.979s\n",
      "FDC.normalize (array -> DataFrame): 0.00020 / 11.979s\n",
      "FDC.normalize (total): 0.00001 / 11.979s\n"
     ]
    }
   ],
   "source": [
    "from fdc.fdc import feature_clustering, canberra_modified, Clustering, FDC\n",
    "\n",
    "np.random.seed(42)\n",
    "\n",
    "fdc = FDC(clustering_cont=Clustering('euclidean',30,0.01)\n",
    "          , clustering_ord=Clustering(canberra_modified,30,0.01)\n",
    "          , clustering_nom=Clustering('hamming',30,0.01)\n",
    "          , visual=True\n",
    "          , use_pandas_output=True\n",
    "          , with_2d_embedding=True\n",
    "          )\n",
    "\n",
    "fdc.selectFeatures(continueous=cont_list, nomial=nom_list, ordinal=ord_list)\n",
    "\n",
    "FDC_emb_high,FDC_emb_low = fdc.normalize(data,cont_list=cont_list, nom_list=nom_list, ord_list=ord_list,\n",
    "                  with_2d_embedding=True,\n",
    "                  visual=True)"
   ]
  },
  {
   "cell_type": "markdown",
   "id": "c463a715-9608-4325-b72b-b710e1ccb589",
   "metadata": {},
   "source": [
    "### Clustering using K-means"
   ]
  },
  {
   "cell_type": "code",
   "execution_count": 16,
   "id": "80dbc9a4-8997-42d2-b4fd-49515bb2f8c1",
   "metadata": {
    "scrolled": true
   },
   "outputs": [
    {
     "data": {
      "image/png": "[encoded data removed]",
      "text/plain": [
       "<Figure size 560.361x500 with 1 Axes>"
      ]
     },
     "metadata": {},
     "output_type": "display_data"
    }
   ],
   "source": [
    "from fdc.clustering import *\n",
    "np.random.seed(42)\n",
    "clustering=Clustering(FDC_emb_low,FDC_emb_low,True)\n",
    "cluster_list,cluster_counts=clustering.K_means(4)"
   ]
  },
  {
   "cell_type": "code",
   "execution_count": 17,
   "id": "c2f410a1",
   "metadata": {},
   "outputs": [
    {
     "data": {
      "text/plain": [
       "array([148, 100, 111,  59])"
      ]
     },
     "execution_count": 17,
     "metadata": {},
     "output_type": "execute_result"
    }
   ],
   "source": [
    "cluster_counts"
   ]
  },
  {
   "cell_type": "markdown",
   "id": "efc4b041-6d68-4065-813f-3536799b9f23",
   "metadata": {},
   "source": [
    "### Concatinating cluster labels as Target to original data"
   ]
  },
  {
   "cell_type": "code",
   "execution_count": 18,
   "id": "5112b703-071c-45d4-8d31-ab14259214c7",
   "metadata": {},
   "outputs": [],
   "source": [
    "data[\"Target\"]=cluster_list"
   ]
  },
  {
   "cell_type": "code",
   "execution_count": 19,
   "id": "8e20b638-c2f8-4ab7-9142-ea25dfef1e16",
   "metadata": {},
   "outputs": [
    {
     "data": {
      "text/html": [
       "<div>\n",
       "<style scoped>\n",
       "    .dataframe tbody tr th:only-of-type {\n",
       "        vertical-align: middle;\n",
       "    }\n",
       "\n",
       "    .dataframe tbody tr th {\n",
       "        vertical-align: top;\n",
       "    }\n",
       "\n",
       "    .dataframe thead th {\n",
       "        text-align: right;\n",
       "    }\n",
       "</style>\n",
       "<table border=\"1\" class=\"dataframe\">\n",
       "  <thead>\n",
       "    <tr style=\"text-align: right;\">\n",
       "      <th></th>\n",
       "      <th>N_Days</th>\n",
       "      <th>Age</th>\n",
       "      <th>Bilirubin</th>\n",
       "      <th>Cholesterol</th>\n",
       "      <th>Albumin</th>\n",
       "      <th>Copper</th>\n",
       "      <th>Alk_Phos</th>\n",
       "      <th>SGOT</th>\n",
       "      <th>Tryglicerides</th>\n",
       "      <th>Platelets</th>\n",
       "      <th>Prothrombin</th>\n",
       "      <th>Ascites</th>\n",
       "      <th>Hepatomegaly</th>\n",
       "      <th>Spiders</th>\n",
       "      <th>Edema</th>\n",
       "      <th>Status</th>\n",
       "      <th>Drug</th>\n",
       "      <th>Sex</th>\n",
       "      <th>Target</th>\n",
       "    </tr>\n",
       "  </thead>\n",
       "  <tbody>\n",
       "    <tr>\n",
       "      <th>321</th>\n",
       "      <td>3098</td>\n",
       "      <td>20440</td>\n",
       "      <td>0.8</td>\n",
       "      <td>263.0</td>\n",
       "      <td>3.35</td>\n",
       "      <td>27.0</td>\n",
       "      <td>1636.0</td>\n",
       "      <td>116.250000</td>\n",
       "      <td>69.0</td>\n",
       "      <td>206.0</td>\n",
       "      <td>9.8</td>\n",
       "      <td>0.0</td>\n",
       "      <td>0.0</td>\n",
       "      <td>0.0</td>\n",
       "      <td>0</td>\n",
       "      <td>0</td>\n",
       "      <td>0.0</td>\n",
       "      <td>0</td>\n",
       "      <td>0</td>\n",
       "    </tr>\n",
       "    <tr>\n",
       "      <th>324</th>\n",
       "      <td>3992</td>\n",
       "      <td>14684</td>\n",
       "      <td>1.2</td>\n",
       "      <td>256.0</td>\n",
       "      <td>3.60</td>\n",
       "      <td>74.0</td>\n",
       "      <td>724.0</td>\n",
       "      <td>141.050000</td>\n",
       "      <td>108.0</td>\n",
       "      <td>430.0</td>\n",
       "      <td>10.0</td>\n",
       "      <td>0.0</td>\n",
       "      <td>0.0</td>\n",
       "      <td>0.0</td>\n",
       "      <td>0</td>\n",
       "      <td>0</td>\n",
       "      <td>0.0</td>\n",
       "      <td>0</td>\n",
       "      <td>0</td>\n",
       "    </tr>\n",
       "    <tr>\n",
       "      <th>388</th>\n",
       "      <td>1908</td>\n",
       "      <td>14019</td>\n",
       "      <td>1.5</td>\n",
       "      <td>253.0</td>\n",
       "      <td>3.79</td>\n",
       "      <td>67.0</td>\n",
       "      <td>1006.0</td>\n",
       "      <td>139.500000</td>\n",
       "      <td>106.0</td>\n",
       "      <td>341.0</td>\n",
       "      <td>9.7</td>\n",
       "      <td>0.0</td>\n",
       "      <td>1.0</td>\n",
       "      <td>1.0</td>\n",
       "      <td>0</td>\n",
       "      <td>0</td>\n",
       "      <td>0.0</td>\n",
       "      <td>0</td>\n",
       "      <td>3</td>\n",
       "    </tr>\n",
       "    <tr>\n",
       "      <th>56</th>\n",
       "      <td>326</td>\n",
       "      <td>18199</td>\n",
       "      <td>6.6</td>\n",
       "      <td>244.0</td>\n",
       "      <td>3.41</td>\n",
       "      <td>199.0</td>\n",
       "      <td>1819.0</td>\n",
       "      <td>170.500000</td>\n",
       "      <td>91.0</td>\n",
       "      <td>132.0</td>\n",
       "      <td>12.1</td>\n",
       "      <td>0.0</td>\n",
       "      <td>1.0</td>\n",
       "      <td>1.0</td>\n",
       "      <td>1</td>\n",
       "      <td>1</td>\n",
       "      <td>1.0</td>\n",
       "      <td>0</td>\n",
       "      <td>3</td>\n",
       "    </tr>\n",
       "    <tr>\n",
       "      <th>153</th>\n",
       "      <td>2563</td>\n",
       "      <td>21185</td>\n",
       "      <td>3.0</td>\n",
       "      <td>217.0</td>\n",
       "      <td>3.46</td>\n",
       "      <td>13.0</td>\n",
       "      <td>414.0</td>\n",
       "      <td>64.583333</td>\n",
       "      <td>62.0</td>\n",
       "      <td>109.0</td>\n",
       "      <td>10.4</td>\n",
       "      <td>0.0</td>\n",
       "      <td>0.0</td>\n",
       "      <td>0.0</td>\n",
       "      <td>0</td>\n",
       "      <td>0</td>\n",
       "      <td>0.0</td>\n",
       "      <td>0</td>\n",
       "      <td>0</td>\n",
       "    </tr>\n",
       "    <tr>\n",
       "      <th>...</th>\n",
       "      <td>...</td>\n",
       "      <td>...</td>\n",
       "      <td>...</td>\n",
       "      <td>...</td>\n",
       "      <td>...</td>\n",
       "      <td>...</td>\n",
       "      <td>...</td>\n",
       "      <td>...</td>\n",
       "      <td>...</td>\n",
       "      <td>...</td>\n",
       "      <td>...</td>\n",
       "      <td>...</td>\n",
       "      <td>...</td>\n",
       "      <td>...</td>\n",
       "      <td>...</td>\n",
       "      <td>...</td>\n",
       "      <td>...</td>\n",
       "      <td>...</td>\n",
       "      <td>...</td>\n",
       "    </tr>\n",
       "    <tr>\n",
       "      <th>71</th>\n",
       "      <td>1433</td>\n",
       "      <td>20510</td>\n",
       "      <td>0.5</td>\n",
       "      <td>198.0</td>\n",
       "      <td>3.77</td>\n",
       "      <td>38.0</td>\n",
       "      <td>911.0</td>\n",
       "      <td>57.000000</td>\n",
       "      <td>56.0</td>\n",
       "      <td>280.0</td>\n",
       "      <td>9.8</td>\n",
       "      <td>0.0</td>\n",
       "      <td>0.0</td>\n",
       "      <td>0.0</td>\n",
       "      <td>0</td>\n",
       "      <td>0</td>\n",
       "      <td>1.0</td>\n",
       "      <td>0</td>\n",
       "      <td>0</td>\n",
       "    </tr>\n",
       "    <tr>\n",
       "      <th>106</th>\n",
       "      <td>4256</td>\n",
       "      <td>16034</td>\n",
       "      <td>0.6</td>\n",
       "      <td>216.0</td>\n",
       "      <td>3.94</td>\n",
       "      <td>28.0</td>\n",
       "      <td>601.0</td>\n",
       "      <td>60.450000</td>\n",
       "      <td>188.0</td>\n",
       "      <td>211.0</td>\n",
       "      <td>13.0</td>\n",
       "      <td>0.0</td>\n",
       "      <td>0.0</td>\n",
       "      <td>0.0</td>\n",
       "      <td>0</td>\n",
       "      <td>0</td>\n",
       "      <td>1.0</td>\n",
       "      <td>1</td>\n",
       "      <td>0</td>\n",
       "    </tr>\n",
       "    <tr>\n",
       "      <th>270</th>\n",
       "      <td>4191</td>\n",
       "      <td>16967</td>\n",
       "      <td>1.4</td>\n",
       "      <td>427.0</td>\n",
       "      <td>3.70</td>\n",
       "      <td>105.0</td>\n",
       "      <td>1909.0</td>\n",
       "      <td>182.900000</td>\n",
       "      <td>171.0</td>\n",
       "      <td>123.0</td>\n",
       "      <td>11.0</td>\n",
       "      <td>0.0</td>\n",
       "      <td>1.0</td>\n",
       "      <td>0.0</td>\n",
       "      <td>0</td>\n",
       "      <td>1</td>\n",
       "      <td>0.0</td>\n",
       "      <td>1</td>\n",
       "      <td>1</td>\n",
       "    </tr>\n",
       "    <tr>\n",
       "      <th>348</th>\n",
       "      <td>216</td>\n",
       "      <td>19246</td>\n",
       "      <td>24.5</td>\n",
       "      <td>1092.0</td>\n",
       "      <td>3.35</td>\n",
       "      <td>233.0</td>\n",
       "      <td>3740.0</td>\n",
       "      <td>147.250000</td>\n",
       "      <td>432.0</td>\n",
       "      <td>399.0</td>\n",
       "      <td>15.2</td>\n",
       "      <td>1.0</td>\n",
       "      <td>1.0</td>\n",
       "      <td>1.0</td>\n",
       "      <td>0</td>\n",
       "      <td>1</td>\n",
       "      <td>1.0</td>\n",
       "      <td>0</td>\n",
       "      <td>3</td>\n",
       "    </tr>\n",
       "    <tr>\n",
       "      <th>102</th>\n",
       "      <td>1236</td>\n",
       "      <td>18993</td>\n",
       "      <td>1.5</td>\n",
       "      <td>340.0</td>\n",
       "      <td>3.42</td>\n",
       "      <td>53.0</td>\n",
       "      <td>289.0</td>\n",
       "      <td>137.433333</td>\n",
       "      <td>93.0</td>\n",
       "      <td>246.0</td>\n",
       "      <td>10.3</td>\n",
       "      <td>0.0</td>\n",
       "      <td>1.0</td>\n",
       "      <td>0.0</td>\n",
       "      <td>0</td>\n",
       "      <td>0</td>\n",
       "      <td>1.0</td>\n",
       "      <td>0</td>\n",
       "      <td>2</td>\n",
       "    </tr>\n",
       "  </tbody>\n",
       "</table>\n",
       "<p>418 rows × 19 columns</p>\n",
       "</div>"
      ],
      "text/plain": [
       "     N_Days    Age  Bilirubin  Cholesterol  Albumin  Copper  Alk_Phos  \\\n",
       "321    3098  20440        0.8        263.0     3.35    27.0    1636.0   \n",
       "324    3992  14684        1.2        256.0     3.60    74.0     724.0   \n",
       "388    1908  14019        1.5        253.0     3.79    67.0    1006.0   \n",
       "56      326  18199        6.6        244.0     3.41   199.0    1819.0   \n",
       "153    2563  21185        3.0        217.0     3.46    13.0     414.0   \n",
       "..      ...    ...        ...          ...      ...     ...       ...   \n",
       "71     1433  20510        0.5        198.0     3.77    38.0     911.0   \n",
       "106    4256  16034        0.6        216.0     3.94    28.0     601.0   \n",
       "270    4191  16967        1.4        427.0     3.70   105.0    1909.0   \n",
       "348     216  19246       24.5       1092.0     3.35   233.0    3740.0   \n",
       "102    1236  18993        1.5        340.0     3.42    53.0     289.0   \n",
       "\n",
       "           SGOT  Tryglicerides  Platelets  Prothrombin  Ascites  Hepatomegaly  \\\n",
       "321  116.250000           69.0      206.0          9.8      0.0           0.0   \n",
       "324  141.050000          108.0      430.0         10.0      0.0           0.0   \n",
       "388  139.500000          106.0      341.0          9.7      0.0           1.0   \n",
       "56   170.500000           91.0      132.0         12.1      0.0           1.0   \n",
       "153   64.583333           62.0      109.0         10.4      0.0           0.0   \n",
       "..          ...            ...        ...          ...      ...           ...   \n",
       "71    57.000000           56.0      280.0          9.8      0.0           0.0   \n",
       "106   60.450000          188.0      211.0         13.0      0.0           0.0   \n",
       "270  182.900000          171.0      123.0         11.0      0.0           1.0   \n",
       "348  147.250000          432.0      399.0         15.2      1.0           1.0   \n",
       "102  137.433333           93.0      246.0         10.3      0.0           1.0   \n",
       "\n",
       "     Spiders  Edema  Status  Drug  Sex  Target  \n",
       "321      0.0      0       0   0.0    0       0  \n",
       "324      0.0      0       0   0.0    0       0  \n",
       "388      1.0      0       0   0.0    0       3  \n",
       "56       1.0      1       1   1.0    0       3  \n",
       "153      0.0      0       0   0.0    0       0  \n",
       "..       ...    ...     ...   ...  ...     ...  \n",
       "71       0.0      0       0   1.0    0       0  \n",
       "106      0.0      0       0   1.0    1       0  \n",
       "270      0.0      0       1   0.0    1       1  \n",
       "348      1.0      0       1   1.0    0       3  \n",
       "102      0.0      0       0   1.0    0       2  \n",
       "\n",
       "[418 rows x 19 columns]"
      ]
     },
     "execution_count": 19,
     "metadata": {},
     "output_type": "execute_result"
    }
   ],
   "source": [
    "data"
   ]
  },
  {
   "cell_type": "markdown",
   "id": "ba45aa63-9335-40e5-9904-fb70e7a04fe7",
   "metadata": {},
   "source": [
    "### Train-val split"
   ]
  },
  {
   "cell_type": "code",
   "execution_count": 20,
   "id": "baebcbc7-8504-450b-af5b-aa18b85955b8",
   "metadata": {},
   "outputs": [],
   "source": [
    "# Using Skicit-learn to split data into training and testing sets\n",
    "from sklearn.model_selection import train_test_split\n",
    "np.random.seed(42)\n",
    "# Split the data into training and testing sets\n",
    "train_features, test_features, train_labels, test_labels = train_test_split(np.array(data.drop([\"Target\"],axis=1)), np.array(cluster_list), test_size = 0.25, random_state = 42)"
   ]
  },
  {
   "cell_type": "markdown",
   "id": "50391cb0-eb23-45e8-9d6b-068c1c86c6e7",
   "metadata": {},
   "source": [
    "### Gradient boosting classifier for original traing data (Model-1)"
   ]
  },
  {
   "cell_type": "code",
   "execution_count": 21,
   "id": "15750348-21ad-4cdb-b33b-905583a1c314",
   "metadata": {
    "scrolled": true
   },
   "outputs": [],
   "source": [
    "from sklearn.ensemble import GradientBoostingClassifier\n",
    "np.random.seed(42)\n",
    "model_1 = GradientBoostingClassifier(n_estimators=20, learning_rate=0.5, max_features=2, max_depth=2, random_state=42)\n"
   ]
  },
  {
   "cell_type": "code",
   "execution_count": 22,
   "id": "85fbb50a",
   "metadata": {},
   "outputs": [
    {
     "name": "stdout",
     "output_type": "stream",
     "text": [
      "[0.88888889 0.9047619  0.82539683 0.88709677 0.93548387]\n",
      "Avg : 0.8883256528417818\n"
     ]
    }
   ],
   "source": [
    "from sklearn.model_selection import cross_val_score\n",
    "score_lr=cross_val_score(model_1, train_features, train_labels,cv=5)\n",
    "print(score_lr)\n",
    "print(\"Avg :\",np.average(score_lr))"
   ]
  },
  {
   "cell_type": "code",
   "execution_count": 23,
   "id": "dd457467",
   "metadata": {},
   "outputs": [
    {
     "data": {
      "text/html": [
       "<style>#sk-container-id-1 {color: black;background-color: white;}#sk-container-id-1 pre{padding: 0;}#sk-container-id-1 div.sk-toggleable {background-color: white;}#sk-container-id-1 label.sk-toggleable__label {cursor: pointer;display: block;width: 100%;margin-bottom: 0;padding: 0.3em;box-sizing: border-box;text-align: center;}#sk-container-id-1 label.sk-toggleable__label-arrow:before {content: \"▸\";float: left;margin-right: 0.25em;color: #696969;}#sk-container-id-1 label.sk-toggleable__label-arrow:hover:before {color: black;}#sk-container-id-1 div.sk-estimator:hover label.sk-toggleable__label-arrow:before {color: black;}#sk-container-id-1 div.sk-toggleable__content {max-height: 0;max-width: 0;overflow: hidden;text-align: left;background-color: #f0f8ff;}#sk-container-id-1 div.sk-toggleable__content pre {margin: 0.2em;color: black;border-radius: 0.25em;background-color: #f0f8ff;}#sk-container-id-1 input.sk-toggleable__control:checked~div.sk-toggleable__content {max-height: 200px;max-width: 100%;overflow: auto;}#sk-container-id-1 input.sk-toggleable__control:checked~label.sk-toggleable__label-arrow:before {content: \"▾\";}#sk-container-id-1 div.sk-estimator input.sk-toggleable__control:checked~label.sk-toggleable__label {background-color: #d4ebff;}#sk-container-id-1 div.sk-label input.sk-toggleable__control:checked~label.sk-toggleable__label {background-color: #d4ebff;}#sk-container-id-1 input.sk-hidden--visually {border: 0;clip: rect(1px 1px 1px 1px);clip: rect(1px, 1px, 1px, 1px);height: 1px;margin: -1px;overflow: hidden;padding: 0;position: absolute;width: 1px;}#sk-container-id-1 div.sk-estimator {font-family: monospace;background-color: #f0f8ff;border: 1px dotted black;border-radius: 0.25em;box-sizing: border-box;margin-bottom: 0.5em;}#sk-container-id-1 div.sk-estimator:hover {background-color: #d4ebff;}#sk-container-id-1 div.sk-parallel-item::after {content: \"\";width: 100%;border-bottom: 1px solid gray;flex-grow: 1;}#sk-container-id-1 div.sk-label:hover label.sk-toggleable__label {background-color: #d4ebff;}#sk-container-id-1 div.sk-serial::before {content: \"\";position: absolute;border-left: 1px solid gray;box-sizing: border-box;top: 0;bottom: 0;left: 50%;z-index: 0;}#sk-container-id-1 div.sk-serial {display: flex;flex-direction: column;align-items: center;background-color: white;padding-right: 0.2em;padding-left: 0.2em;position: relative;}#sk-container-id-1 div.sk-item {position: relative;z-index: 1;}#sk-container-id-1 div.sk-parallel {display: flex;align-items: stretch;justify-content: center;background-color: white;position: relative;}#sk-container-id-1 div.sk-item::before, #sk-container-id-1 div.sk-parallel-item::before {content: \"\";position: absolute;border-left: 1px solid gray;box-sizing: border-box;top: 0;bottom: 0;left: 50%;z-index: -1;}#sk-container-id-1 div.sk-parallel-item {display: flex;flex-direction: column;z-index: 1;position: relative;background-color: white;}#sk-container-id-1 div.sk-parallel-item:first-child::after {align-self: flex-end;width: 50%;}#sk-container-id-1 div.sk-parallel-item:last-child::after {align-self: flex-start;width: 50%;}#sk-container-id-1 div.sk-parallel-item:only-child::after {width: 0;}#sk-container-id-1 div.sk-dashed-wrapped {border: 1px dashed gray;margin: 0 0.4em 0.5em 0.4em;box-sizing: border-box;padding-bottom: 0.4em;background-color: white;}#sk-container-id-1 div.sk-label label {font-family: monospace;font-weight: bold;display: inline-block;line-height: 1.2em;}#sk-container-id-1 div.sk-label-container {text-align: center;}#sk-container-id-1 div.sk-container {/* jupyter's `normalize.less` sets `[hidden] { display: none; }` but bootstrap.min.css set `[hidden] { display: none !important; }` so we also need the `!important` here to be able to override the default hidden behavior on the sphinx rendered scikit-learn.org. See: https://github.com/scikit-learn/scikit-learn/issues/21755 */display: inline-block !important;position: relative;}#sk-container-id-1 div.sk-text-repr-fallback {display: none;}</style><div id=\"sk-container-id-1\" class=\"sk-top-container\"><div class=\"sk-text-repr-fallback\"><pre>GradientBoostingClassifier(learning_rate=0.5, max_depth=2, max_features=2,\n",
       "                           n_estimators=20, random_state=42)</pre><b>In a Jupyter environment, please rerun this cell to show the HTML representation or trust the notebook. <br />On GitHub, the HTML representation is unable to render, please try loading this page with nbviewer.org.</b></div><div class=\"sk-container\" hidden><div class=\"sk-item\"><div class=\"sk-estimator sk-toggleable\"><input class=\"sk-toggleable__control sk-hidden--visually\" id=\"sk-estimator-id-1\" type=\"checkbox\" checked><label for=\"sk-estimator-id-1\" class=\"sk-toggleable__label sk-toggleable__label-arrow\">GradientBoostingClassifier</label><div class=\"sk-toggleable__content\"><pre>GradientBoostingClassifier(learning_rate=0.5, max_depth=2, max_features=2,\n",
       "                           n_estimators=20, random_state=42)</pre></div></div></div></div></div>"
      ],
      "text/plain": [
       "GradientBoostingClassifier(learning_rate=0.5, max_depth=2, max_features=2,\n",
       "                           n_estimators=20, random_state=42)"
      ]
     },
     "execution_count": 23,
     "metadata": {},
     "output_type": "execute_result"
    }
   ],
   "source": [
    "model_1.fit(train_features,  train_labels)"
   ]
  },
  {
   "cell_type": "markdown",
   "id": "1866bf87-fb4d-424c-b7e7-548c53f04538",
   "metadata": {},
   "source": [
    "### Preparing training data for synthetic data generation"
   ]
  },
  {
   "cell_type": "code",
   "execution_count": 24,
   "id": "4902fa57-8bec-4dd3-8b03-5a54c60ef112",
   "metadata": {},
   "outputs": [],
   "source": [
    "train_features=pd.DataFrame(train_features)"
   ]
  },
  {
   "cell_type": "code",
   "execution_count": 25,
   "id": "322be8ac-b2be-489e-9bb4-884b3e6008f6",
   "metadata": {},
   "outputs": [],
   "source": [
    "train_features[\"Target\"]=train_labels"
   ]
  },
  {
   "cell_type": "code",
   "execution_count": 26,
   "id": "6b99aa96-5f7f-436b-9d31-88d8b976f0ba",
   "metadata": {},
   "outputs": [],
   "source": [
    "values=['N_Days','Age','Bilirubin','Cholesterol','Albumin','Copper','Alk_Phos',\n",
    "        'SGOT','Tryglicerides','Platelets','Prothrombin','Ascites','Hepatomegaly','Spiders','Edema',\n",
    "       'Status','Drug','Sex',\"Target\"]"
   ]
  },
  {
   "cell_type": "code",
   "execution_count": 27,
   "id": "aa7d0804-dbec-4594-aa3a-48c353b21021",
   "metadata": {},
   "outputs": [],
   "source": [
    "train_features.to_csv('Liver_cirrhosis_training_data(semi_sup).csv',index=False)"
   ]
  },
  {
   "cell_type": "code",
   "execution_count": 28,
   "id": "5765114e-28ee-4b69-9794-fd73233cc8c2",
   "metadata": {},
   "outputs": [],
   "source": [
    "hold_out_data=pd.DataFrame(test_features)\n",
    "hold_out_data['Target']=test_labels\n",
    "hold_out_data.columns=values\n",
    "hold_out_data.to_csv('Liver_cirrhosis_hold_out__data(semi_sup).csv',index=False)"
   ]
  },
  {
   "cell_type": "code",
   "execution_count": 29,
   "id": "b10cec94-21fe-424d-8df1-ca202d096453",
   "metadata": {},
   "outputs": [],
   "source": [
    "dicts = {}\n",
    "for i in range(len(values)):\n",
    "        dicts[values[i]]=i\n"
   ]
  },
  {
   "cell_type": "code",
   "execution_count": 30,
   "id": "e5a31ca1-6158-4174-b987-d4cde25ab557",
   "metadata": {},
   "outputs": [],
   "source": [
    "train_features.rename(columns=dicts,inplace=True)\n"
   ]
  },
  {
   "cell_type": "code",
   "execution_count": 31,
   "id": "4af27809-bf33-4c5e-9c95-8a87672bd8ff",
   "metadata": {},
   "outputs": [
    {
     "data": {
      "text/html": [
       "<div>\n",
       "<style scoped>\n",
       "    .dataframe tbody tr th:only-of-type {\n",
       "        vertical-align: middle;\n",
       "    }\n",
       "\n",
       "    .dataframe tbody tr th {\n",
       "        vertical-align: top;\n",
       "    }\n",
       "\n",
       "    .dataframe thead th {\n",
       "        text-align: right;\n",
       "    }\n",
       "</style>\n",
       "<table border=\"1\" class=\"dataframe\">\n",
       "  <thead>\n",
       "    <tr style=\"text-align: right;\">\n",
       "      <th></th>\n",
       "      <th>0</th>\n",
       "      <th>1</th>\n",
       "      <th>2</th>\n",
       "      <th>3</th>\n",
       "      <th>4</th>\n",
       "      <th>5</th>\n",
       "      <th>6</th>\n",
       "      <th>7</th>\n",
       "      <th>8</th>\n",
       "      <th>9</th>\n",
       "      <th>10</th>\n",
       "      <th>11</th>\n",
       "      <th>12</th>\n",
       "      <th>13</th>\n",
       "      <th>14</th>\n",
       "      <th>15</th>\n",
       "      <th>16</th>\n",
       "      <th>17</th>\n",
       "      <th>18</th>\n",
       "    </tr>\n",
       "  </thead>\n",
       "  <tbody>\n",
       "    <tr>\n",
       "      <th>0</th>\n",
       "      <td>1375.0</td>\n",
       "      <td>22646.0</td>\n",
       "      <td>7.3</td>\n",
       "      <td>246.0</td>\n",
       "      <td>3.49</td>\n",
       "      <td>24.0</td>\n",
       "      <td>797.000000</td>\n",
       "      <td>121.175000</td>\n",
       "      <td>113.0</td>\n",
       "      <td>189.0</td>\n",
       "      <td>10.9</td>\n",
       "      <td>0.0</td>\n",
       "      <td>1.0</td>\n",
       "      <td>0.0</td>\n",
       "      <td>0.0</td>\n",
       "      <td>0.0</td>\n",
       "      <td>0.0</td>\n",
       "      <td>0.0</td>\n",
       "      <td>2</td>\n",
       "    </tr>\n",
       "    <tr>\n",
       "      <th>1</th>\n",
       "      <td>3395.0</td>\n",
       "      <td>19295.0</td>\n",
       "      <td>3.2</td>\n",
       "      <td>259.0</td>\n",
       "      <td>4.30</td>\n",
       "      <td>208.0</td>\n",
       "      <td>1040.000000</td>\n",
       "      <td>110.050000</td>\n",
       "      <td>78.0</td>\n",
       "      <td>268.0</td>\n",
       "      <td>11.7</td>\n",
       "      <td>0.0</td>\n",
       "      <td>0.0</td>\n",
       "      <td>0.0</td>\n",
       "      <td>0.0</td>\n",
       "      <td>1.0</td>\n",
       "      <td>1.0</td>\n",
       "      <td>1.0</td>\n",
       "      <td>0</td>\n",
       "    </tr>\n",
       "    <tr>\n",
       "      <th>2</th>\n",
       "      <td>785.0</td>\n",
       "      <td>19358.0</td>\n",
       "      <td>12.6</td>\n",
       "      <td>196.0</td>\n",
       "      <td>2.87</td>\n",
       "      <td>73.0</td>\n",
       "      <td>289.000000</td>\n",
       "      <td>145.333333</td>\n",
       "      <td>68.0</td>\n",
       "      <td>114.0</td>\n",
       "      <td>11.8</td>\n",
       "      <td>0.0</td>\n",
       "      <td>1.0</td>\n",
       "      <td>0.0</td>\n",
       "      <td>0.0</td>\n",
       "      <td>1.0</td>\n",
       "      <td>0.0</td>\n",
       "      <td>0.0</td>\n",
       "      <td>1</td>\n",
       "    </tr>\n",
       "    <tr>\n",
       "      <th>3</th>\n",
       "      <td>786.0</td>\n",
       "      <td>16839.0</td>\n",
       "      <td>2.9</td>\n",
       "      <td>332.0</td>\n",
       "      <td>3.60</td>\n",
       "      <td>86.0</td>\n",
       "      <td>1492.000000</td>\n",
       "      <td>134.850000</td>\n",
       "      <td>103.0</td>\n",
       "      <td>277.0</td>\n",
       "      <td>11.0</td>\n",
       "      <td>0.0</td>\n",
       "      <td>1.0</td>\n",
       "      <td>0.0</td>\n",
       "      <td>0.0</td>\n",
       "      <td>1.0</td>\n",
       "      <td>1.0</td>\n",
       "      <td>0.0</td>\n",
       "      <td>2</td>\n",
       "    </tr>\n",
       "    <tr>\n",
       "      <th>4</th>\n",
       "      <td>4509.0</td>\n",
       "      <td>23331.0</td>\n",
       "      <td>0.7</td>\n",
       "      <td>370.0</td>\n",
       "      <td>3.78</td>\n",
       "      <td>24.0</td>\n",
       "      <td>5833.000000</td>\n",
       "      <td>73.530000</td>\n",
       "      <td>86.0</td>\n",
       "      <td>390.0</td>\n",
       "      <td>10.6</td>\n",
       "      <td>0.0</td>\n",
       "      <td>0.0</td>\n",
       "      <td>0.0</td>\n",
       "      <td>0.0</td>\n",
       "      <td>0.0</td>\n",
       "      <td>1.0</td>\n",
       "      <td>0.0</td>\n",
       "      <td>0</td>\n",
       "    </tr>\n",
       "    <tr>\n",
       "      <th>...</th>\n",
       "      <td>...</td>\n",
       "      <td>...</td>\n",
       "      <td>...</td>\n",
       "      <td>...</td>\n",
       "      <td>...</td>\n",
       "      <td>...</td>\n",
       "      <td>...</td>\n",
       "      <td>...</td>\n",
       "      <td>...</td>\n",
       "      <td>...</td>\n",
       "      <td>...</td>\n",
       "      <td>...</td>\n",
       "      <td>...</td>\n",
       "      <td>...</td>\n",
       "      <td>...</td>\n",
       "      <td>...</td>\n",
       "      <td>...</td>\n",
       "      <td>...</td>\n",
       "      <td>...</td>\n",
       "    </tr>\n",
       "    <tr>\n",
       "      <th>308</th>\n",
       "      <td>2574.0</td>\n",
       "      <td>19237.0</td>\n",
       "      <td>0.5</td>\n",
       "      <td>251.0</td>\n",
       "      <td>4.52</td>\n",
       "      <td>31.0</td>\n",
       "      <td>784.000000</td>\n",
       "      <td>74.400000</td>\n",
       "      <td>58.0</td>\n",
       "      <td>361.0</td>\n",
       "      <td>10.1</td>\n",
       "      <td>0.0</td>\n",
       "      <td>0.0</td>\n",
       "      <td>0.0</td>\n",
       "      <td>0.0</td>\n",
       "      <td>0.0</td>\n",
       "      <td>0.0</td>\n",
       "      <td>0.0</td>\n",
       "      <td>0</td>\n",
       "    </tr>\n",
       "    <tr>\n",
       "      <th>309</th>\n",
       "      <td>1444.0</td>\n",
       "      <td>19002.0</td>\n",
       "      <td>5.2</td>\n",
       "      <td>1128.0</td>\n",
       "      <td>3.68</td>\n",
       "      <td>53.0</td>\n",
       "      <td>3228.000000</td>\n",
       "      <td>165.850000</td>\n",
       "      <td>166.0</td>\n",
       "      <td>421.0</td>\n",
       "      <td>9.9</td>\n",
       "      <td>0.0</td>\n",
       "      <td>1.0</td>\n",
       "      <td>1.0</td>\n",
       "      <td>0.0</td>\n",
       "      <td>1.0</td>\n",
       "      <td>1.0</td>\n",
       "      <td>0.0</td>\n",
       "      <td>3</td>\n",
       "    </tr>\n",
       "    <tr>\n",
       "      <th>310</th>\n",
       "      <td>2716.0</td>\n",
       "      <td>19358.0</td>\n",
       "      <td>0.6</td>\n",
       "      <td>251.0</td>\n",
       "      <td>4.19</td>\n",
       "      <td>25.0</td>\n",
       "      <td>1435.033333</td>\n",
       "      <td>71.121667</td>\n",
       "      <td>58.0</td>\n",
       "      <td>330.0</td>\n",
       "      <td>9.9</td>\n",
       "      <td>0.0</td>\n",
       "      <td>0.0</td>\n",
       "      <td>0.0</td>\n",
       "      <td>0.0</td>\n",
       "      <td>0.0</td>\n",
       "      <td>0.0</td>\n",
       "      <td>0.0</td>\n",
       "      <td>0</td>\n",
       "    </tr>\n",
       "    <tr>\n",
       "      <th>311</th>\n",
       "      <td>3458.0</td>\n",
       "      <td>20600.0</td>\n",
       "      <td>0.6</td>\n",
       "      <td>172.0</td>\n",
       "      <td>4.64</td>\n",
       "      <td>20.0</td>\n",
       "      <td>666.000000</td>\n",
       "      <td>54.250000</td>\n",
       "      <td>69.0</td>\n",
       "      <td>265.0</td>\n",
       "      <td>10.6</td>\n",
       "      <td>0.0</td>\n",
       "      <td>0.0</td>\n",
       "      <td>0.0</td>\n",
       "      <td>0.0</td>\n",
       "      <td>0.0</td>\n",
       "      <td>0.0</td>\n",
       "      <td>0.0</td>\n",
       "      <td>0</td>\n",
       "    </tr>\n",
       "    <tr>\n",
       "      <th>312</th>\n",
       "      <td>1295.0</td>\n",
       "      <td>16513.0</td>\n",
       "      <td>1.0</td>\n",
       "      <td>393.0</td>\n",
       "      <td>3.57</td>\n",
       "      <td>50.0</td>\n",
       "      <td>1307.000000</td>\n",
       "      <td>74.000000</td>\n",
       "      <td>103.0</td>\n",
       "      <td>295.0</td>\n",
       "      <td>10.5</td>\n",
       "      <td>0.0</td>\n",
       "      <td>0.0</td>\n",
       "      <td>0.0</td>\n",
       "      <td>0.0</td>\n",
       "      <td>0.0</td>\n",
       "      <td>1.0</td>\n",
       "      <td>0.0</td>\n",
       "      <td>0</td>\n",
       "    </tr>\n",
       "  </tbody>\n",
       "</table>\n",
       "<p>313 rows × 19 columns</p>\n",
       "</div>"
      ],
      "text/plain": [
       "         0        1     2       3     4      5            6           7   \\\n",
       "0    1375.0  22646.0   7.3   246.0  3.49   24.0   797.000000  121.175000   \n",
       "1    3395.0  19295.0   3.2   259.0  4.30  208.0  1040.000000  110.050000   \n",
       "2     785.0  19358.0  12.6   196.0  2.87   73.0   289.000000  145.333333   \n",
       "3     786.0  16839.0   2.9   332.0  3.60   86.0  1492.000000  134.850000   \n",
       "4    4509.0  23331.0   0.7   370.0  3.78   24.0  5833.000000   73.530000   \n",
       "..      ...      ...   ...     ...   ...    ...          ...         ...   \n",
       "308  2574.0  19237.0   0.5   251.0  4.52   31.0   784.000000   74.400000   \n",
       "309  1444.0  19002.0   5.2  1128.0  3.68   53.0  3228.000000  165.850000   \n",
       "310  2716.0  19358.0   0.6   251.0  4.19   25.0  1435.033333   71.121667   \n",
       "311  3458.0  20600.0   0.6   172.0  4.64   20.0   666.000000   54.250000   \n",
       "312  1295.0  16513.0   1.0   393.0  3.57   50.0  1307.000000   74.000000   \n",
       "\n",
       "        8      9     10   11   12   13   14   15   16   17  18  \n",
       "0    113.0  189.0  10.9  0.0  1.0  0.0  0.0  0.0  0.0  0.0   2  \n",
       "1     78.0  268.0  11.7  0.0  0.0  0.0  0.0  1.0  1.0  1.0   0  \n",
       "2     68.0  114.0  11.8  0.0  1.0  0.0  0.0  1.0  0.0  0.0   1  \n",
       "3    103.0  277.0  11.0  0.0  1.0  0.0  0.0  1.0  1.0  0.0   2  \n",
       "4     86.0  390.0  10.6  0.0  0.0  0.0  0.0  0.0  1.0  0.0   0  \n",
       "..     ...    ...   ...  ...  ...  ...  ...  ...  ...  ...  ..  \n",
       "308   58.0  361.0  10.1  0.0  0.0  0.0  0.0  0.0  0.0  0.0   0  \n",
       "309  166.0  421.0   9.9  0.0  1.0  1.0  0.0  1.0  1.0  0.0   3  \n",
       "310   58.0  330.0   9.9  0.0  0.0  0.0  0.0  0.0  0.0  0.0   0  \n",
       "311   69.0  265.0  10.6  0.0  0.0  0.0  0.0  0.0  0.0  0.0   0  \n",
       "312  103.0  295.0  10.5  0.0  0.0  0.0  0.0  0.0  1.0  0.0   0  \n",
       "\n",
       "[313 rows x 19 columns]"
      ]
     },
     "execution_count": 31,
     "metadata": {},
     "output_type": "execute_result"
    }
   ],
   "source": [
    "train_features"
   ]
  },
  {
   "cell_type": "markdown",
   "id": "d4a943c9",
   "metadata": {},
   "source": [
    "## NextConvGen"
   ]
  },
  {
   "cell_type": "markdown",
   "id": "e9320149-e3c5-4dde-a452-1d2fa9ce9c65",
   "metadata": {},
   "source": [
    "### FDC for searcing neighbors for synthetic data generation"
   ]
  },
  {
   "cell_type": "code",
   "execution_count": 32,
   "id": "a02579bd-56a4-445b-acfd-28f7d6b7c9d2",
   "metadata": {},
   "outputs": [],
   "source": [
    "from fdc.fdc import feature_clustering, canberra_modified, Clustering, FDC\n",
    "np.random.seed(42)\n",
    "fdc = FDC()\n",
    "fdc.ord_list=list(range(data.shape[1]))[11:15]\n",
    "fdc.nom_list = list(range(data.shape[1]))[15:]\n",
    "fdc.cont_list =list(range(data.shape[1]))[:11]"
   ]
  },
  {
   "cell_type": "code",
   "execution_count": 33,
   "id": "8c19cc2c-2ba9-44d4-a296-7dbbd2f21190",
   "metadata": {},
   "outputs": [],
   "source": [
    "train_features=np.array(train_features)"
   ]
  },
  {
   "cell_type": "markdown",
   "id": "e00c0f28-1f1a-42c8-bfa7-6a7e197f69eb",
   "metadata": {},
   "source": [
    "### Preapring and training NextConvGen model"
   ]
  },
  {
   "cell_type": "code",
   "execution_count": 34,
   "id": "e1915d60-5e96-40c4-94a5-c6f2879050f7",
   "metadata": {},
   "outputs": [],
   "source": [
    "gen = NextConvGeN(train_features.shape[1], neb=5, fdc=fdc)"
   ]
  },
  {
   "cell_type": "code",
   "execution_count": 35,
   "id": "213fc23f-57a7-46e4-98ce-b3c280c88658",
   "metadata": {},
   "outputs": [
    {
     "name": "stderr",
     "output_type": "stream",
     "text": [
      "2023-05-11 10:39:50.233240: W tensorflow/stream_executor/platform/default/dso_loader.cc:64] Could not load dynamic library 'libcuda.so.1'; dlerror: libcuda.so.1: cannot open shared object file: No such file or directory\n",
      "2023-05-11 10:39:50.233258: W tensorflow/stream_executor/cuda/cuda_driver.cc:269] failed call to cuInit: UNKNOWN ERROR (303)\n",
      "2023-05-11 10:39:50.233272: I tensorflow/stream_executor/cuda/cuda_diagnostics.cc:156] kernel driver does not appear to be running on this host (f61d203ff696): /proc/driver/nvidia/version does not exist\n",
      "2023-05-11 10:39:50.233394: I tensorflow/core/platform/cpu_feature_guard.cc:151] This TensorFlow binary is optimized with oneAPI Deep Neural Network Library (oneDNN) to use the following CPU instructions in performance-critical operations:  AVX2 FMA\n",
      "To enable them in other operations, rebuild TensorFlow with the appropriate compiler flags.\n"
     ]
    }
   ],
   "source": [
    "gen.reset(train_features)"
   ]
  },
  {
   "cell_type": "code",
   "execution_count": 36,
   "id": "c375e689-0b2f-4bf3-89db-5099dcf61c45",
   "metadata": {},
   "outputs": [
    {
     "name": "stdout",
     "output_type": "stream",
     "text": [
      "FDC.normalize (init): 0.00001 / 0.000s\n",
      "FDC.normalize (clustering CONT): 1.65665 / 1.657s\n",
      "FDC.normalize (clustering ORD): 3.01921 / 4.676s\n",
      "FDC.normalize (clustering NOM): 2.32524 / 7.001s\n",
      "FDC.normalize (concat): 0.00007 / 7.001s\n",
      "FDC.normalize (total): 0.00001 / 7.001s\n",
      "|N| = (313, 5)\n",
      "|D| = (313, 19)\n",
      "[==========] [======    ] [======    ]\r"
     ]
    }
   ],
   "source": [
    "from fdc.fdc import feature_clustering, canberra_modified, Clustering, FDC\n",
    "np.random.seed(42)\n",
    "gen.train(train_features)"
   ]
  },
  {
   "cell_type": "markdown",
   "id": "0fd2fd7a-6a7d-4f60-a92f-8962292a1f79",
   "metadata": {},
   "source": [
    "### Generating 1000 synthetic points and randomly selecting the same legth of original training points for evaluation"
   ]
  },
  {
   "cell_type": "code",
   "execution_count": 37,
   "id": "4311a7fd-a690-4503-87c2-fac3f7a53a1d",
   "metadata": {},
   "outputs": [],
   "source": [
    "from fdc.NN_models import *\n",
    "np.random.seed(42)\n",
    "syn_train_data = syn_data_gen(gen,1000,values)"
   ]
  },
  {
   "cell_type": "code",
   "execution_count": 38,
   "id": "a3842328-9c3c-4c6d-8772-b110c539185d",
   "metadata": {},
   "outputs": [],
   "source": [
    "def balanced_synthetic_data(org_data,syn_data):\n",
    "    import math\n",
    "    org_data_len = org_data.shape[0]\n",
    "    class_counts = org_data.iloc[:,-1].value_counts()\n",
    "    column_names = list( syn_data.columns)\n",
    "    df_list=[]\n",
    "    for i in range(len(class_counts)):\n",
    "        m = len(syn_data[syn_data['Target']==i])\n",
    "\n",
    "        if m < class_counts[i]:\n",
    "            run=math.ceil(class_counts[i]/m)\n",
    "            syn_data = syn_data_gen(gen,org_data_len*run,values)\n",
    "        c_i=syn_data[syn_data['Target']==i].sample(n=int(class_counts[i]),axis=0,random_state=42)\n",
    "        df_list.append(c_i)\n",
    "    balanced_df=pd.concat(df_list,names=column_names)\n",
    "    return balanced_df"
   ]
  },
  {
   "cell_type": "code",
   "execution_count": 39,
   "id": "ff866903-5ef8-4fd5-a441-fa88ce1726c0",
   "metadata": {},
   "outputs": [],
   "source": [
    "syn_train_data=balanced_synthetic_data(pd.DataFrame(train_features),syn_train_data)"
   ]
  },
  {
   "cell_type": "code",
   "execution_count": 40,
   "id": "b2efa935-52e0-4571-a000-b5a7348f5757",
   "metadata": {},
   "outputs": [
    {
     "data": {
      "text/plain": [
       "0.0    111\n",
       "2.0     86\n",
       "1.0     71\n",
       "3.0     45\n",
       "Name: Target, dtype: int64"
      ]
     },
     "execution_count": 40,
     "metadata": {},
     "output_type": "execute_result"
    }
   ],
   "source": [
    "syn_train_data['Target'].value_counts()"
   ]
  },
  {
   "cell_type": "code",
   "execution_count": 41,
   "id": "7f58ebdd-8627-46af-b397-18e4e1255d54",
   "metadata": {},
   "outputs": [],
   "source": [
    "syn_train_data.to_csv('Liver_cirrhosis_NextConvGen_syn_data.csv',index=False)"
   ]
  },
  {
   "cell_type": "code",
   "execution_count": 42,
   "id": "e5556ddb-6750-4861-a142-9e0fc2589883",
   "metadata": {},
   "outputs": [],
   "source": [
    "np.random.seed(42)\n",
    "syn_train_data=syn_train_data.sample(frac=1) #Shuffle the data set\n",
    "np.random.seed(42)\n",
    "i=[x for x in range(np.shape(syn_train_data)[0])]\n",
    "\n",
    "syn_train_data.set_index(pd.Series(i), inplace=True)"
   ]
  },
  {
   "cell_type": "code",
   "execution_count": 43,
   "id": "e7f5d292-1570-46cc-8c6f-ff798207a4c2",
   "metadata": {},
   "outputs": [
    {
     "data": {
      "text/html": [
       "<div>\n",
       "<style scoped>\n",
       "    .dataframe tbody tr th:only-of-type {\n",
       "        vertical-align: middle;\n",
       "    }\n",
       "\n",
       "    .dataframe tbody tr th {\n",
       "        vertical-align: top;\n",
       "    }\n",
       "\n",
       "    .dataframe thead th {\n",
       "        text-align: right;\n",
       "    }\n",
       "</style>\n",
       "<table border=\"1\" class=\"dataframe\">\n",
       "  <thead>\n",
       "    <tr style=\"text-align: right;\">\n",
       "      <th></th>\n",
       "      <th>N_Days</th>\n",
       "      <th>Age</th>\n",
       "      <th>Bilirubin</th>\n",
       "      <th>Cholesterol</th>\n",
       "      <th>Albumin</th>\n",
       "      <th>Copper</th>\n",
       "      <th>Alk_Phos</th>\n",
       "      <th>SGOT</th>\n",
       "      <th>Tryglicerides</th>\n",
       "      <th>Platelets</th>\n",
       "      <th>Prothrombin</th>\n",
       "      <th>Ascites</th>\n",
       "      <th>Hepatomegaly</th>\n",
       "      <th>Spiders</th>\n",
       "      <th>Edema</th>\n",
       "      <th>Status</th>\n",
       "      <th>Drug</th>\n",
       "      <th>Sex</th>\n",
       "      <th>Target</th>\n",
       "    </tr>\n",
       "  </thead>\n",
       "  <tbody>\n",
       "    <tr>\n",
       "      <th>0</th>\n",
       "      <td>2563.000000</td>\n",
       "      <td>21185.000000</td>\n",
       "      <td>3.000000</td>\n",
       "      <td>217.000000</td>\n",
       "      <td>3.460000</td>\n",
       "      <td>13.000000</td>\n",
       "      <td>414.000000</td>\n",
       "      <td>64.583336</td>\n",
       "      <td>62.000000</td>\n",
       "      <td>109.000000</td>\n",
       "      <td>10.400000</td>\n",
       "      <td>0.0</td>\n",
       "      <td>0.0</td>\n",
       "      <td>0.0</td>\n",
       "      <td>0.0</td>\n",
       "      <td>0.0</td>\n",
       "      <td>0.0</td>\n",
       "      <td>0.0</td>\n",
       "      <td>0.0</td>\n",
       "    </tr>\n",
       "    <tr>\n",
       "      <th>1</th>\n",
       "      <td>2393.830811</td>\n",
       "      <td>18738.429688</td>\n",
       "      <td>0.626447</td>\n",
       "      <td>251.334488</td>\n",
       "      <td>3.592131</td>\n",
       "      <td>26.614006</td>\n",
       "      <td>1345.406372</td>\n",
       "      <td>92.236542</td>\n",
       "      <td>58.722092</td>\n",
       "      <td>290.075562</td>\n",
       "      <td>10.496481</td>\n",
       "      <td>0.0</td>\n",
       "      <td>0.0</td>\n",
       "      <td>0.0</td>\n",
       "      <td>0.0</td>\n",
       "      <td>0.0</td>\n",
       "      <td>0.0</td>\n",
       "      <td>0.0</td>\n",
       "      <td>0.0</td>\n",
       "    </tr>\n",
       "    <tr>\n",
       "      <th>2</th>\n",
       "      <td>2905.396484</td>\n",
       "      <td>18997.583984</td>\n",
       "      <td>1.349564</td>\n",
       "      <td>307.718628</td>\n",
       "      <td>3.578779</td>\n",
       "      <td>68.864151</td>\n",
       "      <td>2617.984863</td>\n",
       "      <td>98.334206</td>\n",
       "      <td>115.623154</td>\n",
       "      <td>283.047302</td>\n",
       "      <td>10.645513</td>\n",
       "      <td>0.0</td>\n",
       "      <td>1.0</td>\n",
       "      <td>0.0</td>\n",
       "      <td>0.0</td>\n",
       "      <td>0.0</td>\n",
       "      <td>1.0</td>\n",
       "      <td>0.0</td>\n",
       "      <td>2.0</td>\n",
       "    </tr>\n",
       "    <tr>\n",
       "      <th>3</th>\n",
       "      <td>2487.746094</td>\n",
       "      <td>18720.740234</td>\n",
       "      <td>2.851137</td>\n",
       "      <td>280.160980</td>\n",
       "      <td>3.471269</td>\n",
       "      <td>118.756325</td>\n",
       "      <td>4131.479492</td>\n",
       "      <td>142.879883</td>\n",
       "      <td>141.034653</td>\n",
       "      <td>185.471695</td>\n",
       "      <td>11.434166</td>\n",
       "      <td>0.0</td>\n",
       "      <td>1.0</td>\n",
       "      <td>0.0</td>\n",
       "      <td>0.0</td>\n",
       "      <td>1.0</td>\n",
       "      <td>0.0</td>\n",
       "      <td>1.0</td>\n",
       "      <td>1.0</td>\n",
       "    </tr>\n",
       "    <tr>\n",
       "      <th>4</th>\n",
       "      <td>2683.538330</td>\n",
       "      <td>18145.859375</td>\n",
       "      <td>0.654361</td>\n",
       "      <td>241.013245</td>\n",
       "      <td>3.773805</td>\n",
       "      <td>48.170128</td>\n",
       "      <td>944.381531</td>\n",
       "      <td>66.526245</td>\n",
       "      <td>77.870125</td>\n",
       "      <td>246.027191</td>\n",
       "      <td>10.603357</td>\n",
       "      <td>0.0</td>\n",
       "      <td>0.0</td>\n",
       "      <td>0.0</td>\n",
       "      <td>0.0</td>\n",
       "      <td>0.0</td>\n",
       "      <td>0.0</td>\n",
       "      <td>0.0</td>\n",
       "      <td>0.0</td>\n",
       "    </tr>\n",
       "    <tr>\n",
       "      <th>...</th>\n",
       "      <td>...</td>\n",
       "      <td>...</td>\n",
       "      <td>...</td>\n",
       "      <td>...</td>\n",
       "      <td>...</td>\n",
       "      <td>...</td>\n",
       "      <td>...</td>\n",
       "      <td>...</td>\n",
       "      <td>...</td>\n",
       "      <td>...</td>\n",
       "      <td>...</td>\n",
       "      <td>...</td>\n",
       "      <td>...</td>\n",
       "      <td>...</td>\n",
       "      <td>...</td>\n",
       "      <td>...</td>\n",
       "      <td>...</td>\n",
       "      <td>...</td>\n",
       "      <td>...</td>\n",
       "    </tr>\n",
       "    <tr>\n",
       "      <th>308</th>\n",
       "      <td>1560.000000</td>\n",
       "      <td>14610.000000</td>\n",
       "      <td>0.900000</td>\n",
       "      <td>226.000000</td>\n",
       "      <td>3.500000</td>\n",
       "      <td>22.000000</td>\n",
       "      <td>2228.699951</td>\n",
       "      <td>132.929993</td>\n",
       "      <td>85.000000</td>\n",
       "      <td>117.000000</td>\n",
       "      <td>10.900000</td>\n",
       "      <td>0.0</td>\n",
       "      <td>1.0</td>\n",
       "      <td>0.0</td>\n",
       "      <td>0.0</td>\n",
       "      <td>0.0</td>\n",
       "      <td>0.0</td>\n",
       "      <td>0.0</td>\n",
       "      <td>2.0</td>\n",
       "    </tr>\n",
       "    <tr>\n",
       "      <th>309</th>\n",
       "      <td>3151.923828</td>\n",
       "      <td>20036.845703</td>\n",
       "      <td>0.754224</td>\n",
       "      <td>296.333099</td>\n",
       "      <td>3.901993</td>\n",
       "      <td>47.910072</td>\n",
       "      <td>1059.000366</td>\n",
       "      <td>127.687515</td>\n",
       "      <td>120.785378</td>\n",
       "      <td>239.458557</td>\n",
       "      <td>10.619194</td>\n",
       "      <td>0.0</td>\n",
       "      <td>0.0</td>\n",
       "      <td>0.0</td>\n",
       "      <td>0.0</td>\n",
       "      <td>0.0</td>\n",
       "      <td>1.0</td>\n",
       "      <td>0.0</td>\n",
       "      <td>0.0</td>\n",
       "    </tr>\n",
       "    <tr>\n",
       "      <th>310</th>\n",
       "      <td>838.999939</td>\n",
       "      <td>13878.999023</td>\n",
       "      <td>2.000000</td>\n",
       "      <td>246.999985</td>\n",
       "      <td>3.160000</td>\n",
       "      <td>68.999992</td>\n",
       "      <td>1049.999878</td>\n",
       "      <td>116.999992</td>\n",
       "      <td>87.999992</td>\n",
       "      <td>334.999969</td>\n",
       "      <td>10.499999</td>\n",
       "      <td>0.0</td>\n",
       "      <td>0.0</td>\n",
       "      <td>0.0</td>\n",
       "      <td>0.0</td>\n",
       "      <td>0.0</td>\n",
       "      <td>0.0</td>\n",
       "      <td>0.0</td>\n",
       "      <td>0.0</td>\n",
       "    </tr>\n",
       "    <tr>\n",
       "      <th>311</th>\n",
       "      <td>857.700745</td>\n",
       "      <td>21435.572266</td>\n",
       "      <td>5.635645</td>\n",
       "      <td>225.053223</td>\n",
       "      <td>3.212837</td>\n",
       "      <td>137.430405</td>\n",
       "      <td>774.626343</td>\n",
       "      <td>146.010315</td>\n",
       "      <td>90.684135</td>\n",
       "      <td>134.127136</td>\n",
       "      <td>12.383451</td>\n",
       "      <td>0.0</td>\n",
       "      <td>1.0</td>\n",
       "      <td>1.0</td>\n",
       "      <td>0.0</td>\n",
       "      <td>1.0</td>\n",
       "      <td>1.0</td>\n",
       "      <td>0.0</td>\n",
       "      <td>3.0</td>\n",
       "    </tr>\n",
       "    <tr>\n",
       "      <th>312</th>\n",
       "      <td>2225.340332</td>\n",
       "      <td>17785.625000</td>\n",
       "      <td>1.177085</td>\n",
       "      <td>243.766754</td>\n",
       "      <td>3.471024</td>\n",
       "      <td>57.639099</td>\n",
       "      <td>1336.689575</td>\n",
       "      <td>94.280998</td>\n",
       "      <td>117.227798</td>\n",
       "      <td>219.910934</td>\n",
       "      <td>10.010397</td>\n",
       "      <td>0.0</td>\n",
       "      <td>0.0</td>\n",
       "      <td>0.0</td>\n",
       "      <td>0.0</td>\n",
       "      <td>0.0</td>\n",
       "      <td>0.0</td>\n",
       "      <td>0.0</td>\n",
       "      <td>0.0</td>\n",
       "    </tr>\n",
       "  </tbody>\n",
       "</table>\n",
       "<p>313 rows × 19 columns</p>\n",
       "</div>"
      ],
      "text/plain": [
       "          N_Days           Age  Bilirubin  Cholesterol   Albumin      Copper  \\\n",
       "0    2563.000000  21185.000000   3.000000   217.000000  3.460000   13.000000   \n",
       "1    2393.830811  18738.429688   0.626447   251.334488  3.592131   26.614006   \n",
       "2    2905.396484  18997.583984   1.349564   307.718628  3.578779   68.864151   \n",
       "3    2487.746094  18720.740234   2.851137   280.160980  3.471269  118.756325   \n",
       "4    2683.538330  18145.859375   0.654361   241.013245  3.773805   48.170128   \n",
       "..           ...           ...        ...          ...       ...         ...   \n",
       "308  1560.000000  14610.000000   0.900000   226.000000  3.500000   22.000000   \n",
       "309  3151.923828  20036.845703   0.754224   296.333099  3.901993   47.910072   \n",
       "310   838.999939  13878.999023   2.000000   246.999985  3.160000   68.999992   \n",
       "311   857.700745  21435.572266   5.635645   225.053223  3.212837  137.430405   \n",
       "312  2225.340332  17785.625000   1.177085   243.766754  3.471024   57.639099   \n",
       "\n",
       "        Alk_Phos        SGOT  Tryglicerides   Platelets  Prothrombin  Ascites  \\\n",
       "0     414.000000   64.583336      62.000000  109.000000    10.400000      0.0   \n",
       "1    1345.406372   92.236542      58.722092  290.075562    10.496481      0.0   \n",
       "2    2617.984863   98.334206     115.623154  283.047302    10.645513      0.0   \n",
       "3    4131.479492  142.879883     141.034653  185.471695    11.434166      0.0   \n",
       "4     944.381531   66.526245      77.870125  246.027191    10.603357      0.0   \n",
       "..           ...         ...            ...         ...          ...      ...   \n",
       "308  2228.699951  132.929993      85.000000  117.000000    10.900000      0.0   \n",
       "309  1059.000366  127.687515     120.785378  239.458557    10.619194      0.0   \n",
       "310  1049.999878  116.999992      87.999992  334.999969    10.499999      0.0   \n",
       "311   774.626343  146.010315      90.684135  134.127136    12.383451      0.0   \n",
       "312  1336.689575   94.280998     117.227798  219.910934    10.010397      0.0   \n",
       "\n",
       "     Hepatomegaly  Spiders  Edema  Status  Drug  Sex  Target  \n",
       "0             0.0      0.0    0.0     0.0   0.0  0.0     0.0  \n",
       "1             0.0      0.0    0.0     0.0   0.0  0.0     0.0  \n",
       "2             1.0      0.0    0.0     0.0   1.0  0.0     2.0  \n",
       "3             1.0      0.0    0.0     1.0   0.0  1.0     1.0  \n",
       "4             0.0      0.0    0.0     0.0   0.0  0.0     0.0  \n",
       "..            ...      ...    ...     ...   ...  ...     ...  \n",
       "308           1.0      0.0    0.0     0.0   0.0  0.0     2.0  \n",
       "309           0.0      0.0    0.0     0.0   1.0  0.0     0.0  \n",
       "310           0.0      0.0    0.0     0.0   0.0  0.0     0.0  \n",
       "311           1.0      1.0    0.0     1.0   1.0  0.0     3.0  \n",
       "312           0.0      0.0    0.0     0.0   0.0  0.0     0.0  \n",
       "\n",
       "[313 rows x 19 columns]"
      ]
     },
     "execution_count": 43,
     "metadata": {},
     "output_type": "execute_result"
    }
   ],
   "source": [
    "syn_train_data"
   ]
  },
  {
   "cell_type": "code",
   "execution_count": 44,
   "id": "92063617-5527-447b-96b3-0bf0a2ee9be7",
   "metadata": {},
   "outputs": [],
   "source": [
    "def exact_match_score(original_df, synthetic_df):\n",
    "    original_data=original_df.drop('Target',axis=1,inplace=False)\n",
    "    synthetic_data=synthetic_df.drop('Target',axis=1,inplace=False)\n",
    "    n_matches = 0\n",
    "    repeated=[]\n",
    "    for i in range(synthetic_data.shape[0]):\n",
    "        if (original_data == synthetic_data.iloc[i, :]).all(axis=1).any():\n",
    "            repeated_data=synthetic_data.iloc[i, :]\n",
    "            repeated.append(repeated_data)\n",
    "            n_matches += 1    \n",
    "    print('The number of data points repeated in the synthetic data are',n_matches / synthetic_data.shape[0])\n",
    "    return pd.DataFrame(repeated)"
   ]
  },
  {
   "cell_type": "code",
   "execution_count": 45,
   "id": "a4069cf0-1c41-44d6-b8d3-fcfb3a864853",
   "metadata": {},
   "outputs": [],
   "source": [
    "original_df=pd.read_csv('Liver_cirrhosis_training_data(semi_sup).csv')"
   ]
  },
  {
   "cell_type": "code",
   "execution_count": 46,
   "id": "d43795ea-7183-4e18-8bad-cf70263c628c",
   "metadata": {},
   "outputs": [],
   "source": [
    "original_df.columns=values"
   ]
  },
  {
   "cell_type": "code",
   "execution_count": 47,
   "id": "129c46a5-b37b-453e-9f14-052de49b7674",
   "metadata": {},
   "outputs": [
    {
     "name": "stdout",
     "output_type": "stream",
     "text": [
      "The number of data points repeated in the synthetic data are 0.0\n"
     ]
    },
    {
     "data": {
      "text/html": [
       "<div>\n",
       "<style scoped>\n",
       "    .dataframe tbody tr th:only-of-type {\n",
       "        vertical-align: middle;\n",
       "    }\n",
       "\n",
       "    .dataframe tbody tr th {\n",
       "        vertical-align: top;\n",
       "    }\n",
       "\n",
       "    .dataframe thead th {\n",
       "        text-align: right;\n",
       "    }\n",
       "</style>\n",
       "<table border=\"1\" class=\"dataframe\">\n",
       "  <thead>\n",
       "    <tr style=\"text-align: right;\">\n",
       "      <th></th>\n",
       "    </tr>\n",
       "  </thead>\n",
       "  <tbody>\n",
       "  </tbody>\n",
       "</table>\n",
       "</div>"
      ],
      "text/plain": [
       "Empty DataFrame\n",
       "Columns: []\n",
       "Index: []"
      ]
     },
     "execution_count": 47,
     "metadata": {},
     "output_type": "execute_result"
    }
   ],
   "source": [
    "exact_match_score(original_df,syn_train_data)"
   ]
  },
  {
   "cell_type": "code",
   "execution_count": 48,
   "id": "d0dc37e8-fceb-46a4-bd3b-aeb81eee7d1a",
   "metadata": {},
   "outputs": [
    {
     "data": {
      "text/plain": [
       "27"
      ]
     },
     "execution_count": 48,
     "metadata": {},
     "output_type": "execute_result"
    }
   ],
   "source": [
    "len(syn_train_data[syn_train_data.duplicated(keep=False)])"
   ]
  },
  {
   "cell_type": "markdown",
   "id": "22664373-fe16-4b85-880c-49e4f2f76e02",
   "metadata": {},
   "source": [
    "### Train test split on synthetic data"
   ]
  },
  {
   "cell_type": "code",
   "execution_count": 49,
   "id": "7ea16747-b8f6-4a5e-9ecb-99631f54dee5",
   "metadata": {},
   "outputs": [],
   "source": [
    "syn_train_features, syn_test_features, syn_train_labels, syn_test_labels = train_test_split(np.array(syn_train_data.drop([\"Target\"],axis=1)), np.array(syn_train_data[\"Target\"]), test_size = 0.25, random_state = 42)"
   ]
  },
  {
   "cell_type": "markdown",
   "id": "965f13f6-c8ad-4e17-bf46-ed7e004cbff6",
   "metadata": {},
   "source": [
    "### Gradient boosting classifier on NextConvGen generated synthetic training data  (Model-2)"
   ]
  },
  {
   "cell_type": "code",
   "execution_count": 50,
   "id": "a53a70a4-d263-4b7a-b61a-8a9a3a670315",
   "metadata": {
    "scrolled": true
   },
   "outputs": [],
   "source": [
    "from sklearn.ensemble import GradientBoostingClassifier\n",
    "NextConvGen_model_2 = GradientBoostingClassifier(n_estimators=20, learning_rate=0.5, max_features=2, max_depth=2, random_state=42)\n"
   ]
  },
  {
   "cell_type": "markdown",
   "id": "b720e9be",
   "metadata": {},
   "source": [
    "### 5 Fold Cross Validation"
   ]
  },
  {
   "cell_type": "code",
   "execution_count": 51,
   "id": "7e79af0b",
   "metadata": {},
   "outputs": [
    {
     "name": "stdout",
     "output_type": "stream",
     "text": [
      "[0.93617021 0.80851064 0.91489362 0.95744681 0.82608696]\n",
      "Avg : 0.8886216466234969\n"
     ]
    }
   ],
   "source": [
    "score_lr=cross_val_score(NextConvGen_model_2, syn_train_features, syn_train_labels,cv=5)\n",
    "print(score_lr)\n",
    "print(\"Avg :\",np.average(score_lr))\n"
   ]
  },
  {
   "cell_type": "code",
   "execution_count": 52,
   "id": "bb3429b1",
   "metadata": {},
   "outputs": [
    {
     "data": {
      "text/html": [
       "<style>#sk-container-id-2 {color: black;background-color: white;}#sk-container-id-2 pre{padding: 0;}#sk-container-id-2 div.sk-toggleable {background-color: white;}#sk-container-id-2 label.sk-toggleable__label {cursor: pointer;display: block;width: 100%;margin-bottom: 0;padding: 0.3em;box-sizing: border-box;text-align: center;}#sk-container-id-2 label.sk-toggleable__label-arrow:before {content: \"▸\";float: left;margin-right: 0.25em;color: #696969;}#sk-container-id-2 label.sk-toggleable__label-arrow:hover:before {color: black;}#sk-container-id-2 div.sk-estimator:hover label.sk-toggleable__label-arrow:before {color: black;}#sk-container-id-2 div.sk-toggleable__content {max-height: 0;max-width: 0;overflow: hidden;text-align: left;background-color: #f0f8ff;}#sk-container-id-2 div.sk-toggleable__content pre {margin: 0.2em;color: black;border-radius: 0.25em;background-color: #f0f8ff;}#sk-container-id-2 input.sk-toggleable__control:checked~div.sk-toggleable__content {max-height: 200px;max-width: 100%;overflow: auto;}#sk-container-id-2 input.sk-toggleable__control:checked~label.sk-toggleable__label-arrow:before {content: \"▾\";}#sk-container-id-2 div.sk-estimator input.sk-toggleable__control:checked~label.sk-toggleable__label {background-color: #d4ebff;}#sk-container-id-2 div.sk-label input.sk-toggleable__control:checked~label.sk-toggleable__label {background-color: #d4ebff;}#sk-container-id-2 input.sk-hidden--visually {border: 0;clip: rect(1px 1px 1px 1px);clip: rect(1px, 1px, 1px, 1px);height: 1px;margin: -1px;overflow: hidden;padding: 0;position: absolute;width: 1px;}#sk-container-id-2 div.sk-estimator {font-family: monospace;background-color: #f0f8ff;border: 1px dotted black;border-radius: 0.25em;box-sizing: border-box;margin-bottom: 0.5em;}#sk-container-id-2 div.sk-estimator:hover {background-color: #d4ebff;}#sk-container-id-2 div.sk-parallel-item::after {content: \"\";width: 100%;border-bottom: 1px solid gray;flex-grow: 1;}#sk-container-id-2 div.sk-label:hover label.sk-toggleable__label {background-color: #d4ebff;}#sk-container-id-2 div.sk-serial::before {content: \"\";position: absolute;border-left: 1px solid gray;box-sizing: border-box;top: 0;bottom: 0;left: 50%;z-index: 0;}#sk-container-id-2 div.sk-serial {display: flex;flex-direction: column;align-items: center;background-color: white;padding-right: 0.2em;padding-left: 0.2em;position: relative;}#sk-container-id-2 div.sk-item {position: relative;z-index: 1;}#sk-container-id-2 div.sk-parallel {display: flex;align-items: stretch;justify-content: center;background-color: white;position: relative;}#sk-container-id-2 div.sk-item::before, #sk-container-id-2 div.sk-parallel-item::before {content: \"\";position: absolute;border-left: 1px solid gray;box-sizing: border-box;top: 0;bottom: 0;left: 50%;z-index: -1;}#sk-container-id-2 div.sk-parallel-item {display: flex;flex-direction: column;z-index: 1;position: relative;background-color: white;}#sk-container-id-2 div.sk-parallel-item:first-child::after {align-self: flex-end;width: 50%;}#sk-container-id-2 div.sk-parallel-item:last-child::after {align-self: flex-start;width: 50%;}#sk-container-id-2 div.sk-parallel-item:only-child::after {width: 0;}#sk-container-id-2 div.sk-dashed-wrapped {border: 1px dashed gray;margin: 0 0.4em 0.5em 0.4em;box-sizing: border-box;padding-bottom: 0.4em;background-color: white;}#sk-container-id-2 div.sk-label label {font-family: monospace;font-weight: bold;display: inline-block;line-height: 1.2em;}#sk-container-id-2 div.sk-label-container {text-align: center;}#sk-container-id-2 div.sk-container {/* jupyter's `normalize.less` sets `[hidden] { display: none; }` but bootstrap.min.css set `[hidden] { display: none !important; }` so we also need the `!important` here to be able to override the default hidden behavior on the sphinx rendered scikit-learn.org. See: https://github.com/scikit-learn/scikit-learn/issues/21755 */display: inline-block !important;position: relative;}#sk-container-id-2 div.sk-text-repr-fallback {display: none;}</style><div id=\"sk-container-id-2\" class=\"sk-top-container\"><div class=\"sk-text-repr-fallback\"><pre>GradientBoostingClassifier(learning_rate=0.5, max_depth=2, max_features=2,\n",
       "                           n_estimators=20, random_state=42)</pre><b>In a Jupyter environment, please rerun this cell to show the HTML representation or trust the notebook. <br />On GitHub, the HTML representation is unable to render, please try loading this page with nbviewer.org.</b></div><div class=\"sk-container\" hidden><div class=\"sk-item\"><div class=\"sk-estimator sk-toggleable\"><input class=\"sk-toggleable__control sk-hidden--visually\" id=\"sk-estimator-id-2\" type=\"checkbox\" checked><label for=\"sk-estimator-id-2\" class=\"sk-toggleable__label sk-toggleable__label-arrow\">GradientBoostingClassifier</label><div class=\"sk-toggleable__content\"><pre>GradientBoostingClassifier(learning_rate=0.5, max_depth=2, max_features=2,\n",
       "                           n_estimators=20, random_state=42)</pre></div></div></div></div></div>"
      ],
      "text/plain": [
       "GradientBoostingClassifier(learning_rate=0.5, max_depth=2, max_features=2,\n",
       "                           n_estimators=20, random_state=42)"
      ]
     },
     "execution_count": 52,
     "metadata": {},
     "output_type": "execute_result"
    }
   ],
   "source": [
    "NextConvGen_model_2.fit(syn_train_features,syn_train_labels )"
   ]
  },
  {
   "cell_type": "markdown",
   "id": "b2cce01c-9e72-472c-9e7d-b37237dbac13",
   "metadata": {},
   "source": [
    "### Case-1: predicting validation data using Model-1\n"
   ]
  },
  {
   "cell_type": "code",
   "execution_count": 53,
   "id": "5da6fd08-9bd9-46d8-a179-1cc21e3c909c",
   "metadata": {},
   "outputs": [
    {
     "name": "stdout",
     "output_type": "stream",
     "text": [
      "F1_Score of cluster 0 is 0.935064935064935\n",
      "Geometric mean of cluster 0 is 0.9357754408380654\n",
      "Correctly predicted data points in cluster 0 is 97.2972972972973%\n",
      "\n",
      "\n",
      "F1_Score of cluster 1 is 0.888888888888889\n",
      "Geometric mean of cluster 1 is 0.8913376232498489\n",
      "Correctly predicted data points in cluster 1 is 82.75862068965517%\n",
      "\n",
      "\n",
      "F1_Score of cluster 2 is 0.9803921568627451\n",
      "Geometric mean of cluster 2 is 0.9805806756909202\n",
      "Correctly predicted data points in cluster 2 is 100.0%\n",
      "\n",
      "\n",
      "F1_Score of cluster 3 is 0.9285714285714286\n",
      "Geometric mean of cluster 3 is 0.9285714285714286\n",
      "Correctly predicted data points in cluster 3 is 92.85714285714286%\n",
      "\n",
      "\n",
      "weigted average F1_Score of all clusters is 0.9322379456833239\n",
      "weighted average Geometric mean of all clusters is 0.933209516928829\n",
      "weighted average of Correctly predicted data points in all clusters is 93.33333333333334%\n"
     ]
    }
   ],
   "source": [
    "x=model_1.predict(np.array(test_features))\n",
    "cluster_wise_F1score(list(test_labels),list(x))"
   ]
  },
  {
   "cell_type": "markdown",
   "id": "c164bdd4-1d1d-4c83-937a-1b639fe602d7",
   "metadata": {},
   "source": [
    "### Case-2: Predicting validation data using Model-2\n"
   ]
  },
  {
   "cell_type": "code",
   "execution_count": 54,
   "id": "b90230ce-35e9-4301-9d0d-9ec1a168afaf",
   "metadata": {},
   "outputs": [
    {
     "name": "stdout",
     "output_type": "stream",
     "text": [
      "F1_Score of cluster 0 is 0.8860759493670887\n",
      "Geometric mean of cluster 0 is 0.8878560065057218\n",
      "Correctly predicted data points in cluster 0 is 94.5945945945946%\n",
      "\n",
      "\n",
      "F1_Score of cluster 1 is 0.912280701754386\n",
      "Geometric mean of cluster 1 is 0.9124211282466754\n",
      "Correctly predicted data points in cluster 1 is 89.65517241379311%\n",
      "\n",
      "\n",
      "F1_Score of cluster 2 is 0.8085106382978724\n",
      "Geometric mean of cluster 2 is 0.8101627221513197\n",
      "Correctly predicted data points in cluster 2 is 76.0%\n",
      "\n",
      "\n",
      "F1_Score of cluster 3 is 0.8148148148148148\n",
      "Geometric mean of cluster 3 is 0.8153742483272113\n",
      "Correctly predicted data points in cluster 3 is 78.57142857142857%\n",
      "\n",
      "\n",
      "weigted average F1_Score of all clusters is 0.8653440365934637\n",
      "weighted average Geometric mean of all clusters is 0.866478023716469\n",
      "weighted average of Correctly predicted data points in all clusters is 86.66666666666669%\n"
     ]
    }
   ],
   "source": [
    "y=NextConvGen_model_2.predict(np.array(test_features))\n",
    "\n",
    "cluster_wise_F1score(list(test_labels),list(y))"
   ]
  },
  {
   "cell_type": "markdown",
   "id": "c8e7b3a0-e915-4dea-a9a8-1fd179e6c1a1",
   "metadata": {},
   "source": [
    "### Comparing predicted values from Case-1 & Case-2"
   ]
  },
  {
   "cell_type": "code",
   "execution_count": 55,
   "id": "8d3c1fcb-71cd-44d0-8175-a1823d97a80e",
   "metadata": {
    "tags": []
   },
   "outputs": [
    {
     "name": "stdout",
     "output_type": "stream",
     "text": [
      "F1_Score of cluster 0 is 0.8780487804878048\n",
      "Geometric mean of cluster 0 is 0.8783100656536799\n",
      "Correctly predicted data points in cluster 0 is 90.0%\n",
      "\n",
      "\n",
      "F1_Score of cluster 1 is 0.8679245283018867\n",
      "Geometric mean of cluster 1 is 0.8693182879212226\n",
      "Correctly predicted data points in cluster 1 is 92.0%\n",
      "\n",
      "\n",
      "F1_Score of cluster 2 is 0.7916666666666666\n",
      "Geometric mean of cluster 2 is 0.7944299095067362\n",
      "Correctly predicted data points in cluster 2 is 73.07692307692307%\n",
      "\n",
      "\n",
      "F1_Score of cluster 3 is 0.7407407407407408\n",
      "Geometric mean of cluster 3 is 0.7412493166611012\n",
      "Correctly predicted data points in cluster 3 is 71.42857142857143%\n",
      "\n",
      "\n",
      "weigted average F1_Score of all clusters is 0.83594064886441\n",
      "weighted average Geometric mean of all clusters is 0.837124075281984\n",
      "weighted average of Correctly predicted data points in all clusters is 83.8095238095238%\n"
     ]
    }
   ],
   "source": [
    "cluster_wise_F1score(list(x),list(y))"
   ]
  },
  {
   "cell_type": "markdown",
   "id": "25bc6d7d-34bc-45c5-8911-3caca94d352e",
   "metadata": {},
   "source": [
    "### UMAP on synthetic data"
   ]
  },
  {
   "cell_type": "code",
   "execution_count": 56,
   "id": "7cefcf61-7dc8-4cb3-b554-006801adab12",
   "metadata": {},
   "outputs": [
    {
     "data": {
      "image/png": "[encoded data removed]",
      "text/plain": [
       "<Figure size 500x500 with 1 Axes>"
      ]
     },
     "metadata": {},
     "output_type": "display_data"
    }
   ],
   "source": [
    "from fdc.fdc import feature_clustering, canberra_modified, Clustering, FDC\n",
    "np.random.seed(42)\n",
    "syn_emb_low=feature_clustering(30,0.01,'euclidean',syn_train_data.drop([\"Target\"],axis=1),True)"
   ]
  },
  {
   "cell_type": "markdown",
   "id": "12c13c35-b359-4599-9b5f-6e7cf238c102",
   "metadata": {},
   "source": [
    "### FDC on synthetic data"
   ]
  },
  {
   "cell_type": "code",
   "execution_count": 57,
   "id": "18a794d3-bd52-4537-95b1-6330690e9d7b",
   "metadata": {},
   "outputs": [
    {
     "name": "stdout",
     "output_type": "stream",
     "text": [
      "FDC.normalize (init): 0.00001 / 0.000s\n",
      "FDC.normalize (clustering CONT): 1.03977 / 1.040s\n",
      "FDC.normalize (clustering ORD): 2.72097 / 3.761s\n",
      "FDC.normalize (clustering NOM): 3.50276 / 7.264s\n",
      "FDC.normalize (concat): 0.00007 / 7.264s\n",
      "FDC.normalize (umap 5 -> 2): 1.02115 / 8.285s\n",
      "FDC.normalize (array -> DataFrame): 0.00029 / 8.285s\n"
     ]
    },
    {
     "data": {
      "image/png": "[encoded data removed]",
      "text/plain": [
       "<Figure size 500x500 with 1 Axes>"
      ]
     },
     "metadata": {},
     "output_type": "display_data"
    },
    {
     "name": "stdout",
     "output_type": "stream",
     "text": [
      "FDC.normalize (plotting): 0.40084 / 8.686s\n",
      "FDC.normalize (array -> DataFrame): 0.00025 / 8.686s\n",
      "FDC.normalize (total): 0.00001 / 8.686s\n"
     ]
    }
   ],
   "source": [
    "from fdc.fdc import feature_clustering, canberra_modified, Clustering, FDC\n",
    "\n",
    "np.random.seed(42)\n",
    "fdc = FDC(clustering_cont=Clustering('euclidean',30,0.01)\n",
    "          , clustering_ord=Clustering(canberra_modified,30,0.01)\n",
    "          , clustering_nom=Clustering('hamming',30,0.01)\n",
    "          , visual=True\n",
    "          , use_pandas_output=True\n",
    "          , with_2d_embedding=True\n",
    "          )\n",
    "\n",
    "fdc.selectFeatures(continueous=cont_list, nomial=nom_list, ordinal=ord_list)\n",
    "\n",
    "FDC_emb_high,FDC_emb_low = fdc.normalize(syn_train_data.drop([\"Target\"],axis=1),cont_list=cont_list, nom_list=nom_list, ord_list=ord_list,\n",
    "                  with_2d_embedding=True,\n",
    "                  visual=True)"
   ]
  },
  {
   "cell_type": "code",
   "execution_count": 58,
   "id": "50f7de13-0c82-4676-9046-cb048cb20207",
   "metadata": {},
   "outputs": [
    {
     "data": {
      "image/png": "[encoded data removed]",
      "text/plain": [
       "<Figure size 560.361x500 with 1 Axes>"
      ]
     },
     "metadata": {},
     "output_type": "display_data"
    }
   ],
   "source": [
    "from fdc.clustering import *\n",
    "clustering=Clustering(FDC_emb_low,FDC_emb_low,True)\n",
    "cluster_list,cluster_counts=clustering.K_means(4)"
   ]
  },
  {
   "cell_type": "code",
   "execution_count": 59,
   "id": "5164e221",
   "metadata": {},
   "outputs": [
    {
     "data": {
      "text/plain": [
       "array([114,  89,  76,  34])"
      ]
     },
     "execution_count": 59,
     "metadata": {},
     "output_type": "execute_result"
    }
   ],
   "source": [
    "cluster_counts"
   ]
  },
  {
   "cell_type": "markdown",
   "id": "9c381506",
   "metadata": {},
   "source": [
    "## CTGAN"
   ]
  },
  {
   "cell_type": "code",
   "execution_count": 60,
   "id": "6ae28422-0bbb-41e0-b77a-70f6b4bd7fb9",
   "metadata": {},
   "outputs": [],
   "source": [
    "train_features= pd.DataFrame(train_features)"
   ]
  },
  {
   "cell_type": "code",
   "execution_count": 61,
   "id": "7e3267ed-ea89-45e0-9c73-d3d8729dd10c",
   "metadata": {},
   "outputs": [],
   "source": [
    "dicts = {}\n",
    "for i in range(len(values)):\n",
    "        dicts[i]=values[i]\n"
   ]
  },
  {
   "cell_type": "code",
   "execution_count": 62,
   "id": "012f260e",
   "metadata": {},
   "outputs": [],
   "source": [
    "train_features.rename(columns=dicts,inplace=True)\n"
   ]
  },
  {
   "cell_type": "code",
   "execution_count": 63,
   "id": "75691f1d",
   "metadata": {},
   "outputs": [],
   "source": [
    "from sdv.tabular import CTGAN"
   ]
  },
  {
   "cell_type": "code",
   "execution_count": 64,
   "id": "f389037f",
   "metadata": {},
   "outputs": [],
   "source": [
    "gen=CTGAN()"
   ]
  },
  {
   "cell_type": "code",
   "execution_count": 65,
   "id": "887db476",
   "metadata": {},
   "outputs": [],
   "source": [
    "gen.fit(train_features)"
   ]
  },
  {
   "cell_type": "markdown",
   "id": "6cce973b",
   "metadata": {},
   "source": [
    "### Generating 1000 synthetic points and randomly selecting the same legth of original training points for evaluation"
   ]
  },
  {
   "cell_type": "code",
   "execution_count": 66,
   "id": "32120e20",
   "metadata": {},
   "outputs": [],
   "source": [
    "syn_train_data= gen.sample(num_rows=1000)"
   ]
  },
  {
   "cell_type": "code",
   "execution_count": 67,
   "id": "adc89b53",
   "metadata": {},
   "outputs": [],
   "source": [
    "from fdc.NN_models import *\n",
    "CTGAN_syn_data=balanced_synthetic_data_CTGAN(train_features,syn_train_data,gen)"
   ]
  },
  {
   "cell_type": "code",
   "execution_count": 68,
   "id": "69472947-05f2-4b86-ad69-b5c1bb7af93c",
   "metadata": {},
   "outputs": [],
   "source": [
    "CTGAN_syn_data.to_csv('Liver_cirrhosis_CTGAN_syn_data.csv',index=False)"
   ]
  },
  {
   "cell_type": "code",
   "execution_count": 69,
   "id": "ce9afe21",
   "metadata": {},
   "outputs": [],
   "source": [
    "np.random.seed(42)\n",
    "CTGAN_syn_data=CTGAN_syn_data.sample(frac=1) #Shuffle the data set\n",
    "np.random.seed(42)\n",
    "i=[x for x in range(np.shape(CTGAN_syn_data)[0])]\n",
    "\n",
    "CTGAN_syn_data.set_index(pd.Series(i), inplace=True)"
   ]
  },
  {
   "cell_type": "code",
   "execution_count": 70,
   "id": "876dd6b2-9e6a-49da-8eaa-c1da37823cd1",
   "metadata": {},
   "outputs": [
    {
     "name": "stdout",
     "output_type": "stream",
     "text": [
      "The number of data points repeated in the synthetic data are 0.0\n"
     ]
    },
    {
     "data": {
      "text/html": [
       "<div>\n",
       "<style scoped>\n",
       "    .dataframe tbody tr th:only-of-type {\n",
       "        vertical-align: middle;\n",
       "    }\n",
       "\n",
       "    .dataframe tbody tr th {\n",
       "        vertical-align: top;\n",
       "    }\n",
       "\n",
       "    .dataframe thead th {\n",
       "        text-align: right;\n",
       "    }\n",
       "</style>\n",
       "<table border=\"1\" class=\"dataframe\">\n",
       "  <thead>\n",
       "    <tr style=\"text-align: right;\">\n",
       "      <th></th>\n",
       "    </tr>\n",
       "  </thead>\n",
       "  <tbody>\n",
       "  </tbody>\n",
       "</table>\n",
       "</div>"
      ],
      "text/plain": [
       "Empty DataFrame\n",
       "Columns: []\n",
       "Index: []"
      ]
     },
     "execution_count": 70,
     "metadata": {},
     "output_type": "execute_result"
    }
   ],
   "source": [
    "exact_match_score(original_df,CTGAN_syn_data)"
   ]
  },
  {
   "cell_type": "code",
   "execution_count": 71,
   "id": "b6462cc8-10ce-4fd6-874f-c27d25a6946b",
   "metadata": {},
   "outputs": [
    {
     "data": {
      "text/plain": [
       "0"
      ]
     },
     "execution_count": 71,
     "metadata": {},
     "output_type": "execute_result"
    }
   ],
   "source": [
    "len(CTGAN_syn_data[CTGAN_syn_data.duplicated(keep=False)])"
   ]
  },
  {
   "cell_type": "markdown",
   "id": "d29e970d",
   "metadata": {},
   "source": [
    "### Train-test split on CTGAN generated synthetic data points"
   ]
  },
  {
   "cell_type": "code",
   "execution_count": 72,
   "id": "c7e0bb11",
   "metadata": {},
   "outputs": [],
   "source": [
    "syn_train_features, syn_test_features, syn_train_labels, syn_test_labels = train_test_split(np.array(CTGAN_syn_data.drop([\"Target\"],axis=1)), np.array(CTGAN_syn_data[\"Target\"]), test_size = 0.25, random_state = 42)"
   ]
  },
  {
   "cell_type": "markdown",
   "id": "efd0e051",
   "metadata": {},
   "source": [
    "### Gradient boosting classifier on CTGAN generated synthetic training data  (Model-2)"
   ]
  },
  {
   "cell_type": "code",
   "execution_count": 73,
   "id": "71edf250",
   "metadata": {},
   "outputs": [],
   "source": [
    "from sklearn.ensemble import GradientBoostingClassifier\n",
    "CTGAN_model_2 = GradientBoostingClassifier(n_estimators=20, learning_rate=0.5, max_features=2, max_depth=2, random_state=42)\n"
   ]
  },
  {
   "cell_type": "markdown",
   "id": "0ee3fdcd",
   "metadata": {},
   "source": [
    "### 5 Fold Cross validation"
   ]
  },
  {
   "cell_type": "code",
   "execution_count": 74,
   "id": "0527f63f",
   "metadata": {},
   "outputs": [
    {
     "name": "stdout",
     "output_type": "stream",
     "text": [
      "[0.21276596 0.17021277 0.21276596 0.27659574 0.23913043]\n",
      "Avg : 0.22229417206290472\n"
     ]
    }
   ],
   "source": [
    "score_lr=cross_val_score(CTGAN_model_2, syn_train_features, syn_train_labels,cv=5)\n",
    "print(score_lr)\n",
    "print(\"Avg :\",np.average(score_lr))\n"
   ]
  },
  {
   "cell_type": "code",
   "execution_count": 75,
   "id": "dfc15293",
   "metadata": {},
   "outputs": [
    {
     "data": {
      "text/html": [
       "<style>#sk-container-id-3 {color: black;background-color: white;}#sk-container-id-3 pre{padding: 0;}#sk-container-id-3 div.sk-toggleable {background-color: white;}#sk-container-id-3 label.sk-toggleable__label {cursor: pointer;display: block;width: 100%;margin-bottom: 0;padding: 0.3em;box-sizing: border-box;text-align: center;}#sk-container-id-3 label.sk-toggleable__label-arrow:before {content: \"▸\";float: left;margin-right: 0.25em;color: #696969;}#sk-container-id-3 label.sk-toggleable__label-arrow:hover:before {color: black;}#sk-container-id-3 div.sk-estimator:hover label.sk-toggleable__label-arrow:before {color: black;}#sk-container-id-3 div.sk-toggleable__content {max-height: 0;max-width: 0;overflow: hidden;text-align: left;background-color: #f0f8ff;}#sk-container-id-3 div.sk-toggleable__content pre {margin: 0.2em;color: black;border-radius: 0.25em;background-color: #f0f8ff;}#sk-container-id-3 input.sk-toggleable__control:checked~div.sk-toggleable__content {max-height: 200px;max-width: 100%;overflow: auto;}#sk-container-id-3 input.sk-toggleable__control:checked~label.sk-toggleable__label-arrow:before {content: \"▾\";}#sk-container-id-3 div.sk-estimator input.sk-toggleable__control:checked~label.sk-toggleable__label {background-color: #d4ebff;}#sk-container-id-3 div.sk-label input.sk-toggleable__control:checked~label.sk-toggleable__label {background-color: #d4ebff;}#sk-container-id-3 input.sk-hidden--visually {border: 0;clip: rect(1px 1px 1px 1px);clip: rect(1px, 1px, 1px, 1px);height: 1px;margin: -1px;overflow: hidden;padding: 0;position: absolute;width: 1px;}#sk-container-id-3 div.sk-estimator {font-family: monospace;background-color: #f0f8ff;border: 1px dotted black;border-radius: 0.25em;box-sizing: border-box;margin-bottom: 0.5em;}#sk-container-id-3 div.sk-estimator:hover {background-color: #d4ebff;}#sk-container-id-3 div.sk-parallel-item::after {content: \"\";width: 100%;border-bottom: 1px solid gray;flex-grow: 1;}#sk-container-id-3 div.sk-label:hover label.sk-toggleable__label {background-color: #d4ebff;}#sk-container-id-3 div.sk-serial::before {content: \"\";position: absolute;border-left: 1px solid gray;box-sizing: border-box;top: 0;bottom: 0;left: 50%;z-index: 0;}#sk-container-id-3 div.sk-serial {display: flex;flex-direction: column;align-items: center;background-color: white;padding-right: 0.2em;padding-left: 0.2em;position: relative;}#sk-container-id-3 div.sk-item {position: relative;z-index: 1;}#sk-container-id-3 div.sk-parallel {display: flex;align-items: stretch;justify-content: center;background-color: white;position: relative;}#sk-container-id-3 div.sk-item::before, #sk-container-id-3 div.sk-parallel-item::before {content: \"\";position: absolute;border-left: 1px solid gray;box-sizing: border-box;top: 0;bottom: 0;left: 50%;z-index: -1;}#sk-container-id-3 div.sk-parallel-item {display: flex;flex-direction: column;z-index: 1;position: relative;background-color: white;}#sk-container-id-3 div.sk-parallel-item:first-child::after {align-self: flex-end;width: 50%;}#sk-container-id-3 div.sk-parallel-item:last-child::after {align-self: flex-start;width: 50%;}#sk-container-id-3 div.sk-parallel-item:only-child::after {width: 0;}#sk-container-id-3 div.sk-dashed-wrapped {border: 1px dashed gray;margin: 0 0.4em 0.5em 0.4em;box-sizing: border-box;padding-bottom: 0.4em;background-color: white;}#sk-container-id-3 div.sk-label label {font-family: monospace;font-weight: bold;display: inline-block;line-height: 1.2em;}#sk-container-id-3 div.sk-label-container {text-align: center;}#sk-container-id-3 div.sk-container {/* jupyter's `normalize.less` sets `[hidden] { display: none; }` but bootstrap.min.css set `[hidden] { display: none !important; }` so we also need the `!important` here to be able to override the default hidden behavior on the sphinx rendered scikit-learn.org. See: https://github.com/scikit-learn/scikit-learn/issues/21755 */display: inline-block !important;position: relative;}#sk-container-id-3 div.sk-text-repr-fallback {display: none;}</style><div id=\"sk-container-id-3\" class=\"sk-top-container\"><div class=\"sk-text-repr-fallback\"><pre>GradientBoostingClassifier(learning_rate=0.5, max_depth=2, max_features=2,\n",
       "                           n_estimators=20, random_state=42)</pre><b>In a Jupyter environment, please rerun this cell to show the HTML representation or trust the notebook. <br />On GitHub, the HTML representation is unable to render, please try loading this page with nbviewer.org.</b></div><div class=\"sk-container\" hidden><div class=\"sk-item\"><div class=\"sk-estimator sk-toggleable\"><input class=\"sk-toggleable__control sk-hidden--visually\" id=\"sk-estimator-id-3\" type=\"checkbox\" checked><label for=\"sk-estimator-id-3\" class=\"sk-toggleable__label sk-toggleable__label-arrow\">GradientBoostingClassifier</label><div class=\"sk-toggleable__content\"><pre>GradientBoostingClassifier(learning_rate=0.5, max_depth=2, max_features=2,\n",
       "                           n_estimators=20, random_state=42)</pre></div></div></div></div></div>"
      ],
      "text/plain": [
       "GradientBoostingClassifier(learning_rate=0.5, max_depth=2, max_features=2,\n",
       "                           n_estimators=20, random_state=42)"
      ]
     },
     "execution_count": 75,
     "metadata": {},
     "output_type": "execute_result"
    }
   ],
   "source": [
    "CTGAN_model_2.fit(syn_train_features,syn_train_labels )"
   ]
  },
  {
   "cell_type": "markdown",
   "id": "33bc76da",
   "metadata": {},
   "source": [
    "### Case-1: predicting validation data using Model-1\n"
   ]
  },
  {
   "cell_type": "code",
   "execution_count": 76,
   "id": "84c964ee",
   "metadata": {},
   "outputs": [
    {
     "name": "stdout",
     "output_type": "stream",
     "text": [
      "F1_Score of cluster 0 is 0.935064935064935\n",
      "Geometric mean of cluster 0 is 0.9357754408380654\n",
      "Correctly predicted data points in cluster 0 is 97.2972972972973%\n",
      "\n",
      "\n",
      "F1_Score of cluster 1 is 0.888888888888889\n",
      "Geometric mean of cluster 1 is 0.8913376232498489\n",
      "Correctly predicted data points in cluster 1 is 82.75862068965517%\n",
      "\n",
      "\n",
      "F1_Score of cluster 2 is 0.9803921568627451\n",
      "Geometric mean of cluster 2 is 0.9805806756909202\n",
      "Correctly predicted data points in cluster 2 is 100.0%\n",
      "\n",
      "\n",
      "F1_Score of cluster 3 is 0.9285714285714286\n",
      "Geometric mean of cluster 3 is 0.9285714285714286\n",
      "Correctly predicted data points in cluster 3 is 92.85714285714286%\n",
      "\n",
      "\n",
      "weigted average F1_Score of all clusters is 0.9322379456833239\n",
      "weighted average Geometric mean of all clusters is 0.933209516928829\n",
      "weighted average of Correctly predicted data points in all clusters is 93.33333333333334%\n"
     ]
    }
   ],
   "source": [
    "x=model_1.predict(np.array(test_features))\n",
    "cluster_wise_F1score(list(test_labels),list(x))"
   ]
  },
  {
   "cell_type": "markdown",
   "id": "94c80ca6",
   "metadata": {},
   "source": [
    "### Case-2: predicting validation data using Model-2\n"
   ]
  },
  {
   "cell_type": "code",
   "execution_count": 77,
   "id": "5be931d4",
   "metadata": {},
   "outputs": [
    {
     "name": "stdout",
     "output_type": "stream",
     "text": [
      "F1_Score of cluster 0 is 0.2745098039215686\n",
      "Geometric mean of cluster 0 is 0.3075623426146228\n",
      "Correctly predicted data points in cluster 0 is 18.91891891891892%\n",
      "\n",
      "\n",
      "F1_Score of cluster 1 is 0.2173913043478261\n",
      "Geometric mean of cluster 1 is 0.2251886745555225\n",
      "Correctly predicted data points in cluster 1 is 17.24137931034483%\n",
      "\n",
      "\n",
      "F1_Score of cluster 2 is 0.2264150943396226\n",
      "Geometric mean of cluster 2 is 0.2267786838055363\n",
      "Correctly predicted data points in cluster 2 is 24.0%\n",
      "\n",
      "\n",
      "F1_Score of cluster 3 is 0.26666666666666666\n",
      "Geometric mean of cluster 3 is 0.31524416249564025\n",
      "Correctly predicted data points in cluster 3 is 57.14285714285714%\n",
      "\n",
      "\n",
      "weigted average F1_Score of all clusters is 0.2462373453619895\n",
      "weighted average Geometric mean of all clusters is 0.2666015581802721\n",
      "weighted average of Correctly predicted data points in all clusters is 24.761904761904766%\n"
     ]
    }
   ],
   "source": [
    "y=CTGAN_model_2.predict(np.array(test_features))\n",
    "\n",
    "cluster_wise_F1score(list(test_labels),list(y))"
   ]
  },
  {
   "cell_type": "markdown",
   "id": "ab30bc7f",
   "metadata": {},
   "source": [
    "### Comparing predicted values from Case-1 & Case-2"
   ]
  },
  {
   "cell_type": "code",
   "execution_count": 78,
   "id": "2f3a83f6",
   "metadata": {},
   "outputs": [
    {
     "name": "stdout",
     "output_type": "stream",
     "text": [
      "F1_Score of cluster 0 is 0.29629629629629634\n",
      "Geometric mean of cluster 0 is 0.3380617018914066\n",
      "Correctly predicted data points in cluster 0 is 20.0%\n",
      "\n",
      "\n",
      "F1_Score of cluster 1 is 0.2380952380952381\n",
      "Geometric mean of cluster 1 is 0.242535625036333\n",
      "Correctly predicted data points in cluster 1 is 20.0%\n",
      "\n",
      "\n",
      "F1_Score of cluster 2 is 0.22222222222222224\n",
      "Geometric mean of cluster 2 is 0.22237479499833035\n",
      "Correctly predicted data points in cluster 2 is 23.076923076923077%\n",
      "\n",
      "\n",
      "F1_Score of cluster 3 is 0.26666666666666666\n",
      "Geometric mean of cluster 3 is 0.31524416249564025\n",
      "Correctly predicted data points in cluster 3 is 57.14285714285714%\n",
      "\n",
      "\n",
      "weigted average F1_Score of all clusters is 0.2601461325270849\n",
      "weighted average Geometric mean of all clusters is 0.28362877758533467\n",
      "weighted average of Correctly predicted data points in all clusters is 25.714285714285715%\n"
     ]
    }
   ],
   "source": [
    "cluster_wise_F1score(list(x),list(y))"
   ]
  },
  {
   "cell_type": "markdown",
   "id": "b50196a0",
   "metadata": {},
   "source": [
    "### UMAP on CTGAN synthetic data"
   ]
  },
  {
   "cell_type": "code",
   "execution_count": 79,
   "id": "9e29fa6f",
   "metadata": {},
   "outputs": [
    {
     "data": {
      "image/png": "[encoded data removed]",
      "text/plain": [
       "<Figure size 500x500 with 1 Axes>"
      ]
     },
     "metadata": {},
     "output_type": "display_data"
    }
   ],
   "source": [
    "from fdc.fdc import feature_clustering, canberra_modified, Clustering, FDC\n",
    "np.random.seed(42)\n",
    "syn_emb_low=feature_clustering(30,0.01,'euclidean',CTGAN_syn_data.drop([\"Target\"],axis=1),True)"
   ]
  },
  {
   "cell_type": "markdown",
   "id": "7f688b86",
   "metadata": {},
   "source": [
    "### FDC on CTGAN synthetic data"
   ]
  },
  {
   "cell_type": "code",
   "execution_count": 80,
   "id": "ccedd423",
   "metadata": {},
   "outputs": [
    {
     "name": "stdout",
     "output_type": "stream",
     "text": [
      "FDC.normalize (init): 0.00001 / 0.000s\n",
      "FDC.normalize (clustering CONT): 1.04704 / 1.047s\n",
      "FDC.normalize (clustering ORD): 2.40231 / 3.449s\n",
      "FDC.normalize (clustering NOM): 2.59650 / 6.046s\n",
      "FDC.normalize (concat): 0.00024 / 6.046s\n",
      "FDC.normalize (umap 5 -> 2): 1.14597 / 7.192s\n",
      "FDC.normalize (array -> DataFrame): 0.00030 / 7.192s\n"
     ]
    },
    {
     "data": {
      "image/png": "[encoded data removed]",
      "text/plain": [
       "<Figure size 500x500 with 1 Axes>"
      ]
     },
     "metadata": {},
     "output_type": "display_data"
    },
    {
     "name": "stdout",
     "output_type": "stream",
     "text": [
      "FDC.normalize (plotting): 0.42173 / 7.614s\n",
      "FDC.normalize (array -> DataFrame): 0.00026 / 7.614s\n",
      "FDC.normalize (total): 0.00001 / 7.614s\n"
     ]
    }
   ],
   "source": [
    "from fdc.fdc import feature_clustering, canberra_modified, Clustering, FDC\n",
    "\n",
    "np.random.seed(42)\n",
    "fdc = FDC(clustering_cont=Clustering('euclidean',30,0.01)\n",
    "          , clustering_ord=Clustering(canberra_modified,30,0.01)\n",
    "          , clustering_nom=Clustering('hamming',30,0.01)\n",
    "          , visual=True\n",
    "          , use_pandas_output=True\n",
    "          , with_2d_embedding=True\n",
    "          )\n",
    "\n",
    "fdc.selectFeatures(continueous=cont_list, nomial=nom_list, ordinal=ord_list)\n",
    "\n",
    "FDC_emb_high,FDC_emb_low = fdc.normalize(CTGAN_syn_data.drop([\"Target\"],axis=1),cont_list=cont_list, nom_list=nom_list, ord_list=ord_list,\n",
    "                  with_2d_embedding=True,\n",
    "                  visual=True)"
   ]
  },
  {
   "cell_type": "code",
   "execution_count": 81,
   "id": "7dce96a4",
   "metadata": {
    "scrolled": true
   },
   "outputs": [
    {
     "data": {
      "image/png": "[encoded data removed]",
      "text/plain": [
       "<Figure size 560.361x500 with 1 Axes>"
      ]
     },
     "metadata": {},
     "output_type": "display_data"
    }
   ],
   "source": [
    "from fdc.clustering import *\n",
    "clustering=Clustering(FDC_emb_low,FDC_emb_low,True)\n",
    "cluster_list,cluster_counts=clustering.K_means(4)"
   ]
  },
  {
   "cell_type": "code",
   "execution_count": null,
   "id": "2005fa6a-1a4d-4534-a7d5-535c70d03097",
   "metadata": {},
   "outputs": [],
   "source": []
  },
  {
   "cell_type": "markdown",
   "id": "4e56c304",
   "metadata": {},
   "source": [
    "## CTABGAN"
   ]
  },
  {
   "cell_type": "markdown",
   "id": "0613113f",
   "metadata": {},
   "source": [
    "train_features= pd.DataFrame(train_features)"
   ]
  },
  {
   "cell_type": "markdown",
   "id": "a3b51f41",
   "metadata": {},
   "source": [
    "dicts = {}\n",
    "for i in range(len(values)):\n",
    "        dicts[i]=values[i]\n"
   ]
  },
  {
   "cell_type": "markdown",
   "id": "20fc4712",
   "metadata": {},
   "source": [
    "train_features.rename(columns=dicts,inplace=True)\n"
   ]
  },
  {
   "cell_type": "code",
   "execution_count": 82,
   "id": "cdf56891",
   "metadata": {},
   "outputs": [],
   "source": [
    "import tensorflow as tf\n",
    "from tensorflow import keras\n",
    "from tensorflow.keras import layers\n",
    "from library.generators.ctab import CtabGan"
   ]
  },
  {
   "cell_type": "code",
   "execution_count": 83,
   "id": "da9b1027",
   "metadata": {},
   "outputs": [],
   "source": [
    "gen=CtabGan()"
   ]
  },
  {
   "cell_type": "code",
   "execution_count": 84,
   "id": "c15d7a93",
   "metadata": {},
   "outputs": [],
   "source": [
    "gen.reset(train_features)"
   ]
  },
  {
   "cell_type": "code",
   "execution_count": 85,
   "id": "f22792fa",
   "metadata": {},
   "outputs": [
    {
     "name": "stderr",
     "output_type": "stream",
     "text": [
      "100%|██████████| 10/10 [00:10<00:00,  1.08s/it]\n"
     ]
    }
   ],
   "source": [
    "gen.train(train_features)"
   ]
  },
  {
   "cell_type": "markdown",
   "id": "528f5242",
   "metadata": {},
   "source": [
    "### Generating 1000 synthetic points and randomly selecting the same legth of original training points for evaluation"
   ]
  },
  {
   "cell_type": "code",
   "execution_count": 86,
   "id": "a5aba9f6",
   "metadata": {},
   "outputs": [],
   "source": [
    "CTABGAN_syn_data=  gen.generateData(1000)"
   ]
  },
  {
   "cell_type": "code",
   "execution_count": 87,
   "id": "cf9701ca",
   "metadata": {},
   "outputs": [],
   "source": [
    "CTABGAN_syn_data=pd.DataFrame(CTABGAN_syn_data)"
   ]
  },
  {
   "cell_type": "code",
   "execution_count": 88,
   "id": "78d3443e",
   "metadata": {},
   "outputs": [
    {
     "data": {
      "text/html": [
       "<div>\n",
       "<style scoped>\n",
       "    .dataframe tbody tr th:only-of-type {\n",
       "        vertical-align: middle;\n",
       "    }\n",
       "\n",
       "    .dataframe tbody tr th {\n",
       "        vertical-align: top;\n",
       "    }\n",
       "\n",
       "    .dataframe thead th {\n",
       "        text-align: right;\n",
       "    }\n",
       "</style>\n",
       "<table border=\"1\" class=\"dataframe\">\n",
       "  <thead>\n",
       "    <tr style=\"text-align: right;\">\n",
       "      <th></th>\n",
       "      <th>N_Days</th>\n",
       "      <th>Age</th>\n",
       "      <th>Bilirubin</th>\n",
       "      <th>Cholesterol</th>\n",
       "      <th>Albumin</th>\n",
       "      <th>Copper</th>\n",
       "      <th>Alk_Phos</th>\n",
       "      <th>SGOT</th>\n",
       "      <th>Tryglicerides</th>\n",
       "      <th>Platelets</th>\n",
       "      <th>Prothrombin</th>\n",
       "      <th>Ascites</th>\n",
       "      <th>Hepatomegaly</th>\n",
       "      <th>Spiders</th>\n",
       "      <th>Edema</th>\n",
       "      <th>Status</th>\n",
       "      <th>Drug</th>\n",
       "      <th>Sex</th>\n",
       "      <th>Target</th>\n",
       "    </tr>\n",
       "  </thead>\n",
       "  <tbody>\n",
       "    <tr>\n",
       "      <th>0</th>\n",
       "      <td>3250.354048</td>\n",
       "      <td>16004.643273</td>\n",
       "      <td>12.786408</td>\n",
       "      <td>256.522969</td>\n",
       "      <td>3.697746</td>\n",
       "      <td>86.911967</td>\n",
       "      <td>7713.587101</td>\n",
       "      <td>177.604046</td>\n",
       "      <td>222.794278</td>\n",
       "      <td>329.383286</td>\n",
       "      <td>10.084559</td>\n",
       "      <td>0.004716</td>\n",
       "      <td>0.998661</td>\n",
       "      <td>0.010492</td>\n",
       "      <td>1.831350</td>\n",
       "      <td>1.998978</td>\n",
       "      <td>0.020030</td>\n",
       "      <td>0.001897</td>\n",
       "      <td>2.034643</td>\n",
       "    </tr>\n",
       "    <tr>\n",
       "      <th>1</th>\n",
       "      <td>1436.811151</td>\n",
       "      <td>21736.672725</td>\n",
       "      <td>1.201830</td>\n",
       "      <td>472.828496</td>\n",
       "      <td>3.696096</td>\n",
       "      <td>49.199376</td>\n",
       "      <td>7602.761052</td>\n",
       "      <td>109.961008</td>\n",
       "      <td>147.650902</td>\n",
       "      <td>218.232444</td>\n",
       "      <td>10.123429</td>\n",
       "      <td>1.016785</td>\n",
       "      <td>0.003014</td>\n",
       "      <td>1.010142</td>\n",
       "      <td>1.854842</td>\n",
       "      <td>2.037966</td>\n",
       "      <td>1.006641</td>\n",
       "      <td>0.004160</td>\n",
       "      <td>2.006317</td>\n",
       "    </tr>\n",
       "    <tr>\n",
       "      <th>2</th>\n",
       "      <td>1421.285744</td>\n",
       "      <td>16083.335989</td>\n",
       "      <td>1.229088</td>\n",
       "      <td>256.605803</td>\n",
       "      <td>3.414596</td>\n",
       "      <td>193.536692</td>\n",
       "      <td>2213.727114</td>\n",
       "      <td>103.913035</td>\n",
       "      <td>148.745255</td>\n",
       "      <td>220.284705</td>\n",
       "      <td>10.624317</td>\n",
       "      <td>0.968423</td>\n",
       "      <td>1.005716</td>\n",
       "      <td>0.017864</td>\n",
       "      <td>1.007461</td>\n",
       "      <td>0.028327</td>\n",
       "      <td>1.009042</td>\n",
       "      <td>0.004384</td>\n",
       "      <td>2.047494</td>\n",
       "    </tr>\n",
       "    <tr>\n",
       "      <th>3</th>\n",
       "      <td>3241.530019</td>\n",
       "      <td>16219.575132</td>\n",
       "      <td>1.195374</td>\n",
       "      <td>379.016040</td>\n",
       "      <td>3.398954</td>\n",
       "      <td>345.471674</td>\n",
       "      <td>7122.236165</td>\n",
       "      <td>170.960722</td>\n",
       "      <td>234.998990</td>\n",
       "      <td>304.910176</td>\n",
       "      <td>10.188500</td>\n",
       "      <td>-0.000404</td>\n",
       "      <td>1.016291</td>\n",
       "      <td>1.017134</td>\n",
       "      <td>0.011218</td>\n",
       "      <td>1.010332</td>\n",
       "      <td>1.007548</td>\n",
       "      <td>0.004053</td>\n",
       "      <td>2.995508</td>\n",
       "    </tr>\n",
       "    <tr>\n",
       "      <th>4</th>\n",
       "      <td>1421.721434</td>\n",
       "      <td>16282.227605</td>\n",
       "      <td>4.046504</td>\n",
       "      <td>477.799065</td>\n",
       "      <td>3.693662</td>\n",
       "      <td>90.211293</td>\n",
       "      <td>1100.696374</td>\n",
       "      <td>168.922488</td>\n",
       "      <td>83.691810</td>\n",
       "      <td>309.254879</td>\n",
       "      <td>11.677790</td>\n",
       "      <td>0.004565</td>\n",
       "      <td>0.010163</td>\n",
       "      <td>0.012468</td>\n",
       "      <td>0.008048</td>\n",
       "      <td>0.023392</td>\n",
       "      <td>0.004684</td>\n",
       "      <td>0.006063</td>\n",
       "      <td>1.033367</td>\n",
       "    </tr>\n",
       "    <tr>\n",
       "      <th>...</th>\n",
       "      <td>...</td>\n",
       "      <td>...</td>\n",
       "      <td>...</td>\n",
       "      <td>...</td>\n",
       "      <td>...</td>\n",
       "      <td>...</td>\n",
       "      <td>...</td>\n",
       "      <td>...</td>\n",
       "      <td>...</td>\n",
       "      <td>...</td>\n",
       "      <td>...</td>\n",
       "      <td>...</td>\n",
       "      <td>...</td>\n",
       "      <td>...</td>\n",
       "      <td>...</td>\n",
       "      <td>...</td>\n",
       "      <td>...</td>\n",
       "      <td>...</td>\n",
       "      <td>...</td>\n",
       "    </tr>\n",
       "    <tr>\n",
       "      <th>995</th>\n",
       "      <td>1406.020799</td>\n",
       "      <td>15820.546992</td>\n",
       "      <td>12.803436</td>\n",
       "      <td>1111.037291</td>\n",
       "      <td>3.420476</td>\n",
       "      <td>92.146855</td>\n",
       "      <td>7193.914180</td>\n",
       "      <td>109.241232</td>\n",
       "      <td>83.523814</td>\n",
       "      <td>214.063756</td>\n",
       "      <td>10.858565</td>\n",
       "      <td>0.958306</td>\n",
       "      <td>1.012825</td>\n",
       "      <td>0.016479</td>\n",
       "      <td>1.908899</td>\n",
       "      <td>0.018074</td>\n",
       "      <td>0.998699</td>\n",
       "      <td>0.003102</td>\n",
       "      <td>1.011960</td>\n",
       "    </tr>\n",
       "    <tr>\n",
       "      <th>996</th>\n",
       "      <td>3236.208018</td>\n",
       "      <td>21884.079284</td>\n",
       "      <td>13.223400</td>\n",
       "      <td>257.290904</td>\n",
       "      <td>3.380416</td>\n",
       "      <td>95.301921</td>\n",
       "      <td>2468.737570</td>\n",
       "      <td>168.575433</td>\n",
       "      <td>240.176564</td>\n",
       "      <td>327.427515</td>\n",
       "      <td>15.536260</td>\n",
       "      <td>0.974579</td>\n",
       "      <td>1.009542</td>\n",
       "      <td>0.020442</td>\n",
       "      <td>0.010521</td>\n",
       "      <td>0.994874</td>\n",
       "      <td>1.007115</td>\n",
       "      <td>1.007990</td>\n",
       "      <td>3.018780</td>\n",
       "    </tr>\n",
       "    <tr>\n",
       "      <th>997</th>\n",
       "      <td>1424.184992</td>\n",
       "      <td>15808.221118</td>\n",
       "      <td>1.223907</td>\n",
       "      <td>458.282313</td>\n",
       "      <td>3.371290</td>\n",
       "      <td>341.543881</td>\n",
       "      <td>7168.600084</td>\n",
       "      <td>306.342818</td>\n",
       "      <td>82.148650</td>\n",
       "      <td>208.675294</td>\n",
       "      <td>11.876638</td>\n",
       "      <td>0.002719</td>\n",
       "      <td>0.027425</td>\n",
       "      <td>1.043417</td>\n",
       "      <td>0.006862</td>\n",
       "      <td>1.033478</td>\n",
       "      <td>0.008271</td>\n",
       "      <td>0.006232</td>\n",
       "      <td>0.066323</td>\n",
       "    </tr>\n",
       "    <tr>\n",
       "      <th>998</th>\n",
       "      <td>1429.385245</td>\n",
       "      <td>22020.122905</td>\n",
       "      <td>3.981638</td>\n",
       "      <td>254.525169</td>\n",
       "      <td>3.402820</td>\n",
       "      <td>201.994174</td>\n",
       "      <td>1067.610982</td>\n",
       "      <td>108.514511</td>\n",
       "      <td>82.735860</td>\n",
       "      <td>310.747273</td>\n",
       "      <td>15.820328</td>\n",
       "      <td>0.001766</td>\n",
       "      <td>0.018619</td>\n",
       "      <td>1.029327</td>\n",
       "      <td>0.979352</td>\n",
       "      <td>1.004710</td>\n",
       "      <td>1.010402</td>\n",
       "      <td>0.992975</td>\n",
       "      <td>2.022925</td>\n",
       "    </tr>\n",
       "    <tr>\n",
       "      <th>999</th>\n",
       "      <td>1433.339232</td>\n",
       "      <td>21761.864951</td>\n",
       "      <td>4.264056</td>\n",
       "      <td>376.180786</td>\n",
       "      <td>3.722145</td>\n",
       "      <td>201.514336</td>\n",
       "      <td>983.804787</td>\n",
       "      <td>108.359854</td>\n",
       "      <td>83.913296</td>\n",
       "      <td>207.890198</td>\n",
       "      <td>10.735817</td>\n",
       "      <td>0.995752</td>\n",
       "      <td>1.005453</td>\n",
       "      <td>1.027707</td>\n",
       "      <td>1.954162</td>\n",
       "      <td>1.938287</td>\n",
       "      <td>0.003244</td>\n",
       "      <td>0.003687</td>\n",
       "      <td>1.026758</td>\n",
       "    </tr>\n",
       "  </tbody>\n",
       "</table>\n",
       "<p>1000 rows × 19 columns</p>\n",
       "</div>"
      ],
      "text/plain": [
       "          N_Days           Age  Bilirubin  Cholesterol   Albumin      Copper  \\\n",
       "0    3250.354048  16004.643273  12.786408   256.522969  3.697746   86.911967   \n",
       "1    1436.811151  21736.672725   1.201830   472.828496  3.696096   49.199376   \n",
       "2    1421.285744  16083.335989   1.229088   256.605803  3.414596  193.536692   \n",
       "3    3241.530019  16219.575132   1.195374   379.016040  3.398954  345.471674   \n",
       "4    1421.721434  16282.227605   4.046504   477.799065  3.693662   90.211293   \n",
       "..           ...           ...        ...          ...       ...         ...   \n",
       "995  1406.020799  15820.546992  12.803436  1111.037291  3.420476   92.146855   \n",
       "996  3236.208018  21884.079284  13.223400   257.290904  3.380416   95.301921   \n",
       "997  1424.184992  15808.221118   1.223907   458.282313  3.371290  341.543881   \n",
       "998  1429.385245  22020.122905   3.981638   254.525169  3.402820  201.994174   \n",
       "999  1433.339232  21761.864951   4.264056   376.180786  3.722145  201.514336   \n",
       "\n",
       "        Alk_Phos        SGOT  Tryglicerides   Platelets  Prothrombin  \\\n",
       "0    7713.587101  177.604046     222.794278  329.383286    10.084559   \n",
       "1    7602.761052  109.961008     147.650902  218.232444    10.123429   \n",
       "2    2213.727114  103.913035     148.745255  220.284705    10.624317   \n",
       "3    7122.236165  170.960722     234.998990  304.910176    10.188500   \n",
       "4    1100.696374  168.922488      83.691810  309.254879    11.677790   \n",
       "..           ...         ...            ...         ...          ...   \n",
       "995  7193.914180  109.241232      83.523814  214.063756    10.858565   \n",
       "996  2468.737570  168.575433     240.176564  327.427515    15.536260   \n",
       "997  7168.600084  306.342818      82.148650  208.675294    11.876638   \n",
       "998  1067.610982  108.514511      82.735860  310.747273    15.820328   \n",
       "999   983.804787  108.359854      83.913296  207.890198    10.735817   \n",
       "\n",
       "      Ascites  Hepatomegaly   Spiders     Edema    Status      Drug       Sex  \\\n",
       "0    0.004716      0.998661  0.010492  1.831350  1.998978  0.020030  0.001897   \n",
       "1    1.016785      0.003014  1.010142  1.854842  2.037966  1.006641  0.004160   \n",
       "2    0.968423      1.005716  0.017864  1.007461  0.028327  1.009042  0.004384   \n",
       "3   -0.000404      1.016291  1.017134  0.011218  1.010332  1.007548  0.004053   \n",
       "4    0.004565      0.010163  0.012468  0.008048  0.023392  0.004684  0.006063   \n",
       "..        ...           ...       ...       ...       ...       ...       ...   \n",
       "995  0.958306      1.012825  0.016479  1.908899  0.018074  0.998699  0.003102   \n",
       "996  0.974579      1.009542  0.020442  0.010521  0.994874  1.007115  1.007990   \n",
       "997  0.002719      0.027425  1.043417  0.006862  1.033478  0.008271  0.006232   \n",
       "998  0.001766      0.018619  1.029327  0.979352  1.004710  1.010402  0.992975   \n",
       "999  0.995752      1.005453  1.027707  1.954162  1.938287  0.003244  0.003687   \n",
       "\n",
       "       Target  \n",
       "0    2.034643  \n",
       "1    2.006317  \n",
       "2    2.047494  \n",
       "3    2.995508  \n",
       "4    1.033367  \n",
       "..        ...  \n",
       "995  1.011960  \n",
       "996  3.018780  \n",
       "997  0.066323  \n",
       "998  2.022925  \n",
       "999  1.026758  \n",
       "\n",
       "[1000 rows x 19 columns]"
      ]
     },
     "execution_count": 88,
     "metadata": {},
     "output_type": "execute_result"
    }
   ],
   "source": [
    "CTABGAN_syn_data.rename(columns=dicts,inplace=True)\n",
    "CTABGAN_syn_data"
   ]
  },
  {
   "cell_type": "code",
   "execution_count": 89,
   "id": "6bc009c8",
   "metadata": {},
   "outputs": [],
   "source": [
    "for i in values[7:]:\n",
    "    CTABGAN_syn_data[i]=abs(np.round(CTABGAN_syn_data[i]))"
   ]
  },
  {
   "cell_type": "code",
   "execution_count": 90,
   "id": "2b32c3ea",
   "metadata": {},
   "outputs": [
    {
     "data": {
      "text/html": [
       "<div>\n",
       "<style scoped>\n",
       "    .dataframe tbody tr th:only-of-type {\n",
       "        vertical-align: middle;\n",
       "    }\n",
       "\n",
       "    .dataframe tbody tr th {\n",
       "        vertical-align: top;\n",
       "    }\n",
       "\n",
       "    .dataframe thead th {\n",
       "        text-align: right;\n",
       "    }\n",
       "</style>\n",
       "<table border=\"1\" class=\"dataframe\">\n",
       "  <thead>\n",
       "    <tr style=\"text-align: right;\">\n",
       "      <th></th>\n",
       "      <th>N_Days</th>\n",
       "      <th>Age</th>\n",
       "      <th>Bilirubin</th>\n",
       "      <th>Cholesterol</th>\n",
       "      <th>Albumin</th>\n",
       "      <th>Copper</th>\n",
       "      <th>Alk_Phos</th>\n",
       "      <th>SGOT</th>\n",
       "      <th>Tryglicerides</th>\n",
       "      <th>Platelets</th>\n",
       "      <th>Prothrombin</th>\n",
       "      <th>Ascites</th>\n",
       "      <th>Hepatomegaly</th>\n",
       "      <th>Spiders</th>\n",
       "      <th>Edema</th>\n",
       "      <th>Status</th>\n",
       "      <th>Drug</th>\n",
       "      <th>Sex</th>\n",
       "      <th>Target</th>\n",
       "    </tr>\n",
       "  </thead>\n",
       "  <tbody>\n",
       "    <tr>\n",
       "      <th>0</th>\n",
       "      <td>3250.354048</td>\n",
       "      <td>16004.643273</td>\n",
       "      <td>12.786408</td>\n",
       "      <td>256.522969</td>\n",
       "      <td>3.697746</td>\n",
       "      <td>86.911967</td>\n",
       "      <td>7713.587101</td>\n",
       "      <td>178.0</td>\n",
       "      <td>223.0</td>\n",
       "      <td>329.0</td>\n",
       "      <td>10.0</td>\n",
       "      <td>0.0</td>\n",
       "      <td>1.0</td>\n",
       "      <td>0.0</td>\n",
       "      <td>2.0</td>\n",
       "      <td>2.0</td>\n",
       "      <td>0.0</td>\n",
       "      <td>0.0</td>\n",
       "      <td>2.0</td>\n",
       "    </tr>\n",
       "    <tr>\n",
       "      <th>1</th>\n",
       "      <td>1436.811151</td>\n",
       "      <td>21736.672725</td>\n",
       "      <td>1.201830</td>\n",
       "      <td>472.828496</td>\n",
       "      <td>3.696096</td>\n",
       "      <td>49.199376</td>\n",
       "      <td>7602.761052</td>\n",
       "      <td>110.0</td>\n",
       "      <td>148.0</td>\n",
       "      <td>218.0</td>\n",
       "      <td>10.0</td>\n",
       "      <td>1.0</td>\n",
       "      <td>0.0</td>\n",
       "      <td>1.0</td>\n",
       "      <td>2.0</td>\n",
       "      <td>2.0</td>\n",
       "      <td>1.0</td>\n",
       "      <td>0.0</td>\n",
       "      <td>2.0</td>\n",
       "    </tr>\n",
       "    <tr>\n",
       "      <th>2</th>\n",
       "      <td>1421.285744</td>\n",
       "      <td>16083.335989</td>\n",
       "      <td>1.229088</td>\n",
       "      <td>256.605803</td>\n",
       "      <td>3.414596</td>\n",
       "      <td>193.536692</td>\n",
       "      <td>2213.727114</td>\n",
       "      <td>104.0</td>\n",
       "      <td>149.0</td>\n",
       "      <td>220.0</td>\n",
       "      <td>11.0</td>\n",
       "      <td>1.0</td>\n",
       "      <td>1.0</td>\n",
       "      <td>0.0</td>\n",
       "      <td>1.0</td>\n",
       "      <td>0.0</td>\n",
       "      <td>1.0</td>\n",
       "      <td>0.0</td>\n",
       "      <td>2.0</td>\n",
       "    </tr>\n",
       "    <tr>\n",
       "      <th>3</th>\n",
       "      <td>3241.530019</td>\n",
       "      <td>16219.575132</td>\n",
       "      <td>1.195374</td>\n",
       "      <td>379.016040</td>\n",
       "      <td>3.398954</td>\n",
       "      <td>345.471674</td>\n",
       "      <td>7122.236165</td>\n",
       "      <td>171.0</td>\n",
       "      <td>235.0</td>\n",
       "      <td>305.0</td>\n",
       "      <td>10.0</td>\n",
       "      <td>0.0</td>\n",
       "      <td>1.0</td>\n",
       "      <td>1.0</td>\n",
       "      <td>0.0</td>\n",
       "      <td>1.0</td>\n",
       "      <td>1.0</td>\n",
       "      <td>0.0</td>\n",
       "      <td>3.0</td>\n",
       "    </tr>\n",
       "    <tr>\n",
       "      <th>4</th>\n",
       "      <td>1421.721434</td>\n",
       "      <td>16282.227605</td>\n",
       "      <td>4.046504</td>\n",
       "      <td>477.799065</td>\n",
       "      <td>3.693662</td>\n",
       "      <td>90.211293</td>\n",
       "      <td>1100.696374</td>\n",
       "      <td>169.0</td>\n",
       "      <td>84.0</td>\n",
       "      <td>309.0</td>\n",
       "      <td>12.0</td>\n",
       "      <td>0.0</td>\n",
       "      <td>0.0</td>\n",
       "      <td>0.0</td>\n",
       "      <td>0.0</td>\n",
       "      <td>0.0</td>\n",
       "      <td>0.0</td>\n",
       "      <td>0.0</td>\n",
       "      <td>1.0</td>\n",
       "    </tr>\n",
       "    <tr>\n",
       "      <th>...</th>\n",
       "      <td>...</td>\n",
       "      <td>...</td>\n",
       "      <td>...</td>\n",
       "      <td>...</td>\n",
       "      <td>...</td>\n",
       "      <td>...</td>\n",
       "      <td>...</td>\n",
       "      <td>...</td>\n",
       "      <td>...</td>\n",
       "      <td>...</td>\n",
       "      <td>...</td>\n",
       "      <td>...</td>\n",
       "      <td>...</td>\n",
       "      <td>...</td>\n",
       "      <td>...</td>\n",
       "      <td>...</td>\n",
       "      <td>...</td>\n",
       "      <td>...</td>\n",
       "      <td>...</td>\n",
       "    </tr>\n",
       "    <tr>\n",
       "      <th>995</th>\n",
       "      <td>1406.020799</td>\n",
       "      <td>15820.546992</td>\n",
       "      <td>12.803436</td>\n",
       "      <td>1111.037291</td>\n",
       "      <td>3.420476</td>\n",
       "      <td>92.146855</td>\n",
       "      <td>7193.914180</td>\n",
       "      <td>109.0</td>\n",
       "      <td>84.0</td>\n",
       "      <td>214.0</td>\n",
       "      <td>11.0</td>\n",
       "      <td>1.0</td>\n",
       "      <td>1.0</td>\n",
       "      <td>0.0</td>\n",
       "      <td>2.0</td>\n",
       "      <td>0.0</td>\n",
       "      <td>1.0</td>\n",
       "      <td>0.0</td>\n",
       "      <td>1.0</td>\n",
       "    </tr>\n",
       "    <tr>\n",
       "      <th>996</th>\n",
       "      <td>3236.208018</td>\n",
       "      <td>21884.079284</td>\n",
       "      <td>13.223400</td>\n",
       "      <td>257.290904</td>\n",
       "      <td>3.380416</td>\n",
       "      <td>95.301921</td>\n",
       "      <td>2468.737570</td>\n",
       "      <td>169.0</td>\n",
       "      <td>240.0</td>\n",
       "      <td>327.0</td>\n",
       "      <td>16.0</td>\n",
       "      <td>1.0</td>\n",
       "      <td>1.0</td>\n",
       "      <td>0.0</td>\n",
       "      <td>0.0</td>\n",
       "      <td>1.0</td>\n",
       "      <td>1.0</td>\n",
       "      <td>1.0</td>\n",
       "      <td>3.0</td>\n",
       "    </tr>\n",
       "    <tr>\n",
       "      <th>997</th>\n",
       "      <td>1424.184992</td>\n",
       "      <td>15808.221118</td>\n",
       "      <td>1.223907</td>\n",
       "      <td>458.282313</td>\n",
       "      <td>3.371290</td>\n",
       "      <td>341.543881</td>\n",
       "      <td>7168.600084</td>\n",
       "      <td>306.0</td>\n",
       "      <td>82.0</td>\n",
       "      <td>209.0</td>\n",
       "      <td>12.0</td>\n",
       "      <td>0.0</td>\n",
       "      <td>0.0</td>\n",
       "      <td>1.0</td>\n",
       "      <td>0.0</td>\n",
       "      <td>1.0</td>\n",
       "      <td>0.0</td>\n",
       "      <td>0.0</td>\n",
       "      <td>0.0</td>\n",
       "    </tr>\n",
       "    <tr>\n",
       "      <th>998</th>\n",
       "      <td>1429.385245</td>\n",
       "      <td>22020.122905</td>\n",
       "      <td>3.981638</td>\n",
       "      <td>254.525169</td>\n",
       "      <td>3.402820</td>\n",
       "      <td>201.994174</td>\n",
       "      <td>1067.610982</td>\n",
       "      <td>109.0</td>\n",
       "      <td>83.0</td>\n",
       "      <td>311.0</td>\n",
       "      <td>16.0</td>\n",
       "      <td>0.0</td>\n",
       "      <td>0.0</td>\n",
       "      <td>1.0</td>\n",
       "      <td>1.0</td>\n",
       "      <td>1.0</td>\n",
       "      <td>1.0</td>\n",
       "      <td>1.0</td>\n",
       "      <td>2.0</td>\n",
       "    </tr>\n",
       "    <tr>\n",
       "      <th>999</th>\n",
       "      <td>1433.339232</td>\n",
       "      <td>21761.864951</td>\n",
       "      <td>4.264056</td>\n",
       "      <td>376.180786</td>\n",
       "      <td>3.722145</td>\n",
       "      <td>201.514336</td>\n",
       "      <td>983.804787</td>\n",
       "      <td>108.0</td>\n",
       "      <td>84.0</td>\n",
       "      <td>208.0</td>\n",
       "      <td>11.0</td>\n",
       "      <td>1.0</td>\n",
       "      <td>1.0</td>\n",
       "      <td>1.0</td>\n",
       "      <td>2.0</td>\n",
       "      <td>2.0</td>\n",
       "      <td>0.0</td>\n",
       "      <td>0.0</td>\n",
       "      <td>1.0</td>\n",
       "    </tr>\n",
       "  </tbody>\n",
       "</table>\n",
       "<p>1000 rows × 19 columns</p>\n",
       "</div>"
      ],
      "text/plain": [
       "          N_Days           Age  Bilirubin  Cholesterol   Albumin      Copper  \\\n",
       "0    3250.354048  16004.643273  12.786408   256.522969  3.697746   86.911967   \n",
       "1    1436.811151  21736.672725   1.201830   472.828496  3.696096   49.199376   \n",
       "2    1421.285744  16083.335989   1.229088   256.605803  3.414596  193.536692   \n",
       "3    3241.530019  16219.575132   1.195374   379.016040  3.398954  345.471674   \n",
       "4    1421.721434  16282.227605   4.046504   477.799065  3.693662   90.211293   \n",
       "..           ...           ...        ...          ...       ...         ...   \n",
       "995  1406.020799  15820.546992  12.803436  1111.037291  3.420476   92.146855   \n",
       "996  3236.208018  21884.079284  13.223400   257.290904  3.380416   95.301921   \n",
       "997  1424.184992  15808.221118   1.223907   458.282313  3.371290  341.543881   \n",
       "998  1429.385245  22020.122905   3.981638   254.525169  3.402820  201.994174   \n",
       "999  1433.339232  21761.864951   4.264056   376.180786  3.722145  201.514336   \n",
       "\n",
       "        Alk_Phos   SGOT  Tryglicerides  Platelets  Prothrombin  Ascites  \\\n",
       "0    7713.587101  178.0          223.0      329.0         10.0      0.0   \n",
       "1    7602.761052  110.0          148.0      218.0         10.0      1.0   \n",
       "2    2213.727114  104.0          149.0      220.0         11.0      1.0   \n",
       "3    7122.236165  171.0          235.0      305.0         10.0      0.0   \n",
       "4    1100.696374  169.0           84.0      309.0         12.0      0.0   \n",
       "..           ...    ...            ...        ...          ...      ...   \n",
       "995  7193.914180  109.0           84.0      214.0         11.0      1.0   \n",
       "996  2468.737570  169.0          240.0      327.0         16.0      1.0   \n",
       "997  7168.600084  306.0           82.0      209.0         12.0      0.0   \n",
       "998  1067.610982  109.0           83.0      311.0         16.0      0.0   \n",
       "999   983.804787  108.0           84.0      208.0         11.0      1.0   \n",
       "\n",
       "     Hepatomegaly  Spiders  Edema  Status  Drug  Sex  Target  \n",
       "0             1.0      0.0    2.0     2.0   0.0  0.0     2.0  \n",
       "1             0.0      1.0    2.0     2.0   1.0  0.0     2.0  \n",
       "2             1.0      0.0    1.0     0.0   1.0  0.0     2.0  \n",
       "3             1.0      1.0    0.0     1.0   1.0  0.0     3.0  \n",
       "4             0.0      0.0    0.0     0.0   0.0  0.0     1.0  \n",
       "..            ...      ...    ...     ...   ...  ...     ...  \n",
       "995           1.0      0.0    2.0     0.0   1.0  0.0     1.0  \n",
       "996           1.0      0.0    0.0     1.0   1.0  1.0     3.0  \n",
       "997           0.0      1.0    0.0     1.0   0.0  0.0     0.0  \n",
       "998           0.0      1.0    1.0     1.0   1.0  1.0     2.0  \n",
       "999           1.0      1.0    2.0     2.0   0.0  0.0     1.0  \n",
       "\n",
       "[1000 rows x 19 columns]"
      ]
     },
     "execution_count": 90,
     "metadata": {},
     "output_type": "execute_result"
    }
   ],
   "source": [
    "CTABGAN_syn_data"
   ]
  },
  {
   "cell_type": "code",
   "execution_count": 91,
   "id": "57faf95e",
   "metadata": {},
   "outputs": [],
   "source": [
    "from fdc.NN_models import *\n",
    "CTABGAN_syn_data=balanced_synthetic_data_CTABGAN(train_features,CTABGAN_syn_data,gen)"
   ]
  },
  {
   "cell_type": "code",
   "execution_count": 92,
   "id": "5f135a7a",
   "metadata": {},
   "outputs": [],
   "source": [
    "CTABGAN_syn_data.to_csv('Liver_cirrhosis_CTABGAN_syn_data.csv',index=False)"
   ]
  },
  {
   "cell_type": "code",
   "execution_count": 93,
   "id": "8ff74a1e",
   "metadata": {},
   "outputs": [],
   "source": [
    "np.random.seed(42)\n",
    "CTABGAN_syn_data=CTABGAN_syn_data.sample(frac=1) #Shuffle the data set\n",
    "np.random.seed(42)\n",
    "i=[x for x in range(np.shape(CTABGAN_syn_data)[0])]\n",
    "\n",
    "CTABGAN_syn_data.set_index(pd.Series(i), inplace=True)"
   ]
  },
  {
   "cell_type": "code",
   "execution_count": 94,
   "id": "8939e66c-8924-4941-b20f-0a7b76c0ee72",
   "metadata": {},
   "outputs": [
    {
     "name": "stdout",
     "output_type": "stream",
     "text": [
      "The number of data points repeated in the synthetic data are 0.0\n"
     ]
    },
    {
     "data": {
      "text/html": [
       "<div>\n",
       "<style scoped>\n",
       "    .dataframe tbody tr th:only-of-type {\n",
       "        vertical-align: middle;\n",
       "    }\n",
       "\n",
       "    .dataframe tbody tr th {\n",
       "        vertical-align: top;\n",
       "    }\n",
       "\n",
       "    .dataframe thead th {\n",
       "        text-align: right;\n",
       "    }\n",
       "</style>\n",
       "<table border=\"1\" class=\"dataframe\">\n",
       "  <thead>\n",
       "    <tr style=\"text-align: right;\">\n",
       "      <th></th>\n",
       "    </tr>\n",
       "  </thead>\n",
       "  <tbody>\n",
       "  </tbody>\n",
       "</table>\n",
       "</div>"
      ],
      "text/plain": [
       "Empty DataFrame\n",
       "Columns: []\n",
       "Index: []"
      ]
     },
     "execution_count": 94,
     "metadata": {},
     "output_type": "execute_result"
    }
   ],
   "source": [
    "exact_match_score(original_df,CTABGAN_syn_data)"
   ]
  },
  {
   "cell_type": "code",
   "execution_count": 95,
   "id": "5f8c2710-3ce6-4ae2-8f8b-755f7699ac91",
   "metadata": {},
   "outputs": [
    {
     "data": {
      "text/plain": [
       "0"
      ]
     },
     "execution_count": 95,
     "metadata": {},
     "output_type": "execute_result"
    }
   ],
   "source": [
    "len(CTABGAN_syn_data[CTABGAN_syn_data.duplicated(keep=False)])"
   ]
  },
  {
   "cell_type": "markdown",
   "id": "aa6d4c99",
   "metadata": {},
   "source": [
    "### Train-test split on CTABGAN generated synthetic data points"
   ]
  },
  {
   "cell_type": "code",
   "execution_count": 96,
   "id": "0408346f",
   "metadata": {},
   "outputs": [],
   "source": [
    "syn_train_features, syn_test_features, syn_train_labels, syn_test_labels = train_test_split(np.array(CTABGAN_syn_data.drop([\"Target\"],axis=1)), np.array(CTABGAN_syn_data[\"Target\"]), test_size = 0.25, random_state = 42)"
   ]
  },
  {
   "cell_type": "markdown",
   "id": "38c75ecc",
   "metadata": {},
   "source": [
    "### Gradient boosting classifier on CTABGAN generated synthetic training data  (Model-2)"
   ]
  },
  {
   "cell_type": "code",
   "execution_count": 97,
   "id": "5307cf57",
   "metadata": {},
   "outputs": [],
   "source": [
    "from sklearn.ensemble import GradientBoostingClassifier\n",
    "CTABGAN_model_2 = GradientBoostingClassifier(n_estimators=20, learning_rate=0.5, max_features=2, max_depth=2, random_state=42)\n"
   ]
  },
  {
   "cell_type": "markdown",
   "id": "d454a80a",
   "metadata": {},
   "source": [
    "### 5 Fold Cross validation"
   ]
  },
  {
   "cell_type": "code",
   "execution_count": 98,
   "id": "21da27b7",
   "metadata": {},
   "outputs": [
    {
     "name": "stdout",
     "output_type": "stream",
     "text": [
      "[0.38297872 0.10638298 0.19148936 0.25531915 0.2173913 ]\n",
      "Avg : 0.23071230342275673\n"
     ]
    }
   ],
   "source": [
    "score_lr=cross_val_score(CTABGAN_model_2, syn_train_features, syn_train_labels,cv=5)\n",
    "print(score_lr)\n",
    "print(\"Avg :\",np.average(score_lr))\n"
   ]
  },
  {
   "cell_type": "code",
   "execution_count": 99,
   "id": "6f0ef4ec",
   "metadata": {},
   "outputs": [
    {
     "data": {
      "text/html": [
       "<style>#sk-container-id-4 {color: black;background-color: white;}#sk-container-id-4 pre{padding: 0;}#sk-container-id-4 div.sk-toggleable {background-color: white;}#sk-container-id-4 label.sk-toggleable__label {cursor: pointer;display: block;width: 100%;margin-bottom: 0;padding: 0.3em;box-sizing: border-box;text-align: center;}#sk-container-id-4 label.sk-toggleable__label-arrow:before {content: \"▸\";float: left;margin-right: 0.25em;color: #696969;}#sk-container-id-4 label.sk-toggleable__label-arrow:hover:before {color: black;}#sk-container-id-4 div.sk-estimator:hover label.sk-toggleable__label-arrow:before {color: black;}#sk-container-id-4 div.sk-toggleable__content {max-height: 0;max-width: 0;overflow: hidden;text-align: left;background-color: #f0f8ff;}#sk-container-id-4 div.sk-toggleable__content pre {margin: 0.2em;color: black;border-radius: 0.25em;background-color: #f0f8ff;}#sk-container-id-4 input.sk-toggleable__control:checked~div.sk-toggleable__content {max-height: 200px;max-width: 100%;overflow: auto;}#sk-container-id-4 input.sk-toggleable__control:checked~label.sk-toggleable__label-arrow:before {content: \"▾\";}#sk-container-id-4 div.sk-estimator input.sk-toggleable__control:checked~label.sk-toggleable__label {background-color: #d4ebff;}#sk-container-id-4 div.sk-label input.sk-toggleable__control:checked~label.sk-toggleable__label {background-color: #d4ebff;}#sk-container-id-4 input.sk-hidden--visually {border: 0;clip: rect(1px 1px 1px 1px);clip: rect(1px, 1px, 1px, 1px);height: 1px;margin: -1px;overflow: hidden;padding: 0;position: absolute;width: 1px;}#sk-container-id-4 div.sk-estimator {font-family: monospace;background-color: #f0f8ff;border: 1px dotted black;border-radius: 0.25em;box-sizing: border-box;margin-bottom: 0.5em;}#sk-container-id-4 div.sk-estimator:hover {background-color: #d4ebff;}#sk-container-id-4 div.sk-parallel-item::after {content: \"\";width: 100%;border-bottom: 1px solid gray;flex-grow: 1;}#sk-container-id-4 div.sk-label:hover label.sk-toggleable__label {background-color: #d4ebff;}#sk-container-id-4 div.sk-serial::before {content: \"\";position: absolute;border-left: 1px solid gray;box-sizing: border-box;top: 0;bottom: 0;left: 50%;z-index: 0;}#sk-container-id-4 div.sk-serial {display: flex;flex-direction: column;align-items: center;background-color: white;padding-right: 0.2em;padding-left: 0.2em;position: relative;}#sk-container-id-4 div.sk-item {position: relative;z-index: 1;}#sk-container-id-4 div.sk-parallel {display: flex;align-items: stretch;justify-content: center;background-color: white;position: relative;}#sk-container-id-4 div.sk-item::before, #sk-container-id-4 div.sk-parallel-item::before {content: \"\";position: absolute;border-left: 1px solid gray;box-sizing: border-box;top: 0;bottom: 0;left: 50%;z-index: -1;}#sk-container-id-4 div.sk-parallel-item {display: flex;flex-direction: column;z-index: 1;position: relative;background-color: white;}#sk-container-id-4 div.sk-parallel-item:first-child::after {align-self: flex-end;width: 50%;}#sk-container-id-4 div.sk-parallel-item:last-child::after {align-self: flex-start;width: 50%;}#sk-container-id-4 div.sk-parallel-item:only-child::after {width: 0;}#sk-container-id-4 div.sk-dashed-wrapped {border: 1px dashed gray;margin: 0 0.4em 0.5em 0.4em;box-sizing: border-box;padding-bottom: 0.4em;background-color: white;}#sk-container-id-4 div.sk-label label {font-family: monospace;font-weight: bold;display: inline-block;line-height: 1.2em;}#sk-container-id-4 div.sk-label-container {text-align: center;}#sk-container-id-4 div.sk-container {/* jupyter's `normalize.less` sets `[hidden] { display: none; }` but bootstrap.min.css set `[hidden] { display: none !important; }` so we also need the `!important` here to be able to override the default hidden behavior on the sphinx rendered scikit-learn.org. See: https://github.com/scikit-learn/scikit-learn/issues/21755 */display: inline-block !important;position: relative;}#sk-container-id-4 div.sk-text-repr-fallback {display: none;}</style><div id=\"sk-container-id-4\" class=\"sk-top-container\"><div class=\"sk-text-repr-fallback\"><pre>GradientBoostingClassifier(learning_rate=0.5, max_depth=2, max_features=2,\n",
       "                           n_estimators=20, random_state=42)</pre><b>In a Jupyter environment, please rerun this cell to show the HTML representation or trust the notebook. <br />On GitHub, the HTML representation is unable to render, please try loading this page with nbviewer.org.</b></div><div class=\"sk-container\" hidden><div class=\"sk-item\"><div class=\"sk-estimator sk-toggleable\"><input class=\"sk-toggleable__control sk-hidden--visually\" id=\"sk-estimator-id-4\" type=\"checkbox\" checked><label for=\"sk-estimator-id-4\" class=\"sk-toggleable__label sk-toggleable__label-arrow\">GradientBoostingClassifier</label><div class=\"sk-toggleable__content\"><pre>GradientBoostingClassifier(learning_rate=0.5, max_depth=2, max_features=2,\n",
       "                           n_estimators=20, random_state=42)</pre></div></div></div></div></div>"
      ],
      "text/plain": [
       "GradientBoostingClassifier(learning_rate=0.5, max_depth=2, max_features=2,\n",
       "                           n_estimators=20, random_state=42)"
      ]
     },
     "execution_count": 99,
     "metadata": {},
     "output_type": "execute_result"
    }
   ],
   "source": [
    "CTABGAN_model_2.fit(syn_train_features,syn_train_labels )"
   ]
  },
  {
   "cell_type": "markdown",
   "id": "abe1980f",
   "metadata": {},
   "source": [
    "### Case-1: predicting validation data using Model-1\n"
   ]
  },
  {
   "cell_type": "code",
   "execution_count": 100,
   "id": "ae241c9f",
   "metadata": {},
   "outputs": [
    {
     "name": "stdout",
     "output_type": "stream",
     "text": [
      "F1_Score of cluster 0 is 0.935064935064935\n",
      "Geometric mean of cluster 0 is 0.9357754408380654\n",
      "Correctly predicted data points in cluster 0 is 97.2972972972973%\n",
      "\n",
      "\n",
      "F1_Score of cluster 1 is 0.888888888888889\n",
      "Geometric mean of cluster 1 is 0.8913376232498489\n",
      "Correctly predicted data points in cluster 1 is 82.75862068965517%\n",
      "\n",
      "\n",
      "F1_Score of cluster 2 is 0.9803921568627451\n",
      "Geometric mean of cluster 2 is 0.9805806756909202\n",
      "Correctly predicted data points in cluster 2 is 100.0%\n",
      "\n",
      "\n",
      "F1_Score of cluster 3 is 0.9285714285714286\n",
      "Geometric mean of cluster 3 is 0.9285714285714286\n",
      "Correctly predicted data points in cluster 3 is 92.85714285714286%\n",
      "\n",
      "\n",
      "weigted average F1_Score of all clusters is 0.9322379456833239\n",
      "weighted average Geometric mean of all clusters is 0.933209516928829\n",
      "weighted average of Correctly predicted data points in all clusters is 93.33333333333334%\n"
     ]
    }
   ],
   "source": [
    "x=model_1.predict(np.array(test_features))\n",
    "cluster_wise_F1score(list(test_labels),list(x))"
   ]
  },
  {
   "cell_type": "markdown",
   "id": "0dc4c116",
   "metadata": {},
   "source": [
    "### Case-2: predicting validation data using Model-2\n"
   ]
  },
  {
   "cell_type": "code",
   "execution_count": 101,
   "id": "46536c86",
   "metadata": {},
   "outputs": [
    {
     "name": "stdout",
     "output_type": "stream",
     "text": [
      "F1_Score of cluster 0 is 0.35714285714285715\n",
      "Geometric mean of cluster 0 is 0.35970085328337625\n",
      "Correctly predicted data points in cluster 0 is 40.54054054054054%\n",
      "\n",
      "\n",
      "F1_Score of cluster 1 is 0.26315789473684215\n",
      "Geometric mean of cluster 1 is 0.3094922302950865\n",
      "Correctly predicted data points in cluster 1 is 17.24137931034483%\n",
      "\n",
      "\n",
      "F1_Score of cluster 2 is 0.2666666666666666\n",
      "Geometric mean of cluster 2 is 0.2683281572999748\n",
      "Correctly predicted data points in cluster 2 is 24.0%\n",
      "\n",
      "\n",
      "F1_Score of cluster 3 is 0.4186046511627907\n",
      "Geometric mean of cluster 3 is 0.4466625002869187\n",
      "Correctly predicted data points in cluster 3 is 64.28571428571429%\n",
      "\n",
      "\n",
      "weigted average F1_Score of all clusters is 0.31783806137714166\n",
      "weighted average Geometric mean of all clusters is 0.3356731922529396\n",
      "weighted average of Correctly predicted data points in all clusters is 33.33333333333334%\n"
     ]
    }
   ],
   "source": [
    "y=CTABGAN_model_2.predict(np.array(test_features))\n",
    "\n",
    "cluster_wise_F1score(list(test_labels),list(y))"
   ]
  },
  {
   "cell_type": "markdown",
   "id": "c92cd738",
   "metadata": {},
   "source": [
    "### Comparing predicted values from Case-1 & Case-2"
   ]
  },
  {
   "cell_type": "code",
   "execution_count": 102,
   "id": "bc8d30f4",
   "metadata": {},
   "outputs": [
    {
     "name": "stdout",
     "output_type": "stream",
     "text": [
      "F1_Score of cluster 0 is 0.4367816091954023\n",
      "Geometric mean of cluster 0 is 0.4382023238137204\n",
      "Correctly predicted data points in cluster 0 is 47.5%\n",
      "\n",
      "\n",
      "F1_Score of cluster 1 is 0.29411764705882354\n",
      "Geometric mean of cluster 1 is 0.33333333333333337\n",
      "Correctly predicted data points in cluster 1 is 20.0%\n",
      "\n",
      "\n",
      "F1_Score of cluster 2 is 0.2608695652173913\n",
      "Geometric mean of cluster 2 is 0.2631174057921088\n",
      "Correctly predicted data points in cluster 2 is 23.076923076923077%\n",
      "\n",
      "\n",
      "F1_Score of cluster 3 is 0.46511627906976755\n",
      "Geometric mean of cluster 3 is 0.4962916669854652\n",
      "Correctly predicted data points in cluster 3 is 71.42857142857143%\n",
      "\n",
      "\n",
      "weigted average F1_Score of all clusters is 0.3630327823515771\n",
      "weighted average Geometric mean of all clusters is 0.37762440165974753\n",
      "weighted average of Correctly predicted data points in all clusters is 38.095238095238095%\n"
     ]
    }
   ],
   "source": [
    "cluster_wise_F1score(list(x),list(y))"
   ]
  },
  {
   "cell_type": "markdown",
   "id": "4d73b693",
   "metadata": {},
   "source": [
    "### UMAP on CTABGAN synthetic data"
   ]
  },
  {
   "cell_type": "code",
   "execution_count": 103,
   "id": "a16c8e91",
   "metadata": {},
   "outputs": [
    {
     "data": {
      "image/png": "[encoded data removed]",
      "text/plain": [
       "<Figure size 500x500 with 1 Axes>"
      ]
     },
     "metadata": {},
     "output_type": "display_data"
    }
   ],
   "source": [
    "from fdc.fdc import feature_clustering, canberra_modified, Clustering, FDC\n",
    "np.random.seed(42)\n",
    "syn_emb_low=feature_clustering(30,0.01,'euclidean',CTABGAN_syn_data.drop([\"Target\"],axis=1),True)"
   ]
  },
  {
   "cell_type": "markdown",
   "id": "3ea8c5fb",
   "metadata": {},
   "source": [
    "### FDC on CTABGAN synthetic data"
   ]
  },
  {
   "cell_type": "code",
   "execution_count": 104,
   "id": "ea338225",
   "metadata": {},
   "outputs": [
    {
     "name": "stdout",
     "output_type": "stream",
     "text": [
      "FDC.normalize (init): 0.00002 / 0.000s\n",
      "FDC.normalize (clustering CONT): 1.12363 / 1.124s\n",
      "FDC.normalize (clustering ORD): 2.37121 / 3.495s\n",
      "FDC.normalize (clustering NOM): 2.39080 / 5.886s\n",
      "FDC.normalize (concat): 0.00008 / 5.886s\n",
      "FDC.normalize (umap 5 -> 2): 1.02486 / 6.911s\n",
      "FDC.normalize (array -> DataFrame): 0.00026 / 6.911s\n"
     ]
    },
    {
     "data": {
      "image/png": "[encoded data removed]",
      "text/plain": [
       "<Figure size 500x500 with 1 Axes>"
      ]
     },
     "metadata": {},
     "output_type": "display_data"
    },
    {
     "name": "stdout",
     "output_type": "stream",
     "text": [
      "FDC.normalize (plotting): 0.40564 / 7.316s\n",
      "FDC.normalize (array -> DataFrame): 0.00035 / 7.317s\n",
      "FDC.normalize (total): 0.00002 / 7.317s\n"
     ]
    }
   ],
   "source": [
    "from fdc.fdc import feature_clustering, canberra_modified, Clustering, FDC\n",
    "\n",
    "np.random.seed(42)\n",
    "fdc = FDC(clustering_cont=Clustering('euclidean',30,0.01)\n",
    "          , clustering_ord=Clustering(canberra_modified,30,0.01)\n",
    "          , clustering_nom=Clustering('hamming',30,0.01)\n",
    "          , visual=True\n",
    "          , use_pandas_output=True\n",
    "          , with_2d_embedding=True\n",
    "          )\n",
    "\n",
    "fdc.selectFeatures(continueous=cont_list, nomial=nom_list, ordinal=ord_list)\n",
    "\n",
    "FDC_emb_high,FDC_emb_low = fdc.normalize(CTABGAN_syn_data.drop([\"Target\"],axis=1),cont_list=cont_list, nom_list=nom_list, ord_list=ord_list,\n",
    "                  with_2d_embedding=True,\n",
    "                  visual=True)"
   ]
  },
  {
   "cell_type": "code",
   "execution_count": 105,
   "id": "3a971556",
   "metadata": {
    "scrolled": true
   },
   "outputs": [
    {
     "data": {
      "image/png": "[encoded data removed]",
      "text/plain": [
       "<Figure size 560.361x500 with 1 Axes>"
      ]
     },
     "metadata": {},
     "output_type": "display_data"
    }
   ],
   "source": [
    "from fdc.clustering import *\n",
    "clustering=Clustering(FDC_emb_low,FDC_emb_low,True)\n",
    "cluster_list,cluster_counts=clustering.K_means(4)"
   ]
  },
  {
   "cell_type": "code",
   "execution_count": null,
   "id": "27b669c0-80b2-4f64-93f9-4193b47825b7",
   "metadata": {},
   "outputs": [],
   "source": []
  },
  {
   "cell_type": "markdown",
   "id": "a9a9419a-1c58-4028-9d1b-e23b41cccf99",
   "metadata": {},
   "source": [
    "### Tabddpm"
   ]
  },
  {
   "cell_type": "markdown",
   "id": "f2e959d6-4250-40c3-8def-07a1ac5daa6c",
   "metadata": {},
   "source": [
    "### Generating 1000 synthetic points and randomly selecting the same legth of original training points for evaluation"
   ]
  },
  {
   "cell_type": "code",
   "execution_count": 106,
   "id": "1f0d7548-3ca7-4eb6-a3a0-9107e090c4e4",
   "metadata": {},
   "outputs": [],
   "source": [
    "\n",
    "Tabddpm_syn_data=pd.read_csv('Liver_cirrhosis_synth_data_semi_tddpm.csv')\n",
    "Tabddpm_syn_data.drop(['Unnamed: 0'],axis=1,inplace=True)\n",
    "\n"
   ]
  },
  {
   "cell_type": "code",
   "execution_count": 107,
   "id": "5c85228e-140b-4503-bca9-c0bbbadfa7f1",
   "metadata": {},
   "outputs": [
    {
     "data": {
      "text/plain": [
       "0    320\n",
       "1    274\n",
       "2    265\n",
       "3    141\n",
       "Name: Target, dtype: int64"
      ]
     },
     "execution_count": 107,
     "metadata": {},
     "output_type": "execute_result"
    }
   ],
   "source": [
    "Tabddpm_syn_data['Target'].value_counts()"
   ]
  },
  {
   "cell_type": "code",
   "execution_count": 108,
   "id": "1223ff20-7a2f-4252-8d17-1b643bb52ed6",
   "metadata": {},
   "outputs": [],
   "source": [
    "def balanced_synthetic_data(org_data,syn_data):\n",
    "    import math\n",
    "    org_data_len = org_data.shape[0]\n",
    "    class_counts = org_data.iloc[:,-1].value_counts()\n",
    "    column_names = list( syn_data.columns)\n",
    "    df_list=[]\n",
    "    for i in range(len(class_counts)):\n",
    "        c_i=syn_data[syn_data['Target']==i].sample(n=int(class_counts[i]),axis=0,random_state=42)\n",
    "        df_list.append(c_i)\n",
    "    balanced_df=pd.concat(df_list,names=column_names)\n",
    "    return balanced_df"
   ]
  },
  {
   "cell_type": "code",
   "execution_count": 109,
   "id": "70a8c8a2-23d9-4ba6-8d72-b30f43eb9433",
   "metadata": {},
   "outputs": [],
   "source": [
    "Tabddpm_syn_data=balanced_synthetic_data(pd.DataFrame(train_features),Tabddpm_syn_data)"
   ]
  },
  {
   "cell_type": "code",
   "execution_count": 110,
   "id": "8e81ec06-2467-4117-a5f6-0df6deb419da",
   "metadata": {},
   "outputs": [
    {
     "data": {
      "text/plain": [
       "0    111\n",
       "2     86\n",
       "1     71\n",
       "3     45\n",
       "Name: Target, dtype: int64"
      ]
     },
     "execution_count": 110,
     "metadata": {},
     "output_type": "execute_result"
    }
   ],
   "source": [
    "Tabddpm_syn_data['Target'].value_counts()"
   ]
  },
  {
   "cell_type": "code",
   "execution_count": 111,
   "id": "715d1807-3af9-40cb-9d2e-d47dca0aafe8",
   "metadata": {},
   "outputs": [],
   "source": [
    "Tabddpm_syn_data.to_csv('Liver_cirrhosis_Tabddpm_syn_data(semi_sup).csv',index=False)"
   ]
  },
  {
   "cell_type": "code",
   "execution_count": 112,
   "id": "a52e435a-56aa-4688-8a80-ade14e859ea9",
   "metadata": {},
   "outputs": [],
   "source": [
    "np.random.seed(42)\n",
    "Tabddpm_syn_data=Tabddpm_syn_data.sample(frac=1) #Shuffle the data set\n",
    "np.random.seed(42)\n",
    "i=[x for x in range(np.shape(Tabddpm_syn_data)[0])]\n",
    "\n",
    "Tabddpm_syn_data.set_index(pd.Series(i), inplace=True)"
   ]
  },
  {
   "cell_type": "code",
   "execution_count": 113,
   "id": "778890d4-e087-44b1-ae74-80d25a2e8464",
   "metadata": {},
   "outputs": [
    {
     "name": "stdout",
     "output_type": "stream",
     "text": [
      "The number of data points repeated in the synthetic data are 0.0\n"
     ]
    },
    {
     "data": {
      "text/html": [
       "<div>\n",
       "<style scoped>\n",
       "    .dataframe tbody tr th:only-of-type {\n",
       "        vertical-align: middle;\n",
       "    }\n",
       "\n",
       "    .dataframe tbody tr th {\n",
       "        vertical-align: top;\n",
       "    }\n",
       "\n",
       "    .dataframe thead th {\n",
       "        text-align: right;\n",
       "    }\n",
       "</style>\n",
       "<table border=\"1\" class=\"dataframe\">\n",
       "  <thead>\n",
       "    <tr style=\"text-align: right;\">\n",
       "      <th></th>\n",
       "    </tr>\n",
       "  </thead>\n",
       "  <tbody>\n",
       "  </tbody>\n",
       "</table>\n",
       "</div>"
      ],
      "text/plain": [
       "Empty DataFrame\n",
       "Columns: []\n",
       "Index: []"
      ]
     },
     "execution_count": 113,
     "metadata": {},
     "output_type": "execute_result"
    }
   ],
   "source": [
    "exact_match_score(original_df,Tabddpm_syn_data)"
   ]
  },
  {
   "cell_type": "code",
   "execution_count": 114,
   "id": "00d3a9bf-19f9-4d81-a14f-780d635e8bee",
   "metadata": {},
   "outputs": [
    {
     "data": {
      "text/plain": [
       "238"
      ]
     },
     "execution_count": 114,
     "metadata": {},
     "output_type": "execute_result"
    }
   ],
   "source": [
    "len(Tabddpm_syn_data[Tabddpm_syn_data.duplicated(keep=False)])"
   ]
  },
  {
   "cell_type": "markdown",
   "id": "728a580a-82ea-4ced-8c11-325cc7943712",
   "metadata": {},
   "source": [
    "### Train test split on synthetic data"
   ]
  },
  {
   "cell_type": "code",
   "execution_count": 115,
   "id": "85b824de-0730-4a57-8965-3299eb093ecf",
   "metadata": {},
   "outputs": [],
   "source": [
    "syn_train_features, syn_test_features, syn_train_labels, syn_test_labels = train_test_split(np.array(Tabddpm_syn_data.drop([\"Target\"],axis=1)), np.array(Tabddpm_syn_data[\"Target\"]), test_size = 0.25, random_state = 42)"
   ]
  },
  {
   "cell_type": "markdown",
   "id": "161e1f65-e7c5-4490-b2ec-216601b42f38",
   "metadata": {},
   "source": [
    "### Gradient boosting classifier on Tabddpm generated synthetic training data  (Model-2)"
   ]
  },
  {
   "cell_type": "code",
   "execution_count": 116,
   "id": "195d6d9e-1ee1-4d09-bad3-a117609ee816",
   "metadata": {
    "scrolled": true
   },
   "outputs": [],
   "source": [
    "from sklearn.ensemble import GradientBoostingClassifier\n",
    "Tabddpm_model_2 = GradientBoostingClassifier(n_estimators=20, learning_rate=0.5, max_features=2, max_depth=2, random_state=42)\n"
   ]
  },
  {
   "cell_type": "markdown",
   "id": "7fbe899a-2b72-40eb-a1a3-e76169534384",
   "metadata": {},
   "source": [
    "### 5 Fold Cross Validation"
   ]
  },
  {
   "cell_type": "code",
   "execution_count": 117,
   "id": "439370b0-7b68-4345-993d-5fed825964c5",
   "metadata": {},
   "outputs": [
    {
     "name": "stdout",
     "output_type": "stream",
     "text": [
      "[0.42553191 0.25531915 0.40425532 0.44680851 0.36956522]\n",
      "Avg : 0.3802960222016651\n"
     ]
    }
   ],
   "source": [
    "score_lr=cross_val_score(Tabddpm_model_2, syn_train_features, syn_train_labels,cv=5)\n",
    "print(score_lr)\n",
    "print(\"Avg :\",np.average(score_lr))\n"
   ]
  },
  {
   "cell_type": "code",
   "execution_count": 118,
   "id": "c2b29960-69ef-457a-bb15-804342780670",
   "metadata": {},
   "outputs": [
    {
     "data": {
      "text/html": [
       "<style>#sk-container-id-5 {color: black;background-color: white;}#sk-container-id-5 pre{padding: 0;}#sk-container-id-5 div.sk-toggleable {background-color: white;}#sk-container-id-5 label.sk-toggleable__label {cursor: pointer;display: block;width: 100%;margin-bottom: 0;padding: 0.3em;box-sizing: border-box;text-align: center;}#sk-container-id-5 label.sk-toggleable__label-arrow:before {content: \"▸\";float: left;margin-right: 0.25em;color: #696969;}#sk-container-id-5 label.sk-toggleable__label-arrow:hover:before {color: black;}#sk-container-id-5 div.sk-estimator:hover label.sk-toggleable__label-arrow:before {color: black;}#sk-container-id-5 div.sk-toggleable__content {max-height: 0;max-width: 0;overflow: hidden;text-align: left;background-color: #f0f8ff;}#sk-container-id-5 div.sk-toggleable__content pre {margin: 0.2em;color: black;border-radius: 0.25em;background-color: #f0f8ff;}#sk-container-id-5 input.sk-toggleable__control:checked~div.sk-toggleable__content {max-height: 200px;max-width: 100%;overflow: auto;}#sk-container-id-5 input.sk-toggleable__control:checked~label.sk-toggleable__label-arrow:before {content: \"▾\";}#sk-container-id-5 div.sk-estimator input.sk-toggleable__control:checked~label.sk-toggleable__label {background-color: #d4ebff;}#sk-container-id-5 div.sk-label input.sk-toggleable__control:checked~label.sk-toggleable__label {background-color: #d4ebff;}#sk-container-id-5 input.sk-hidden--visually {border: 0;clip: rect(1px 1px 1px 1px);clip: rect(1px, 1px, 1px, 1px);height: 1px;margin: -1px;overflow: hidden;padding: 0;position: absolute;width: 1px;}#sk-container-id-5 div.sk-estimator {font-family: monospace;background-color: #f0f8ff;border: 1px dotted black;border-radius: 0.25em;box-sizing: border-box;margin-bottom: 0.5em;}#sk-container-id-5 div.sk-estimator:hover {background-color: #d4ebff;}#sk-container-id-5 div.sk-parallel-item::after {content: \"\";width: 100%;border-bottom: 1px solid gray;flex-grow: 1;}#sk-container-id-5 div.sk-label:hover label.sk-toggleable__label {background-color: #d4ebff;}#sk-container-id-5 div.sk-serial::before {content: \"\";position: absolute;border-left: 1px solid gray;box-sizing: border-box;top: 0;bottom: 0;left: 50%;z-index: 0;}#sk-container-id-5 div.sk-serial {display: flex;flex-direction: column;align-items: center;background-color: white;padding-right: 0.2em;padding-left: 0.2em;position: relative;}#sk-container-id-5 div.sk-item {position: relative;z-index: 1;}#sk-container-id-5 div.sk-parallel {display: flex;align-items: stretch;justify-content: center;background-color: white;position: relative;}#sk-container-id-5 div.sk-item::before, #sk-container-id-5 div.sk-parallel-item::before {content: \"\";position: absolute;border-left: 1px solid gray;box-sizing: border-box;top: 0;bottom: 0;left: 50%;z-index: -1;}#sk-container-id-5 div.sk-parallel-item {display: flex;flex-direction: column;z-index: 1;position: relative;background-color: white;}#sk-container-id-5 div.sk-parallel-item:first-child::after {align-self: flex-end;width: 50%;}#sk-container-id-5 div.sk-parallel-item:last-child::after {align-self: flex-start;width: 50%;}#sk-container-id-5 div.sk-parallel-item:only-child::after {width: 0;}#sk-container-id-5 div.sk-dashed-wrapped {border: 1px dashed gray;margin: 0 0.4em 0.5em 0.4em;box-sizing: border-box;padding-bottom: 0.4em;background-color: white;}#sk-container-id-5 div.sk-label label {font-family: monospace;font-weight: bold;display: inline-block;line-height: 1.2em;}#sk-container-id-5 div.sk-label-container {text-align: center;}#sk-container-id-5 div.sk-container {/* jupyter's `normalize.less` sets `[hidden] { display: none; }` but bootstrap.min.css set `[hidden] { display: none !important; }` so we also need the `!important` here to be able to override the default hidden behavior on the sphinx rendered scikit-learn.org. See: https://github.com/scikit-learn/scikit-learn/issues/21755 */display: inline-block !important;position: relative;}#sk-container-id-5 div.sk-text-repr-fallback {display: none;}</style><div id=\"sk-container-id-5\" class=\"sk-top-container\"><div class=\"sk-text-repr-fallback\"><pre>GradientBoostingClassifier(learning_rate=0.5, max_depth=2, max_features=2,\n",
       "                           n_estimators=20, random_state=42)</pre><b>In a Jupyter environment, please rerun this cell to show the HTML representation or trust the notebook. <br />On GitHub, the HTML representation is unable to render, please try loading this page with nbviewer.org.</b></div><div class=\"sk-container\" hidden><div class=\"sk-item\"><div class=\"sk-estimator sk-toggleable\"><input class=\"sk-toggleable__control sk-hidden--visually\" id=\"sk-estimator-id-5\" type=\"checkbox\" checked><label for=\"sk-estimator-id-5\" class=\"sk-toggleable__label sk-toggleable__label-arrow\">GradientBoostingClassifier</label><div class=\"sk-toggleable__content\"><pre>GradientBoostingClassifier(learning_rate=0.5, max_depth=2, max_features=2,\n",
       "                           n_estimators=20, random_state=42)</pre></div></div></div></div></div>"
      ],
      "text/plain": [
       "GradientBoostingClassifier(learning_rate=0.5, max_depth=2, max_features=2,\n",
       "                           n_estimators=20, random_state=42)"
      ]
     },
     "execution_count": 118,
     "metadata": {},
     "output_type": "execute_result"
    }
   ],
   "source": [
    "Tabddpm_model_2.fit(syn_train_features,syn_train_labels )"
   ]
  },
  {
   "cell_type": "markdown",
   "id": "2110647a-2ed4-4e8d-8028-8c312296e8e2",
   "metadata": {},
   "source": [
    "### Case-1: predicting validation data using Model-1\n"
   ]
  },
  {
   "cell_type": "code",
   "execution_count": 119,
   "id": "4108029e-8f4c-4e00-84ba-9a0298d39ee6",
   "metadata": {},
   "outputs": [
    {
     "name": "stdout",
     "output_type": "stream",
     "text": [
      "F1_Score of cluster 0 is 0.935064935064935\n",
      "Geometric mean of cluster 0 is 0.9357754408380654\n",
      "Correctly predicted data points in cluster 0 is 97.2972972972973%\n",
      "\n",
      "\n",
      "F1_Score of cluster 1 is 0.888888888888889\n",
      "Geometric mean of cluster 1 is 0.8913376232498489\n",
      "Correctly predicted data points in cluster 1 is 82.75862068965517%\n",
      "\n",
      "\n",
      "F1_Score of cluster 2 is 0.9803921568627451\n",
      "Geometric mean of cluster 2 is 0.9805806756909202\n",
      "Correctly predicted data points in cluster 2 is 100.0%\n",
      "\n",
      "\n",
      "F1_Score of cluster 3 is 0.9285714285714286\n",
      "Geometric mean of cluster 3 is 0.9285714285714286\n",
      "Correctly predicted data points in cluster 3 is 92.85714285714286%\n",
      "\n",
      "\n",
      "weigted average F1_Score of all clusters is 0.9322379456833239\n",
      "weighted average Geometric mean of all clusters is 0.933209516928829\n",
      "weighted average of Correctly predicted data points in all clusters is 93.33333333333334%\n"
     ]
    }
   ],
   "source": [
    "x=model_1.predict(np.array(test_features))\n",
    "cluster_wise_F1score(list(test_labels),list(x))"
   ]
  },
  {
   "cell_type": "markdown",
   "id": "a84239eb-3754-42ee-b483-10d07063ba4e",
   "metadata": {},
   "source": [
    "### Case-2: Predicting validation data using Model-2\n"
   ]
  },
  {
   "cell_type": "code",
   "execution_count": 120,
   "id": "ad392dd7-9d5a-458d-ade6-7d5f259967d5",
   "metadata": {},
   "outputs": [
    {
     "name": "stdout",
     "output_type": "stream",
     "text": [
      "F1_Score of cluster 0 is 0.17391304347826086\n",
      "Geometric mean of cluster 0 is 0.2191986497404764\n",
      "Correctly predicted data points in cluster 0 is 10.81081081081081%\n",
      "\n",
      "\n",
      "F1_Score of cluster 1 is 0.39669421487603307\n",
      "Geometric mean of cluster 1 is 0.4646418555974198\n",
      "Correctly predicted data points in cluster 1 is 82.75862068965517%\n",
      "\n",
      "\n",
      "F1_Score of cluster 2 is 0.0\n",
      "Geometric mean of cluster 2 is 0.0\n",
      "Correctly predicted data points in cluster 2 is 0.0%\n",
      "\n",
      "\n",
      "F1_Score of cluster 3 is 0.0\n",
      "Geometric mean of cluster 3 is 0.0\n",
      "Correctly predicted data points in cluster 3 is 0.0%\n",
      "\n",
      "\n",
      "weigted average F1_Score of all clusters is 0.1708468080009582\n",
      "weighted average Geometric mean of all clusters is 0.20557108431164572\n",
      "weighted average of Correctly predicted data points in all clusters is 26.666666666666668%\n"
     ]
    }
   ],
   "source": [
    "y=Tabddpm_model_2.predict(np.array(test_features))\n",
    "\n",
    "cluster_wise_F1score(list(test_labels),list(y))"
   ]
  },
  {
   "cell_type": "markdown",
   "id": "b76d3151-f3d8-4550-984c-3e49ce98b9a6",
   "metadata": {},
   "source": [
    "### Comparing predicted values from Case-1 & Case-2"
   ]
  },
  {
   "cell_type": "code",
   "execution_count": 121,
   "id": "3e277b65-cdbe-4fd0-a580-4b292b38e532",
   "metadata": {
    "tags": []
   },
   "outputs": [
    {
     "name": "stdout",
     "output_type": "stream",
     "text": [
      "F1_Score of cluster 0 is 0.24489795918367346\n",
      "Geometric mean of cluster 0 is 0.31622776601683794\n",
      "Correctly predicted data points in cluster 0 is 15.0%\n",
      "\n",
      "\n",
      "F1_Score of cluster 1 is 0.3931623931623932\n",
      "Geometric mean of cluster 1 is 0.47958315233127197\n",
      "Correctly predicted data points in cluster 1 is 92.0%\n",
      "\n",
      "\n",
      "F1_Score of cluster 2 is 0.0\n",
      "Geometric mean of cluster 2 is 0.0\n",
      "Correctly predicted data points in cluster 2 is 0.0%\n",
      "\n",
      "\n",
      "F1_Score of cluster 3 is 0.0\n",
      "Geometric mean of cluster 3 is 0.0\n",
      "Correctly predicted data points in cluster 3 is 0.0%\n",
      "\n",
      "\n",
      "weigted average F1_Score of all clusters is 0.18690455425149305\n",
      "weighted average Geometric mean of all clusters is 0.23465418522814585\n",
      "weighted average of Correctly predicted data points in all clusters is 27.61904761904762%\n"
     ]
    }
   ],
   "source": [
    "cluster_wise_F1score(list(x),list(y))"
   ]
  },
  {
   "cell_type": "markdown",
   "id": "77b93fac-d816-4ea0-9f31-d8b133d63525",
   "metadata": {},
   "source": [
    "### UMAP on synthetic data"
   ]
  },
  {
   "cell_type": "code",
   "execution_count": 122,
   "id": "ac34157d-114e-4ebb-b1cc-0f36145b1605",
   "metadata": {},
   "outputs": [
    {
     "data": {
      "image/png": "[encoded data removed]",
      "text/plain": [
       "<Figure size 500x500 with 1 Axes>"
      ]
     },
     "metadata": {},
     "output_type": "display_data"
    }
   ],
   "source": [
    "from fdc.fdc import feature_clustering, canberra_modified, Clustering, FDC\n",
    "np.random.seed(42)\n",
    "syn_emb_low=feature_clustering(30,0.01,'euclidean',Tabddpm_syn_data.drop([\"Target\"],axis=1),True)"
   ]
  },
  {
   "cell_type": "markdown",
   "id": "4fd35deb-a4a6-4e3c-a021-ead1a3835bd5",
   "metadata": {},
   "source": [
    "### FDC on synthetic data"
   ]
  },
  {
   "cell_type": "code",
   "execution_count": 123,
   "id": "0fcfc628-85d0-4628-b414-b91a855ca146",
   "metadata": {},
   "outputs": [
    {
     "name": "stdout",
     "output_type": "stream",
     "text": [
      "FDC.normalize (init): 0.00002 / 0.000s\n",
      "FDC.normalize (clustering CONT): 2.65953 / 2.660s\n",
      "FDC.normalize (clustering ORD): 2.98726 / 5.647s\n",
      "FDC.normalize (clustering NOM): 2.81388 / 8.461s\n",
      "FDC.normalize (concat): 0.00007 / 8.461s\n",
      "FDC.normalize (umap 5 -> 2): 1.02281 / 9.484s\n",
      "FDC.normalize (array -> DataFrame): 0.00027 / 9.484s\n"
     ]
    },
    {
     "data": {
      "image/png": "[encoded data removed]",
      "text/plain": [
       "<Figure size 500x500 with 1 Axes>"
      ]
     },
     "metadata": {},
     "output_type": "display_data"
    },
    {
     "name": "stdout",
     "output_type": "stream",
     "text": [
      "FDC.normalize (plotting): 0.41145 / 9.895s\n",
      "FDC.normalize (array -> DataFrame): 0.00025 / 9.896s\n",
      "FDC.normalize (total): 0.00001 / 9.896s\n"
     ]
    }
   ],
   "source": [
    "from fdc.fdc import feature_clustering, canberra_modified, Clustering, FDC\n",
    "\n",
    "np.random.seed(42)\n",
    "fdc = FDC(clustering_cont=Clustering('euclidean',30,0.01)\n",
    "          , clustering_ord=Clustering(canberra_modified,30,0.01)\n",
    "          , clustering_nom=Clustering('hamming',30,0.01)\n",
    "          , visual=True\n",
    "          , use_pandas_output=True\n",
    "          , with_2d_embedding=True\n",
    "          )\n",
    "\n",
    "fdc.selectFeatures(continueous=cont_list, nomial=nom_list, ordinal=ord_list)\n",
    "\n",
    "FDC_emb_high,FDC_emb_low = fdc.normalize(Tabddpm_syn_data.drop([\"Target\"],axis=1),cont_list=cont_list, nom_list=nom_list, ord_list=ord_list,\n",
    "                  with_2d_embedding=True,\n",
    "                  visual=True)"
   ]
  },
  {
   "cell_type": "code",
   "execution_count": 124,
   "id": "66ceed7c-dbcf-4946-ab7f-bb9b6f35b2af",
   "metadata": {},
   "outputs": [
    {
     "data": {
      "image/png": "[encoded data removed]",
      "text/plain": [
       "<Figure size 560.361x500 with 1 Axes>"
      ]
     },
     "metadata": {},
     "output_type": "display_data"
    }
   ],
   "source": [
    "from fdc.clustering import *\n",
    "clustering=Clustering(FDC_emb_low,FDC_emb_low,True)\n",
    "cluster_list,cluster_counts=clustering.K_means(4)"
   ]
  },
  {
   "cell_type": "code",
   "execution_count": 125,
   "id": "77952a44-b872-4a12-9508-d8fcfd5c6213",
   "metadata": {},
   "outputs": [
    {
     "data": {
      "text/plain": [
       "array([103,  40, 110,  60])"
      ]
     },
     "execution_count": 125,
     "metadata": {},
     "output_type": "execute_result"
    }
   ],
   "source": [
    "cluster_counts"
   ]
  },
  {
   "cell_type": "code",
   "execution_count": null,
   "id": "40706db2-3a8f-444e-a123-393eb7927ca3",
   "metadata": {},
   "outputs": [],
   "source": []
  }
 ],
 "metadata": {
  "kernelspec": {
   "display_name": "Python 3 (ipykernel)",
   "language": "python",
   "name": "python3"
  },
  "language_info": {
   "codemirror_mode": {
    "name": "ipython",
    "version": 3
   },
   "file_extension": ".py",
   "mimetype": "text/x-python",
   "name": "python",
   "nbconvert_exporter": "python",
   "pygments_lexer": "ipython3",
   "version": "3.8.15"
  }
 },
 "nbformat": 4,
 "nbformat_minor": 5
}
