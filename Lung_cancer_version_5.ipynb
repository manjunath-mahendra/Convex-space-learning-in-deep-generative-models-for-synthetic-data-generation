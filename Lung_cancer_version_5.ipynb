{
 "cells": [
  {
   "cell_type": "markdown",
   "id": "7a3650ef-2449-4caa-b8ae-b8d77e99cf20",
   "metadata": {
    "tags": []
   },
   "source": [
    "# Semi-supervised synthetic data validation"
   ]
  },
  {
   "cell_type": "markdown",
   "id": "85f5f148-9358-459d-a023-3c3ab9b5bf38",
   "metadata": {},
   "source": [
    "### Importing necessary libraries"
   ]
  },
  {
   "cell_type": "code",
   "execution_count": 1,
   "id": "56b80e0e-b49b-4238-85be-28b96923aeb4",
   "metadata": {
    "scrolled": true,
    "tags": []
   },
   "outputs": [
    {
     "name": "stderr",
     "output_type": "stream",
     "text": [
      "2023-05-23 13:24:27.349449: I tensorflow/tsl/cuda/cudart_stub.cc:28] Could not find cuda drivers on your machine, GPU will not be used.\n",
      "2023-05-23 13:24:27.397484: I tensorflow/tsl/cuda/cudart_stub.cc:28] Could not find cuda drivers on your machine, GPU will not be used.\n",
      "2023-05-23 13:24:27.398351: I tensorflow/core/platform/cpu_feature_guard.cc:182] This TensorFlow binary is optimized to use available CPU instructions in performance-critical operations.\n",
      "To enable the following instructions: AVX2 FMA, in other operations, rebuild TensorFlow with the appropriate compiler flags.\n",
      "2023-05-23 13:24:28.152344: W tensorflow/compiler/tf2tensorrt/utils/py_utils.cc:38] TF-TRT Warning: Could not find TensorRT\n"
     ]
    },
    {
     "ename": "ModuleNotFoundError",
     "evalue": "No module named 'sklearn'",
     "output_type": "error",
     "traceback": [
      "\u001b[0;31m---------------------------------------------------------------------------\u001b[0m",
      "\u001b[0;31mModuleNotFoundError\u001b[0m                       Traceback (most recent call last)",
      "Cell \u001b[0;32mIn[1], line 2\u001b[0m\n\u001b[1;32m      1\u001b[0m \u001b[38;5;28;01mimport\u001b[39;00m \u001b[38;5;21;01mnumpy\u001b[39;00m \u001b[38;5;28;01mas\u001b[39;00m \u001b[38;5;21;01mnp\u001b[39;00m\n\u001b[0;32m----> 2\u001b[0m \u001b[38;5;28;01mfrom\u001b[39;00m \u001b[38;5;21;01mlibrary\u001b[39;00m\u001b[38;5;21;01m.\u001b[39;00m\u001b[38;5;21;01mgenerators\u001b[39;00m\u001b[38;5;21;01m.\u001b[39;00m\u001b[38;5;21;01mNextConvGeN\u001b[39;00m \u001b[38;5;28;01mimport\u001b[39;00m NextConvGeN\n",
      "File \u001b[0;32m~/Documents/T2DM data/library/generators/NextConvGeN.py:17\u001b[0m\n\u001b[1;32m     14\u001b[0m \u001b[38;5;28;01mfrom\u001b[39;00m \u001b[38;5;21;01mtensorflow\u001b[39;00m\u001b[38;5;21;01m.\u001b[39;00m\u001b[38;5;21;01mkeras\u001b[39;00m\u001b[38;5;21;01m.\u001b[39;00m\u001b[38;5;21;01moptimizers\u001b[39;00m \u001b[38;5;28;01mimport\u001b[39;00m Adam\n\u001b[1;32m     15\u001b[0m \u001b[38;5;28;01mfrom\u001b[39;00m \u001b[38;5;21;01mtensorflow\u001b[39;00m\u001b[38;5;21;01m.\u001b[39;00m\u001b[38;5;21;01mkeras\u001b[39;00m\u001b[38;5;21;01m.\u001b[39;00m\u001b[38;5;21;01mlayers\u001b[39;00m \u001b[38;5;28;01mimport\u001b[39;00m Lambda\n\u001b[0;32m---> 17\u001b[0m \u001b[38;5;28;01mfrom\u001b[39;00m \u001b[38;5;21;01msklearn\u001b[39;00m\u001b[38;5;21;01m.\u001b[39;00m\u001b[38;5;21;01mutils\u001b[39;00m \u001b[38;5;28;01mimport\u001b[39;00m shuffle\n\u001b[1;32m     19\u001b[0m \u001b[38;5;28;01mfrom\u001b[39;00m \u001b[38;5;21;01mlibrary\u001b[39;00m\u001b[38;5;21;01m.\u001b[39;00m\u001b[38;5;21;01mNNSearch\u001b[39;00m \u001b[38;5;28;01mimport\u001b[39;00m NNSearch, randomIndices\n\u001b[1;32m     21\u001b[0m \u001b[38;5;28;01mimport\u001b[39;00m \u001b[38;5;21;01mwarnings\u001b[39;00m\n",
      "\u001b[0;31mModuleNotFoundError\u001b[0m: No module named 'sklearn'"
     ]
    }
   ],
   "source": [
    "import numpy as np\n",
    "from library.generators.NextConvGeN import NextConvGeN\n"
   ]
  },
  {
   "cell_type": "code",
   "execution_count": null,
   "id": "60a37ac3-8400-4930-9b8d-f50e51befb9f",
   "metadata": {},
   "outputs": [],
   "source": [
    "from fdc.fdc import feature_clustering, canberra_modified, Clustering, FDC\n",
    "from fdc.clustering import *"
   ]
  },
  {
   "cell_type": "code",
   "execution_count": null,
   "id": "24a06985-a202-46b5-93db-f92a3ded0673",
   "metadata": {},
   "outputs": [],
   "source": [
    "import pandas as pd"
   ]
  },
  {
   "cell_type": "markdown",
   "id": "01d3d86f-4e08-4be3-bba9-e2f7b9202670",
   "metadata": {},
   "source": [
    "### Importing data"
   ]
  },
  {
   "cell_type": "code",
   "execution_count": null,
   "id": "53e069b3-8bcc-46b0-852b-2a504e21197e",
   "metadata": {},
   "outputs": [],
   "source": [
    "data=pd.read_csv('survey lung cancer.csv')"
   ]
  },
  {
   "cell_type": "code",
   "execution_count": null,
   "id": "cb6766d9-a503-4cc7-abeb-5215a7e13e0a",
   "metadata": {},
   "outputs": [],
   "source": [
    "gender_mod= {'GENDER': {'F':1,'M':0}}\n",
    "data.replace(gender_mod,inplace=True)\n"
   ]
  },
  {
   "cell_type": "code",
   "execution_count": null,
   "id": "de98fd29-1a8b-42d6-a5c6-32146ac7acc5",
   "metadata": {},
   "outputs": [],
   "source": [
    "lung_cancer_mod= {'LUNG_CANCER': {'YES':1,'NO':0}}\n",
    "data.replace(lung_cancer_mod,inplace=True)\n"
   ]
  },
  {
   "cell_type": "code",
   "execution_count": null,
   "id": "8aebf9eb-e0b3-40db-bcd0-bfc400e004ce",
   "metadata": {},
   "outputs": [],
   "source": [
    "data=data.drop(['LUNG_CANCER'],axis=1)"
   ]
  },
  {
   "cell_type": "code",
   "execution_count": null,
   "id": "e633073d-271c-450a-87f9-a61755e2f011",
   "metadata": {},
   "outputs": [],
   "source": [
    "data"
   ]
  },
  {
   "cell_type": "code",
   "execution_count": null,
   "id": "f6585796-c7c5-4f06-a1f4-5f5aea784e42",
   "metadata": {},
   "outputs": [],
   "source": [
    "np.random.seed(42)\n",
    "data=data.sample(frac=1)"
   ]
  },
  {
   "cell_type": "code",
   "execution_count": null,
   "id": "daf17014-4a05-4b90-9cc0-a83fdbb478db",
   "metadata": {},
   "outputs": [],
   "source": [
    "values=['AGE','SMOKING','GENDER','CHRONIC DISEASE','ALCOHOL CONSUMING','SHORTNESS OF BREATH',\n",
    "'YELLOW_FINGERS','ANXIETY','PEER_PRESSURE','WHEEZING','COUGHING','SWALLOWING DIFFICULTY',\n",
    "'CHEST PAIN','FATIGUE ','ALLERGY ']"
   ]
  },
  {
   "cell_type": "code",
   "execution_count": null,
   "id": "f6300ef8-de66-4ac7-81f9-4abeba0e2910",
   "metadata": {},
   "outputs": [],
   "source": [
    "data=data[values]"
   ]
  },
  {
   "cell_type": "markdown",
   "id": "b660f1df-14b8-462c-a36c-5718f1881bda",
   "metadata": {},
   "source": [
    "### UMAP on entire data"
   ]
  },
  {
   "cell_type": "code",
   "execution_count": null,
   "id": "2326c5ac-3967-4a6e-8488-dd1dd29796e3",
   "metadata": {},
   "outputs": [],
   "source": [
    "from fdc.fdc import feature_clustering"
   ]
  },
  {
   "cell_type": "code",
   "execution_count": null,
   "id": "4f208ccd-b32d-4a0c-b8be-e6edf64b5664",
   "metadata": {},
   "outputs": [],
   "source": [
    "np.random.seed(42)\n",
    "umap_emb=feature_clustering(20,0.001,'euclidean',data,True)"
   ]
  },
  {
   "cell_type": "code",
   "execution_count": null,
   "id": "148f6dc3-10d2-467d-8536-4454201fd39e",
   "metadata": {},
   "outputs": [],
   "source": [
    "from fdc.clustering import Clustering"
   ]
  },
  {
   "cell_type": "code",
   "execution_count": null,
   "id": "1092aad7-6830-4ef0-b377-b91f0edf89c2",
   "metadata": {},
   "outputs": [],
   "source": [
    "np.random.seed(42)\n",
    "umap_clustering=Clustering(umap_emb,umap_emb,True)\n",
    "umap_cluster_list,umap_cluster_counts=umap_clustering.K_means(2)"
   ]
  },
  {
   "cell_type": "markdown",
   "id": "f0068723-e652-4358-a2c4-761f5e1833d8",
   "metadata": {},
   "source": [
    "### Feature-type Distributed Clustering (FDC)"
   ]
  },
  {
   "cell_type": "code",
   "execution_count": null,
   "id": "d91f3053-c382-490a-9c6a-e3925f5d0660",
   "metadata": {},
   "outputs": [],
   "source": [
    "cont_list=['AGE']\n",
    "\n",
    "ord_list=['SMOKING','GENDER','CHRONIC DISEASE','ALCOHOL CONSUMING','SHORTNESS OF BREATH']\n",
    "\n",
    "nom_list=['YELLOW_FINGERS','ANXIETY','PEER_PRESSURE','WHEEZING','COUGHING','SWALLOWING DIFFICULTY','CHEST PAIN','FATIGUE ','ALLERGY ']"
   ]
  },
  {
   "cell_type": "code",
   "execution_count": null,
   "id": "8597d25f-470b-41c5-8353-05f15421e850",
   "metadata": {},
   "outputs": [],
   "source": [
    "from fdc.fdc import feature_clustering, canberra_modified, Clustering, FDC\n",
    "\n",
    "np.random.seed(42)\n",
    "\n",
    "fdc = FDC(clustering_cont=Clustering('euclidean',20,0.01,max_components=1)\n",
    "          , clustering_ord=Clustering('canberra',20,0.01)\n",
    "          , clustering_nom=Clustering('hamming',20,0.01)\n",
    "          , visual=True\n",
    "          , use_pandas_output=True\n",
    "          , with_2d_embedding=True\n",
    "          )\n",
    "\n",
    "fdc.selectFeatures(continueous=cont_list, nomial=nom_list, ordinal=ord_list)\n",
    "\n",
    "FDC_emb_high,FDC_emb_low = fdc.normalize(data,cont_list=cont_list, nom_list=nom_list, ord_list=ord_list,\n",
    "                  with_2d_embedding=True,\n",
    "                  visual=True)"
   ]
  },
  {
   "cell_type": "markdown",
   "id": "c463a715-9608-4325-b72b-b710e1ccb589",
   "metadata": {},
   "source": [
    "### Clustering using K-means"
   ]
  },
  {
   "cell_type": "code",
   "execution_count": null,
   "id": "80dbc9a4-8997-42d2-b4fd-49515bb2f8c1",
   "metadata": {
    "scrolled": true
   },
   "outputs": [],
   "source": [
    "from fdc.clustering import *\n",
    "np.random.seed(42)\n",
    "clustering=Clustering(FDC_emb_low,FDC_emb_low,True)\n",
    "cluster_list,cluster_counts=clustering.K_means(4)"
   ]
  },
  {
   "cell_type": "code",
   "execution_count": null,
   "id": "c2f410a1",
   "metadata": {},
   "outputs": [],
   "source": [
    "cluster_counts"
   ]
  },
  {
   "cell_type": "markdown",
   "id": "efc4b041-6d68-4065-813f-3536799b9f23",
   "metadata": {},
   "source": [
    "### Concatinating cluster labels as Target to original data"
   ]
  },
  {
   "cell_type": "code",
   "execution_count": null,
   "id": "5112b703-071c-45d4-8d31-ab14259214c7",
   "metadata": {},
   "outputs": [],
   "source": [
    "data[\"Target\"]=cluster_list"
   ]
  },
  {
   "cell_type": "code",
   "execution_count": null,
   "id": "8e20b638-c2f8-4ab7-9142-ea25dfef1e16",
   "metadata": {},
   "outputs": [],
   "source": [
    "data"
   ]
  },
  {
   "cell_type": "markdown",
   "id": "ba45aa63-9335-40e5-9904-fb70e7a04fe7",
   "metadata": {},
   "source": [
    "### Train-val split"
   ]
  },
  {
   "cell_type": "code",
   "execution_count": null,
   "id": "baebcbc7-8504-450b-af5b-aa18b85955b8",
   "metadata": {},
   "outputs": [],
   "source": [
    "# Using Skicit-learn to split data into training and testing sets\n",
    "from sklearn.model_selection import train_test_split\n",
    "np.random.seed(42)\n",
    "# Split the data into training and testing sets\n",
    "train_features, test_features, train_labels, test_labels = train_test_split(np.array(data.drop([\"Target\"],axis=1)), np.array(cluster_list), test_size = 0.25, random_state = 42)"
   ]
  },
  {
   "cell_type": "markdown",
   "id": "50391cb0-eb23-45e8-9d6b-068c1c86c6e7",
   "metadata": {},
   "source": [
    "### Gradient boosting classifier for original traing data (Model-1)"
   ]
  },
  {
   "cell_type": "code",
   "execution_count": null,
   "id": "15750348-21ad-4cdb-b33b-905583a1c314",
   "metadata": {
    "scrolled": true
   },
   "outputs": [],
   "source": [
    "from sklearn.ensemble import GradientBoostingClassifier\n",
    "np.random.seed(42)\n",
    "model_1 = GradientBoostingClassifier(n_estimators=20, learning_rate=0.5, max_features=2, max_depth=2, random_state=42)\n"
   ]
  },
  {
   "cell_type": "code",
   "execution_count": null,
   "id": "85fbb50a",
   "metadata": {},
   "outputs": [],
   "source": [
    "from sklearn.model_selection import cross_val_score\n",
    "score_lr=cross_val_score(model_1, train_features, train_labels,cv=5)\n",
    "print(score_lr)\n",
    "print(\"Avg :\",np.average(score_lr))"
   ]
  },
  {
   "cell_type": "code",
   "execution_count": null,
   "id": "dd457467",
   "metadata": {},
   "outputs": [],
   "source": [
    "model_1.fit(train_features,  train_labels)"
   ]
  },
  {
   "cell_type": "markdown",
   "id": "1866bf87-fb4d-424c-b7e7-548c53f04538",
   "metadata": {},
   "source": [
    "### Preparing training data for synthetic data generation"
   ]
  },
  {
   "cell_type": "code",
   "execution_count": null,
   "id": "4902fa57-8bec-4dd3-8b03-5a54c60ef112",
   "metadata": {},
   "outputs": [],
   "source": [
    "train_features=pd.DataFrame(train_features)"
   ]
  },
  {
   "cell_type": "code",
   "execution_count": null,
   "id": "322be8ac-b2be-489e-9bb4-884b3e6008f6",
   "metadata": {},
   "outputs": [],
   "source": [
    "train_features[\"Target\"]=train_labels"
   ]
  },
  {
   "cell_type": "code",
   "execution_count": null,
   "id": "ad2a747a-65df-49c2-a027-775eda4dd02e",
   "metadata": {},
   "outputs": [],
   "source": [
    "train_features.to_csv('Lung_cancer_training_data(semi_sup).csv',index=False)"
   ]
  },
  {
   "cell_type": "code",
   "execution_count": null,
   "id": "6b99aa96-5f7f-436b-9d31-88d8b976f0ba",
   "metadata": {},
   "outputs": [],
   "source": [
    "values=['AGE','SMOKING','GENDER','CHRONIC DISEASE','ALCOHOL CONSUMING','SHORTNESS OF BREATH',\n",
    "'YELLOW_FINGERS','ANXIETY','PEER_PRESSURE','WHEEZING','COUGHING','SWALLOWING DIFFICULTY',\n",
    "'CHEST PAIN','FATIGUE ','ALLERGY ','Target']"
   ]
  },
  {
   "cell_type": "code",
   "execution_count": null,
   "id": "327ce5bc-be73-4af7-8a07-522d98c26349",
   "metadata": {},
   "outputs": [],
   "source": [
    "hold_out_data=pd.DataFrame(test_features)\n",
    "hold_out_data['Target']=test_labels\n",
    "hold_out_data.columns=values\n",
    "hold_out_data.to_csv('Lung_hold_out__data(semi_sup).csv',index=False)"
   ]
  },
  {
   "cell_type": "code",
   "execution_count": null,
   "id": "b10cec94-21fe-424d-8df1-ca202d096453",
   "metadata": {},
   "outputs": [],
   "source": [
    "dicts = {}\n",
    "for i in range(len(values)):\n",
    "        dicts[values[i]]=i\n"
   ]
  },
  {
   "cell_type": "code",
   "execution_count": null,
   "id": "e5a31ca1-6158-4174-b987-d4cde25ab557",
   "metadata": {},
   "outputs": [],
   "source": [
    "train_features.rename(columns=dicts,inplace=True)\n"
   ]
  },
  {
   "cell_type": "code",
   "execution_count": null,
   "id": "4af27809-bf33-4c5e-9c95-8a87672bd8ff",
   "metadata": {},
   "outputs": [],
   "source": [
    "train_features"
   ]
  },
  {
   "cell_type": "markdown",
   "id": "d4a943c9",
   "metadata": {},
   "source": [
    "## NextConvGen"
   ]
  },
  {
   "cell_type": "markdown",
   "id": "e9320149-e3c5-4dde-a452-1d2fa9ce9c65",
   "metadata": {},
   "source": [
    "### FDC for searcing neighbors for synthetic data generation"
   ]
  },
  {
   "cell_type": "code",
   "execution_count": null,
   "id": "a02579bd-56a4-445b-acfd-28f7d6b7c9d2",
   "metadata": {},
   "outputs": [],
   "source": [
    "from fdc.fdc import feature_clustering, canberra_modified, Clustering, FDC\n",
    "np.random.seed(42)\n",
    "fdc = FDC()\n",
    "fdc.cont_list = [0]\n",
    "fdc.ord_list = list(range(data.shape[1]))[1:6]\n",
    "fdc.nom_list = list(range(data.shape[1]))[6:]"
   ]
  },
  {
   "cell_type": "code",
   "execution_count": null,
   "id": "8c19cc2c-2ba9-44d4-a296-7dbbd2f21190",
   "metadata": {},
   "outputs": [],
   "source": [
    "train_features=np.array(train_features)"
   ]
  },
  {
   "cell_type": "markdown",
   "id": "e00c0f28-1f1a-42c8-bfa7-6a7e197f69eb",
   "metadata": {},
   "source": [
    "### Preapring and training NextConvGen model"
   ]
  },
  {
   "cell_type": "code",
   "execution_count": null,
   "id": "e1915d60-5e96-40c4-94a5-c6f2879050f7",
   "metadata": {},
   "outputs": [],
   "source": [
    "gen = NextConvGeN(train_features.shape[1], neb=5, fdc=fdc)"
   ]
  },
  {
   "cell_type": "code",
   "execution_count": null,
   "id": "213fc23f-57a7-46e4-98ce-b3c280c88658",
   "metadata": {},
   "outputs": [],
   "source": [
    "gen.reset(train_features)"
   ]
  },
  {
   "cell_type": "code",
   "execution_count": null,
   "id": "c375e689-0b2f-4bf3-89db-5099dcf61c45",
   "metadata": {},
   "outputs": [],
   "source": [
    "from fdc.fdc import feature_clustering, canberra_modified, Clustering, FDC\n",
    "np.random.seed(42)\n",
    "gen.train(train_features)"
   ]
  },
  {
   "cell_type": "markdown",
   "id": "0fd2fd7a-6a7d-4f60-a92f-8962292a1f79",
   "metadata": {},
   "source": [
    "### Generating 1000 synthetic points and randomly selecting the same legth of original training points for evaluation"
   ]
  },
  {
   "cell_type": "code",
   "execution_count": null,
   "id": "4311a7fd-a690-4503-87c2-fac3f7a53a1d",
   "metadata": {},
   "outputs": [],
   "source": [
    "from fdc.NN_models import *\n",
    "np.random.seed(42)\n",
    "syn_train_data = syn_data_gen(gen,1000,values)"
   ]
  },
  {
   "cell_type": "code",
   "execution_count": null,
   "id": "a3842328-9c3c-4c6d-8772-b110c539185d",
   "metadata": {},
   "outputs": [],
   "source": [
    "def balanced_synthetic_data(org_data,syn_data):\n",
    "    import math\n",
    "    org_data_len = org_data.shape[0]\n",
    "    class_counts = org_data.iloc[:,-1].value_counts()\n",
    "    column_names = list( syn_data.columns)\n",
    "    df_list=[]\n",
    "    for i in range(len(class_counts)):\n",
    "        m = len(syn_data[syn_data['Target']==i])\n",
    "\n",
    "        if m < class_counts[i]:\n",
    "            run=math.ceil(class_counts[i]/m)\n",
    "            syn_data = syn_data_gen(gen,org_data_len*run,values)\n",
    "        c_i=syn_data[syn_data['Target']==i].sample(n=int(class_counts[i]),axis=0,random_state=42)\n",
    "        df_list.append(c_i)\n",
    "    balanced_df=pd.concat(df_list,names=column_names)\n",
    "    return balanced_df"
   ]
  },
  {
   "cell_type": "code",
   "execution_count": null,
   "id": "ff866903-5ef8-4fd5-a441-fa88ce1726c0",
   "metadata": {},
   "outputs": [],
   "source": [
    "syn_train_data=balanced_synthetic_data(pd.DataFrame(train_features),syn_train_data)"
   ]
  },
  {
   "cell_type": "code",
   "execution_count": null,
   "id": "b2efa935-52e0-4571-a000-b5a7348f5757",
   "metadata": {},
   "outputs": [],
   "source": [
    "syn_train_data['Target'].value_counts()"
   ]
  },
  {
   "cell_type": "code",
   "execution_count": null,
   "id": "7f58ebdd-8627-46af-b397-18e4e1255d54",
   "metadata": {},
   "outputs": [],
   "source": [
    "syn_train_data.to_csv('Lung_cancer_NextConvGen_syn_data.csv',index=False)"
   ]
  },
  {
   "cell_type": "code",
   "execution_count": null,
   "id": "e5556ddb-6750-4861-a142-9e0fc2589883",
   "metadata": {},
   "outputs": [],
   "source": [
    "np.random.seed(42)\n",
    "syn_train_data=syn_train_data.sample(frac=1) #Shuffle the data set\n",
    "np.random.seed(42)\n",
    "i=[x for x in range(np.shape(syn_train_data)[0])]\n",
    "\n",
    "syn_train_data.set_index(pd.Series(i), inplace=True)"
   ]
  },
  {
   "cell_type": "code",
   "execution_count": null,
   "id": "e7f5d292-1570-46cc-8c6f-ff798207a4c2",
   "metadata": {},
   "outputs": [],
   "source": [
    "syn_train_data"
   ]
  },
  {
   "cell_type": "code",
   "execution_count": null,
   "id": "38d6f421-9c9f-4f99-8696-d1bbff442bf5",
   "metadata": {},
   "outputs": [],
   "source": [
    "def exact_match_score(original_df, synthetic_df):\n",
    "    original_data=original_df.drop('Target',axis=1,inplace=False)\n",
    "    synthetic_data=synthetic_df.drop('Target',axis=1,inplace=False)\n",
    "    n_matches = 0\n",
    "    repeated=[]\n",
    "    for i in range(synthetic_data.shape[0]):\n",
    "        if (original_data == synthetic_data.iloc[i, :]).all(axis=1).any():\n",
    "            repeated_data=synthetic_data.iloc[i, :]\n",
    "            repeated.append(repeated_data)\n",
    "            n_matches += 1    \n",
    "    print('The number of data points repeated in the synthetic data are',n_matches / synthetic_data.shape[0])\n",
    "    return pd.DataFrame(repeated)"
   ]
  },
  {
   "cell_type": "code",
   "execution_count": null,
   "id": "f0227bfa-c999-49df-9ce7-6d4b3be7a50e",
   "metadata": {},
   "outputs": [],
   "source": [
    "original_df=pd.read_csv('Lung_cancer_training_data(semi_sup).csv')\n",
    "original_df.columns=values"
   ]
  },
  {
   "cell_type": "code",
   "execution_count": null,
   "id": "a0d73017-a6b6-4b56-95cf-3d2c4642012f",
   "metadata": {},
   "outputs": [],
   "source": [
    "exact_match_score(original_df,syn_train_data)"
   ]
  },
  {
   "cell_type": "code",
   "execution_count": null,
   "id": "15a199ee-dace-4c38-a154-ba3d0b6eaa66",
   "metadata": {},
   "outputs": [],
   "source": [
    "len(syn_train_data[syn_train_data.duplicated(keep=False)])"
   ]
  },
  {
   "cell_type": "markdown",
   "id": "22664373-fe16-4b85-880c-49e4f2f76e02",
   "metadata": {},
   "source": [
    "### Train test split on synthetic data"
   ]
  },
  {
   "cell_type": "code",
   "execution_count": null,
   "id": "7ea16747-b8f6-4a5e-9ecb-99631f54dee5",
   "metadata": {
    "tags": []
   },
   "outputs": [],
   "source": [
    "syn_train_features, syn_test_features, syn_train_labels, syn_test_labels = train_test_split(np.array(syn_train_data.drop([\"Target\"],axis=1)), np.array(syn_train_data[\"Target\"]), test_size = 0.25, random_state = 42)"
   ]
  },
  {
   "cell_type": "markdown",
   "id": "965f13f6-c8ad-4e17-bf46-ed7e004cbff6",
   "metadata": {},
   "source": [
    "### Gradient boosting classifier on NextConvGen generated synthetic training data  (Model-2)"
   ]
  },
  {
   "cell_type": "code",
   "execution_count": null,
   "id": "a53a70a4-d263-4b7a-b61a-8a9a3a670315",
   "metadata": {
    "scrolled": true
   },
   "outputs": [],
   "source": [
    "from sklearn.ensemble import GradientBoostingClassifier\n",
    "NextConvGen_model_2 = GradientBoostingClassifier(n_estimators=20, learning_rate=0.5, max_features=2, max_depth=2, random_state=42)\n"
   ]
  },
  {
   "cell_type": "markdown",
   "id": "b720e9be",
   "metadata": {},
   "source": [
    "### 5 Fold Cross Validation"
   ]
  },
  {
   "cell_type": "code",
   "execution_count": null,
   "id": "7e79af0b",
   "metadata": {},
   "outputs": [],
   "source": [
    "score_lr=cross_val_score(NextConvGen_model_2, syn_train_features, syn_train_labels,cv=5)\n",
    "print(score_lr)\n",
    "print(\"Avg :\",np.average(score_lr))\n"
   ]
  },
  {
   "cell_type": "code",
   "execution_count": null,
   "id": "bb3429b1",
   "metadata": {},
   "outputs": [],
   "source": [
    "NextConvGen_model_2.fit(syn_train_features,syn_train_labels )"
   ]
  },
  {
   "cell_type": "markdown",
   "id": "b2cce01c-9e72-472c-9e7d-b37237dbac13",
   "metadata": {},
   "source": [
    "### Case-1: predicting validation data using Model-1\n"
   ]
  },
  {
   "cell_type": "code",
   "execution_count": null,
   "id": "5da6fd08-9bd9-46d8-a179-1cc21e3c909c",
   "metadata": {},
   "outputs": [],
   "source": [
    "x=model_1.predict(np.array(test_features))\n",
    "cluster_wise_F1score(list(test_labels),list(x))"
   ]
  },
  {
   "cell_type": "markdown",
   "id": "c164bdd4-1d1d-4c83-937a-1b639fe602d7",
   "metadata": {},
   "source": [
    "### Case-2: Predicting validation data using Model-2\n"
   ]
  },
  {
   "cell_type": "code",
   "execution_count": null,
   "id": "b90230ce-35e9-4301-9d0d-9ec1a168afaf",
   "metadata": {},
   "outputs": [],
   "source": [
    "y=NextConvGen_model_2.predict(np.array(test_features))\n",
    "\n",
    "cluster_wise_F1score(list(test_labels),list(y))"
   ]
  },
  {
   "cell_type": "markdown",
   "id": "c8e7b3a0-e915-4dea-a9a8-1fd179e6c1a1",
   "metadata": {},
   "source": [
    "### Comparing predicted values from Case-1 & Case-2"
   ]
  },
  {
   "cell_type": "code",
   "execution_count": null,
   "id": "8d3c1fcb-71cd-44d0-8175-a1823d97a80e",
   "metadata": {
    "tags": []
   },
   "outputs": [],
   "source": [
    "cluster_wise_F1score(list(x),list(y))"
   ]
  },
  {
   "cell_type": "markdown",
   "id": "25bc6d7d-34bc-45c5-8911-3caca94d352e",
   "metadata": {},
   "source": [
    "### UMAP on synthetic data"
   ]
  },
  {
   "cell_type": "code",
   "execution_count": null,
   "id": "7cefcf61-7dc8-4cb3-b554-006801adab12",
   "metadata": {},
   "outputs": [],
   "source": [
    "from fdc.fdc import feature_clustering, canberra_modified, Clustering, FDC\n",
    "np.random.seed(42)\n",
    "syn_emb_low=feature_clustering(30,0.01,'euclidean',syn_train_data.drop([\"Target\"],axis=1),True)"
   ]
  },
  {
   "cell_type": "markdown",
   "id": "12c13c35-b359-4599-9b5f-6e7cf238c102",
   "metadata": {},
   "source": [
    "### FDC on synthetic data"
   ]
  },
  {
   "cell_type": "code",
   "execution_count": null,
   "id": "18a794d3-bd52-4537-95b1-6330690e9d7b",
   "metadata": {},
   "outputs": [],
   "source": [
    "from fdc.fdc import feature_clustering, canberra_modified, Clustering, FDC\n",
    "\n",
    "np.random.seed(42)\n",
    "fdc = FDC(clustering_cont=Clustering('euclidean',20,0.01,max_components=1)\n",
    "          , clustering_ord=Clustering('canberra',20,0.01)\n",
    "          , clustering_nom=Clustering('hamming',20,0.01)\n",
    "          , visual=True\n",
    "          , use_pandas_output=True\n",
    "          , with_2d_embedding=True\n",
    "          )\n",
    "\n",
    "fdc.selectFeatures(continueous=cont_list, nomial=nom_list, ordinal=ord_list)\n",
    "\n",
    "FDC_emb_high,FDC_emb_low = fdc.normalize(syn_train_data.drop(['Target'],axis=1),cont_list=cont_list, nom_list=nom_list, ord_list=ord_list,\n",
    "                  with_2d_embedding=True,\n",
    "                  visual=True)"
   ]
  },
  {
   "cell_type": "code",
   "execution_count": null,
   "id": "50f7de13-0c82-4676-9046-cb048cb20207",
   "metadata": {},
   "outputs": [],
   "source": [
    "from fdc.clustering import *\n",
    "clustering=Clustering(FDC_emb_low,FDC_emb_low,True)\n",
    "cluster_list,cluster_counts=clustering.K_means(4)"
   ]
  },
  {
   "cell_type": "code",
   "execution_count": null,
   "id": "5164e221",
   "metadata": {},
   "outputs": [],
   "source": [
    "cluster_counts"
   ]
  },
  {
   "cell_type": "markdown",
   "id": "9c381506",
   "metadata": {},
   "source": [
    "## CTGAN"
   ]
  },
  {
   "cell_type": "code",
   "execution_count": null,
   "id": "6ae28422-0bbb-41e0-b77a-70f6b4bd7fb9",
   "metadata": {},
   "outputs": [],
   "source": [
    "train_features= pd.DataFrame(train_features)"
   ]
  },
  {
   "cell_type": "code",
   "execution_count": null,
   "id": "da43656e",
   "metadata": {},
   "outputs": [],
   "source": [
    "dicts = {}\n",
    "for i in range(len(values)):\n",
    "        dicts[i]=values[i]\n"
   ]
  },
  {
   "cell_type": "code",
   "execution_count": null,
   "id": "012f260e",
   "metadata": {},
   "outputs": [],
   "source": [
    "train_features.rename(columns=dicts,inplace=True)\n"
   ]
  },
  {
   "cell_type": "code",
   "execution_count": null,
   "id": "75691f1d",
   "metadata": {},
   "outputs": [],
   "source": [
    "from sdv.tabular import CTGAN"
   ]
  },
  {
   "cell_type": "code",
   "execution_count": null,
   "id": "f389037f",
   "metadata": {},
   "outputs": [],
   "source": [
    "gen=CTGAN()"
   ]
  },
  {
   "cell_type": "code",
   "execution_count": null,
   "id": "887db476",
   "metadata": {},
   "outputs": [],
   "source": [
    "gen.fit(train_features)"
   ]
  },
  {
   "cell_type": "markdown",
   "id": "6cce973b",
   "metadata": {},
   "source": [
    "### Generating 1000 synthetic points and randomly selecting the same legth of original training points for evaluation"
   ]
  },
  {
   "cell_type": "code",
   "execution_count": null,
   "id": "32120e20",
   "metadata": {},
   "outputs": [],
   "source": [
    "syn_train_data= gen.sample(num_rows=1000)"
   ]
  },
  {
   "cell_type": "code",
   "execution_count": null,
   "id": "adc89b53",
   "metadata": {},
   "outputs": [],
   "source": [
    "from fdc.NN_models import *\n",
    "CTGAN_syn_data=balanced_synthetic_data_CTGAN(train_features,syn_train_data,gen)"
   ]
  },
  {
   "cell_type": "code",
   "execution_count": null,
   "id": "69472947-05f2-4b86-ad69-b5c1bb7af93c",
   "metadata": {},
   "outputs": [],
   "source": [
    "CTGAN_syn_data.to_csv('Lung_cancer_CTGAN_syn_data.csv',index=False)"
   ]
  },
  {
   "cell_type": "code",
   "execution_count": null,
   "id": "ce9afe21",
   "metadata": {},
   "outputs": [],
   "source": [
    "np.random.seed(42)\n",
    "CTGAN_syn_data=CTGAN_syn_data.sample(frac=1) #Shuffle the data set\n",
    "np.random.seed(42)\n",
    "i=[x for x in range(np.shape(CTGAN_syn_data)[0])]\n",
    "\n",
    "CTGAN_syn_data.set_index(pd.Series(i), inplace=True)"
   ]
  },
  {
   "cell_type": "code",
   "execution_count": null,
   "id": "82dee4e5-9b30-4248-a04c-4c854765f7de",
   "metadata": {},
   "outputs": [],
   "source": [
    "exact_match_score(original_df,CTGAN_syn_data)"
   ]
  },
  {
   "cell_type": "code",
   "execution_count": null,
   "id": "43bde91e-c932-46fb-995a-33fffe78d5c6",
   "metadata": {},
   "outputs": [],
   "source": [
    "len(CTGAN_syn_data[CTGAN_syn_data.duplicated(keep=False)])"
   ]
  },
  {
   "cell_type": "markdown",
   "id": "d29e970d",
   "metadata": {},
   "source": [
    "### Train-test split on CTGAN generated synthetic data points"
   ]
  },
  {
   "cell_type": "code",
   "execution_count": null,
   "id": "c7e0bb11",
   "metadata": {},
   "outputs": [],
   "source": [
    "syn_train_features, syn_test_features, syn_train_labels, syn_test_labels = train_test_split(np.array(CTGAN_syn_data.drop([\"Target\"],axis=1)), np.array(CTGAN_syn_data[\"Target\"]), test_size = 0.25, random_state = 42)"
   ]
  },
  {
   "cell_type": "markdown",
   "id": "efd0e051",
   "metadata": {},
   "source": [
    "### Gradient boosting classifier on CTGAN generated synthetic training data  (Model-2)"
   ]
  },
  {
   "cell_type": "code",
   "execution_count": null,
   "id": "71edf250",
   "metadata": {},
   "outputs": [],
   "source": [
    "from sklearn.ensemble import GradientBoostingClassifier\n",
    "CTGAN_model_2 = GradientBoostingClassifier(n_estimators=20, learning_rate=0.5, max_features=2, max_depth=2, random_state=42)\n"
   ]
  },
  {
   "cell_type": "markdown",
   "id": "0ee3fdcd",
   "metadata": {},
   "source": [
    "### 5 Fold Cross validation"
   ]
  },
  {
   "cell_type": "code",
   "execution_count": null,
   "id": "0527f63f",
   "metadata": {},
   "outputs": [],
   "source": [
    "score_lr=cross_val_score(CTGAN_model_2, syn_train_features, syn_train_labels,cv=5)\n",
    "print(score_lr)\n",
    "print(\"Avg :\",np.average(score_lr))\n"
   ]
  },
  {
   "cell_type": "code",
   "execution_count": null,
   "id": "dfc15293",
   "metadata": {},
   "outputs": [],
   "source": [
    "CTGAN_model_2.fit(syn_train_features,syn_train_labels )"
   ]
  },
  {
   "cell_type": "markdown",
   "id": "33bc76da",
   "metadata": {},
   "source": [
    "### Case-1: predicting validation data using Model-1\n"
   ]
  },
  {
   "cell_type": "code",
   "execution_count": null,
   "id": "84c964ee",
   "metadata": {},
   "outputs": [],
   "source": [
    "x=model_1.predict(np.array(test_features))\n",
    "cluster_wise_F1score(list(test_labels),list(x))"
   ]
  },
  {
   "cell_type": "markdown",
   "id": "94c80ca6",
   "metadata": {},
   "source": [
    "### Case-2: predicting validation data using Model-2\n"
   ]
  },
  {
   "cell_type": "code",
   "execution_count": null,
   "id": "5be931d4",
   "metadata": {},
   "outputs": [],
   "source": [
    "y=CTGAN_model_2.predict(np.array(test_features))\n",
    "\n",
    "cluster_wise_F1score(list(test_labels),list(y))"
   ]
  },
  {
   "cell_type": "markdown",
   "id": "ab30bc7f",
   "metadata": {},
   "source": [
    "### Comparing predicted values from Case-1 & Case-2"
   ]
  },
  {
   "cell_type": "code",
   "execution_count": null,
   "id": "2f3a83f6",
   "metadata": {},
   "outputs": [],
   "source": [
    "cluster_wise_F1score(list(x),list(y))"
   ]
  },
  {
   "cell_type": "markdown",
   "id": "b50196a0",
   "metadata": {},
   "source": [
    "### UMAP on CTGAN synthetic data"
   ]
  },
  {
   "cell_type": "code",
   "execution_count": null,
   "id": "9e29fa6f",
   "metadata": {},
   "outputs": [],
   "source": [
    "from fdc.fdc import feature_clustering, canberra_modified, Clustering, FDC\n",
    "np.random.seed(42)\n",
    "syn_emb_low=feature_clustering(30,0.01,'euclidean',CTGAN_syn_data.drop([\"Target\"],axis=1),True)"
   ]
  },
  {
   "cell_type": "markdown",
   "id": "7f688b86",
   "metadata": {},
   "source": [
    "### FDC on CTGAN synthetic data"
   ]
  },
  {
   "cell_type": "code",
   "execution_count": null,
   "id": "ccedd423",
   "metadata": {},
   "outputs": [],
   "source": [
    "from fdc.fdc import feature_clustering, canberra_modified, Clustering, FDC\n",
    "\n",
    "np.random.seed(42)\n",
    "fdc = FDC(clustering_cont=Clustering('euclidean',20,0.01,max_components=1)\n",
    "          , clustering_ord=Clustering('canberra',20,0.01)\n",
    "          , clustering_nom=Clustering('hamming',20,0.01)\n",
    "          , visual=True\n",
    "          , use_pandas_output=True\n",
    "          , with_2d_embedding=True\n",
    "          )\n",
    "\n",
    "fdc.selectFeatures(continueous=cont_list, nomial=nom_list, ordinal=ord_list)\n",
    "\n",
    "FDC_emb_high,FDC_emb_low = fdc.normalize(CTGAN_syn_data.drop(['Target'],axis=1),cont_list=cont_list, nom_list=nom_list, ord_list=ord_list,\n",
    "                  with_2d_embedding=True,\n",
    "                  visual=True)"
   ]
  },
  {
   "cell_type": "code",
   "execution_count": null,
   "id": "7dce96a4",
   "metadata": {},
   "outputs": [],
   "source": [
    "from fdc.clustering import *\n",
    "clustering=Clustering(FDC_emb_low,FDC_emb_low,True)\n",
    "cluster_list,cluster_counts=clustering.K_means(4)"
   ]
  },
  {
   "cell_type": "markdown",
   "id": "bfb2ec9f",
   "metadata": {},
   "source": [
    "### CTAB GAN"
   ]
  },
  {
   "cell_type": "code",
   "execution_count": null,
   "id": "660836c4",
   "metadata": {},
   "outputs": [],
   "source": [
    "import tensorflow as tf\n",
    "from tensorflow import keras\n",
    "from tensorflow.keras import layers\n",
    "from library.generators.ctab import CtabGan"
   ]
  },
  {
   "cell_type": "code",
   "execution_count": null,
   "id": "21e11cd4",
   "metadata": {},
   "outputs": [],
   "source": [
    "gen=CtabGan()"
   ]
  },
  {
   "cell_type": "code",
   "execution_count": null,
   "id": "1533f9cf",
   "metadata": {},
   "outputs": [],
   "source": [
    "gen.reset(train_features)"
   ]
  },
  {
   "cell_type": "code",
   "execution_count": null,
   "id": "87deb84a",
   "metadata": {},
   "outputs": [],
   "source": [
    "gen.train(train_features)"
   ]
  },
  {
   "cell_type": "markdown",
   "id": "3b1dc7e9",
   "metadata": {},
   "source": [
    "### Generating 1000 synthetic points and randomly selecting the same legth of original training points for evaluation"
   ]
  },
  {
   "cell_type": "code",
   "execution_count": null,
   "id": "5840cdbc",
   "metadata": {},
   "outputs": [],
   "source": [
    "CTABGAN_syn_data=  gen.generateData(1000)"
   ]
  },
  {
   "cell_type": "code",
   "execution_count": null,
   "id": "c36c7c3b",
   "metadata": {},
   "outputs": [],
   "source": [
    "CTABGAN_syn_data=pd.DataFrame(CTABGAN_syn_data)"
   ]
  },
  {
   "cell_type": "code",
   "execution_count": null,
   "id": "cd8c1678",
   "metadata": {},
   "outputs": [],
   "source": [
    "CTABGAN_syn_data.rename(columns=dicts,inplace=True)\n",
    "CTABGAN_syn_data"
   ]
  },
  {
   "cell_type": "code",
   "execution_count": null,
   "id": "85b598ff",
   "metadata": {},
   "outputs": [],
   "source": [
    "for i in values[7:]:\n",
    "    CTABGAN_syn_data[i]=abs(np.round(CTABGAN_syn_data[i]))"
   ]
  },
  {
   "cell_type": "code",
   "execution_count": null,
   "id": "f0c94b2e",
   "metadata": {},
   "outputs": [],
   "source": [
    "CTABGAN_syn_data"
   ]
  },
  {
   "cell_type": "code",
   "execution_count": null,
   "id": "d479f70d",
   "metadata": {},
   "outputs": [],
   "source": [
    "from fdc.NN_models import *\n",
    "CTABGAN_syn_data=balanced_synthetic_data_CTABGAN(train_features,CTABGAN_syn_data,gen)"
   ]
  },
  {
   "cell_type": "code",
   "execution_count": null,
   "id": "f6750801",
   "metadata": {},
   "outputs": [],
   "source": [
    "CTABGAN_syn_data.to_csv('Lung_cancer_CTABGAN_syn_data.csv',index=False)"
   ]
  },
  {
   "cell_type": "code",
   "execution_count": null,
   "id": "8ffce937",
   "metadata": {},
   "outputs": [],
   "source": [
    "np.random.seed(42)\n",
    "CTABGAN_syn_data=CTABGAN_syn_data.sample(frac=1) #Shuffle the data set\n",
    "np.random.seed(42)\n",
    "i=[x for x in range(np.shape(CTABGAN_syn_data)[0])]\n",
    "\n",
    "CTABGAN_syn_data.set_index(pd.Series(i), inplace=True)"
   ]
  },
  {
   "cell_type": "code",
   "execution_count": null,
   "id": "1e7e84e4-1103-4626-acf6-9b7266e7101e",
   "metadata": {},
   "outputs": [],
   "source": [
    "exact_match_score(original_df,CTABGAN_syn_data)"
   ]
  },
  {
   "cell_type": "code",
   "execution_count": null,
   "id": "0fce353f-c7f0-4e65-8627-61547b282073",
   "metadata": {},
   "outputs": [],
   "source": [
    "len(CTABGAN_syn_data[CTABGAN_syn_data.duplicated(keep=False)])"
   ]
  },
  {
   "cell_type": "markdown",
   "id": "b514fe19",
   "metadata": {},
   "source": [
    "### Train-test split on CTABGAN generated synthetic data points"
   ]
  },
  {
   "cell_type": "code",
   "execution_count": null,
   "id": "0ebcc0e3",
   "metadata": {},
   "outputs": [],
   "source": [
    "syn_train_features, syn_test_features, syn_train_labels, syn_test_labels = train_test_split(np.array(CTABGAN_syn_data.drop([\"Target\"],axis=1)), np.array(CTABGAN_syn_data[\"Target\"]), test_size = 0.25, random_state = 42)"
   ]
  },
  {
   "cell_type": "markdown",
   "id": "0f449d18",
   "metadata": {},
   "source": [
    "### Gradient boosting classifier on CTABGAN generated synthetic training data  (Model-2)"
   ]
  },
  {
   "cell_type": "code",
   "execution_count": null,
   "id": "1e26ea9b",
   "metadata": {},
   "outputs": [],
   "source": [
    "from sklearn.ensemble import GradientBoostingClassifier\n",
    "CTABGAN_model_2 = GradientBoostingClassifier(n_estimators=20, learning_rate=0.5, max_features=2, max_depth=2, random_state=42)\n"
   ]
  },
  {
   "cell_type": "markdown",
   "id": "ae8ec91f",
   "metadata": {},
   "source": [
    "### 5 Fold Cross validation"
   ]
  },
  {
   "cell_type": "code",
   "execution_count": null,
   "id": "71720f1a",
   "metadata": {},
   "outputs": [],
   "source": [
    "score_lr=cross_val_score(CTABGAN_model_2, syn_train_features, syn_train_labels,cv=5)\n",
    "print(score_lr)\n",
    "print(\"Avg :\",np.average(score_lr))\n"
   ]
  },
  {
   "cell_type": "code",
   "execution_count": null,
   "id": "c0023526",
   "metadata": {},
   "outputs": [],
   "source": [
    "CTABGAN_model_2.fit(syn_train_features,syn_train_labels )"
   ]
  },
  {
   "cell_type": "markdown",
   "id": "15db4335",
   "metadata": {},
   "source": [
    "### Case-1: predicting validation data using Model-1\n"
   ]
  },
  {
   "cell_type": "code",
   "execution_count": null,
   "id": "3a6a4cb2",
   "metadata": {},
   "outputs": [],
   "source": [
    "x=model_1.predict(np.array(test_features))\n",
    "cluster_wise_F1score(list(test_labels),list(x))"
   ]
  },
  {
   "cell_type": "markdown",
   "id": "f6a325e9",
   "metadata": {},
   "source": [
    "### Case-2: predicting validation data using Model-2\n"
   ]
  },
  {
   "cell_type": "code",
   "execution_count": null,
   "id": "c8830909",
   "metadata": {},
   "outputs": [],
   "source": [
    "y=CTABGAN_model_2.predict(np.array(test_features))\n",
    "\n",
    "cluster_wise_F1score(list(test_labels),list(y))"
   ]
  },
  {
   "cell_type": "markdown",
   "id": "50eff354",
   "metadata": {},
   "source": [
    "### Comparing predicted values from Case-1 & Case-2"
   ]
  },
  {
   "cell_type": "code",
   "execution_count": null,
   "id": "92cb674b",
   "metadata": {},
   "outputs": [],
   "source": [
    "cluster_wise_F1score(list(x),list(y))"
   ]
  },
  {
   "cell_type": "markdown",
   "id": "960c63fc",
   "metadata": {},
   "source": [
    "### UMAP on CTABGAN synthetic data"
   ]
  },
  {
   "cell_type": "code",
   "execution_count": null,
   "id": "320a0b90",
   "metadata": {},
   "outputs": [],
   "source": [
    "from fdc.fdc import feature_clustering, canberra_modified, Clustering, FDC\n",
    "np.random.seed(42)\n",
    "syn_emb_low=feature_clustering(30,0.01,'euclidean',CTABGAN_syn_data.drop([\"Target\"],axis=1),True)"
   ]
  },
  {
   "cell_type": "markdown",
   "id": "19622cc5",
   "metadata": {},
   "source": [
    "### FDC on CTABGAN synthetic data"
   ]
  },
  {
   "cell_type": "code",
   "execution_count": null,
   "id": "ed18473d",
   "metadata": {},
   "outputs": [],
   "source": [
    "from fdc.fdc import feature_clustering, canberra_modified, Clustering, FDC\n",
    "\n",
    "np.random.seed(42)\n",
    "fdc = FDC(clustering_cont=Clustering('euclidean',20,0.01,max_components=1)\n",
    "          , clustering_ord=Clustering('canberra',20,0.01)\n",
    "          , clustering_nom=Clustering('hamming',20,0.01)\n",
    "          , visual=True\n",
    "          , use_pandas_output=True\n",
    "          , with_2d_embedding=True\n",
    "          )\n",
    "\n",
    "fdc.selectFeatures(continueous=cont_list, nomial=nom_list, ordinal=ord_list)\n",
    "\n",
    "FDC_emb_high,FDC_emb_low = fdc.normalize(CTABGAN_syn_data.drop(['Target'],axis=1),cont_list=cont_list, nom_list=nom_list, ord_list=ord_list,\n",
    "                  with_2d_embedding=True,\n",
    "                  visual=True)"
   ]
  },
  {
   "cell_type": "code",
   "execution_count": null,
   "id": "2a918c04",
   "metadata": {},
   "outputs": [],
   "source": [
    "from fdc.clustering import *\n",
    "clustering=Clustering(FDC_emb_low,FDC_emb_low,True)\n",
    "cluster_list,cluster_counts=clustering.K_means(4)"
   ]
  },
  {
   "cell_type": "markdown",
   "id": "21581fa9-0a24-45b4-b3b3-d9e0e0b838f4",
   "metadata": {},
   "source": [
    "### Tabddpm"
   ]
  },
  {
   "cell_type": "code",
   "execution_count": null,
   "id": "7b37c20e-fe57-4b5d-8eb3-012e5a2a2133",
   "metadata": {},
   "outputs": [],
   "source": [
    "\n",
    "Tabddpm_syn_data=pd.read_csv('Lung_cancer_synth_data_semi_tddpm.csv')\n",
    "Tabddpm_syn_data.drop(['Unnamed: 0'],axis=1,inplace=True)\n",
    "\n"
   ]
  },
  {
   "cell_type": "code",
   "execution_count": null,
   "id": "1775e7ef-dc1c-40f1-8cb0-d4d34f2b6233",
   "metadata": {},
   "outputs": [],
   "source": [
    "Tabddpm_syn_data['Target'].value_counts()"
   ]
  },
  {
   "cell_type": "code",
   "execution_count": null,
   "id": "df542c85-0c48-4465-9a66-15153fd1a914",
   "metadata": {},
   "outputs": [],
   "source": [
    "def balanced_synthetic_data(org_data,syn_data):\n",
    "    import math\n",
    "    org_data_len = org_data.shape[0]\n",
    "    class_counts = org_data.iloc[:,-1].value_counts()\n",
    "    column_names = list( syn_data.columns)\n",
    "    df_list=[]\n",
    "    for i in range(len(class_counts)):\n",
    "        c_i=syn_data[syn_data['Target']==i].sample(n=int(class_counts[i]),axis=0,random_state=42)\n",
    "        df_list.append(c_i)\n",
    "    balanced_df=pd.concat(df_list,names=column_names)\n",
    "    return balanced_df"
   ]
  },
  {
   "cell_type": "code",
   "execution_count": null,
   "id": "95e73715-cd42-449a-9b33-4b31cf415828",
   "metadata": {},
   "outputs": [],
   "source": [
    "Tabddpm_syn_data=balanced_synthetic_data(pd.DataFrame(train_features),Tabddpm_syn_data)"
   ]
  },
  {
   "cell_type": "code",
   "execution_count": null,
   "id": "0610340a-c533-4516-9b8b-06b2ca872291",
   "metadata": {},
   "outputs": [],
   "source": [
    "Tabddpm_syn_data['Target'].value_counts()"
   ]
  },
  {
   "cell_type": "code",
   "execution_count": null,
   "id": "e13d95fb-7fce-40ca-9a86-6d27f52a31d8",
   "metadata": {},
   "outputs": [],
   "source": [
    "Tabddpm_syn_data.to_csv('Lung_cancer_Tabddpm_syn_data(semi_sup).csv',index=False)"
   ]
  },
  {
   "cell_type": "code",
   "execution_count": null,
   "id": "45c2116c-95e0-47cf-8f88-3e23ba200a86",
   "metadata": {},
   "outputs": [],
   "source": [
    "np.random.seed(42)\n",
    "Tabddpm_syn_data=Tabddpm_syn_data.sample(frac=1) #Shuffle the data set\n",
    "np.random.seed(42)\n",
    "i=[x for x in range(np.shape(Tabddpm_syn_data)[0])]\n",
    "\n",
    "Tabddpm_syn_data.set_index(pd.Series(i), inplace=True)"
   ]
  },
  {
   "cell_type": "code",
   "execution_count": null,
   "id": "59c4ce13-e0c1-4f4d-96b3-e20a5106472d",
   "metadata": {},
   "outputs": [],
   "source": [
    "exact_match_score(original_df,Tabddpm_syn_data)"
   ]
  },
  {
   "cell_type": "code",
   "execution_count": null,
   "id": "a153feab-c4f5-4c2b-a73f-3e42773ced85",
   "metadata": {},
   "outputs": [],
   "source": [
    "len(Tabddpm_syn_data[Tabddpm_syn_data.duplicated(keep=False)])"
   ]
  },
  {
   "cell_type": "markdown",
   "id": "aa4aabde-548a-42d2-bbca-0feb3c78a029",
   "metadata": {},
   "source": [
    "### Train test split on synthetic data"
   ]
  },
  {
   "cell_type": "code",
   "execution_count": null,
   "id": "1c582eb8-c955-42fe-a199-bc32a7d0db35",
   "metadata": {
    "tags": []
   },
   "outputs": [],
   "source": [
    "syn_train_features, syn_test_features, syn_train_labels, syn_test_labels = train_test_split(np.array(Tabddpm_syn_data.drop([\"Target\"],axis=1)), np.array(Tabddpm_syn_data[\"Target\"]), test_size = 0.25, random_state = 42)"
   ]
  },
  {
   "cell_type": "markdown",
   "id": "3316abd8-a01c-425a-a9bd-3e9e1844025d",
   "metadata": {},
   "source": [
    "### Gradient boosting classifier on Tabddpm generated synthetic training data  (Model-2)"
   ]
  },
  {
   "cell_type": "code",
   "execution_count": null,
   "id": "4046fa50-8f30-425a-911b-7b747508718a",
   "metadata": {
    "scrolled": true
   },
   "outputs": [],
   "source": [
    "from sklearn.ensemble import GradientBoostingClassifier\n",
    "Tabddpm_model_2 = GradientBoostingClassifier(n_estimators=20, learning_rate=0.5, max_features=2, max_depth=2, random_state=42)\n"
   ]
  },
  {
   "cell_type": "markdown",
   "id": "1000b37d-44b6-416d-82b6-b84f25d5aec5",
   "metadata": {},
   "source": [
    "### 5 Fold Cross Validation"
   ]
  },
  {
   "cell_type": "code",
   "execution_count": null,
   "id": "49d48aec-7a75-4bdd-87bc-8b5ccca7c714",
   "metadata": {},
   "outputs": [],
   "source": [
    "score_lr=cross_val_score(Tabddpm_model_2, syn_train_features, syn_train_labels,cv=5)\n",
    "print(score_lr)\n",
    "print(\"Avg :\",np.average(score_lr))\n"
   ]
  },
  {
   "cell_type": "code",
   "execution_count": null,
   "id": "0ea77d9d-0108-468e-a0e6-e6f1db6c2591",
   "metadata": {},
   "outputs": [],
   "source": [
    "Tabddpm_model_2.fit(syn_train_features,syn_train_labels )"
   ]
  },
  {
   "cell_type": "markdown",
   "id": "ba528579-3cf3-40aa-9cd0-ba97b40598d1",
   "metadata": {},
   "source": [
    "### Case-1: predicting validation data using Model-1\n"
   ]
  },
  {
   "cell_type": "code",
   "execution_count": null,
   "id": "bbab57cd-a18f-456e-9067-9efc67b971fc",
   "metadata": {},
   "outputs": [],
   "source": [
    "x=model_1.predict(np.array(test_features))\n",
    "cluster_wise_F1score(list(test_labels),list(x))"
   ]
  },
  {
   "cell_type": "markdown",
   "id": "76c2ca12-8b3e-418c-90dd-868bc265d787",
   "metadata": {},
   "source": [
    "### Case-2: Predicting validation data using Model-2\n"
   ]
  },
  {
   "cell_type": "code",
   "execution_count": null,
   "id": "80348fa1-021b-4ad5-a764-3c8483b45640",
   "metadata": {},
   "outputs": [],
   "source": [
    "y=Tabddpm_model_2.predict(np.array(test_features))\n",
    "\n",
    "cluster_wise_F1score(list(test_labels),list(y))"
   ]
  },
  {
   "cell_type": "markdown",
   "id": "b5e32a6e-f6e2-4fdb-b7f8-e4006e7dfb36",
   "metadata": {},
   "source": [
    "### Comparing predicted values from Case-1 & Case-2"
   ]
  },
  {
   "cell_type": "code",
   "execution_count": null,
   "id": "807afe6d-ae8e-48d1-94b1-0dcce78a41b9",
   "metadata": {
    "tags": []
   },
   "outputs": [],
   "source": [
    "cluster_wise_F1score(list(x),list(y))"
   ]
  },
  {
   "cell_type": "markdown",
   "id": "1f48fb8d-0708-4b38-86ef-97c6489dd07a",
   "metadata": {},
   "source": [
    "### UMAP on synthetic data"
   ]
  },
  {
   "cell_type": "code",
   "execution_count": null,
   "id": "21903e89-bc89-4727-9c40-3554f349a6a4",
   "metadata": {},
   "outputs": [],
   "source": [
    "from fdc.fdc import feature_clustering, canberra_modified, Clustering, FDC\n",
    "np.random.seed(42)\n",
    "syn_emb_low=feature_clustering(30,0.01,'euclidean',Tabddpm_syn_data.drop([\"Target\"],axis=1),True)"
   ]
  },
  {
   "cell_type": "markdown",
   "id": "94e2265a-45e6-41ef-b80a-c4257121c0fc",
   "metadata": {},
   "source": [
    "### FDC on synthetic data"
   ]
  },
  {
   "cell_type": "code",
   "execution_count": null,
   "id": "4693cbce-c607-498e-9a38-63a54f81a367",
   "metadata": {},
   "outputs": [],
   "source": [
    "from fdc.fdc import feature_clustering, canberra_modified, Clustering, FDC\n",
    "\n",
    "np.random.seed(42)\n",
    "fdc = FDC(clustering_cont=Clustering('euclidean',20,0.01,max_components=1)\n",
    "          , clustering_ord=Clustering('canberra',20,0.01)\n",
    "          , clustering_nom=Clustering('hamming',20,0.01)\n",
    "          , visual=True\n",
    "          , use_pandas_output=True\n",
    "          , with_2d_embedding=True\n",
    "          )\n",
    "\n",
    "fdc.selectFeatures(continueous=cont_list, nomial=nom_list, ordinal=ord_list)\n",
    "\n",
    "FDC_emb_high,FDC_emb_low = fdc.normalize(Tabddpm_syn_data.drop(['Target'],axis=1),cont_list=cont_list, nom_list=nom_list, ord_list=ord_list,\n",
    "                  with_2d_embedding=True,\n",
    "                  visual=True)"
   ]
  },
  {
   "cell_type": "code",
   "execution_count": null,
   "id": "217cee96-fdde-4118-88aa-797ec5d49631",
   "metadata": {},
   "outputs": [],
   "source": [
    "from fdc.clustering import *\n",
    "clustering=Clustering(FDC_emb_low,FDC_emb_low,True)\n",
    "cluster_list,cluster_counts=clustering.K_means(4)"
   ]
  },
  {
   "cell_type": "code",
   "execution_count": null,
   "id": "151e4af7-1a20-4ddd-8d52-3b931d5fc8b5",
   "metadata": {},
   "outputs": [],
   "source": [
    "cluster_counts"
   ]
  }
 ],
 "metadata": {
  "kernelspec": {
   "display_name": "Python 3 (ipykernel)",
   "language": "python",
   "name": "python3"
  },
  "language_info": {
   "codemirror_mode": {
    "name": "ipython",
    "version": 3
   },
   "file_extension": ".py",
   "mimetype": "text/x-python",
   "name": "python",
   "nbconvert_exporter": "python",
   "pygments_lexer": "ipython3",
   "version": "3.10.7"
  }
 },
 "nbformat": 4,
 "nbformat_minor": 5
}
