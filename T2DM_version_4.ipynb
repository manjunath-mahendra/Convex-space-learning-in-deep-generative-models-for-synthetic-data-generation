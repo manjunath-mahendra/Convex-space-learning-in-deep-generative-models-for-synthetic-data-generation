{
 "cells": [
  {
   "cell_type": "markdown",
   "id": "7a3650ef-2449-4caa-b8ae-b8d77e99cf20",
   "metadata": {
    "tags": []
   },
   "source": [
    "# Semi-supervised synthetic data validation"
   ]
  },
  {
   "cell_type": "markdown",
   "id": "85f5f148-9358-459d-a023-3c3ab9b5bf38",
   "metadata": {},
   "source": [
    "### Importing necessary libraries"
   ]
  },
  {
   "cell_type": "code",
   "execution_count": 1,
   "id": "56b80e0e-b49b-4238-85be-28b96923aeb4",
   "metadata": {
    "tags": []
   },
   "outputs": [
    {
     "name": "stderr",
     "output_type": "stream",
     "text": [
      "2023-04-11 16:58:28.803521: W tensorflow/stream_executor/platform/default/dso_loader.cc:64] Could not load dynamic library 'libcudart.so.11.0'; dlerror: libcudart.so.11.0: cannot open shared object file: No such file or directory\n",
      "2023-04-11 16:58:28.803539: I tensorflow/stream_executor/cuda/cudart_stub.cc:29] Ignore above cudart dlerror if you do not have a GPU set up on your machine.\n"
     ]
    }
   ],
   "source": [
    "import numpy as np\n",
    "from library.generators.NextConvGeN import NextConvGeN\n",
    "#%config InlineBackend.figure_format = 'svg'\n"
   ]
  },
  {
   "cell_type": "code",
   "execution_count": 2,
   "id": "60a37ac3-8400-4930-9b8d-f50e51befb9f",
   "metadata": {},
   "outputs": [],
   "source": [
    "from fdc.fdc import feature_clustering, canberra_modified, Clustering, FDC\n",
    "from fdc.clustering import *"
   ]
  },
  {
   "cell_type": "code",
   "execution_count": 3,
   "id": "24a06985-a202-46b5-93db-f92a3ded0673",
   "metadata": {},
   "outputs": [],
   "source": [
    "import pandas as pd"
   ]
  },
  {
   "cell_type": "markdown",
   "id": "01d3d86f-4e08-4be3-bba9-e2f7b9202670",
   "metadata": {},
   "source": [
    "### Importing data"
   ]
  },
  {
   "cell_type": "code",
   "execution_count": 4,
   "id": "53e069b3-8bcc-46b0-852b-2a504e21197e",
   "metadata": {},
   "outputs": [],
   "source": [
    "data=pd.read_csv('Preprocessed_DM_xx.csv')"
   ]
  },
  {
   "cell_type": "code",
   "execution_count": 5,
   "id": "8aebf9eb-e0b3-40db-bcd0-bfc400e004ce",
   "metadata": {},
   "outputs": [],
   "source": [
    "np.random.seed(42)\n",
    "HTN_indexes=data.loc[(data['Currently.taking.a.prescribed.medicine.to.lower.BP'] != 0) | (data['First.SYSTOLIC.reading'] >= 140) | (data['First.DIASTOLIC.reading'] >= 90) ].index.values\n",
    "HTN_cols=np.zeros(data.shape[0])\n",
    "HTN_cols[[HTN_indexes]]=1\n",
    "data['HTN']=HTN_cols\n",
    "data=data.drop([\"First.SYSTOLIC.reading\",\"First.DIASTOLIC.reading\",\"Currently.taking.a.prescribed.medicine.to.lower.BP\"], axis=1)\n",
    "data=data.reset_index(drop=True)\n",
    "data.columns\n",
    "data=data.drop([\"Hb_adjust_alt_smok\",\"Second.SYSTOLIC.reading\",\"Second.DIASTOLIC.reading\",\"Third.SYSTOLIC.reading\",\"Third.DIASTOLIC.reading\",\"Hb_status\",\"Glucose.level\",'SBP_status'], axis=1)\n",
    "data=data.loc[data['BMI'] != 99.99]\n",
    "data=data.loc[data['Hemoglobin.level..g.dl...1.decimal.'] != 99.99]\n",
    "data=data.loc[data['Currently.has.asthma'] != .5]\n",
    "data=data.loc[data['Currently.has.thyroid.disorder'] != .5]\n",
    "data=data.loc[data['Currently.has.heart.disease'] != .5]\n",
    "data=data.loc[data['Currently.has.cancer'] != .5]\n",
    "data=data.loc[data['DM_history'] == 1]\n",
    "data=data.loc[data['Type.of.caste.or.tribe.of.the.household.head'] != 0]\n",
    "data=data.loc[data['Time.to.get.to.water.source..minutes.'] != -1]\n",
    "data=data.drop([\"Unnamed: 0\",\"DM_status\",\"DM_history\"], axis=1)"
   ]
  },
  {
   "cell_type": "code",
   "execution_count": 6,
   "id": "e633073d-271c-450a-87f9-a61755e2f011",
   "metadata": {},
   "outputs": [
    {
     "data": {
      "text/html": [
       "<div>\n",
       "<style scoped>\n",
       "    .dataframe tbody tr th:only-of-type {\n",
       "        vertical-align: middle;\n",
       "    }\n",
       "\n",
       "    .dataframe tbody tr th {\n",
       "        vertical-align: top;\n",
       "    }\n",
       "\n",
       "    .dataframe thead th {\n",
       "        text-align: right;\n",
       "    }\n",
       "</style>\n",
       "<table border=\"1\" class=\"dataframe\">\n",
       "  <thead>\n",
       "    <tr style=\"text-align: right;\">\n",
       "      <th></th>\n",
       "      <th>Current.age</th>\n",
       "      <th>Sex</th>\n",
       "      <th>Currently.has.asthma</th>\n",
       "      <th>Currently.has.thyroid.disorder</th>\n",
       "      <th>Currently.has.heart.disease</th>\n",
       "      <th>Currently.has.cancer</th>\n",
       "      <th>Suffers.from.TB</th>\n",
       "      <th>BMI</th>\n",
       "      <th>Hemoglobin.level..g.dl...1.decimal.</th>\n",
       "      <th>Frequency.takes.milk.or.curd</th>\n",
       "      <th>...</th>\n",
       "      <th>Has.refrigerator</th>\n",
       "      <th>Has.bicycle</th>\n",
       "      <th>Has.motorcycle.scooter</th>\n",
       "      <th>Has.car.truck</th>\n",
       "      <th>Type.of.cooking.fuel</th>\n",
       "      <th>Household.structure</th>\n",
       "      <th>Owns.livestock..herds.or.farm.animals</th>\n",
       "      <th>Source.of.drinking.water</th>\n",
       "      <th>Time.to.get.to.water.source..minutes.</th>\n",
       "      <th>HTN</th>\n",
       "    </tr>\n",
       "  </thead>\n",
       "  <tbody>\n",
       "    <tr>\n",
       "      <th>3</th>\n",
       "      <td>41</td>\n",
       "      <td>1</td>\n",
       "      <td>0.0</td>\n",
       "      <td>0.0</td>\n",
       "      <td>0.0</td>\n",
       "      <td>0.0</td>\n",
       "      <td>0</td>\n",
       "      <td>23.47</td>\n",
       "      <td>13.4</td>\n",
       "      <td>2</td>\n",
       "      <td>...</td>\n",
       "      <td>1</td>\n",
       "      <td>0</td>\n",
       "      <td>0</td>\n",
       "      <td>0</td>\n",
       "      <td>4</td>\n",
       "      <td>0</td>\n",
       "      <td>0</td>\n",
       "      <td>3</td>\n",
       "      <td>0</td>\n",
       "      <td>0.0</td>\n",
       "    </tr>\n",
       "    <tr>\n",
       "      <th>50</th>\n",
       "      <td>38</td>\n",
       "      <td>1</td>\n",
       "      <td>0.0</td>\n",
       "      <td>0.0</td>\n",
       "      <td>0.0</td>\n",
       "      <td>0.0</td>\n",
       "      <td>0</td>\n",
       "      <td>27.26</td>\n",
       "      <td>12.0</td>\n",
       "      <td>3</td>\n",
       "      <td>...</td>\n",
       "      <td>1</td>\n",
       "      <td>0</td>\n",
       "      <td>1</td>\n",
       "      <td>0</td>\n",
       "      <td>3</td>\n",
       "      <td>0</td>\n",
       "      <td>1</td>\n",
       "      <td>3</td>\n",
       "      <td>0</td>\n",
       "      <td>1.0</td>\n",
       "    </tr>\n",
       "    <tr>\n",
       "      <th>56</th>\n",
       "      <td>47</td>\n",
       "      <td>1</td>\n",
       "      <td>0.0</td>\n",
       "      <td>0.0</td>\n",
       "      <td>0.0</td>\n",
       "      <td>0.0</td>\n",
       "      <td>0</td>\n",
       "      <td>28.56</td>\n",
       "      <td>10.7</td>\n",
       "      <td>2</td>\n",
       "      <td>...</td>\n",
       "      <td>1</td>\n",
       "      <td>1</td>\n",
       "      <td>1</td>\n",
       "      <td>1</td>\n",
       "      <td>3</td>\n",
       "      <td>0</td>\n",
       "      <td>0</td>\n",
       "      <td>3</td>\n",
       "      <td>0</td>\n",
       "      <td>1.0</td>\n",
       "    </tr>\n",
       "    <tr>\n",
       "      <th>75</th>\n",
       "      <td>49</td>\n",
       "      <td>1</td>\n",
       "      <td>0.0</td>\n",
       "      <td>0.0</td>\n",
       "      <td>0.0</td>\n",
       "      <td>0.0</td>\n",
       "      <td>0</td>\n",
       "      <td>19.07</td>\n",
       "      <td>14.6</td>\n",
       "      <td>0</td>\n",
       "      <td>...</td>\n",
       "      <td>1</td>\n",
       "      <td>0</td>\n",
       "      <td>1</td>\n",
       "      <td>1</td>\n",
       "      <td>3</td>\n",
       "      <td>0</td>\n",
       "      <td>0</td>\n",
       "      <td>3</td>\n",
       "      <td>0</td>\n",
       "      <td>1.0</td>\n",
       "    </tr>\n",
       "    <tr>\n",
       "      <th>113</th>\n",
       "      <td>26</td>\n",
       "      <td>1</td>\n",
       "      <td>0.0</td>\n",
       "      <td>0.0</td>\n",
       "      <td>0.0</td>\n",
       "      <td>0.0</td>\n",
       "      <td>0</td>\n",
       "      <td>18.23</td>\n",
       "      <td>13.2</td>\n",
       "      <td>1</td>\n",
       "      <td>...</td>\n",
       "      <td>1</td>\n",
       "      <td>0</td>\n",
       "      <td>1</td>\n",
       "      <td>1</td>\n",
       "      <td>1</td>\n",
       "      <td>0</td>\n",
       "      <td>0</td>\n",
       "      <td>3</td>\n",
       "      <td>0</td>\n",
       "      <td>0.0</td>\n",
       "    </tr>\n",
       "    <tr>\n",
       "      <th>...</th>\n",
       "      <td>...</td>\n",
       "      <td>...</td>\n",
       "      <td>...</td>\n",
       "      <td>...</td>\n",
       "      <td>...</td>\n",
       "      <td>...</td>\n",
       "      <td>...</td>\n",
       "      <td>...</td>\n",
       "      <td>...</td>\n",
       "      <td>...</td>\n",
       "      <td>...</td>\n",
       "      <td>...</td>\n",
       "      <td>...</td>\n",
       "      <td>...</td>\n",
       "      <td>...</td>\n",
       "      <td>...</td>\n",
       "      <td>...</td>\n",
       "      <td>...</td>\n",
       "      <td>...</td>\n",
       "      <td>...</td>\n",
       "      <td>...</td>\n",
       "    </tr>\n",
       "    <tr>\n",
       "      <th>729962</th>\n",
       "      <td>45</td>\n",
       "      <td>1</td>\n",
       "      <td>0.0</td>\n",
       "      <td>0.0</td>\n",
       "      <td>0.0</td>\n",
       "      <td>0.0</td>\n",
       "      <td>0</td>\n",
       "      <td>34.00</td>\n",
       "      <td>12.2</td>\n",
       "      <td>2</td>\n",
       "      <td>...</td>\n",
       "      <td>1</td>\n",
       "      <td>0</td>\n",
       "      <td>1</td>\n",
       "      <td>0</td>\n",
       "      <td>3</td>\n",
       "      <td>1</td>\n",
       "      <td>0</td>\n",
       "      <td>3</td>\n",
       "      <td>0</td>\n",
       "      <td>1.0</td>\n",
       "    </tr>\n",
       "    <tr>\n",
       "      <th>730033</th>\n",
       "      <td>47</td>\n",
       "      <td>1</td>\n",
       "      <td>0.0</td>\n",
       "      <td>0.0</td>\n",
       "      <td>0.0</td>\n",
       "      <td>0.0</td>\n",
       "      <td>0</td>\n",
       "      <td>24.82</td>\n",
       "      <td>11.4</td>\n",
       "      <td>3</td>\n",
       "      <td>...</td>\n",
       "      <td>1</td>\n",
       "      <td>0</td>\n",
       "      <td>0</td>\n",
       "      <td>0</td>\n",
       "      <td>3</td>\n",
       "      <td>1</td>\n",
       "      <td>0</td>\n",
       "      <td>3</td>\n",
       "      <td>0</td>\n",
       "      <td>0.0</td>\n",
       "    </tr>\n",
       "    <tr>\n",
       "      <th>730334</th>\n",
       "      <td>43</td>\n",
       "      <td>1</td>\n",
       "      <td>0.0</td>\n",
       "      <td>1.0</td>\n",
       "      <td>0.0</td>\n",
       "      <td>0.0</td>\n",
       "      <td>0</td>\n",
       "      <td>29.83</td>\n",
       "      <td>9.2</td>\n",
       "      <td>3</td>\n",
       "      <td>...</td>\n",
       "      <td>1</td>\n",
       "      <td>0</td>\n",
       "      <td>0</td>\n",
       "      <td>0</td>\n",
       "      <td>1</td>\n",
       "      <td>1</td>\n",
       "      <td>0</td>\n",
       "      <td>3</td>\n",
       "      <td>0</td>\n",
       "      <td>1.0</td>\n",
       "    </tr>\n",
       "    <tr>\n",
       "      <th>730373</th>\n",
       "      <td>39</td>\n",
       "      <td>1</td>\n",
       "      <td>0.0</td>\n",
       "      <td>0.0</td>\n",
       "      <td>0.0</td>\n",
       "      <td>0.0</td>\n",
       "      <td>0</td>\n",
       "      <td>34.63</td>\n",
       "      <td>12.4</td>\n",
       "      <td>3</td>\n",
       "      <td>...</td>\n",
       "      <td>1</td>\n",
       "      <td>1</td>\n",
       "      <td>1</td>\n",
       "      <td>0</td>\n",
       "      <td>3</td>\n",
       "      <td>0</td>\n",
       "      <td>0</td>\n",
       "      <td>3</td>\n",
       "      <td>0</td>\n",
       "      <td>1.0</td>\n",
       "    </tr>\n",
       "    <tr>\n",
       "      <th>730563</th>\n",
       "      <td>46</td>\n",
       "      <td>1</td>\n",
       "      <td>0.0</td>\n",
       "      <td>0.0</td>\n",
       "      <td>0.0</td>\n",
       "      <td>0.0</td>\n",
       "      <td>0</td>\n",
       "      <td>29.51</td>\n",
       "      <td>12.5</td>\n",
       "      <td>3</td>\n",
       "      <td>...</td>\n",
       "      <td>1</td>\n",
       "      <td>0</td>\n",
       "      <td>1</td>\n",
       "      <td>0</td>\n",
       "      <td>3</td>\n",
       "      <td>0</td>\n",
       "      <td>0</td>\n",
       "      <td>3</td>\n",
       "      <td>0</td>\n",
       "      <td>1.0</td>\n",
       "    </tr>\n",
       "  </tbody>\n",
       "</table>\n",
       "<p>10125 rows × 41 columns</p>\n",
       "</div>"
      ],
      "text/plain": [
       "        Current.age  Sex  Currently.has.asthma  \\\n",
       "3                41    1                   0.0   \n",
       "50               38    1                   0.0   \n",
       "56               47    1                   0.0   \n",
       "75               49    1                   0.0   \n",
       "113              26    1                   0.0   \n",
       "...             ...  ...                   ...   \n",
       "729962           45    1                   0.0   \n",
       "730033           47    1                   0.0   \n",
       "730334           43    1                   0.0   \n",
       "730373           39    1                   0.0   \n",
       "730563           46    1                   0.0   \n",
       "\n",
       "        Currently.has.thyroid.disorder  Currently.has.heart.disease  \\\n",
       "3                                  0.0                          0.0   \n",
       "50                                 0.0                          0.0   \n",
       "56                                 0.0                          0.0   \n",
       "75                                 0.0                          0.0   \n",
       "113                                0.0                          0.0   \n",
       "...                                ...                          ...   \n",
       "729962                             0.0                          0.0   \n",
       "730033                             0.0                          0.0   \n",
       "730334                             1.0                          0.0   \n",
       "730373                             0.0                          0.0   \n",
       "730563                             0.0                          0.0   \n",
       "\n",
       "        Currently.has.cancer  Suffers.from.TB    BMI  \\\n",
       "3                        0.0                0  23.47   \n",
       "50                       0.0                0  27.26   \n",
       "56                       0.0                0  28.56   \n",
       "75                       0.0                0  19.07   \n",
       "113                      0.0                0  18.23   \n",
       "...                      ...              ...    ...   \n",
       "729962                   0.0                0  34.00   \n",
       "730033                   0.0                0  24.82   \n",
       "730334                   0.0                0  29.83   \n",
       "730373                   0.0                0  34.63   \n",
       "730563                   0.0                0  29.51   \n",
       "\n",
       "        Hemoglobin.level..g.dl...1.decimal.  Frequency.takes.milk.or.curd  \\\n",
       "3                                      13.4                             2   \n",
       "50                                     12.0                             3   \n",
       "56                                     10.7                             2   \n",
       "75                                     14.6                             0   \n",
       "113                                    13.2                             1   \n",
       "...                                     ...                           ...   \n",
       "729962                                 12.2                             2   \n",
       "730033                                 11.4                             3   \n",
       "730334                                  9.2                             3   \n",
       "730373                                 12.4                             3   \n",
       "730563                                 12.5                             3   \n",
       "\n",
       "        ...  Has.refrigerator  Has.bicycle  Has.motorcycle.scooter  \\\n",
       "3       ...                 1            0                       0   \n",
       "50      ...                 1            0                       1   \n",
       "56      ...                 1            1                       1   \n",
       "75      ...                 1            0                       1   \n",
       "113     ...                 1            0                       1   \n",
       "...     ...               ...          ...                     ...   \n",
       "729962  ...                 1            0                       1   \n",
       "730033  ...                 1            0                       0   \n",
       "730334  ...                 1            0                       0   \n",
       "730373  ...                 1            1                       1   \n",
       "730563  ...                 1            0                       1   \n",
       "\n",
       "        Has.car.truck  Type.of.cooking.fuel  Household.structure  \\\n",
       "3                   0                     4                    0   \n",
       "50                  0                     3                    0   \n",
       "56                  1                     3                    0   \n",
       "75                  1                     3                    0   \n",
       "113                 1                     1                    0   \n",
       "...               ...                   ...                  ...   \n",
       "729962              0                     3                    1   \n",
       "730033              0                     3                    1   \n",
       "730334              0                     1                    1   \n",
       "730373              0                     3                    0   \n",
       "730563              0                     3                    0   \n",
       "\n",
       "        Owns.livestock..herds.or.farm.animals  Source.of.drinking.water  \\\n",
       "3                                           0                         3   \n",
       "50                                          1                         3   \n",
       "56                                          0                         3   \n",
       "75                                          0                         3   \n",
       "113                                         0                         3   \n",
       "...                                       ...                       ...   \n",
       "729962                                      0                         3   \n",
       "730033                                      0                         3   \n",
       "730334                                      0                         3   \n",
       "730373                                      0                         3   \n",
       "730563                                      0                         3   \n",
       "\n",
       "        Time.to.get.to.water.source..minutes.  HTN  \n",
       "3                                           0  0.0  \n",
       "50                                          0  1.0  \n",
       "56                                          0  1.0  \n",
       "75                                          0  1.0  \n",
       "113                                         0  0.0  \n",
       "...                                       ...  ...  \n",
       "729962                                      0  1.0  \n",
       "730033                                      0  0.0  \n",
       "730334                                      0  1.0  \n",
       "730373                                      0  1.0  \n",
       "730563                                      0  1.0  \n",
       "\n",
       "[10125 rows x 41 columns]"
      ]
     },
     "execution_count": 6,
     "metadata": {},
     "output_type": "execute_result"
    }
   ],
   "source": [
    "data"
   ]
  },
  {
   "cell_type": "code",
   "execution_count": 7,
   "id": "f6585796-c7c5-4f06-a1f4-5f5aea784e42",
   "metadata": {},
   "outputs": [],
   "source": [
    "np.random.seed(42)\n",
    "data=data.sample(frac=1)"
   ]
  },
  {
   "cell_type": "code",
   "execution_count": 8,
   "id": "daf17014-4a05-4b90-9cc0-a83fdbb478db",
   "metadata": {},
   "outputs": [],
   "source": [
    "values = ['Drinks.alcohol', 'Smoking_stat','Has.refrigerator',\n",
    "       'Has.bicycle', 'Has.motorcycle.scooter', 'Has.car.truck', 'Owns.livestock..herds.or.farm.animals','Frequency.takes.milk.or.curd',\n",
    "       'Frequency.eats.pulses.or.beans',\n",
    "       'Frequency.eats.dark.green.leafy.vegetable', 'Frequency.eats.fruits',\n",
    "       'Frequency.eats.eggs', 'Frequency.eats.fish',\n",
    "       'Frequency.eats.chicken.or.meat', 'Frequency.eats.fried.food',\n",
    "       'Frequency.takes.aerated.drinks','Frequency.household.members.smoke.inside.the.house','Wealth.index',\n",
    "       'Highest.educational.level','Currently.has.asthma','Currently.has.thyroid.disorder','Currently.has.heart.disease',\n",
    "       'Currently.has.cancer', 'Suffers.from.TB','HTN','Current.age','BMI','Hemoglobin.level..g.dl...1.decimal.','Time.to.get.to.water.source..minutes.','Household.head.s.religion', 'Sex', 'Type.of.place.of.residence', 'Household.structure',\n",
    "       'Type.of.caste.or.tribe.of.the.household.head','Type.of.cooking.fuel','Source.of.drinking.water']"
   ]
  },
  {
   "cell_type": "code",
   "execution_count": 9,
   "id": "f6300ef8-de66-4ac7-81f9-4abeba0e2910",
   "metadata": {},
   "outputs": [],
   "source": [
    "data=data[values]"
   ]
  },
  {
   "cell_type": "markdown",
   "id": "b660f1df-14b8-462c-a36c-5718f1881bda",
   "metadata": {},
   "source": [
    "### UMAP on entire data"
   ]
  },
  {
   "cell_type": "code",
   "execution_count": 10,
   "id": "2326c5ac-3967-4a6e-8488-dd1dd29796e3",
   "metadata": {},
   "outputs": [],
   "source": [
    "from fdc.fdc import feature_clustering"
   ]
  },
  {
   "cell_type": "code",
   "execution_count": 11,
   "id": "4f208ccd-b32d-4a0c-b8be-e6edf64b5664",
   "metadata": {},
   "outputs": [
    {
     "data": {
      "image/png": "[encoded data removed]",
      "text/plain": [
       "<Figure size 500x500 with 1 Axes>"
      ]
     },
     "metadata": {},
     "output_type": "display_data"
    }
   ],
   "source": [
    "np.random.seed(42)\n",
    "umap_emb=feature_clustering(30,0.01,'euclidean',data,True)"
   ]
  },
  {
   "cell_type": "code",
   "execution_count": 12,
   "id": "148f6dc3-10d2-467d-8536-4454201fd39e",
   "metadata": {},
   "outputs": [],
   "source": [
    "from fdc.clustering import Clustering"
   ]
  },
  {
   "cell_type": "code",
   "execution_count": 13,
   "id": "1092aad7-6830-4ef0-b377-b91f0edf89c2",
   "metadata": {},
   "outputs": [
    {
     "data": {
      "image/png": "[encoded data removed]",
      "text/plain": [
       "<Figure size 560.361x500 with 1 Axes>"
      ]
     },
     "metadata": {},
     "output_type": "display_data"
    }
   ],
   "source": [
    "np.random.seed(42)\n",
    "umap_clustering=Clustering(umap_emb,umap_emb,True)\n",
    "umap_cluster_list,umap_cluster_counts=umap_clustering.K_means(2)"
   ]
  },
  {
   "cell_type": "markdown",
   "id": "f0068723-e652-4358-a2c4-761f5e1833d8",
   "metadata": {},
   "source": [
    "### Feature-type Distributed Clustering (FDC)"
   ]
  },
  {
   "cell_type": "code",
   "execution_count": 14,
   "id": "d91f3053-c382-490a-9c6a-e3925f5d0660",
   "metadata": {},
   "outputs": [],
   "source": [
    "ord_list=['Drinks.alcohol', 'Smoking_stat','Has.refrigerator',\n",
    "       'Has.bicycle', 'Has.motorcycle.scooter', 'Has.car.truck', 'Owns.livestock..herds.or.farm.animals','Frequency.takes.milk.or.curd',\n",
    "       'Frequency.eats.pulses.or.beans',\n",
    "       'Frequency.eats.dark.green.leafy.vegetable', 'Frequency.eats.fruits',\n",
    "       'Frequency.eats.eggs', 'Frequency.eats.fish',\n",
    "       'Frequency.eats.chicken.or.meat', 'Frequency.eats.fried.food',\n",
    "       'Frequency.takes.aerated.drinks','Frequency.household.members.smoke.inside.the.house','Wealth.index',\n",
    "       'Highest.educational.level','Currently.has.asthma','Currently.has.thyroid.disorder','Currently.has.heart.disease',\n",
    "       'Currently.has.cancer', 'Suffers.from.TB','HTN']\n",
    "\n",
    "cont_list=['Current.age','BMI','Hemoglobin.level..g.dl...1.decimal.','Time.to.get.to.water.source..minutes.']\n",
    "\n",
    "nom_list=['Household.head.s.religion', 'Sex', 'Type.of.place.of.residence', 'Household.structure',\n",
    "       'Type.of.caste.or.tribe.of.the.household.head','Type.of.cooking.fuel','Source.of.drinking.water']"
   ]
  },
  {
   "cell_type": "code",
   "execution_count": 15,
   "id": "8597d25f-470b-41c5-8353-05f15421e850",
   "metadata": {},
   "outputs": [
    {
     "name": "stdout",
     "output_type": "stream",
     "text": [
      "FDC.normalize (init): 0.00002 / 0.000s\n",
      "FDC.normalize (clustering CONT): 15.00962 / 15.010s\n",
      "FDC.normalize (clustering ORD): 20.35969 / 35.369s\n",
      "FDC.normalize (clustering NOM): 36.03543 / 71.405s\n",
      "FDC.normalize (concat): 0.00037 / 71.405s\n",
      "FDC.normalize (umap 5 -> 2): 15.23527 / 86.640s\n",
      "FDC.normalize (array -> DataFrame): 0.00030 / 86.641s\n"
     ]
    },
    {
     "data": {
      "image/png": "[encoded data removed]",
      "text/plain": [
       "<Figure size 500x500 with 1 Axes>"
      ]
     },
     "metadata": {},
     "output_type": "display_data"
    },
    {
     "name": "stdout",
     "output_type": "stream",
     "text": [
      "FDC.normalize (plotting): 0.41043 / 87.051s\n",
      "FDC.normalize (array -> DataFrame): 0.00045 / 87.052s\n",
      "FDC.normalize (total): 0.00001 / 87.052s\n"
     ]
    }
   ],
   "source": [
    "from fdc.fdc import feature_clustering, canberra_modified, Clustering, FDC\n",
    "\n",
    "np.random.seed(42)\n",
    "\n",
    "fdc = FDC(clustering_cont=Clustering('euclidean',30,0.1)\n",
    "          , clustering_ord=Clustering(\"canberra\",30,0.1)\n",
    "          , clustering_nom=Clustering('hamming',30,0.1)\n",
    "          , visual=True\n",
    "          , use_pandas_output=True\n",
    "          , with_2d_embedding=True\n",
    "          )\n",
    "\n",
    "fdc.selectFeatures(continueous=cont_list, nomial=nom_list, ordinal=ord_list)\n",
    "\n",
    "FDC_emb_high,FDC_emb_low = fdc.normalize(data,cont_list=cont_list, nom_list=nom_list, ord_list=ord_list,\n",
    "                  with_2d_embedding=True,\n",
    "                  visual=True)"
   ]
  },
  {
   "cell_type": "markdown",
   "id": "c463a715-9608-4325-b72b-b710e1ccb589",
   "metadata": {},
   "source": [
    "### Clustering using K-means"
   ]
  },
  {
   "cell_type": "code",
   "execution_count": 16,
   "id": "80dbc9a4-8997-42d2-b4fd-49515bb2f8c1",
   "metadata": {
    "scrolled": true
   },
   "outputs": [
    {
     "data": {
      "image/png": "[encoded data removed]",
      "text/plain": [
       "<Figure size 560.361x500 with 1 Axes>"
      ]
     },
     "metadata": {},
     "output_type": "display_data"
    }
   ],
   "source": [
    "from fdc.clustering import *\n",
    "np.random.seed(42)\n",
    "clustering=Clustering(FDC_emb_low,FDC_emb_low,True)\n",
    "cluster_list,cluster_counts=clustering.K_means(4)"
   ]
  },
  {
   "cell_type": "code",
   "execution_count": 17,
   "id": "c2f410a1",
   "metadata": {},
   "outputs": [
    {
     "data": {
      "text/plain": [
       "array([2813, 2783, 2769, 1760])"
      ]
     },
     "execution_count": 17,
     "metadata": {},
     "output_type": "execute_result"
    }
   ],
   "source": [
    "cluster_counts"
   ]
  },
  {
   "cell_type": "markdown",
   "id": "efc4b041-6d68-4065-813f-3536799b9f23",
   "metadata": {},
   "source": [
    "### Concatinating cluster labels as Target to original data"
   ]
  },
  {
   "cell_type": "code",
   "execution_count": 18,
   "id": "5112b703-071c-45d4-8d31-ab14259214c7",
   "metadata": {},
   "outputs": [],
   "source": [
    "data[\"Target\"]=cluster_list"
   ]
  },
  {
   "cell_type": "code",
   "execution_count": 19,
   "id": "8e20b638-c2f8-4ab7-9142-ea25dfef1e16",
   "metadata": {},
   "outputs": [
    {
     "data": {
      "text/html": [
       "<div>\n",
       "<style scoped>\n",
       "    .dataframe tbody tr th:only-of-type {\n",
       "        vertical-align: middle;\n",
       "    }\n",
       "\n",
       "    .dataframe tbody tr th {\n",
       "        vertical-align: top;\n",
       "    }\n",
       "\n",
       "    .dataframe thead th {\n",
       "        text-align: right;\n",
       "    }\n",
       "</style>\n",
       "<table border=\"1\" class=\"dataframe\">\n",
       "  <thead>\n",
       "    <tr style=\"text-align: right;\">\n",
       "      <th></th>\n",
       "      <th>Drinks.alcohol</th>\n",
       "      <th>Smoking_stat</th>\n",
       "      <th>Has.refrigerator</th>\n",
       "      <th>Has.bicycle</th>\n",
       "      <th>Has.motorcycle.scooter</th>\n",
       "      <th>Has.car.truck</th>\n",
       "      <th>Owns.livestock..herds.or.farm.animals</th>\n",
       "      <th>Frequency.takes.milk.or.curd</th>\n",
       "      <th>Frequency.eats.pulses.or.beans</th>\n",
       "      <th>Frequency.eats.dark.green.leafy.vegetable</th>\n",
       "      <th>...</th>\n",
       "      <th>Hemoglobin.level..g.dl...1.decimal.</th>\n",
       "      <th>Time.to.get.to.water.source..minutes.</th>\n",
       "      <th>Household.head.s.religion</th>\n",
       "      <th>Sex</th>\n",
       "      <th>Type.of.place.of.residence</th>\n",
       "      <th>Household.structure</th>\n",
       "      <th>Type.of.caste.or.tribe.of.the.household.head</th>\n",
       "      <th>Type.of.cooking.fuel</th>\n",
       "      <th>Source.of.drinking.water</th>\n",
       "      <th>Target</th>\n",
       "    </tr>\n",
       "  </thead>\n",
       "  <tbody>\n",
       "    <tr>\n",
       "      <th>258196</th>\n",
       "      <td>0</td>\n",
       "      <td>0</td>\n",
       "      <td>1</td>\n",
       "      <td>1</td>\n",
       "      <td>1</td>\n",
       "      <td>0</td>\n",
       "      <td>0</td>\n",
       "      <td>2</td>\n",
       "      <td>2</td>\n",
       "      <td>1</td>\n",
       "      <td>...</td>\n",
       "      <td>11.1</td>\n",
       "      <td>10</td>\n",
       "      <td>0</td>\n",
       "      <td>1</td>\n",
       "      <td>1</td>\n",
       "      <td>0</td>\n",
       "      <td>4</td>\n",
       "      <td>3</td>\n",
       "      <td>4</td>\n",
       "      <td>3</td>\n",
       "    </tr>\n",
       "    <tr>\n",
       "      <th>188164</th>\n",
       "      <td>0</td>\n",
       "      <td>0</td>\n",
       "      <td>0</td>\n",
       "      <td>0</td>\n",
       "      <td>1</td>\n",
       "      <td>0</td>\n",
       "      <td>1</td>\n",
       "      <td>2</td>\n",
       "      <td>3</td>\n",
       "      <td>3</td>\n",
       "      <td>...</td>\n",
       "      <td>10.9</td>\n",
       "      <td>30</td>\n",
       "      <td>0</td>\n",
       "      <td>1</td>\n",
       "      <td>1</td>\n",
       "      <td>0</td>\n",
       "      <td>1</td>\n",
       "      <td>1</td>\n",
       "      <td>3</td>\n",
       "      <td>1</td>\n",
       "    </tr>\n",
       "    <tr>\n",
       "      <th>348270</th>\n",
       "      <td>0</td>\n",
       "      <td>0</td>\n",
       "      <td>1</td>\n",
       "      <td>1</td>\n",
       "      <td>1</td>\n",
       "      <td>0</td>\n",
       "      <td>0</td>\n",
       "      <td>2</td>\n",
       "      <td>2</td>\n",
       "      <td>3</td>\n",
       "      <td>...</td>\n",
       "      <td>12.3</td>\n",
       "      <td>0</td>\n",
       "      <td>1</td>\n",
       "      <td>1</td>\n",
       "      <td>0</td>\n",
       "      <td>0</td>\n",
       "      <td>1</td>\n",
       "      <td>3</td>\n",
       "      <td>3</td>\n",
       "      <td>2</td>\n",
       "    </tr>\n",
       "    <tr>\n",
       "      <th>469410</th>\n",
       "      <td>0</td>\n",
       "      <td>0</td>\n",
       "      <td>1</td>\n",
       "      <td>1</td>\n",
       "      <td>1</td>\n",
       "      <td>0</td>\n",
       "      <td>1</td>\n",
       "      <td>2</td>\n",
       "      <td>2</td>\n",
       "      <td>2</td>\n",
       "      <td>...</td>\n",
       "      <td>7.8</td>\n",
       "      <td>10</td>\n",
       "      <td>0</td>\n",
       "      <td>1</td>\n",
       "      <td>1</td>\n",
       "      <td>0</td>\n",
       "      <td>1</td>\n",
       "      <td>3</td>\n",
       "      <td>2</td>\n",
       "      <td>3</td>\n",
       "    </tr>\n",
       "    <tr>\n",
       "      <th>45365</th>\n",
       "      <td>0</td>\n",
       "      <td>0</td>\n",
       "      <td>1</td>\n",
       "      <td>0</td>\n",
       "      <td>0</td>\n",
       "      <td>0</td>\n",
       "      <td>0</td>\n",
       "      <td>0</td>\n",
       "      <td>2</td>\n",
       "      <td>3</td>\n",
       "      <td>...</td>\n",
       "      <td>12.6</td>\n",
       "      <td>0</td>\n",
       "      <td>1</td>\n",
       "      <td>1</td>\n",
       "      <td>0</td>\n",
       "      <td>1</td>\n",
       "      <td>1</td>\n",
       "      <td>3</td>\n",
       "      <td>3</td>\n",
       "      <td>1</td>\n",
       "    </tr>\n",
       "    <tr>\n",
       "      <th>...</th>\n",
       "      <td>...</td>\n",
       "      <td>...</td>\n",
       "      <td>...</td>\n",
       "      <td>...</td>\n",
       "      <td>...</td>\n",
       "      <td>...</td>\n",
       "      <td>...</td>\n",
       "      <td>...</td>\n",
       "      <td>...</td>\n",
       "      <td>...</td>\n",
       "      <td>...</td>\n",
       "      <td>...</td>\n",
       "      <td>...</td>\n",
       "      <td>...</td>\n",
       "      <td>...</td>\n",
       "      <td>...</td>\n",
       "      <td>...</td>\n",
       "      <td>...</td>\n",
       "      <td>...</td>\n",
       "      <td>...</td>\n",
       "      <td>...</td>\n",
       "    </tr>\n",
       "    <tr>\n",
       "      <th>398124</th>\n",
       "      <td>1</td>\n",
       "      <td>1</td>\n",
       "      <td>1</td>\n",
       "      <td>0</td>\n",
       "      <td>0</td>\n",
       "      <td>0</td>\n",
       "      <td>0</td>\n",
       "      <td>3</td>\n",
       "      <td>2</td>\n",
       "      <td>2</td>\n",
       "      <td>...</td>\n",
       "      <td>15.4</td>\n",
       "      <td>10</td>\n",
       "      <td>0</td>\n",
       "      <td>0</td>\n",
       "      <td>0</td>\n",
       "      <td>0</td>\n",
       "      <td>4</td>\n",
       "      <td>3</td>\n",
       "      <td>4</td>\n",
       "      <td>3</td>\n",
       "    </tr>\n",
       "    <tr>\n",
       "      <th>351146</th>\n",
       "      <td>0</td>\n",
       "      <td>0</td>\n",
       "      <td>1</td>\n",
       "      <td>1</td>\n",
       "      <td>1</td>\n",
       "      <td>0</td>\n",
       "      <td>1</td>\n",
       "      <td>3</td>\n",
       "      <td>1</td>\n",
       "      <td>2</td>\n",
       "      <td>...</td>\n",
       "      <td>12.9</td>\n",
       "      <td>0</td>\n",
       "      <td>3</td>\n",
       "      <td>1</td>\n",
       "      <td>1</td>\n",
       "      <td>0</td>\n",
       "      <td>4</td>\n",
       "      <td>1</td>\n",
       "      <td>3</td>\n",
       "      <td>1</td>\n",
       "    </tr>\n",
       "    <tr>\n",
       "      <th>363318</th>\n",
       "      <td>0</td>\n",
       "      <td>0</td>\n",
       "      <td>1</td>\n",
       "      <td>1</td>\n",
       "      <td>0</td>\n",
       "      <td>0</td>\n",
       "      <td>0</td>\n",
       "      <td>3</td>\n",
       "      <td>2</td>\n",
       "      <td>3</td>\n",
       "      <td>...</td>\n",
       "      <td>15.5</td>\n",
       "      <td>0</td>\n",
       "      <td>0</td>\n",
       "      <td>1</td>\n",
       "      <td>0</td>\n",
       "      <td>0</td>\n",
       "      <td>2</td>\n",
       "      <td>3</td>\n",
       "      <td>2</td>\n",
       "      <td>2</td>\n",
       "    </tr>\n",
       "    <tr>\n",
       "      <th>62518</th>\n",
       "      <td>0</td>\n",
       "      <td>0</td>\n",
       "      <td>1</td>\n",
       "      <td>0</td>\n",
       "      <td>1</td>\n",
       "      <td>1</td>\n",
       "      <td>0</td>\n",
       "      <td>3</td>\n",
       "      <td>3</td>\n",
       "      <td>3</td>\n",
       "      <td>...</td>\n",
       "      <td>13.4</td>\n",
       "      <td>0</td>\n",
       "      <td>0</td>\n",
       "      <td>1</td>\n",
       "      <td>0</td>\n",
       "      <td>1</td>\n",
       "      <td>2</td>\n",
       "      <td>3</td>\n",
       "      <td>3</td>\n",
       "      <td>2</td>\n",
       "    </tr>\n",
       "    <tr>\n",
       "      <th>471491</th>\n",
       "      <td>0</td>\n",
       "      <td>0</td>\n",
       "      <td>0</td>\n",
       "      <td>0</td>\n",
       "      <td>0</td>\n",
       "      <td>0</td>\n",
       "      <td>1</td>\n",
       "      <td>2</td>\n",
       "      <td>2</td>\n",
       "      <td>3</td>\n",
       "      <td>...</td>\n",
       "      <td>12.7</td>\n",
       "      <td>0</td>\n",
       "      <td>0</td>\n",
       "      <td>1</td>\n",
       "      <td>1</td>\n",
       "      <td>0</td>\n",
       "      <td>1</td>\n",
       "      <td>1</td>\n",
       "      <td>2</td>\n",
       "      <td>1</td>\n",
       "    </tr>\n",
       "  </tbody>\n",
       "</table>\n",
       "<p>10125 rows × 37 columns</p>\n",
       "</div>"
      ],
      "text/plain": [
       "        Drinks.alcohol  Smoking_stat  Has.refrigerator  Has.bicycle  \\\n",
       "258196               0             0                 1            1   \n",
       "188164               0             0                 0            0   \n",
       "348270               0             0                 1            1   \n",
       "469410               0             0                 1            1   \n",
       "45365                0             0                 1            0   \n",
       "...                ...           ...               ...          ...   \n",
       "398124               1             1                 1            0   \n",
       "351146               0             0                 1            1   \n",
       "363318               0             0                 1            1   \n",
       "62518                0             0                 1            0   \n",
       "471491               0             0                 0            0   \n",
       "\n",
       "        Has.motorcycle.scooter  Has.car.truck  \\\n",
       "258196                       1              0   \n",
       "188164                       1              0   \n",
       "348270                       1              0   \n",
       "469410                       1              0   \n",
       "45365                        0              0   \n",
       "...                        ...            ...   \n",
       "398124                       0              0   \n",
       "351146                       1              0   \n",
       "363318                       0              0   \n",
       "62518                        1              1   \n",
       "471491                       0              0   \n",
       "\n",
       "        Owns.livestock..herds.or.farm.animals  Frequency.takes.milk.or.curd  \\\n",
       "258196                                      0                             2   \n",
       "188164                                      1                             2   \n",
       "348270                                      0                             2   \n",
       "469410                                      1                             2   \n",
       "45365                                       0                             0   \n",
       "...                                       ...                           ...   \n",
       "398124                                      0                             3   \n",
       "351146                                      1                             3   \n",
       "363318                                      0                             3   \n",
       "62518                                       0                             3   \n",
       "471491                                      1                             2   \n",
       "\n",
       "        Frequency.eats.pulses.or.beans  \\\n",
       "258196                               2   \n",
       "188164                               3   \n",
       "348270                               2   \n",
       "469410                               2   \n",
       "45365                                2   \n",
       "...                                ...   \n",
       "398124                               2   \n",
       "351146                               1   \n",
       "363318                               2   \n",
       "62518                                3   \n",
       "471491                               2   \n",
       "\n",
       "        Frequency.eats.dark.green.leafy.vegetable  ...  \\\n",
       "258196                                          1  ...   \n",
       "188164                                          3  ...   \n",
       "348270                                          3  ...   \n",
       "469410                                          2  ...   \n",
       "45365                                           3  ...   \n",
       "...                                           ...  ...   \n",
       "398124                                          2  ...   \n",
       "351146                                          2  ...   \n",
       "363318                                          3  ...   \n",
       "62518                                           3  ...   \n",
       "471491                                          3  ...   \n",
       "\n",
       "        Hemoglobin.level..g.dl...1.decimal.  \\\n",
       "258196                                 11.1   \n",
       "188164                                 10.9   \n",
       "348270                                 12.3   \n",
       "469410                                  7.8   \n",
       "45365                                  12.6   \n",
       "...                                     ...   \n",
       "398124                                 15.4   \n",
       "351146                                 12.9   \n",
       "363318                                 15.5   \n",
       "62518                                  13.4   \n",
       "471491                                 12.7   \n",
       "\n",
       "        Time.to.get.to.water.source..minutes.  Household.head.s.religion  Sex  \\\n",
       "258196                                     10                          0    1   \n",
       "188164                                     30                          0    1   \n",
       "348270                                      0                          1    1   \n",
       "469410                                     10                          0    1   \n",
       "45365                                       0                          1    1   \n",
       "...                                       ...                        ...  ...   \n",
       "398124                                     10                          0    0   \n",
       "351146                                      0                          3    1   \n",
       "363318                                      0                          0    1   \n",
       "62518                                       0                          0    1   \n",
       "471491                                      0                          0    1   \n",
       "\n",
       "        Type.of.place.of.residence  Household.structure  \\\n",
       "258196                           1                    0   \n",
       "188164                           1                    0   \n",
       "348270                           0                    0   \n",
       "469410                           1                    0   \n",
       "45365                            0                    1   \n",
       "...                            ...                  ...   \n",
       "398124                           0                    0   \n",
       "351146                           1                    0   \n",
       "363318                           0                    0   \n",
       "62518                            0                    1   \n",
       "471491                           1                    0   \n",
       "\n",
       "        Type.of.caste.or.tribe.of.the.household.head  Type.of.cooking.fuel  \\\n",
       "258196                                             4                     3   \n",
       "188164                                             1                     1   \n",
       "348270                                             1                     3   \n",
       "469410                                             1                     3   \n",
       "45365                                              1                     3   \n",
       "...                                              ...                   ...   \n",
       "398124                                             4                     3   \n",
       "351146                                             4                     1   \n",
       "363318                                             2                     3   \n",
       "62518                                              2                     3   \n",
       "471491                                             1                     1   \n",
       "\n",
       "        Source.of.drinking.water  Target  \n",
       "258196                         4       3  \n",
       "188164                         3       1  \n",
       "348270                         3       2  \n",
       "469410                         2       3  \n",
       "45365                          3       1  \n",
       "...                          ...     ...  \n",
       "398124                         4       3  \n",
       "351146                         3       1  \n",
       "363318                         2       2  \n",
       "62518                          3       2  \n",
       "471491                         2       1  \n",
       "\n",
       "[10125 rows x 37 columns]"
      ]
     },
     "execution_count": 19,
     "metadata": {},
     "output_type": "execute_result"
    }
   ],
   "source": [
    "data"
   ]
  },
  {
   "cell_type": "markdown",
   "id": "ba45aa63-9335-40e5-9904-fb70e7a04fe7",
   "metadata": {},
   "source": [
    "### Train-val split"
   ]
  },
  {
   "cell_type": "code",
   "execution_count": 20,
   "id": "baebcbc7-8504-450b-af5b-aa18b85955b8",
   "metadata": {},
   "outputs": [],
   "source": [
    "# Using Skicit-learn to split data into training and testing sets\n",
    "from sklearn.model_selection import train_test_split\n",
    "np.random.seed(42)\n",
    "# Split the data into training and testing sets\n",
    "train_features, test_features, train_labels, test_labels = train_test_split(np.array(data.drop([\"Target\"],axis=1)), np.array(cluster_list), test_size = 0.25, random_state = 42)"
   ]
  },
  {
   "cell_type": "markdown",
   "id": "50391cb0-eb23-45e8-9d6b-068c1c86c6e7",
   "metadata": {},
   "source": [
    "### Gradient boosting classifier for original traing data (Model-1)"
   ]
  },
  {
   "cell_type": "code",
   "execution_count": 21,
   "id": "15750348-21ad-4cdb-b33b-905583a1c314",
   "metadata": {
    "scrolled": true
   },
   "outputs": [],
   "source": [
    "from sklearn.ensemble import GradientBoostingClassifier\n",
    "np.random.seed(42)\n",
    "model_1 = GradientBoostingClassifier(n_estimators=20, learning_rate=0.5, max_features=2, max_depth=2, random_state=42)\n"
   ]
  },
  {
   "cell_type": "code",
   "execution_count": 22,
   "id": "85fbb50a",
   "metadata": {},
   "outputs": [
    {
     "name": "stdout",
     "output_type": "stream",
     "text": [
      "[0.88610928 0.87491771 0.8676761  0.87022398 0.86495389]\n",
      "Avg : 0.872776191950706\n"
     ]
    }
   ],
   "source": [
    "from sklearn.model_selection import cross_val_score\n",
    "score_lr=cross_val_score(model_1, train_features, train_labels,cv=5)\n",
    "print(score_lr)\n",
    "print(\"Avg :\",np.average(score_lr))"
   ]
  },
  {
   "cell_type": "code",
   "execution_count": 23,
   "id": "dd457467",
   "metadata": {},
   "outputs": [
    {
     "data": {
      "text/html": [
       "<style>#sk-container-id-1 {color: black;background-color: white;}#sk-container-id-1 pre{padding: 0;}#sk-container-id-1 div.sk-toggleable {background-color: white;}#sk-container-id-1 label.sk-toggleable__label {cursor: pointer;display: block;width: 100%;margin-bottom: 0;padding: 0.3em;box-sizing: border-box;text-align: center;}#sk-container-id-1 label.sk-toggleable__label-arrow:before {content: \"▸\";float: left;margin-right: 0.25em;color: #696969;}#sk-container-id-1 label.sk-toggleable__label-arrow:hover:before {color: black;}#sk-container-id-1 div.sk-estimator:hover label.sk-toggleable__label-arrow:before {color: black;}#sk-container-id-1 div.sk-toggleable__content {max-height: 0;max-width: 0;overflow: hidden;text-align: left;background-color: #f0f8ff;}#sk-container-id-1 div.sk-toggleable__content pre {margin: 0.2em;color: black;border-radius: 0.25em;background-color: #f0f8ff;}#sk-container-id-1 input.sk-toggleable__control:checked~div.sk-toggleable__content {max-height: 200px;max-width: 100%;overflow: auto;}#sk-container-id-1 input.sk-toggleable__control:checked~label.sk-toggleable__label-arrow:before {content: \"▾\";}#sk-container-id-1 div.sk-estimator input.sk-toggleable__control:checked~label.sk-toggleable__label {background-color: #d4ebff;}#sk-container-id-1 div.sk-label input.sk-toggleable__control:checked~label.sk-toggleable__label {background-color: #d4ebff;}#sk-container-id-1 input.sk-hidden--visually {border: 0;clip: rect(1px 1px 1px 1px);clip: rect(1px, 1px, 1px, 1px);height: 1px;margin: -1px;overflow: hidden;padding: 0;position: absolute;width: 1px;}#sk-container-id-1 div.sk-estimator {font-family: monospace;background-color: #f0f8ff;border: 1px dotted black;border-radius: 0.25em;box-sizing: border-box;margin-bottom: 0.5em;}#sk-container-id-1 div.sk-estimator:hover {background-color: #d4ebff;}#sk-container-id-1 div.sk-parallel-item::after {content: \"\";width: 100%;border-bottom: 1px solid gray;flex-grow: 1;}#sk-container-id-1 div.sk-label:hover label.sk-toggleable__label {background-color: #d4ebff;}#sk-container-id-1 div.sk-serial::before {content: \"\";position: absolute;border-left: 1px solid gray;box-sizing: border-box;top: 0;bottom: 0;left: 50%;z-index: 0;}#sk-container-id-1 div.sk-serial {display: flex;flex-direction: column;align-items: center;background-color: white;padding-right: 0.2em;padding-left: 0.2em;position: relative;}#sk-container-id-1 div.sk-item {position: relative;z-index: 1;}#sk-container-id-1 div.sk-parallel {display: flex;align-items: stretch;justify-content: center;background-color: white;position: relative;}#sk-container-id-1 div.sk-item::before, #sk-container-id-1 div.sk-parallel-item::before {content: \"\";position: absolute;border-left: 1px solid gray;box-sizing: border-box;top: 0;bottom: 0;left: 50%;z-index: -1;}#sk-container-id-1 div.sk-parallel-item {display: flex;flex-direction: column;z-index: 1;position: relative;background-color: white;}#sk-container-id-1 div.sk-parallel-item:first-child::after {align-self: flex-end;width: 50%;}#sk-container-id-1 div.sk-parallel-item:last-child::after {align-self: flex-start;width: 50%;}#sk-container-id-1 div.sk-parallel-item:only-child::after {width: 0;}#sk-container-id-1 div.sk-dashed-wrapped {border: 1px dashed gray;margin: 0 0.4em 0.5em 0.4em;box-sizing: border-box;padding-bottom: 0.4em;background-color: white;}#sk-container-id-1 div.sk-label label {font-family: monospace;font-weight: bold;display: inline-block;line-height: 1.2em;}#sk-container-id-1 div.sk-label-container {text-align: center;}#sk-container-id-1 div.sk-container {/* jupyter's `normalize.less` sets `[hidden] { display: none; }` but bootstrap.min.css set `[hidden] { display: none !important; }` so we also need the `!important` here to be able to override the default hidden behavior on the sphinx rendered scikit-learn.org. See: https://github.com/scikit-learn/scikit-learn/issues/21755 */display: inline-block !important;position: relative;}#sk-container-id-1 div.sk-text-repr-fallback {display: none;}</style><div id=\"sk-container-id-1\" class=\"sk-top-container\"><div class=\"sk-text-repr-fallback\"><pre>GradientBoostingClassifier(learning_rate=0.5, max_depth=2, max_features=2,\n",
       "                           n_estimators=20, random_state=42)</pre><b>In a Jupyter environment, please rerun this cell to show the HTML representation or trust the notebook. <br />On GitHub, the HTML representation is unable to render, please try loading this page with nbviewer.org.</b></div><div class=\"sk-container\" hidden><div class=\"sk-item\"><div class=\"sk-estimator sk-toggleable\"><input class=\"sk-toggleable__control sk-hidden--visually\" id=\"sk-estimator-id-1\" type=\"checkbox\" checked><label for=\"sk-estimator-id-1\" class=\"sk-toggleable__label sk-toggleable__label-arrow\">GradientBoostingClassifier</label><div class=\"sk-toggleable__content\"><pre>GradientBoostingClassifier(learning_rate=0.5, max_depth=2, max_features=2,\n",
       "                           n_estimators=20, random_state=42)</pre></div></div></div></div></div>"
      ],
      "text/plain": [
       "GradientBoostingClassifier(learning_rate=0.5, max_depth=2, max_features=2,\n",
       "                           n_estimators=20, random_state=42)"
      ]
     },
     "execution_count": 23,
     "metadata": {},
     "output_type": "execute_result"
    }
   ],
   "source": [
    "model_1.fit(train_features,  train_labels)"
   ]
  },
  {
   "cell_type": "markdown",
   "id": "1866bf87-fb4d-424c-b7e7-548c53f04538",
   "metadata": {},
   "source": [
    "### Preparing training data for synthetic data generation"
   ]
  },
  {
   "cell_type": "code",
   "execution_count": 24,
   "id": "4902fa57-8bec-4dd3-8b03-5a54c60ef112",
   "metadata": {},
   "outputs": [],
   "source": [
    "train_features=pd.DataFrame(train_features)"
   ]
  },
  {
   "cell_type": "code",
   "execution_count": 25,
   "id": "322be8ac-b2be-489e-9bb4-884b3e6008f6",
   "metadata": {},
   "outputs": [],
   "source": [
    "train_features[\"Target\"]=train_labels"
   ]
  },
  {
   "cell_type": "code",
   "execution_count": 26,
   "id": "6b99aa96-5f7f-436b-9d31-88d8b976f0ba",
   "metadata": {},
   "outputs": [],
   "source": [
    "values = ['Drinks.alcohol', 'Smoking_stat','Has.refrigerator',\n",
    "       'Has.bicycle', 'Has.motorcycle.scooter', 'Has.car.truck', 'Owns.livestock..herds.or.farm.animals','Frequency.takes.milk.or.curd',\n",
    "       'Frequency.eats.pulses.or.beans',\n",
    "       'Frequency.eats.dark.green.leafy.vegetable', 'Frequency.eats.fruits',\n",
    "       'Frequency.eats.eggs', 'Frequency.eats.fish',\n",
    "       'Frequency.eats.chicken.or.meat', 'Frequency.eats.fried.food',\n",
    "       'Frequency.takes.aerated.drinks','Frequency.household.members.smoke.inside.the.house','Wealth.index',\n",
    "       'Highest.educational.level','Currently.has.asthma','Currently.has.thyroid.disorder','Currently.has.heart.disease',\n",
    "       'Currently.has.cancer', 'Suffers.from.TB','HTN','Current.age','BMI','Hemoglobin.level..g.dl...1.decimal.','Time.to.get.to.water.source..minutes.','Household.head.s.religion', 'Sex', 'Type.of.place.of.residence', 'Household.structure',\n",
    "       'Type.of.caste.or.tribe.of.the.household.head','Type.of.cooking.fuel','Source.of.drinking.water',\"Target\"]"
   ]
  },
  {
   "cell_type": "code",
   "execution_count": 27,
   "id": "59190805-22fe-4c53-839e-19cdb25d60d4",
   "metadata": {},
   "outputs": [],
   "source": [
    "train_features.to_csv('T2DM_training_data(semi_sup).csv',index=False)"
   ]
  },
  {
   "cell_type": "code",
   "execution_count": 28,
   "id": "5d138846-5aac-4ce2-9e1f-4f35c610c8ad",
   "metadata": {},
   "outputs": [],
   "source": [
    "hold_out_data=pd.DataFrame(test_features)\n",
    "hold_out_data['Target']=test_labels\n",
    "hold_out_data.columns=values\n",
    "hold_out_data.to_csv('T2DM_hold_out__data(semi_sup).csv',index=False)"
   ]
  },
  {
   "cell_type": "code",
   "execution_count": 29,
   "id": "b10cec94-21fe-424d-8df1-ca202d096453",
   "metadata": {},
   "outputs": [],
   "source": [
    "dicts = {}\n",
    "for i in range(len(values)):\n",
    "        dicts[values[i]]=i\n"
   ]
  },
  {
   "cell_type": "code",
   "execution_count": 30,
   "id": "e5a31ca1-6158-4174-b987-d4cde25ab557",
   "metadata": {},
   "outputs": [],
   "source": [
    "train_features.rename(columns=dicts,inplace=True)\n"
   ]
  },
  {
   "cell_type": "code",
   "execution_count": 31,
   "id": "4af27809-bf33-4c5e-9c95-8a87672bd8ff",
   "metadata": {},
   "outputs": [
    {
     "data": {
      "text/html": [
       "<div>\n",
       "<style scoped>\n",
       "    .dataframe tbody tr th:only-of-type {\n",
       "        vertical-align: middle;\n",
       "    }\n",
       "\n",
       "    .dataframe tbody tr th {\n",
       "        vertical-align: top;\n",
       "    }\n",
       "\n",
       "    .dataframe thead th {\n",
       "        text-align: right;\n",
       "    }\n",
       "</style>\n",
       "<table border=\"1\" class=\"dataframe\">\n",
       "  <thead>\n",
       "    <tr style=\"text-align: right;\">\n",
       "      <th></th>\n",
       "      <th>0</th>\n",
       "      <th>1</th>\n",
       "      <th>2</th>\n",
       "      <th>3</th>\n",
       "      <th>4</th>\n",
       "      <th>5</th>\n",
       "      <th>6</th>\n",
       "      <th>7</th>\n",
       "      <th>8</th>\n",
       "      <th>9</th>\n",
       "      <th>...</th>\n",
       "      <th>27</th>\n",
       "      <th>28</th>\n",
       "      <th>29</th>\n",
       "      <th>30</th>\n",
       "      <th>31</th>\n",
       "      <th>32</th>\n",
       "      <th>33</th>\n",
       "      <th>34</th>\n",
       "      <th>35</th>\n",
       "      <th>36</th>\n",
       "    </tr>\n",
       "  </thead>\n",
       "  <tbody>\n",
       "    <tr>\n",
       "      <th>0</th>\n",
       "      <td>1.0</td>\n",
       "      <td>0.0</td>\n",
       "      <td>1.0</td>\n",
       "      <td>1.0</td>\n",
       "      <td>1.0</td>\n",
       "      <td>0.0</td>\n",
       "      <td>0.0</td>\n",
       "      <td>3.0</td>\n",
       "      <td>3.0</td>\n",
       "      <td>3.0</td>\n",
       "      <td>...</td>\n",
       "      <td>14.5</td>\n",
       "      <td>0.0</td>\n",
       "      <td>0.0</td>\n",
       "      <td>0.0</td>\n",
       "      <td>1.0</td>\n",
       "      <td>1.0</td>\n",
       "      <td>1.0</td>\n",
       "      <td>3.0</td>\n",
       "      <td>3.0</td>\n",
       "      <td>2</td>\n",
       "    </tr>\n",
       "    <tr>\n",
       "      <th>1</th>\n",
       "      <td>0.0</td>\n",
       "      <td>0.0</td>\n",
       "      <td>0.0</td>\n",
       "      <td>0.0</td>\n",
       "      <td>1.0</td>\n",
       "      <td>0.0</td>\n",
       "      <td>0.0</td>\n",
       "      <td>3.0</td>\n",
       "      <td>1.0</td>\n",
       "      <td>3.0</td>\n",
       "      <td>...</td>\n",
       "      <td>12.1</td>\n",
       "      <td>10.0</td>\n",
       "      <td>0.0</td>\n",
       "      <td>1.0</td>\n",
       "      <td>0.0</td>\n",
       "      <td>1.0</td>\n",
       "      <td>1.0</td>\n",
       "      <td>3.0</td>\n",
       "      <td>3.0</td>\n",
       "      <td>3</td>\n",
       "    </tr>\n",
       "    <tr>\n",
       "      <th>2</th>\n",
       "      <td>0.0</td>\n",
       "      <td>0.0</td>\n",
       "      <td>0.0</td>\n",
       "      <td>1.0</td>\n",
       "      <td>0.0</td>\n",
       "      <td>0.0</td>\n",
       "      <td>0.0</td>\n",
       "      <td>1.0</td>\n",
       "      <td>3.0</td>\n",
       "      <td>3.0</td>\n",
       "      <td>...</td>\n",
       "      <td>11.1</td>\n",
       "      <td>15.0</td>\n",
       "      <td>0.0</td>\n",
       "      <td>1.0</td>\n",
       "      <td>1.0</td>\n",
       "      <td>1.0</td>\n",
       "      <td>4.0</td>\n",
       "      <td>1.0</td>\n",
       "      <td>2.0</td>\n",
       "      <td>3</td>\n",
       "    </tr>\n",
       "    <tr>\n",
       "      <th>3</th>\n",
       "      <td>0.0</td>\n",
       "      <td>0.0</td>\n",
       "      <td>0.0</td>\n",
       "      <td>1.0</td>\n",
       "      <td>0.0</td>\n",
       "      <td>0.0</td>\n",
       "      <td>1.0</td>\n",
       "      <td>1.0</td>\n",
       "      <td>2.0</td>\n",
       "      <td>1.0</td>\n",
       "      <td>...</td>\n",
       "      <td>5.6</td>\n",
       "      <td>30.0</td>\n",
       "      <td>0.0</td>\n",
       "      <td>1.0</td>\n",
       "      <td>1.0</td>\n",
       "      <td>1.0</td>\n",
       "      <td>3.0</td>\n",
       "      <td>1.0</td>\n",
       "      <td>2.0</td>\n",
       "      <td>1</td>\n",
       "    </tr>\n",
       "    <tr>\n",
       "      <th>4</th>\n",
       "      <td>0.0</td>\n",
       "      <td>0.0</td>\n",
       "      <td>0.0</td>\n",
       "      <td>1.0</td>\n",
       "      <td>0.0</td>\n",
       "      <td>0.0</td>\n",
       "      <td>0.0</td>\n",
       "      <td>1.0</td>\n",
       "      <td>3.0</td>\n",
       "      <td>3.0</td>\n",
       "      <td>...</td>\n",
       "      <td>13.4</td>\n",
       "      <td>0.0</td>\n",
       "      <td>0.0</td>\n",
       "      <td>1.0</td>\n",
       "      <td>0.0</td>\n",
       "      <td>1.0</td>\n",
       "      <td>1.0</td>\n",
       "      <td>3.0</td>\n",
       "      <td>3.0</td>\n",
       "      <td>3</td>\n",
       "    </tr>\n",
       "    <tr>\n",
       "      <th>...</th>\n",
       "      <td>...</td>\n",
       "      <td>...</td>\n",
       "      <td>...</td>\n",
       "      <td>...</td>\n",
       "      <td>...</td>\n",
       "      <td>...</td>\n",
       "      <td>...</td>\n",
       "      <td>...</td>\n",
       "      <td>...</td>\n",
       "      <td>...</td>\n",
       "      <td>...</td>\n",
       "      <td>...</td>\n",
       "      <td>...</td>\n",
       "      <td>...</td>\n",
       "      <td>...</td>\n",
       "      <td>...</td>\n",
       "      <td>...</td>\n",
       "      <td>...</td>\n",
       "      <td>...</td>\n",
       "      <td>...</td>\n",
       "      <td>...</td>\n",
       "    </tr>\n",
       "    <tr>\n",
       "      <th>7588</th>\n",
       "      <td>0.0</td>\n",
       "      <td>0.0</td>\n",
       "      <td>1.0</td>\n",
       "      <td>1.0</td>\n",
       "      <td>1.0</td>\n",
       "      <td>1.0</td>\n",
       "      <td>1.0</td>\n",
       "      <td>0.0</td>\n",
       "      <td>3.0</td>\n",
       "      <td>3.0</td>\n",
       "      <td>...</td>\n",
       "      <td>13.7</td>\n",
       "      <td>0.0</td>\n",
       "      <td>0.0</td>\n",
       "      <td>0.0</td>\n",
       "      <td>1.0</td>\n",
       "      <td>1.0</td>\n",
       "      <td>4.0</td>\n",
       "      <td>3.0</td>\n",
       "      <td>3.0</td>\n",
       "      <td>2</td>\n",
       "    </tr>\n",
       "    <tr>\n",
       "      <th>7589</th>\n",
       "      <td>0.0</td>\n",
       "      <td>0.0</td>\n",
       "      <td>0.0</td>\n",
       "      <td>1.0</td>\n",
       "      <td>0.0</td>\n",
       "      <td>0.0</td>\n",
       "      <td>1.0</td>\n",
       "      <td>1.0</td>\n",
       "      <td>2.0</td>\n",
       "      <td>3.0</td>\n",
       "      <td>...</td>\n",
       "      <td>11.2</td>\n",
       "      <td>2.0</td>\n",
       "      <td>0.0</td>\n",
       "      <td>1.0</td>\n",
       "      <td>1.0</td>\n",
       "      <td>1.0</td>\n",
       "      <td>2.0</td>\n",
       "      <td>1.0</td>\n",
       "      <td>2.0</td>\n",
       "      <td>0</td>\n",
       "    </tr>\n",
       "    <tr>\n",
       "      <th>7590</th>\n",
       "      <td>0.0</td>\n",
       "      <td>0.0</td>\n",
       "      <td>0.0</td>\n",
       "      <td>0.0</td>\n",
       "      <td>0.0</td>\n",
       "      <td>0.0</td>\n",
       "      <td>0.0</td>\n",
       "      <td>2.0</td>\n",
       "      <td>3.0</td>\n",
       "      <td>3.0</td>\n",
       "      <td>...</td>\n",
       "      <td>9.6</td>\n",
       "      <td>0.0</td>\n",
       "      <td>0.0</td>\n",
       "      <td>1.0</td>\n",
       "      <td>0.0</td>\n",
       "      <td>1.0</td>\n",
       "      <td>4.0</td>\n",
       "      <td>3.0</td>\n",
       "      <td>4.0</td>\n",
       "      <td>1</td>\n",
       "    </tr>\n",
       "    <tr>\n",
       "      <th>7591</th>\n",
       "      <td>0.0</td>\n",
       "      <td>0.0</td>\n",
       "      <td>0.0</td>\n",
       "      <td>0.0</td>\n",
       "      <td>0.0</td>\n",
       "      <td>0.0</td>\n",
       "      <td>0.0</td>\n",
       "      <td>1.0</td>\n",
       "      <td>3.0</td>\n",
       "      <td>3.0</td>\n",
       "      <td>...</td>\n",
       "      <td>13.1</td>\n",
       "      <td>30.0</td>\n",
       "      <td>0.0</td>\n",
       "      <td>1.0</td>\n",
       "      <td>1.0</td>\n",
       "      <td>1.0</td>\n",
       "      <td>2.0</td>\n",
       "      <td>1.0</td>\n",
       "      <td>2.0</td>\n",
       "      <td>1</td>\n",
       "    </tr>\n",
       "    <tr>\n",
       "      <th>7592</th>\n",
       "      <td>0.0</td>\n",
       "      <td>0.0</td>\n",
       "      <td>0.0</td>\n",
       "      <td>0.0</td>\n",
       "      <td>0.0</td>\n",
       "      <td>0.0</td>\n",
       "      <td>0.0</td>\n",
       "      <td>0.0</td>\n",
       "      <td>3.0</td>\n",
       "      <td>1.0</td>\n",
       "      <td>...</td>\n",
       "      <td>11.0</td>\n",
       "      <td>10.0</td>\n",
       "      <td>0.0</td>\n",
       "      <td>1.0</td>\n",
       "      <td>1.0</td>\n",
       "      <td>0.0</td>\n",
       "      <td>4.0</td>\n",
       "      <td>1.0</td>\n",
       "      <td>2.0</td>\n",
       "      <td>3</td>\n",
       "    </tr>\n",
       "  </tbody>\n",
       "</table>\n",
       "<p>7593 rows × 37 columns</p>\n",
       "</div>"
      ],
      "text/plain": [
       "       0    1    2    3    4    5    6    7    8    9   ...    27    28   29  \\\n",
       "0     1.0  0.0  1.0  1.0  1.0  0.0  0.0  3.0  3.0  3.0  ...  14.5   0.0  0.0   \n",
       "1     0.0  0.0  0.0  0.0  1.0  0.0  0.0  3.0  1.0  3.0  ...  12.1  10.0  0.0   \n",
       "2     0.0  0.0  0.0  1.0  0.0  0.0  0.0  1.0  3.0  3.0  ...  11.1  15.0  0.0   \n",
       "3     0.0  0.0  0.0  1.0  0.0  0.0  1.0  1.0  2.0  1.0  ...   5.6  30.0  0.0   \n",
       "4     0.0  0.0  0.0  1.0  0.0  0.0  0.0  1.0  3.0  3.0  ...  13.4   0.0  0.0   \n",
       "...   ...  ...  ...  ...  ...  ...  ...  ...  ...  ...  ...   ...   ...  ...   \n",
       "7588  0.0  0.0  1.0  1.0  1.0  1.0  1.0  0.0  3.0  3.0  ...  13.7   0.0  0.0   \n",
       "7589  0.0  0.0  0.0  1.0  0.0  0.0  1.0  1.0  2.0  3.0  ...  11.2   2.0  0.0   \n",
       "7590  0.0  0.0  0.0  0.0  0.0  0.0  0.0  2.0  3.0  3.0  ...   9.6   0.0  0.0   \n",
       "7591  0.0  0.0  0.0  0.0  0.0  0.0  0.0  1.0  3.0  3.0  ...  13.1  30.0  0.0   \n",
       "7592  0.0  0.0  0.0  0.0  0.0  0.0  0.0  0.0  3.0  1.0  ...  11.0  10.0  0.0   \n",
       "\n",
       "       30   31   32   33   34   35  36  \n",
       "0     0.0  1.0  1.0  1.0  3.0  3.0   2  \n",
       "1     1.0  0.0  1.0  1.0  3.0  3.0   3  \n",
       "2     1.0  1.0  1.0  4.0  1.0  2.0   3  \n",
       "3     1.0  1.0  1.0  3.0  1.0  2.0   1  \n",
       "4     1.0  0.0  1.0  1.0  3.0  3.0   3  \n",
       "...   ...  ...  ...  ...  ...  ...  ..  \n",
       "7588  0.0  1.0  1.0  4.0  3.0  3.0   2  \n",
       "7589  1.0  1.0  1.0  2.0  1.0  2.0   0  \n",
       "7590  1.0  0.0  1.0  4.0  3.0  4.0   1  \n",
       "7591  1.0  1.0  1.0  2.0  1.0  2.0   1  \n",
       "7592  1.0  1.0  0.0  4.0  1.0  2.0   3  \n",
       "\n",
       "[7593 rows x 37 columns]"
      ]
     },
     "execution_count": 31,
     "metadata": {},
     "output_type": "execute_result"
    }
   ],
   "source": [
    "train_features"
   ]
  },
  {
   "cell_type": "markdown",
   "id": "d4a943c9",
   "metadata": {},
   "source": [
    "## NextConvGen"
   ]
  },
  {
   "cell_type": "markdown",
   "id": "e9320149-e3c5-4dde-a452-1d2fa9ce9c65",
   "metadata": {},
   "source": [
    "### FDC for searcing neighbors for synthetic data generation"
   ]
  },
  {
   "cell_type": "code",
   "execution_count": 32,
   "id": "a02579bd-56a4-445b-acfd-28f7d6b7c9d2",
   "metadata": {},
   "outputs": [],
   "source": [
    "from fdc.fdc import feature_clustering, canberra_modified, Clustering, FDC\n",
    "np.random.seed(42)\n",
    "fdc = FDC()\n",
    "fdc.ord_list=list(range(data.shape[1]))[:25]\n",
    "fdc.nom_list = list(range(data.shape[1]))[29:]\n",
    "fdc.cont_list =list(range(data.shape[1]))[25:29]"
   ]
  },
  {
   "cell_type": "code",
   "execution_count": 33,
   "id": "8c19cc2c-2ba9-44d4-a296-7dbbd2f21190",
   "metadata": {},
   "outputs": [],
   "source": [
    "train_features=np.array(train_features)"
   ]
  },
  {
   "cell_type": "markdown",
   "id": "e00c0f28-1f1a-42c8-bfa7-6a7e197f69eb",
   "metadata": {},
   "source": [
    "### Preapring and training NextConvGen model"
   ]
  },
  {
   "cell_type": "code",
   "execution_count": 34,
   "id": "e1915d60-5e96-40c4-94a5-c6f2879050f7",
   "metadata": {},
   "outputs": [],
   "source": [
    "gen = NextConvGeN(train_features.shape[1], neb=5, fdc=fdc)"
   ]
  },
  {
   "cell_type": "code",
   "execution_count": 35,
   "id": "213fc23f-57a7-46e4-98ce-b3c280c88658",
   "metadata": {},
   "outputs": [
    {
     "name": "stderr",
     "output_type": "stream",
     "text": [
      "2023-04-11 16:59:49.247481: W tensorflow/stream_executor/platform/default/dso_loader.cc:64] Could not load dynamic library 'libcuda.so.1'; dlerror: libcuda.so.1: cannot open shared object file: No such file or directory\n",
      "2023-04-11 16:59:49.247500: W tensorflow/stream_executor/cuda/cuda_driver.cc:269] failed call to cuInit: UNKNOWN ERROR (303)\n",
      "2023-04-11 16:59:49.247518: I tensorflow/stream_executor/cuda/cuda_diagnostics.cc:156] kernel driver does not appear to be running on this host (f61d203ff696): /proc/driver/nvidia/version does not exist\n",
      "2023-04-11 16:59:49.247671: I tensorflow/core/platform/cpu_feature_guard.cc:151] This TensorFlow binary is optimized with oneAPI Deep Neural Network Library (oneDNN) to use the following CPU instructions in performance-critical operations:  AVX2 FMA\n",
      "To enable them in other operations, rebuild TensorFlow with the appropriate compiler flags.\n"
     ]
    }
   ],
   "source": [
    "gen.reset(train_features)"
   ]
  },
  {
   "cell_type": "code",
   "execution_count": 36,
   "id": "c375e689-0b2f-4bf3-89db-5099dcf61c45",
   "metadata": {},
   "outputs": [
    {
     "name": "stdout",
     "output_type": "stream",
     "text": [
      "FDC.normalize (init): 0.00001 / 0.000s\n",
      "FDC.normalize (clustering CONT): 17.20484 / 17.205s\n",
      "FDC.normalize (clustering ORD): 65.87411 / 83.079s\n",
      "FDC.normalize (clustering NOM): 40.20649 / 123.285s\n",
      "FDC.normalize (concat): 0.00052 / 123.286s\n",
      "FDC.normalize (total): 0.00001 / 123.286s\n",
      "|N| = (7593, 5)\n",
      "|D| = (7593, 37)\n",
      "[==========] [======    ] [======    ]\r"
     ]
    }
   ],
   "source": [
    "from fdc.fdc import feature_clustering, canberra_modified, Clustering, FDC\n",
    "np.random.seed(42)\n",
    "gen.train(train_features)"
   ]
  },
  {
   "cell_type": "markdown",
   "id": "0fd2fd7a-6a7d-4f60-a92f-8962292a1f79",
   "metadata": {},
   "source": [
    "### Generating 20000 synthetic points and randomly selecting the same legth of original training points for evaluation"
   ]
  },
  {
   "cell_type": "code",
   "execution_count": 37,
   "id": "4311a7fd-a690-4503-87c2-fac3f7a53a1d",
   "metadata": {},
   "outputs": [],
   "source": [
    "from fdc.NN_models import *\n",
    "np.random.seed(42)\n",
    "syn_train_data = syn_data_gen(gen,20000,values)"
   ]
  },
  {
   "cell_type": "code",
   "execution_count": 38,
   "id": "a3842328-9c3c-4c6d-8772-b110c539185d",
   "metadata": {},
   "outputs": [],
   "source": [
    "def balanced_synthetic_data(org_data,syn_data):\n",
    "    import math\n",
    "    org_data_len = org_data.shape[0]\n",
    "    class_counts = org_data.iloc[:,-1].value_counts()\n",
    "    column_names = list( syn_data.columns)\n",
    "    df_list=[]\n",
    "    for i in range(len(class_counts)):\n",
    "        m = len(syn_data[syn_data['Target']==i])\n",
    "\n",
    "        if m < class_counts[i]:\n",
    "            run=math.ceil(class_counts[i]/m)\n",
    "            syn_data = syn_data_gen(gen,org_data_len*run,values)\n",
    "        c_i=syn_data[syn_data['Target']==i].sample(n=int(class_counts[i]),axis=0,random_state=42)\n",
    "        df_list.append(c_i)\n",
    "    balanced_df=pd.concat(df_list,names=column_names)\n",
    "    return balanced_df"
   ]
  },
  {
   "cell_type": "code",
   "execution_count": 39,
   "id": "ff866903-5ef8-4fd5-a441-fa88ce1726c0",
   "metadata": {},
   "outputs": [],
   "source": [
    "syn_train_data=balanced_synthetic_data(pd.DataFrame(train_features),syn_train_data)"
   ]
  },
  {
   "cell_type": "code",
   "execution_count": 40,
   "id": "b2efa935-52e0-4571-a000-b5a7348f5757",
   "metadata": {},
   "outputs": [
    {
     "data": {
      "text/plain": [
       "0.0    1898\n",
       "1.0    1898\n",
       "2.0    1898\n",
       "3.0    1898\n",
       "Name: Target, dtype: int64"
      ]
     },
     "execution_count": 40,
     "metadata": {},
     "output_type": "execute_result"
    }
   ],
   "source": [
    "syn_train_data['Target'].value_counts()"
   ]
  },
  {
   "cell_type": "code",
   "execution_count": 41,
   "id": "7f58ebdd-8627-46af-b397-18e4e1255d54",
   "metadata": {},
   "outputs": [],
   "source": [
    "syn_train_data.to_csv('T2DM_NextConvGen_syn_data.csv',index=False)"
   ]
  },
  {
   "cell_type": "code",
   "execution_count": 42,
   "id": "e5556ddb-6750-4861-a142-9e0fc2589883",
   "metadata": {},
   "outputs": [],
   "source": [
    "np.random.seed(42)\n",
    "syn_train_data=syn_train_data.sample(frac=1) #Shuffle the data set\n",
    "np.random.seed(42)\n",
    "i=[x for x in range(np.shape(syn_train_data)[0])]\n",
    "\n",
    "syn_train_data.set_index(pd.Series(i), inplace=True)"
   ]
  },
  {
   "cell_type": "code",
   "execution_count": 43,
   "id": "e7f5d292-1570-46cc-8c6f-ff798207a4c2",
   "metadata": {},
   "outputs": [
    {
     "data": {
      "text/html": [
       "<div>\n",
       "<style scoped>\n",
       "    .dataframe tbody tr th:only-of-type {\n",
       "        vertical-align: middle;\n",
       "    }\n",
       "\n",
       "    .dataframe tbody tr th {\n",
       "        vertical-align: top;\n",
       "    }\n",
       "\n",
       "    .dataframe thead th {\n",
       "        text-align: right;\n",
       "    }\n",
       "</style>\n",
       "<table border=\"1\" class=\"dataframe\">\n",
       "  <thead>\n",
       "    <tr style=\"text-align: right;\">\n",
       "      <th></th>\n",
       "      <th>Drinks.alcohol</th>\n",
       "      <th>Smoking_stat</th>\n",
       "      <th>Has.refrigerator</th>\n",
       "      <th>Has.bicycle</th>\n",
       "      <th>Has.motorcycle.scooter</th>\n",
       "      <th>Has.car.truck</th>\n",
       "      <th>Owns.livestock..herds.or.farm.animals</th>\n",
       "      <th>Frequency.takes.milk.or.curd</th>\n",
       "      <th>Frequency.eats.pulses.or.beans</th>\n",
       "      <th>Frequency.eats.dark.green.leafy.vegetable</th>\n",
       "      <th>...</th>\n",
       "      <th>Hemoglobin.level..g.dl...1.decimal.</th>\n",
       "      <th>Time.to.get.to.water.source..minutes.</th>\n",
       "      <th>Household.head.s.religion</th>\n",
       "      <th>Sex</th>\n",
       "      <th>Type.of.place.of.residence</th>\n",
       "      <th>Household.structure</th>\n",
       "      <th>Type.of.caste.or.tribe.of.the.household.head</th>\n",
       "      <th>Type.of.cooking.fuel</th>\n",
       "      <th>Source.of.drinking.water</th>\n",
       "      <th>Target</th>\n",
       "    </tr>\n",
       "  </thead>\n",
       "  <tbody>\n",
       "    <tr>\n",
       "      <th>0</th>\n",
       "      <td>0.0</td>\n",
       "      <td>0.0</td>\n",
       "      <td>0.0</td>\n",
       "      <td>1.0</td>\n",
       "      <td>0.0</td>\n",
       "      <td>0.0</td>\n",
       "      <td>0.0</td>\n",
       "      <td>2.0</td>\n",
       "      <td>2.0</td>\n",
       "      <td>3.0</td>\n",
       "      <td>...</td>\n",
       "      <td>10.126158</td>\n",
       "      <td>0.000000</td>\n",
       "      <td>1.0</td>\n",
       "      <td>1.0</td>\n",
       "      <td>1.0</td>\n",
       "      <td>0.0</td>\n",
       "      <td>4.0</td>\n",
       "      <td>1.0</td>\n",
       "      <td>3.0</td>\n",
       "      <td>0.0</td>\n",
       "    </tr>\n",
       "    <tr>\n",
       "      <th>1</th>\n",
       "      <td>0.0</td>\n",
       "      <td>0.0</td>\n",
       "      <td>1.0</td>\n",
       "      <td>0.0</td>\n",
       "      <td>1.0</td>\n",
       "      <td>0.0</td>\n",
       "      <td>0.0</td>\n",
       "      <td>3.0</td>\n",
       "      <td>2.0</td>\n",
       "      <td>2.0</td>\n",
       "      <td>...</td>\n",
       "      <td>9.868422</td>\n",
       "      <td>0.000000</td>\n",
       "      <td>0.0</td>\n",
       "      <td>1.0</td>\n",
       "      <td>0.0</td>\n",
       "      <td>1.0</td>\n",
       "      <td>1.0</td>\n",
       "      <td>3.0</td>\n",
       "      <td>2.0</td>\n",
       "      <td>2.0</td>\n",
       "    </tr>\n",
       "    <tr>\n",
       "      <th>2</th>\n",
       "      <td>0.0</td>\n",
       "      <td>0.0</td>\n",
       "      <td>0.0</td>\n",
       "      <td>1.0</td>\n",
       "      <td>1.0</td>\n",
       "      <td>0.0</td>\n",
       "      <td>1.0</td>\n",
       "      <td>1.0</td>\n",
       "      <td>2.0</td>\n",
       "      <td>2.0</td>\n",
       "      <td>...</td>\n",
       "      <td>12.571859</td>\n",
       "      <td>16.787531</td>\n",
       "      <td>0.0</td>\n",
       "      <td>1.0</td>\n",
       "      <td>1.0</td>\n",
       "      <td>1.0</td>\n",
       "      <td>4.0</td>\n",
       "      <td>1.0</td>\n",
       "      <td>1.0</td>\n",
       "      <td>3.0</td>\n",
       "    </tr>\n",
       "    <tr>\n",
       "      <th>3</th>\n",
       "      <td>0.0</td>\n",
       "      <td>0.0</td>\n",
       "      <td>0.0</td>\n",
       "      <td>1.0</td>\n",
       "      <td>0.0</td>\n",
       "      <td>0.0</td>\n",
       "      <td>0.0</td>\n",
       "      <td>1.0</td>\n",
       "      <td>2.0</td>\n",
       "      <td>2.0</td>\n",
       "      <td>...</td>\n",
       "      <td>12.398946</td>\n",
       "      <td>0.000000</td>\n",
       "      <td>0.0</td>\n",
       "      <td>1.0</td>\n",
       "      <td>0.0</td>\n",
       "      <td>1.0</td>\n",
       "      <td>1.0</td>\n",
       "      <td>3.0</td>\n",
       "      <td>3.0</td>\n",
       "      <td>2.0</td>\n",
       "    </tr>\n",
       "    <tr>\n",
       "      <th>4</th>\n",
       "      <td>0.0</td>\n",
       "      <td>0.0</td>\n",
       "      <td>0.0</td>\n",
       "      <td>1.0</td>\n",
       "      <td>0.0</td>\n",
       "      <td>0.0</td>\n",
       "      <td>1.0</td>\n",
       "      <td>2.0</td>\n",
       "      <td>2.0</td>\n",
       "      <td>3.0</td>\n",
       "      <td>...</td>\n",
       "      <td>14.342728</td>\n",
       "      <td>5.612651</td>\n",
       "      <td>0.0</td>\n",
       "      <td>1.0</td>\n",
       "      <td>1.0</td>\n",
       "      <td>1.0</td>\n",
       "      <td>2.0</td>\n",
       "      <td>2.0</td>\n",
       "      <td>2.0</td>\n",
       "      <td>0.0</td>\n",
       "    </tr>\n",
       "    <tr>\n",
       "      <th>...</th>\n",
       "      <td>...</td>\n",
       "      <td>...</td>\n",
       "      <td>...</td>\n",
       "      <td>...</td>\n",
       "      <td>...</td>\n",
       "      <td>...</td>\n",
       "      <td>...</td>\n",
       "      <td>...</td>\n",
       "      <td>...</td>\n",
       "      <td>...</td>\n",
       "      <td>...</td>\n",
       "      <td>...</td>\n",
       "      <td>...</td>\n",
       "      <td>...</td>\n",
       "      <td>...</td>\n",
       "      <td>...</td>\n",
       "      <td>...</td>\n",
       "      <td>...</td>\n",
       "      <td>...</td>\n",
       "      <td>...</td>\n",
       "      <td>...</td>\n",
       "    </tr>\n",
       "    <tr>\n",
       "      <th>7587</th>\n",
       "      <td>0.0</td>\n",
       "      <td>0.0</td>\n",
       "      <td>1.0</td>\n",
       "      <td>1.0</td>\n",
       "      <td>1.0</td>\n",
       "      <td>0.0</td>\n",
       "      <td>0.0</td>\n",
       "      <td>3.0</td>\n",
       "      <td>3.0</td>\n",
       "      <td>3.0</td>\n",
       "      <td>...</td>\n",
       "      <td>11.876696</td>\n",
       "      <td>0.000000</td>\n",
       "      <td>1.0</td>\n",
       "      <td>1.0</td>\n",
       "      <td>0.0</td>\n",
       "      <td>0.0</td>\n",
       "      <td>1.0</td>\n",
       "      <td>3.0</td>\n",
       "      <td>3.0</td>\n",
       "      <td>2.0</td>\n",
       "    </tr>\n",
       "    <tr>\n",
       "      <th>7588</th>\n",
       "      <td>0.0</td>\n",
       "      <td>0.0</td>\n",
       "      <td>1.0</td>\n",
       "      <td>1.0</td>\n",
       "      <td>1.0</td>\n",
       "      <td>0.0</td>\n",
       "      <td>0.0</td>\n",
       "      <td>3.0</td>\n",
       "      <td>3.0</td>\n",
       "      <td>3.0</td>\n",
       "      <td>...</td>\n",
       "      <td>13.159216</td>\n",
       "      <td>0.000000</td>\n",
       "      <td>1.0</td>\n",
       "      <td>1.0</td>\n",
       "      <td>0.0</td>\n",
       "      <td>0.0</td>\n",
       "      <td>1.0</td>\n",
       "      <td>1.0</td>\n",
       "      <td>3.0</td>\n",
       "      <td>2.0</td>\n",
       "    </tr>\n",
       "    <tr>\n",
       "      <th>7589</th>\n",
       "      <td>0.0</td>\n",
       "      <td>0.0</td>\n",
       "      <td>1.0</td>\n",
       "      <td>1.0</td>\n",
       "      <td>1.0</td>\n",
       "      <td>0.0</td>\n",
       "      <td>0.0</td>\n",
       "      <td>3.0</td>\n",
       "      <td>3.0</td>\n",
       "      <td>3.0</td>\n",
       "      <td>...</td>\n",
       "      <td>8.879525</td>\n",
       "      <td>0.000000</td>\n",
       "      <td>0.0</td>\n",
       "      <td>1.0</td>\n",
       "      <td>0.0</td>\n",
       "      <td>1.0</td>\n",
       "      <td>1.0</td>\n",
       "      <td>3.0</td>\n",
       "      <td>3.0</td>\n",
       "      <td>2.0</td>\n",
       "    </tr>\n",
       "    <tr>\n",
       "      <th>7590</th>\n",
       "      <td>0.0</td>\n",
       "      <td>0.0</td>\n",
       "      <td>0.0</td>\n",
       "      <td>1.0</td>\n",
       "      <td>0.0</td>\n",
       "      <td>0.0</td>\n",
       "      <td>0.0</td>\n",
       "      <td>3.0</td>\n",
       "      <td>2.0</td>\n",
       "      <td>2.0</td>\n",
       "      <td>...</td>\n",
       "      <td>12.730135</td>\n",
       "      <td>0.000000</td>\n",
       "      <td>1.0</td>\n",
       "      <td>1.0</td>\n",
       "      <td>0.0</td>\n",
       "      <td>1.0</td>\n",
       "      <td>1.0</td>\n",
       "      <td>3.0</td>\n",
       "      <td>3.0</td>\n",
       "      <td>0.0</td>\n",
       "    </tr>\n",
       "    <tr>\n",
       "      <th>7591</th>\n",
       "      <td>0.0</td>\n",
       "      <td>0.0</td>\n",
       "      <td>1.0</td>\n",
       "      <td>1.0</td>\n",
       "      <td>1.0</td>\n",
       "      <td>0.0</td>\n",
       "      <td>0.0</td>\n",
       "      <td>3.0</td>\n",
       "      <td>2.0</td>\n",
       "      <td>3.0</td>\n",
       "      <td>...</td>\n",
       "      <td>12.803479</td>\n",
       "      <td>5.000000</td>\n",
       "      <td>0.0</td>\n",
       "      <td>1.0</td>\n",
       "      <td>0.0</td>\n",
       "      <td>1.0</td>\n",
       "      <td>1.0</td>\n",
       "      <td>3.0</td>\n",
       "      <td>3.0</td>\n",
       "      <td>3.0</td>\n",
       "    </tr>\n",
       "  </tbody>\n",
       "</table>\n",
       "<p>7592 rows × 37 columns</p>\n",
       "</div>"
      ],
      "text/plain": [
       "      Drinks.alcohol  Smoking_stat  Has.refrigerator  Has.bicycle  \\\n",
       "0                0.0           0.0               0.0          1.0   \n",
       "1                0.0           0.0               1.0          0.0   \n",
       "2                0.0           0.0               0.0          1.0   \n",
       "3                0.0           0.0               0.0          1.0   \n",
       "4                0.0           0.0               0.0          1.0   \n",
       "...              ...           ...               ...          ...   \n",
       "7587             0.0           0.0               1.0          1.0   \n",
       "7588             0.0           0.0               1.0          1.0   \n",
       "7589             0.0           0.0               1.0          1.0   \n",
       "7590             0.0           0.0               0.0          1.0   \n",
       "7591             0.0           0.0               1.0          1.0   \n",
       "\n",
       "      Has.motorcycle.scooter  Has.car.truck  \\\n",
       "0                        0.0            0.0   \n",
       "1                        1.0            0.0   \n",
       "2                        1.0            0.0   \n",
       "3                        0.0            0.0   \n",
       "4                        0.0            0.0   \n",
       "...                      ...            ...   \n",
       "7587                     1.0            0.0   \n",
       "7588                     1.0            0.0   \n",
       "7589                     1.0            0.0   \n",
       "7590                     0.0            0.0   \n",
       "7591                     1.0            0.0   \n",
       "\n",
       "      Owns.livestock..herds.or.farm.animals  Frequency.takes.milk.or.curd  \\\n",
       "0                                       0.0                           2.0   \n",
       "1                                       0.0                           3.0   \n",
       "2                                       1.0                           1.0   \n",
       "3                                       0.0                           1.0   \n",
       "4                                       1.0                           2.0   \n",
       "...                                     ...                           ...   \n",
       "7587                                    0.0                           3.0   \n",
       "7588                                    0.0                           3.0   \n",
       "7589                                    0.0                           3.0   \n",
       "7590                                    0.0                           3.0   \n",
       "7591                                    0.0                           3.0   \n",
       "\n",
       "      Frequency.eats.pulses.or.beans  \\\n",
       "0                                2.0   \n",
       "1                                2.0   \n",
       "2                                2.0   \n",
       "3                                2.0   \n",
       "4                                2.0   \n",
       "...                              ...   \n",
       "7587                             3.0   \n",
       "7588                             3.0   \n",
       "7589                             3.0   \n",
       "7590                             2.0   \n",
       "7591                             2.0   \n",
       "\n",
       "      Frequency.eats.dark.green.leafy.vegetable  ...  \\\n",
       "0                                           3.0  ...   \n",
       "1                                           2.0  ...   \n",
       "2                                           2.0  ...   \n",
       "3                                           2.0  ...   \n",
       "4                                           3.0  ...   \n",
       "...                                         ...  ...   \n",
       "7587                                        3.0  ...   \n",
       "7588                                        3.0  ...   \n",
       "7589                                        3.0  ...   \n",
       "7590                                        2.0  ...   \n",
       "7591                                        3.0  ...   \n",
       "\n",
       "      Hemoglobin.level..g.dl...1.decimal.  \\\n",
       "0                               10.126158   \n",
       "1                                9.868422   \n",
       "2                               12.571859   \n",
       "3                               12.398946   \n",
       "4                               14.342728   \n",
       "...                                   ...   \n",
       "7587                            11.876696   \n",
       "7588                            13.159216   \n",
       "7589                             8.879525   \n",
       "7590                            12.730135   \n",
       "7591                            12.803479   \n",
       "\n",
       "      Time.to.get.to.water.source..minutes.  Household.head.s.religion  Sex  \\\n",
       "0                                  0.000000                        1.0  1.0   \n",
       "1                                  0.000000                        0.0  1.0   \n",
       "2                                 16.787531                        0.0  1.0   \n",
       "3                                  0.000000                        0.0  1.0   \n",
       "4                                  5.612651                        0.0  1.0   \n",
       "...                                     ...                        ...  ...   \n",
       "7587                               0.000000                        1.0  1.0   \n",
       "7588                               0.000000                        1.0  1.0   \n",
       "7589                               0.000000                        0.0  1.0   \n",
       "7590                               0.000000                        1.0  1.0   \n",
       "7591                               5.000000                        0.0  1.0   \n",
       "\n",
       "      Type.of.place.of.residence  Household.structure  \\\n",
       "0                            1.0                  0.0   \n",
       "1                            0.0                  1.0   \n",
       "2                            1.0                  1.0   \n",
       "3                            0.0                  1.0   \n",
       "4                            1.0                  1.0   \n",
       "...                          ...                  ...   \n",
       "7587                         0.0                  0.0   \n",
       "7588                         0.0                  0.0   \n",
       "7589                         0.0                  1.0   \n",
       "7590                         0.0                  1.0   \n",
       "7591                         0.0                  1.0   \n",
       "\n",
       "      Type.of.caste.or.tribe.of.the.household.head  Type.of.cooking.fuel  \\\n",
       "0                                              4.0                   1.0   \n",
       "1                                              1.0                   3.0   \n",
       "2                                              4.0                   1.0   \n",
       "3                                              1.0                   3.0   \n",
       "4                                              2.0                   2.0   \n",
       "...                                            ...                   ...   \n",
       "7587                                           1.0                   3.0   \n",
       "7588                                           1.0                   1.0   \n",
       "7589                                           1.0                   3.0   \n",
       "7590                                           1.0                   3.0   \n",
       "7591                                           1.0                   3.0   \n",
       "\n",
       "      Source.of.drinking.water  Target  \n",
       "0                          3.0     0.0  \n",
       "1                          2.0     2.0  \n",
       "2                          1.0     3.0  \n",
       "3                          3.0     2.0  \n",
       "4                          2.0     0.0  \n",
       "...                        ...     ...  \n",
       "7587                       3.0     2.0  \n",
       "7588                       3.0     2.0  \n",
       "7589                       3.0     2.0  \n",
       "7590                       3.0     0.0  \n",
       "7591                       3.0     3.0  \n",
       "\n",
       "[7592 rows x 37 columns]"
      ]
     },
     "execution_count": 43,
     "metadata": {},
     "output_type": "execute_result"
    }
   ],
   "source": [
    "syn_train_data"
   ]
  },
  {
   "cell_type": "code",
   "execution_count": null,
   "id": "52987b65-5e6a-4e7a-aaa9-2fabd2685c63",
   "metadata": {},
   "outputs": [],
   "source": [
    "def exact_match_score(original_df, synthetic_df):\n",
    "    original_data=original_df.drop('Target',axis=1,inplace=False)\n",
    "    synthetic_data=synthetic_df.drop('Target',axis=1,inplace=False)\n",
    "    n_matches = 0\n",
    "    repeated=[]\n",
    "    for i in range(synthetic_data.shape[0]):\n",
    "        if (original_data == synthetic_data.iloc[i, :]).all(axis=1).any():\n",
    "            repeated_data=synthetic_data.iloc[i, :]\n",
    "            repeated.append(repeated_data)\n",
    "            n_matches += 1    \n",
    "    print('The number of data points repeated in the synthetic data are',n_matches / synthetic_data.shape[0])\n",
    "    return pd.DataFrame(repeated)"
   ]
  },
  {
   "cell_type": "code",
   "execution_count": null,
   "id": "059364e6-f764-48ab-94d8-16dbd5829a8c",
   "metadata": {},
   "outputs": [],
   "source": [
    "original_df=pd.read_csv('T2DM_training_data(semi_sup).csv')\n",
    "original_df.columns=values"
   ]
  },
  {
   "cell_type": "code",
   "execution_count": null,
   "id": "76328c68-3507-45d7-badd-cdfc5bb341b3",
   "metadata": {},
   "outputs": [],
   "source": [
    "exact_match_score(original_df,syn_train_data)"
   ]
  },
  {
   "cell_type": "code",
   "execution_count": null,
   "id": "629ad422-abe4-4366-a121-78830022e91b",
   "metadata": {},
   "outputs": [],
   "source": [
    "len(syn_train_data[syn_train_data.duplicated(keep=False)])"
   ]
  },
  {
   "cell_type": "markdown",
   "id": "22664373-fe16-4b85-880c-49e4f2f76e02",
   "metadata": {},
   "source": [
    "### Train test split on synthetic data"
   ]
  },
  {
   "cell_type": "code",
   "execution_count": 44,
   "id": "7ea16747-b8f6-4a5e-9ecb-99631f54dee5",
   "metadata": {},
   "outputs": [],
   "source": [
    "syn_train_features, syn_test_features, syn_train_labels, syn_test_labels = train_test_split(np.array(syn_train_data.drop([\"Target\"],axis=1)), np.array(syn_train_data[\"Target\"]), test_size = 0.25, random_state = 42)"
   ]
  },
  {
   "cell_type": "markdown",
   "id": "965f13f6-c8ad-4e17-bf46-ed7e004cbff6",
   "metadata": {},
   "source": [
    "### Gradient boosting classifier on NextConvGen generated synthetic training data  (Model-2)"
   ]
  },
  {
   "cell_type": "code",
   "execution_count": 45,
   "id": "a53a70a4-d263-4b7a-b61a-8a9a3a670315",
   "metadata": {
    "scrolled": true
   },
   "outputs": [],
   "source": [
    "from sklearn.ensemble import GradientBoostingClassifier\n",
    "NextConvGen_model_2 = GradientBoostingClassifier(n_estimators=20, learning_rate=0.5, max_features=2, max_depth=2, random_state=42)\n"
   ]
  },
  {
   "cell_type": "markdown",
   "id": "b720e9be",
   "metadata": {},
   "source": [
    "### 5 Fold Cross Validation"
   ]
  },
  {
   "cell_type": "code",
   "execution_count": 46,
   "id": "7e79af0b",
   "metadata": {},
   "outputs": [
    {
     "name": "stdout",
     "output_type": "stream",
     "text": [
      "[0.90781387 0.88674276 0.89815628 0.8928885  0.86731107]\n",
      "Avg : 0.8905824953594479\n"
     ]
    }
   ],
   "source": [
    "score_lr=cross_val_score(NextConvGen_model_2, syn_train_features, syn_train_labels,cv=5)\n",
    "print(score_lr)\n",
    "print(\"Avg :\",np.average(score_lr))\n"
   ]
  },
  {
   "cell_type": "code",
   "execution_count": 47,
   "id": "bb3429b1",
   "metadata": {},
   "outputs": [
    {
     "data": {
      "text/html": [
       "<style>#sk-container-id-2 {color: black;background-color: white;}#sk-container-id-2 pre{padding: 0;}#sk-container-id-2 div.sk-toggleable {background-color: white;}#sk-container-id-2 label.sk-toggleable__label {cursor: pointer;display: block;width: 100%;margin-bottom: 0;padding: 0.3em;box-sizing: border-box;text-align: center;}#sk-container-id-2 label.sk-toggleable__label-arrow:before {content: \"▸\";float: left;margin-right: 0.25em;color: #696969;}#sk-container-id-2 label.sk-toggleable__label-arrow:hover:before {color: black;}#sk-container-id-2 div.sk-estimator:hover label.sk-toggleable__label-arrow:before {color: black;}#sk-container-id-2 div.sk-toggleable__content {max-height: 0;max-width: 0;overflow: hidden;text-align: left;background-color: #f0f8ff;}#sk-container-id-2 div.sk-toggleable__content pre {margin: 0.2em;color: black;border-radius: 0.25em;background-color: #f0f8ff;}#sk-container-id-2 input.sk-toggleable__control:checked~div.sk-toggleable__content {max-height: 200px;max-width: 100%;overflow: auto;}#sk-container-id-2 input.sk-toggleable__control:checked~label.sk-toggleable__label-arrow:before {content: \"▾\";}#sk-container-id-2 div.sk-estimator input.sk-toggleable__control:checked~label.sk-toggleable__label {background-color: #d4ebff;}#sk-container-id-2 div.sk-label input.sk-toggleable__control:checked~label.sk-toggleable__label {background-color: #d4ebff;}#sk-container-id-2 input.sk-hidden--visually {border: 0;clip: rect(1px 1px 1px 1px);clip: rect(1px, 1px, 1px, 1px);height: 1px;margin: -1px;overflow: hidden;padding: 0;position: absolute;width: 1px;}#sk-container-id-2 div.sk-estimator {font-family: monospace;background-color: #f0f8ff;border: 1px dotted black;border-radius: 0.25em;box-sizing: border-box;margin-bottom: 0.5em;}#sk-container-id-2 div.sk-estimator:hover {background-color: #d4ebff;}#sk-container-id-2 div.sk-parallel-item::after {content: \"\";width: 100%;border-bottom: 1px solid gray;flex-grow: 1;}#sk-container-id-2 div.sk-label:hover label.sk-toggleable__label {background-color: #d4ebff;}#sk-container-id-2 div.sk-serial::before {content: \"\";position: absolute;border-left: 1px solid gray;box-sizing: border-box;top: 0;bottom: 0;left: 50%;z-index: 0;}#sk-container-id-2 div.sk-serial {display: flex;flex-direction: column;align-items: center;background-color: white;padding-right: 0.2em;padding-left: 0.2em;position: relative;}#sk-container-id-2 div.sk-item {position: relative;z-index: 1;}#sk-container-id-2 div.sk-parallel {display: flex;align-items: stretch;justify-content: center;background-color: white;position: relative;}#sk-container-id-2 div.sk-item::before, #sk-container-id-2 div.sk-parallel-item::before {content: \"\";position: absolute;border-left: 1px solid gray;box-sizing: border-box;top: 0;bottom: 0;left: 50%;z-index: -1;}#sk-container-id-2 div.sk-parallel-item {display: flex;flex-direction: column;z-index: 1;position: relative;background-color: white;}#sk-container-id-2 div.sk-parallel-item:first-child::after {align-self: flex-end;width: 50%;}#sk-container-id-2 div.sk-parallel-item:last-child::after {align-self: flex-start;width: 50%;}#sk-container-id-2 div.sk-parallel-item:only-child::after {width: 0;}#sk-container-id-2 div.sk-dashed-wrapped {border: 1px dashed gray;margin: 0 0.4em 0.5em 0.4em;box-sizing: border-box;padding-bottom: 0.4em;background-color: white;}#sk-container-id-2 div.sk-label label {font-family: monospace;font-weight: bold;display: inline-block;line-height: 1.2em;}#sk-container-id-2 div.sk-label-container {text-align: center;}#sk-container-id-2 div.sk-container {/* jupyter's `normalize.less` sets `[hidden] { display: none; }` but bootstrap.min.css set `[hidden] { display: none !important; }` so we also need the `!important` here to be able to override the default hidden behavior on the sphinx rendered scikit-learn.org. See: https://github.com/scikit-learn/scikit-learn/issues/21755 */display: inline-block !important;position: relative;}#sk-container-id-2 div.sk-text-repr-fallback {display: none;}</style><div id=\"sk-container-id-2\" class=\"sk-top-container\"><div class=\"sk-text-repr-fallback\"><pre>GradientBoostingClassifier(learning_rate=0.5, max_depth=2, max_features=2,\n",
       "                           n_estimators=20, random_state=42)</pre><b>In a Jupyter environment, please rerun this cell to show the HTML representation or trust the notebook. <br />On GitHub, the HTML representation is unable to render, please try loading this page with nbviewer.org.</b></div><div class=\"sk-container\" hidden><div class=\"sk-item\"><div class=\"sk-estimator sk-toggleable\"><input class=\"sk-toggleable__control sk-hidden--visually\" id=\"sk-estimator-id-2\" type=\"checkbox\" checked><label for=\"sk-estimator-id-2\" class=\"sk-toggleable__label sk-toggleable__label-arrow\">GradientBoostingClassifier</label><div class=\"sk-toggleable__content\"><pre>GradientBoostingClassifier(learning_rate=0.5, max_depth=2, max_features=2,\n",
       "                           n_estimators=20, random_state=42)</pre></div></div></div></div></div>"
      ],
      "text/plain": [
       "GradientBoostingClassifier(learning_rate=0.5, max_depth=2, max_features=2,\n",
       "                           n_estimators=20, random_state=42)"
      ]
     },
     "execution_count": 47,
     "metadata": {},
     "output_type": "execute_result"
    }
   ],
   "source": [
    "NextConvGen_model_2.fit(syn_train_features,syn_train_labels )"
   ]
  },
  {
   "cell_type": "markdown",
   "id": "b2cce01c-9e72-472c-9e7d-b37237dbac13",
   "metadata": {},
   "source": [
    "### Case-1: predicting validation data using Model-1\n"
   ]
  },
  {
   "cell_type": "code",
   "execution_count": 48,
   "id": "5da6fd08-9bd9-46d8-a179-1cc21e3c909c",
   "metadata": {},
   "outputs": [
    {
     "name": "stdout",
     "output_type": "stream",
     "text": [
      "F1_Score of cluster 0 is 0.8588312541037427\n",
      "Geometric mean of cluster 0 is 0.8591129761950762\n",
      "Correctly predicted data points in cluster 0 is 88.14016172506739%\n",
      "\n",
      "\n",
      "F1_Score of cluster 1 is 0.9044776119402985\n",
      "Geometric mean of cluster 1 is 0.9046227178879952\n",
      "Correctly predicted data points in cluster 1 is 92.09726443768997%\n",
      "\n",
      "\n",
      "F1_Score of cluster 2 is 0.8421052631578947\n",
      "Geometric mean of cluster 2 is 0.8427797568688796\n",
      "Correctly predicted data points in cluster 2 is 87.71929824561403%\n",
      "\n",
      "\n",
      "F1_Score of cluster 3 is 0.7731958762886598\n",
      "Geometric mean of cluster 3 is 0.7826098791840771\n",
      "Correctly predicted data points in cluster 3 is 66.96428571428571%\n",
      "\n",
      "\n",
      "weigted average F1_Score of all clusters is 0.8510232274008741\n",
      "weighted average Geometric mean of all clusters is 0.8529913729383206\n",
      "weighted average of Correctly predicted data points in all clusters is 85.30805687203791%\n"
     ]
    }
   ],
   "source": [
    "x=model_1.predict(np.array(test_features))\n",
    "cluster_wise_F1score(list(test_labels),list(x))"
   ]
  },
  {
   "cell_type": "markdown",
   "id": "c164bdd4-1d1d-4c83-937a-1b639fe602d7",
   "metadata": {},
   "source": [
    "### Case-2: Predicting validation data using Model-2\n"
   ]
  },
  {
   "cell_type": "code",
   "execution_count": 49,
   "id": "b90230ce-35e9-4301-9d0d-9ec1a168afaf",
   "metadata": {},
   "outputs": [
    {
     "name": "stdout",
     "output_type": "stream",
     "text": [
      "F1_Score of cluster 0 is 0.8563899868247694\n",
      "Geometric mean of cluster 0 is 0.8566048783639539\n",
      "Correctly predicted data points in cluster 0 is 87.6010781671159%\n",
      "\n",
      "\n",
      "F1_Score of cluster 1 is 0.8977443609022556\n",
      "Geometric mean of cluster 1 is 0.8977941015655568\n",
      "Correctly predicted data points in cluster 1 is 90.72948328267478%\n",
      "\n",
      "\n",
      "F1_Score of cluster 2 is 0.8434596140100072\n",
      "Geometric mean of cluster 2 is 0.8436667627152611\n",
      "Correctly predicted data points in cluster 2 is 86.25730994152046%\n",
      "\n",
      "\n",
      "F1_Score of cluster 3 is 0.7833537331701347\n",
      "Geometric mean of cluster 3 is 0.7870417814679403\n",
      "Correctly predicted data points in cluster 3 is 71.42857142857143%\n",
      "\n",
      "\n",
      "weigted average F1_Score of all clusters is 0.8507211722514725\n",
      "weighted average Geometric mean of all clusters is 0.8515055775557133\n",
      "weighted average of Correctly predicted data points in all clusters is 85.18957345971565%\n"
     ]
    }
   ],
   "source": [
    "y=NextConvGen_model_2.predict(np.array(test_features))\n",
    "\n",
    "cluster_wise_F1score(list(test_labels),list(y))"
   ]
  },
  {
   "cell_type": "markdown",
   "id": "c8e7b3a0-e915-4dea-a9a8-1fd179e6c1a1",
   "metadata": {},
   "source": [
    "### Comparing predicted values from Case-1 & Case-2"
   ]
  },
  {
   "cell_type": "code",
   "execution_count": 50,
   "id": "8d3c1fcb-71cd-44d0-8175-a1823d97a80e",
   "metadata": {
    "tags": []
   },
   "outputs": [
    {
     "name": "stdout",
     "output_type": "stream",
     "text": [
      "F1_Score of cluster 0 is 0.9646756583172769\n",
      "Geometric mean of cluster 0 is 0.9646806324511196\n",
      "Correctly predicted data points in cluster 0 is 96.15877080665814%\n",
      "\n",
      "\n",
      "F1_Score of cluster 1 is 0.9660265878877401\n",
      "Geometric mean of cluster 1 is 0.9660529353943709\n",
      "Correctly predicted data points in cluster 1 is 95.89442815249268%\n",
      "\n",
      "\n",
      "F1_Score of cluster 2 is 0.9601648351648351\n",
      "Geometric mean of cluster 2 is 0.9603179592923001\n",
      "Correctly predicted data points in cluster 2 is 94.33198380566802%\n",
      "\n",
      "\n",
      "F1_Score of cluster 3 is 0.9182209469153515\n",
      "Geometric mean of cluster 3 is 0.9198136991044521\n",
      "Correctly predicted data points in cluster 3 is 97.5609756097561%\n",
      "\n",
      "\n",
      "weigted average F1_Score of all clusters is 0.9577015938114573\n",
      "weighted average Geometric mean of all clusters is 0.9579613653337835\n",
      "weighted average of Correctly predicted data points in all clusters is 95.73459715639811%\n"
     ]
    }
   ],
   "source": [
    "cluster_wise_F1score(list(x),list(y))"
   ]
  },
  {
   "cell_type": "markdown",
   "id": "25bc6d7d-34bc-45c5-8911-3caca94d352e",
   "metadata": {},
   "source": [
    "### UMAP on synthetic data"
   ]
  },
  {
   "cell_type": "code",
   "execution_count": 51,
   "id": "7cefcf61-7dc8-4cb3-b554-006801adab12",
   "metadata": {},
   "outputs": [
    {
     "data": {
      "image/png": "[encoded data removed]",
      "text/plain": [
       "<Figure size 500x500 with 1 Axes>"
      ]
     },
     "metadata": {},
     "output_type": "display_data"
    }
   ],
   "source": [
    "from fdc.fdc import feature_clustering, canberra_modified, Clustering, FDC\n",
    "np.random.seed(42)\n",
    "syn_emb_low=feature_clustering(30,0.01,'euclidean',syn_train_data.drop([\"Target\"],axis=1),True)"
   ]
  },
  {
   "cell_type": "markdown",
   "id": "12c13c35-b359-4599-9b5f-6e7cf238c102",
   "metadata": {},
   "source": [
    "### FDC on synthetic data"
   ]
  },
  {
   "cell_type": "code",
   "execution_count": 52,
   "id": "18a794d3-bd52-4537-95b1-6330690e9d7b",
   "metadata": {},
   "outputs": [
    {
     "name": "stdout",
     "output_type": "stream",
     "text": [
      "FDC.normalize (init): 0.00001 / 0.000s\n",
      "FDC.normalize (clustering CONT): 16.08855 / 16.089s\n",
      "FDC.normalize (clustering ORD): 17.91709 / 34.006s\n",
      "FDC.normalize (clustering NOM): 43.45788 / 77.464s\n",
      "FDC.normalize (concat): 0.00035 / 77.464s\n",
      "FDC.normalize (umap 5 -> 2): 22.82702 / 100.291s\n",
      "FDC.normalize (array -> DataFrame): 0.00028 / 100.291s\n"
     ]
    },
    {
     "data": {
      "image/png": "[encoded data removed]",
      "text/plain": [
       "<Figure size 500x500 with 1 Axes>"
      ]
     },
     "metadata": {},
     "output_type": "display_data"
    },
    {
     "name": "stdout",
     "output_type": "stream",
     "text": [
      "FDC.normalize (plotting): 0.41063 / 100.702s\n",
      "FDC.normalize (array -> DataFrame): 0.00020 / 100.702s\n",
      "FDC.normalize (total): 0.00001 / 100.702s\n"
     ]
    }
   ],
   "source": [
    "from fdc.fdc import feature_clustering, canberra_modified, Clustering, FDC\n",
    "\n",
    "np.random.seed(42)\n",
    "fdc = FDC(clustering_cont=Clustering('euclidean',30,0.1)\n",
    "          , clustering_ord=Clustering(\"canberra\",30,0.1)\n",
    "          , clustering_nom=Clustering('hamming',30,0.1)\n",
    "          , visual=True\n",
    "          , use_pandas_output=True\n",
    "          , with_2d_embedding=True\n",
    "          )\n",
    "\n",
    "fdc.selectFeatures(continueous=cont_list, nomial=nom_list, ordinal=ord_list)\n",
    "\n",
    "FDC_emb_high,FDC_emb_low = fdc.normalize(syn_train_data.drop('Target', axis=1),cont_list=cont_list, nom_list=nom_list, ord_list=ord_list,\n",
    "                  with_2d_embedding=True,\n",
    "                  visual=True)"
   ]
  },
  {
   "cell_type": "code",
   "execution_count": 53,
   "id": "50f7de13-0c82-4676-9046-cb048cb20207",
   "metadata": {},
   "outputs": [
    {
     "data": {
      "image/png": "[encoded data removed]",
      "text/plain": [
       "<Figure size 560.361x500 with 1 Axes>"
      ]
     },
     "metadata": {},
     "output_type": "display_data"
    }
   ],
   "source": [
    "from fdc.clustering import *\n",
    "clustering=Clustering(FDC_emb_low,FDC_emb_low,True)\n",
    "cluster_list,cluster_counts=clustering.K_means(4)"
   ]
  },
  {
   "cell_type": "code",
   "execution_count": 54,
   "id": "5164e221",
   "metadata": {},
   "outputs": [
    {
     "data": {
      "text/plain": [
       "array([1819, 1932, 2203, 1638])"
      ]
     },
     "execution_count": 54,
     "metadata": {},
     "output_type": "execute_result"
    }
   ],
   "source": [
    "cluster_counts"
   ]
  },
  {
   "cell_type": "markdown",
   "id": "9c381506",
   "metadata": {},
   "source": [
    "## CTGAN"
   ]
  },
  {
   "cell_type": "code",
   "execution_count": 55,
   "id": "6ae28422-0bbb-41e0-b77a-70f6b4bd7fb9",
   "metadata": {},
   "outputs": [],
   "source": [
    "train_features= pd.DataFrame(train_features)"
   ]
  },
  {
   "cell_type": "code",
   "execution_count": 56,
   "id": "da43656e",
   "metadata": {},
   "outputs": [],
   "source": [
    "dicts = {}\n",
    "for i in range(len(values)):\n",
    "        dicts[i]=values[i]\n"
   ]
  },
  {
   "cell_type": "code",
   "execution_count": 57,
   "id": "012f260e",
   "metadata": {},
   "outputs": [],
   "source": [
    "train_features.rename(columns=dicts,inplace=True)\n"
   ]
  },
  {
   "cell_type": "code",
   "execution_count": 58,
   "id": "75691f1d",
   "metadata": {},
   "outputs": [],
   "source": [
    "from sdv.tabular import CTGAN"
   ]
  },
  {
   "cell_type": "code",
   "execution_count": 59,
   "id": "f389037f",
   "metadata": {},
   "outputs": [],
   "source": [
    "gen=CTGAN()"
   ]
  },
  {
   "cell_type": "code",
   "execution_count": 60,
   "id": "887db476",
   "metadata": {},
   "outputs": [],
   "source": [
    "gen.fit(train_features)"
   ]
  },
  {
   "cell_type": "markdown",
   "id": "6cce973b",
   "metadata": {},
   "source": [
    "### Generating 1000 synthetic points and randomly selecting the same legth of original training points for evaluation"
   ]
  },
  {
   "cell_type": "code",
   "execution_count": 61,
   "id": "32120e20",
   "metadata": {},
   "outputs": [],
   "source": [
    "CTGAN_syn_data= gen.sample(num_rows=20000)"
   ]
  },
  {
   "cell_type": "code",
   "execution_count": 62,
   "id": "adc89b53",
   "metadata": {},
   "outputs": [],
   "source": [
    "from fdc.NN_models import *\n",
    "CTGAN_syn_data=balanced_synthetic_data_CTGAN(train_features,CTGAN_syn_data,gen)"
   ]
  },
  {
   "cell_type": "code",
   "execution_count": 63,
   "id": "69472947-05f2-4b86-ad69-b5c1bb7af93c",
   "metadata": {},
   "outputs": [],
   "source": [
    "CTGAN_syn_data.to_csv('T2DM_CTGAN_syn_data.csv',index=False)"
   ]
  },
  {
   "cell_type": "code",
   "execution_count": 64,
   "id": "ce9afe21",
   "metadata": {},
   "outputs": [],
   "source": [
    "np.random.seed(42)\n",
    "CTGAN_syn_data=CTGAN_syn_data.sample(frac=1) #Shuffle the data set\n",
    "np.random.seed(42)\n",
    "i=[x for x in range(np.shape(CTGAN_syn_data)[0])]\n",
    "\n",
    "CTGAN_syn_data.set_index(pd.Series(i), inplace=True)"
   ]
  },
  {
   "cell_type": "markdown",
   "id": "d29e970d",
   "metadata": {},
   "source": [
    "### Train-test split on CTGAN generated synthetic data points"
   ]
  },
  {
   "cell_type": "code",
   "execution_count": 65,
   "id": "c7e0bb11",
   "metadata": {},
   "outputs": [],
   "source": [
    "syn_train_features, syn_test_features, syn_train_labels, syn_test_labels = train_test_split(np.array(CTGAN_syn_data.drop([\"Target\"],axis=1)), np.array(CTGAN_syn_data[\"Target\"]), test_size = 0.25, random_state = 42)"
   ]
  },
  {
   "cell_type": "markdown",
   "id": "efd0e051",
   "metadata": {},
   "source": [
    "### Gradient boosting classifier on CTGAN generated synthetic training data  (Model-2)"
   ]
  },
  {
   "cell_type": "code",
   "execution_count": 66,
   "id": "71edf250",
   "metadata": {},
   "outputs": [],
   "source": [
    "from sklearn.ensemble import GradientBoostingClassifier\n",
    "CTGAN_model_2 = GradientBoostingClassifier(n_estimators=20, learning_rate=0.5, max_features=2, max_depth=2, random_state=42)\n"
   ]
  },
  {
   "cell_type": "markdown",
   "id": "0ee3fdcd",
   "metadata": {},
   "source": [
    "### 5 Fold Cross validation"
   ]
  },
  {
   "cell_type": "code",
   "execution_count": 67,
   "id": "0527f63f",
   "metadata": {},
   "outputs": [
    {
     "name": "stdout",
     "output_type": "stream",
     "text": [
      "[0.63125549 0.62598771 0.62071993 0.61018437 0.6344464 ]\n",
      "Avg : 0.6245187789986283\n"
     ]
    }
   ],
   "source": [
    "score_lr=cross_val_score(CTGAN_model_2, syn_train_features, syn_train_labels,cv=5)\n",
    "print(score_lr)\n",
    "print(\"Avg :\",np.average(score_lr))\n"
   ]
  },
  {
   "cell_type": "code",
   "execution_count": 68,
   "id": "dfc15293",
   "metadata": {},
   "outputs": [
    {
     "data": {
      "text/html": [
       "<style>#sk-container-id-3 {color: black;background-color: white;}#sk-container-id-3 pre{padding: 0;}#sk-container-id-3 div.sk-toggleable {background-color: white;}#sk-container-id-3 label.sk-toggleable__label {cursor: pointer;display: block;width: 100%;margin-bottom: 0;padding: 0.3em;box-sizing: border-box;text-align: center;}#sk-container-id-3 label.sk-toggleable__label-arrow:before {content: \"▸\";float: left;margin-right: 0.25em;color: #696969;}#sk-container-id-3 label.sk-toggleable__label-arrow:hover:before {color: black;}#sk-container-id-3 div.sk-estimator:hover label.sk-toggleable__label-arrow:before {color: black;}#sk-container-id-3 div.sk-toggleable__content {max-height: 0;max-width: 0;overflow: hidden;text-align: left;background-color: #f0f8ff;}#sk-container-id-3 div.sk-toggleable__content pre {margin: 0.2em;color: black;border-radius: 0.25em;background-color: #f0f8ff;}#sk-container-id-3 input.sk-toggleable__control:checked~div.sk-toggleable__content {max-height: 200px;max-width: 100%;overflow: auto;}#sk-container-id-3 input.sk-toggleable__control:checked~label.sk-toggleable__label-arrow:before {content: \"▾\";}#sk-container-id-3 div.sk-estimator input.sk-toggleable__control:checked~label.sk-toggleable__label {background-color: #d4ebff;}#sk-container-id-3 div.sk-label input.sk-toggleable__control:checked~label.sk-toggleable__label {background-color: #d4ebff;}#sk-container-id-3 input.sk-hidden--visually {border: 0;clip: rect(1px 1px 1px 1px);clip: rect(1px, 1px, 1px, 1px);height: 1px;margin: -1px;overflow: hidden;padding: 0;position: absolute;width: 1px;}#sk-container-id-3 div.sk-estimator {font-family: monospace;background-color: #f0f8ff;border: 1px dotted black;border-radius: 0.25em;box-sizing: border-box;margin-bottom: 0.5em;}#sk-container-id-3 div.sk-estimator:hover {background-color: #d4ebff;}#sk-container-id-3 div.sk-parallel-item::after {content: \"\";width: 100%;border-bottom: 1px solid gray;flex-grow: 1;}#sk-container-id-3 div.sk-label:hover label.sk-toggleable__label {background-color: #d4ebff;}#sk-container-id-3 div.sk-serial::before {content: \"\";position: absolute;border-left: 1px solid gray;box-sizing: border-box;top: 0;bottom: 0;left: 50%;z-index: 0;}#sk-container-id-3 div.sk-serial {display: flex;flex-direction: column;align-items: center;background-color: white;padding-right: 0.2em;padding-left: 0.2em;position: relative;}#sk-container-id-3 div.sk-item {position: relative;z-index: 1;}#sk-container-id-3 div.sk-parallel {display: flex;align-items: stretch;justify-content: center;background-color: white;position: relative;}#sk-container-id-3 div.sk-item::before, #sk-container-id-3 div.sk-parallel-item::before {content: \"\";position: absolute;border-left: 1px solid gray;box-sizing: border-box;top: 0;bottom: 0;left: 50%;z-index: -1;}#sk-container-id-3 div.sk-parallel-item {display: flex;flex-direction: column;z-index: 1;position: relative;background-color: white;}#sk-container-id-3 div.sk-parallel-item:first-child::after {align-self: flex-end;width: 50%;}#sk-container-id-3 div.sk-parallel-item:last-child::after {align-self: flex-start;width: 50%;}#sk-container-id-3 div.sk-parallel-item:only-child::after {width: 0;}#sk-container-id-3 div.sk-dashed-wrapped {border: 1px dashed gray;margin: 0 0.4em 0.5em 0.4em;box-sizing: border-box;padding-bottom: 0.4em;background-color: white;}#sk-container-id-3 div.sk-label label {font-family: monospace;font-weight: bold;display: inline-block;line-height: 1.2em;}#sk-container-id-3 div.sk-label-container {text-align: center;}#sk-container-id-3 div.sk-container {/* jupyter's `normalize.less` sets `[hidden] { display: none; }` but bootstrap.min.css set `[hidden] { display: none !important; }` so we also need the `!important` here to be able to override the default hidden behavior on the sphinx rendered scikit-learn.org. See: https://github.com/scikit-learn/scikit-learn/issues/21755 */display: inline-block !important;position: relative;}#sk-container-id-3 div.sk-text-repr-fallback {display: none;}</style><div id=\"sk-container-id-3\" class=\"sk-top-container\"><div class=\"sk-text-repr-fallback\"><pre>GradientBoostingClassifier(learning_rate=0.5, max_depth=2, max_features=2,\n",
       "                           n_estimators=20, random_state=42)</pre><b>In a Jupyter environment, please rerun this cell to show the HTML representation or trust the notebook. <br />On GitHub, the HTML representation is unable to render, please try loading this page with nbviewer.org.</b></div><div class=\"sk-container\" hidden><div class=\"sk-item\"><div class=\"sk-estimator sk-toggleable\"><input class=\"sk-toggleable__control sk-hidden--visually\" id=\"sk-estimator-id-3\" type=\"checkbox\" checked><label for=\"sk-estimator-id-3\" class=\"sk-toggleable__label sk-toggleable__label-arrow\">GradientBoostingClassifier</label><div class=\"sk-toggleable__content\"><pre>GradientBoostingClassifier(learning_rate=0.5, max_depth=2, max_features=2,\n",
       "                           n_estimators=20, random_state=42)</pre></div></div></div></div></div>"
      ],
      "text/plain": [
       "GradientBoostingClassifier(learning_rate=0.5, max_depth=2, max_features=2,\n",
       "                           n_estimators=20, random_state=42)"
      ]
     },
     "execution_count": 68,
     "metadata": {},
     "output_type": "execute_result"
    }
   ],
   "source": [
    "CTGAN_model_2.fit(syn_train_features,syn_train_labels )"
   ]
  },
  {
   "cell_type": "markdown",
   "id": "33bc76da",
   "metadata": {},
   "source": [
    "### Case-1: predicting validation data using Model-1\n"
   ]
  },
  {
   "cell_type": "code",
   "execution_count": 69,
   "id": "84c964ee",
   "metadata": {},
   "outputs": [
    {
     "name": "stdout",
     "output_type": "stream",
     "text": [
      "F1_Score of cluster 0 is 0.8588312541037427\n",
      "Geometric mean of cluster 0 is 0.8591129761950762\n",
      "Correctly predicted data points in cluster 0 is 88.14016172506739%\n",
      "\n",
      "\n",
      "F1_Score of cluster 1 is 0.9044776119402985\n",
      "Geometric mean of cluster 1 is 0.9046227178879952\n",
      "Correctly predicted data points in cluster 1 is 92.09726443768997%\n",
      "\n",
      "\n",
      "F1_Score of cluster 2 is 0.8421052631578947\n",
      "Geometric mean of cluster 2 is 0.8427797568688796\n",
      "Correctly predicted data points in cluster 2 is 87.71929824561403%\n",
      "\n",
      "\n",
      "F1_Score of cluster 3 is 0.7731958762886598\n",
      "Geometric mean of cluster 3 is 0.7826098791840771\n",
      "Correctly predicted data points in cluster 3 is 66.96428571428571%\n",
      "\n",
      "\n",
      "weigted average F1_Score of all clusters is 0.8510232274008741\n",
      "weighted average Geometric mean of all clusters is 0.8529913729383206\n",
      "weighted average of Correctly predicted data points in all clusters is 85.30805687203791%\n"
     ]
    }
   ],
   "source": [
    "x=model_1.predict(np.array(test_features))\n",
    "cluster_wise_F1score(list(test_labels),list(x))"
   ]
  },
  {
   "cell_type": "markdown",
   "id": "94c80ca6",
   "metadata": {},
   "source": [
    "### Case-2: predicting validation data using Model-2\n"
   ]
  },
  {
   "cell_type": "code",
   "execution_count": 70,
   "id": "5be931d4",
   "metadata": {},
   "outputs": [
    {
     "name": "stdout",
     "output_type": "stream",
     "text": [
      "F1_Score of cluster 0 is 0.5167620605069502\n",
      "Geometric mean of cluster 0 is 0.5289475279577901\n",
      "Correctly predicted data points in cluster 0 is 42.58760107816711%\n",
      "\n",
      "\n",
      "F1_Score of cluster 1 is 0.8941355674028941\n",
      "Geometric mean of cluster 1 is 0.894137901334541\n",
      "Correctly predicted data points in cluster 1 is 89.209726443769%\n",
      "\n",
      "\n",
      "F1_Score of cluster 2 is 0.7286606523247746\n",
      "Geometric mean of cluster 2 is 0.7295974590145683\n",
      "Correctly predicted data points in cluster 2 is 76.75438596491229%\n",
      "\n",
      "\n",
      "F1_Score of cluster 3 is 0.3477460901563937\n",
      "Geometric mean of cluster 3 is 0.35324202691280204\n",
      "Correctly predicted data points in cluster 3 is 42.1875%\n",
      "\n",
      "\n",
      "weigted average F1_Score of all clusters is 0.6421693470882589\n",
      "weighted average Geometric mean of all clusters is 0.646966388169711\n",
      "weighted average of Correctly predicted data points in all clusters is 63.862559241706165%\n"
     ]
    }
   ],
   "source": [
    "y=CTGAN_model_2.predict(np.array(test_features))\n",
    "\n",
    "cluster_wise_F1score(list(test_labels),list(y))"
   ]
  },
  {
   "cell_type": "markdown",
   "id": "ab30bc7f",
   "metadata": {},
   "source": [
    "### Comparing predicted values from Case-1 & Case-2"
   ]
  },
  {
   "cell_type": "code",
   "execution_count": 71,
   "id": "2f3a83f6",
   "metadata": {},
   "outputs": [
    {
     "name": "stdout",
     "output_type": "stream",
     "text": [
      "F1_Score of cluster 0 is 0.5689381933438986\n",
      "Geometric mean of cluster 0 is 0.5857285502920533\n",
      "Correctly predicted data points in cluster 0 is 45.96670934699104%\n",
      "\n",
      "\n",
      "F1_Score of cluster 1 is 0.918474195961107\n",
      "Geometric mean of cluster 1 is 0.9186615376956094\n",
      "Correctly predicted data points in cluster 1 is 90.02932551319648%\n",
      "\n",
      "\n",
      "F1_Score of cluster 2 is 0.82109479305741\n",
      "Geometric mean of cluster 2 is 0.8211416330482811\n",
      "Correctly predicted data points in cluster 2 is 82.99595141700405%\n",
      "\n",
      "\n",
      "F1_Score of cluster 3 is 0.3784901758014478\n",
      "Geometric mean of cluster 3 is 0.39972723437755164\n",
      "Correctly predicted data points in cluster 3 is 55.79268292682927%\n",
      "\n",
      "\n",
      "weigted average F1_Score of all clusters is 0.712210169812589\n",
      "weighted average Geometric mean of all clusters is 0.7202044429111818\n",
      "weighted average of Correctly predicted data points in all clusters is 69.94470774091627%\n"
     ]
    }
   ],
   "source": [
    "cluster_wise_F1score(list(x),list(y))"
   ]
  },
  {
   "cell_type": "markdown",
   "id": "b50196a0",
   "metadata": {},
   "source": [
    "### UMAP on CTGAN synthetic data"
   ]
  },
  {
   "cell_type": "code",
   "execution_count": 72,
   "id": "9e29fa6f",
   "metadata": {},
   "outputs": [
    {
     "data": {
      "image/png": "[encoded data removed]",
      "text/plain": [
       "<Figure size 500x500 with 1 Axes>"
      ]
     },
     "metadata": {},
     "output_type": "display_data"
    }
   ],
   "source": [
    "from fdc.fdc import feature_clustering, canberra_modified, Clustering, FDC\n",
    "np.random.seed(42)\n",
    "syn_emb_low=feature_clustering(30,0.01,'euclidean',CTGAN_syn_data.drop([\"Target\"],axis=1),True)"
   ]
  },
  {
   "cell_type": "markdown",
   "id": "7f688b86",
   "metadata": {},
   "source": [
    "### FDC on CTGAN synthetic data"
   ]
  },
  {
   "cell_type": "code",
   "execution_count": 73,
   "id": "ccedd423",
   "metadata": {},
   "outputs": [
    {
     "name": "stdout",
     "output_type": "stream",
     "text": [
      "FDC.normalize (init): 0.00002 / 0.000s\n",
      "FDC.normalize (clustering CONT): 14.81881 / 14.819s\n",
      "FDC.normalize (clustering ORD): 17.60247 / 32.421s\n",
      "FDC.normalize (clustering NOM): 43.42744 / 75.849s\n",
      "FDC.normalize (concat): 0.00036 / 75.849s\n",
      "FDC.normalize (umap 5 -> 2): 16.80850 / 92.658s\n",
      "FDC.normalize (array -> DataFrame): 0.00028 / 92.658s\n"
     ]
    },
    {
     "data": {
      "image/png": "[encoded data removed]",
      "text/plain": [
       "<Figure size 500x500 with 1 Axes>"
      ]
     },
     "metadata": {},
     "output_type": "display_data"
    },
    {
     "name": "stdout",
     "output_type": "stream",
     "text": [
      "FDC.normalize (plotting): 0.39044 / 93.048s\n",
      "FDC.normalize (array -> DataFrame): 0.00019 / 93.049s\n",
      "FDC.normalize (total): 0.00001 / 93.049s\n"
     ]
    }
   ],
   "source": [
    "from fdc.fdc import feature_clustering, canberra_modified, Clustering, FDC\n",
    "\n",
    "np.random.seed(42)\n",
    "fdc = FDC(clustering_cont=Clustering('euclidean',30,0.1)\n",
    "          , clustering_ord=Clustering(\"canberra\",30,0.1)\n",
    "          , clustering_nom=Clustering('hamming',30,0.1)\n",
    "          , visual=True\n",
    "          , use_pandas_output=True\n",
    "          , with_2d_embedding=True\n",
    "          )\n",
    "\n",
    "fdc.selectFeatures(continueous=cont_list, nomial=nom_list, ordinal=ord_list)\n",
    "\n",
    "FDC_emb_high,FDC_emb_low = fdc.normalize(CTGAN_syn_data.drop('Target', axis=1),cont_list=cont_list, nom_list=nom_list, ord_list=ord_list,\n",
    "                  with_2d_embedding=True,\n",
    "                  visual=True)"
   ]
  },
  {
   "cell_type": "code",
   "execution_count": 74,
   "id": "7dce96a4",
   "metadata": {},
   "outputs": [
    {
     "data": {
      "image/png": "[encoded data removed]",
      "text/plain": [
       "<Figure size 560.361x500 with 1 Axes>"
      ]
     },
     "metadata": {},
     "output_type": "display_data"
    }
   ],
   "source": [
    "from fdc.clustering import *\n",
    "clustering=Clustering(FDC_emb_low,FDC_emb_low,True)\n",
    "cluster_list,cluster_counts=clustering.K_means(4)"
   ]
  },
  {
   "cell_type": "markdown",
   "id": "b145840b",
   "metadata": {},
   "source": [
    "### CTAB GAN"
   ]
  },
  {
   "cell_type": "code",
   "execution_count": 75,
   "id": "bbc79e62",
   "metadata": {},
   "outputs": [],
   "source": [
    "import tensorflow as tf\n",
    "from tensorflow import keras\n",
    "from tensorflow.keras import layers\n",
    "from library.generators.ctab import CtabGan"
   ]
  },
  {
   "cell_type": "code",
   "execution_count": 76,
   "id": "f753db24",
   "metadata": {},
   "outputs": [],
   "source": [
    "gen=CtabGan()"
   ]
  },
  {
   "cell_type": "code",
   "execution_count": 77,
   "id": "39421c8b",
   "metadata": {},
   "outputs": [],
   "source": [
    "gen.reset(train_features)"
   ]
  },
  {
   "cell_type": "code",
   "execution_count": 78,
   "id": "cbfbdaf5",
   "metadata": {},
   "outputs": [
    {
     "name": "stderr",
     "output_type": "stream",
     "text": [
      "100%|██████████| 10/10 [03:29<00:00, 20.94s/it]\n"
     ]
    }
   ],
   "source": [
    "gen.train(train_features)"
   ]
  },
  {
   "cell_type": "markdown",
   "id": "85a8e189",
   "metadata": {},
   "source": [
    "### Generating 1000 synthetic points and randomly selecting the same legth of original training points for evaluation"
   ]
  },
  {
   "cell_type": "code",
   "execution_count": 79,
   "id": "b53f80b0",
   "metadata": {},
   "outputs": [],
   "source": [
    "CTABGAN_syn_data=  gen.generateData(20000)"
   ]
  },
  {
   "cell_type": "code",
   "execution_count": 80,
   "id": "6a72b2e4",
   "metadata": {},
   "outputs": [],
   "source": [
    "CTABGAN_syn_data=pd.DataFrame(CTABGAN_syn_data)"
   ]
  },
  {
   "cell_type": "code",
   "execution_count": 81,
   "id": "4a8249eb",
   "metadata": {},
   "outputs": [
    {
     "data": {
      "text/html": [
       "<div>\n",
       "<style scoped>\n",
       "    .dataframe tbody tr th:only-of-type {\n",
       "        vertical-align: middle;\n",
       "    }\n",
       "\n",
       "    .dataframe tbody tr th {\n",
       "        vertical-align: top;\n",
       "    }\n",
       "\n",
       "    .dataframe thead th {\n",
       "        text-align: right;\n",
       "    }\n",
       "</style>\n",
       "<table border=\"1\" class=\"dataframe\">\n",
       "  <thead>\n",
       "    <tr style=\"text-align: right;\">\n",
       "      <th></th>\n",
       "      <th>Drinks.alcohol</th>\n",
       "      <th>Smoking_stat</th>\n",
       "      <th>Has.refrigerator</th>\n",
       "      <th>Has.bicycle</th>\n",
       "      <th>Has.motorcycle.scooter</th>\n",
       "      <th>Has.car.truck</th>\n",
       "      <th>Owns.livestock..herds.or.farm.animals</th>\n",
       "      <th>Frequency.takes.milk.or.curd</th>\n",
       "      <th>Frequency.eats.pulses.or.beans</th>\n",
       "      <th>Frequency.eats.dark.green.leafy.vegetable</th>\n",
       "      <th>...</th>\n",
       "      <th>Hemoglobin.level..g.dl...1.decimal.</th>\n",
       "      <th>Time.to.get.to.water.source..minutes.</th>\n",
       "      <th>Household.head.s.religion</th>\n",
       "      <th>Sex</th>\n",
       "      <th>Type.of.place.of.residence</th>\n",
       "      <th>Household.structure</th>\n",
       "      <th>Type.of.caste.or.tribe.of.the.household.head</th>\n",
       "      <th>Type.of.cooking.fuel</th>\n",
       "      <th>Source.of.drinking.water</th>\n",
       "      <th>Target</th>\n",
       "    </tr>\n",
       "  </thead>\n",
       "  <tbody>\n",
       "    <tr>\n",
       "      <th>0</th>\n",
       "      <td>-0.000993</td>\n",
       "      <td>0.000213</td>\n",
       "      <td>0.994702</td>\n",
       "      <td>0.999825</td>\n",
       "      <td>-0.005094</td>\n",
       "      <td>-0.000282</td>\n",
       "      <td>0.001248</td>\n",
       "      <td>1.999052</td>\n",
       "      <td>3.016759</td>\n",
       "      <td>3.006769</td>\n",
       "      <td>...</td>\n",
       "      <td>10.996827</td>\n",
       "      <td>-0.013011</td>\n",
       "      <td>-0.000517</td>\n",
       "      <td>1.002002</td>\n",
       "      <td>0.998949</td>\n",
       "      <td>1.001400</td>\n",
       "      <td>1.037886</td>\n",
       "      <td>3.005153</td>\n",
       "      <td>2.996143</td>\n",
       "      <td>0.996414</td>\n",
       "    </tr>\n",
       "    <tr>\n",
       "      <th>1</th>\n",
       "      <td>-0.001862</td>\n",
       "      <td>-0.000329</td>\n",
       "      <td>0.998074</td>\n",
       "      <td>1.001074</td>\n",
       "      <td>0.995040</td>\n",
       "      <td>-0.000323</td>\n",
       "      <td>0.003028</td>\n",
       "      <td>1.997807</td>\n",
       "      <td>2.990539</td>\n",
       "      <td>2.984857</td>\n",
       "      <td>...</td>\n",
       "      <td>14.732986</td>\n",
       "      <td>0.004883</td>\n",
       "      <td>-0.005301</td>\n",
       "      <td>1.001003</td>\n",
       "      <td>0.997525</td>\n",
       "      <td>-0.003557</td>\n",
       "      <td>0.993656</td>\n",
       "      <td>2.995609</td>\n",
       "      <td>1.999282</td>\n",
       "      <td>2.011266</td>\n",
       "    </tr>\n",
       "    <tr>\n",
       "      <th>2</th>\n",
       "      <td>-0.000973</td>\n",
       "      <td>-0.001042</td>\n",
       "      <td>0.000822</td>\n",
       "      <td>0.992864</td>\n",
       "      <td>0.997658</td>\n",
       "      <td>0.000581</td>\n",
       "      <td>0.007173</td>\n",
       "      <td>3.001796</td>\n",
       "      <td>1.089962</td>\n",
       "      <td>2.993393</td>\n",
       "      <td>...</td>\n",
       "      <td>10.917786</td>\n",
       "      <td>0.035710</td>\n",
       "      <td>0.978495</td>\n",
       "      <td>1.001685</td>\n",
       "      <td>-0.010595</td>\n",
       "      <td>0.996927</td>\n",
       "      <td>2.022185</td>\n",
       "      <td>1.002878</td>\n",
       "      <td>2.996292</td>\n",
       "      <td>-0.004522</td>\n",
       "    </tr>\n",
       "    <tr>\n",
       "      <th>3</th>\n",
       "      <td>-0.001478</td>\n",
       "      <td>-0.000343</td>\n",
       "      <td>-0.008683</td>\n",
       "      <td>1.004147</td>\n",
       "      <td>0.991371</td>\n",
       "      <td>-0.000625</td>\n",
       "      <td>0.996184</td>\n",
       "      <td>2.009621</td>\n",
       "      <td>2.970988</td>\n",
       "      <td>2.000338</td>\n",
       "      <td>...</td>\n",
       "      <td>14.313135</td>\n",
       "      <td>0.000251</td>\n",
       "      <td>-0.006760</td>\n",
       "      <td>0.997397</td>\n",
       "      <td>0.998037</td>\n",
       "      <td>-0.005319</td>\n",
       "      <td>0.990380</td>\n",
       "      <td>1.014632</td>\n",
       "      <td>1.998063</td>\n",
       "      <td>1.977359</td>\n",
       "    </tr>\n",
       "    <tr>\n",
       "      <th>4</th>\n",
       "      <td>-0.001093</td>\n",
       "      <td>0.000621</td>\n",
       "      <td>0.999026</td>\n",
       "      <td>0.996208</td>\n",
       "      <td>-0.004932</td>\n",
       "      <td>0.000265</td>\n",
       "      <td>0.001643</td>\n",
       "      <td>1.979973</td>\n",
       "      <td>2.020905</td>\n",
       "      <td>1.045387</td>\n",
       "      <td>...</td>\n",
       "      <td>12.349138</td>\n",
       "      <td>-0.079910</td>\n",
       "      <td>-0.002386</td>\n",
       "      <td>1.004133</td>\n",
       "      <td>-0.004429</td>\n",
       "      <td>1.006835</td>\n",
       "      <td>4.021372</td>\n",
       "      <td>3.001947</td>\n",
       "      <td>2.000663</td>\n",
       "      <td>2.022732</td>\n",
       "    </tr>\n",
       "    <tr>\n",
       "      <th>...</th>\n",
       "      <td>...</td>\n",
       "      <td>...</td>\n",
       "      <td>...</td>\n",
       "      <td>...</td>\n",
       "      <td>...</td>\n",
       "      <td>...</td>\n",
       "      <td>...</td>\n",
       "      <td>...</td>\n",
       "      <td>...</td>\n",
       "      <td>...</td>\n",
       "      <td>...</td>\n",
       "      <td>...</td>\n",
       "      <td>...</td>\n",
       "      <td>...</td>\n",
       "      <td>...</td>\n",
       "      <td>...</td>\n",
       "      <td>...</td>\n",
       "      <td>...</td>\n",
       "      <td>...</td>\n",
       "      <td>...</td>\n",
       "      <td>...</td>\n",
       "    </tr>\n",
       "    <tr>\n",
       "      <th>19995</th>\n",
       "      <td>-0.000317</td>\n",
       "      <td>-0.000327</td>\n",
       "      <td>-0.001693</td>\n",
       "      <td>0.008492</td>\n",
       "      <td>0.000608</td>\n",
       "      <td>0.000241</td>\n",
       "      <td>0.007571</td>\n",
       "      <td>3.006836</td>\n",
       "      <td>0.998571</td>\n",
       "      <td>3.003426</td>\n",
       "      <td>...</td>\n",
       "      <td>15.706898</td>\n",
       "      <td>-0.038956</td>\n",
       "      <td>-0.006810</td>\n",
       "      <td>1.000280</td>\n",
       "      <td>0.000846</td>\n",
       "      <td>1.011457</td>\n",
       "      <td>0.993628</td>\n",
       "      <td>1.002600</td>\n",
       "      <td>2.996726</td>\n",
       "      <td>2.008579</td>\n",
       "    </tr>\n",
       "    <tr>\n",
       "      <th>19996</th>\n",
       "      <td>-0.000336</td>\n",
       "      <td>-0.000926</td>\n",
       "      <td>0.990768</td>\n",
       "      <td>-0.000134</td>\n",
       "      <td>0.989590</td>\n",
       "      <td>0.000578</td>\n",
       "      <td>0.001044</td>\n",
       "      <td>2.995032</td>\n",
       "      <td>2.997969</td>\n",
       "      <td>2.995451</td>\n",
       "      <td>...</td>\n",
       "      <td>12.245944</td>\n",
       "      <td>0.013110</td>\n",
       "      <td>-0.005977</td>\n",
       "      <td>0.999970</td>\n",
       "      <td>1.004115</td>\n",
       "      <td>-0.003230</td>\n",
       "      <td>1.025910</td>\n",
       "      <td>3.002584</td>\n",
       "      <td>3.002130</td>\n",
       "      <td>2.989722</td>\n",
       "    </tr>\n",
       "    <tr>\n",
       "      <th>19997</th>\n",
       "      <td>-0.001041</td>\n",
       "      <td>0.001073</td>\n",
       "      <td>-0.003173</td>\n",
       "      <td>0.002366</td>\n",
       "      <td>-0.004698</td>\n",
       "      <td>-0.000444</td>\n",
       "      <td>0.988572</td>\n",
       "      <td>1.018683</td>\n",
       "      <td>0.008094</td>\n",
       "      <td>2.000352</td>\n",
       "      <td>...</td>\n",
       "      <td>13.355493</td>\n",
       "      <td>10.088996</td>\n",
       "      <td>0.983227</td>\n",
       "      <td>0.997951</td>\n",
       "      <td>-0.006425</td>\n",
       "      <td>1.001346</td>\n",
       "      <td>1.018244</td>\n",
       "      <td>2.990417</td>\n",
       "      <td>2.997959</td>\n",
       "      <td>1.006635</td>\n",
       "    </tr>\n",
       "    <tr>\n",
       "      <th>19998</th>\n",
       "      <td>-0.000216</td>\n",
       "      <td>0.000524</td>\n",
       "      <td>0.994822</td>\n",
       "      <td>1.002644</td>\n",
       "      <td>-0.001384</td>\n",
       "      <td>-0.000915</td>\n",
       "      <td>0.003674</td>\n",
       "      <td>2.001410</td>\n",
       "      <td>1.064498</td>\n",
       "      <td>2.998743</td>\n",
       "      <td>...</td>\n",
       "      <td>11.942732</td>\n",
       "      <td>-0.053454</td>\n",
       "      <td>-0.007491</td>\n",
       "      <td>1.001232</td>\n",
       "      <td>0.004598</td>\n",
       "      <td>0.001756</td>\n",
       "      <td>4.066131</td>\n",
       "      <td>3.002627</td>\n",
       "      <td>2.999438</td>\n",
       "      <td>0.995724</td>\n",
       "    </tr>\n",
       "    <tr>\n",
       "      <th>19999</th>\n",
       "      <td>-0.001264</td>\n",
       "      <td>-0.000167</td>\n",
       "      <td>1.007524</td>\n",
       "      <td>1.012784</td>\n",
       "      <td>-0.003063</td>\n",
       "      <td>-0.002309</td>\n",
       "      <td>-0.000796</td>\n",
       "      <td>1.047839</td>\n",
       "      <td>1.993141</td>\n",
       "      <td>1.994246</td>\n",
       "      <td>...</td>\n",
       "      <td>11.048727</td>\n",
       "      <td>-0.096040</td>\n",
       "      <td>0.992801</td>\n",
       "      <td>1.006212</td>\n",
       "      <td>-0.000049</td>\n",
       "      <td>-0.010502</td>\n",
       "      <td>1.006213</td>\n",
       "      <td>3.975355</td>\n",
       "      <td>0.976656</td>\n",
       "      <td>1.017396</td>\n",
       "    </tr>\n",
       "  </tbody>\n",
       "</table>\n",
       "<p>20000 rows × 37 columns</p>\n",
       "</div>"
      ],
      "text/plain": [
       "       Drinks.alcohol  Smoking_stat  Has.refrigerator  Has.bicycle  \\\n",
       "0           -0.000993      0.000213          0.994702     0.999825   \n",
       "1           -0.001862     -0.000329          0.998074     1.001074   \n",
       "2           -0.000973     -0.001042          0.000822     0.992864   \n",
       "3           -0.001478     -0.000343         -0.008683     1.004147   \n",
       "4           -0.001093      0.000621          0.999026     0.996208   \n",
       "...               ...           ...               ...          ...   \n",
       "19995       -0.000317     -0.000327         -0.001693     0.008492   \n",
       "19996       -0.000336     -0.000926          0.990768    -0.000134   \n",
       "19997       -0.001041      0.001073         -0.003173     0.002366   \n",
       "19998       -0.000216      0.000524          0.994822     1.002644   \n",
       "19999       -0.001264     -0.000167          1.007524     1.012784   \n",
       "\n",
       "       Has.motorcycle.scooter  Has.car.truck  \\\n",
       "0                   -0.005094      -0.000282   \n",
       "1                    0.995040      -0.000323   \n",
       "2                    0.997658       0.000581   \n",
       "3                    0.991371      -0.000625   \n",
       "4                   -0.004932       0.000265   \n",
       "...                       ...            ...   \n",
       "19995                0.000608       0.000241   \n",
       "19996                0.989590       0.000578   \n",
       "19997               -0.004698      -0.000444   \n",
       "19998               -0.001384      -0.000915   \n",
       "19999               -0.003063      -0.002309   \n",
       "\n",
       "       Owns.livestock..herds.or.farm.animals  Frequency.takes.milk.or.curd  \\\n",
       "0                                   0.001248                      1.999052   \n",
       "1                                   0.003028                      1.997807   \n",
       "2                                   0.007173                      3.001796   \n",
       "3                                   0.996184                      2.009621   \n",
       "4                                   0.001643                      1.979973   \n",
       "...                                      ...                           ...   \n",
       "19995                               0.007571                      3.006836   \n",
       "19996                               0.001044                      2.995032   \n",
       "19997                               0.988572                      1.018683   \n",
       "19998                               0.003674                      2.001410   \n",
       "19999                              -0.000796                      1.047839   \n",
       "\n",
       "       Frequency.eats.pulses.or.beans  \\\n",
       "0                            3.016759   \n",
       "1                            2.990539   \n",
       "2                            1.089962   \n",
       "3                            2.970988   \n",
       "4                            2.020905   \n",
       "...                               ...   \n",
       "19995                        0.998571   \n",
       "19996                        2.997969   \n",
       "19997                        0.008094   \n",
       "19998                        1.064498   \n",
       "19999                        1.993141   \n",
       "\n",
       "       Frequency.eats.dark.green.leafy.vegetable  ...  \\\n",
       "0                                       3.006769  ...   \n",
       "1                                       2.984857  ...   \n",
       "2                                       2.993393  ...   \n",
       "3                                       2.000338  ...   \n",
       "4                                       1.045387  ...   \n",
       "...                                          ...  ...   \n",
       "19995                                   3.003426  ...   \n",
       "19996                                   2.995451  ...   \n",
       "19997                                   2.000352  ...   \n",
       "19998                                   2.998743  ...   \n",
       "19999                                   1.994246  ...   \n",
       "\n",
       "       Hemoglobin.level..g.dl...1.decimal.  \\\n",
       "0                                10.996827   \n",
       "1                                14.732986   \n",
       "2                                10.917786   \n",
       "3                                14.313135   \n",
       "4                                12.349138   \n",
       "...                                    ...   \n",
       "19995                            15.706898   \n",
       "19996                            12.245944   \n",
       "19997                            13.355493   \n",
       "19998                            11.942732   \n",
       "19999                            11.048727   \n",
       "\n",
       "       Time.to.get.to.water.source..minutes.  Household.head.s.religion  \\\n",
       "0                                  -0.013011                  -0.000517   \n",
       "1                                   0.004883                  -0.005301   \n",
       "2                                   0.035710                   0.978495   \n",
       "3                                   0.000251                  -0.006760   \n",
       "4                                  -0.079910                  -0.002386   \n",
       "...                                      ...                        ...   \n",
       "19995                              -0.038956                  -0.006810   \n",
       "19996                               0.013110                  -0.005977   \n",
       "19997                              10.088996                   0.983227   \n",
       "19998                              -0.053454                  -0.007491   \n",
       "19999                              -0.096040                   0.992801   \n",
       "\n",
       "            Sex  Type.of.place.of.residence  Household.structure  \\\n",
       "0      1.002002                    0.998949             1.001400   \n",
       "1      1.001003                    0.997525            -0.003557   \n",
       "2      1.001685                   -0.010595             0.996927   \n",
       "3      0.997397                    0.998037            -0.005319   \n",
       "4      1.004133                   -0.004429             1.006835   \n",
       "...         ...                         ...                  ...   \n",
       "19995  1.000280                    0.000846             1.011457   \n",
       "19996  0.999970                    1.004115            -0.003230   \n",
       "19997  0.997951                   -0.006425             1.001346   \n",
       "19998  1.001232                    0.004598             0.001756   \n",
       "19999  1.006212                   -0.000049            -0.010502   \n",
       "\n",
       "       Type.of.caste.or.tribe.of.the.household.head  Type.of.cooking.fuel  \\\n",
       "0                                          1.037886              3.005153   \n",
       "1                                          0.993656              2.995609   \n",
       "2                                          2.022185              1.002878   \n",
       "3                                          0.990380              1.014632   \n",
       "4                                          4.021372              3.001947   \n",
       "...                                             ...                   ...   \n",
       "19995                                      0.993628              1.002600   \n",
       "19996                                      1.025910              3.002584   \n",
       "19997                                      1.018244              2.990417   \n",
       "19998                                      4.066131              3.002627   \n",
       "19999                                      1.006213              3.975355   \n",
       "\n",
       "       Source.of.drinking.water    Target  \n",
       "0                      2.996143  0.996414  \n",
       "1                      1.999282  2.011266  \n",
       "2                      2.996292 -0.004522  \n",
       "3                      1.998063  1.977359  \n",
       "4                      2.000663  2.022732  \n",
       "...                         ...       ...  \n",
       "19995                  2.996726  2.008579  \n",
       "19996                  3.002130  2.989722  \n",
       "19997                  2.997959  1.006635  \n",
       "19998                  2.999438  0.995724  \n",
       "19999                  0.976656  1.017396  \n",
       "\n",
       "[20000 rows x 37 columns]"
      ]
     },
     "execution_count": 81,
     "metadata": {},
     "output_type": "execute_result"
    }
   ],
   "source": [
    "CTABGAN_syn_data.rename(columns=dicts,inplace=True)\n",
    "CTABGAN_syn_data"
   ]
  },
  {
   "cell_type": "code",
   "execution_count": 82,
   "id": "e776095d-7fec-4606-a392-109390b11cb4",
   "metadata": {},
   "outputs": [],
   "source": [
    "descrete_list_1=values[:25]"
   ]
  },
  {
   "cell_type": "code",
   "execution_count": 83,
   "id": "0d2b0a61-dc1a-4641-b2f6-a48199629c34",
   "metadata": {},
   "outputs": [],
   "source": [
    "descrete_list_2=values[29:]"
   ]
  },
  {
   "cell_type": "code",
   "execution_count": 84,
   "id": "de89dc03-5610-4ab1-942a-7002d7442191",
   "metadata": {},
   "outputs": [],
   "source": [
    "descrete_list=[*descrete_list_1, *descrete_list_2]"
   ]
  },
  {
   "cell_type": "code",
   "execution_count": 85,
   "id": "414306eb-b6fd-4e1f-b70b-5890a07cdd68",
   "metadata": {},
   "outputs": [
    {
     "data": {
      "text/plain": [
       "['Drinks.alcohol',\n",
       " 'Smoking_stat',\n",
       " 'Has.refrigerator',\n",
       " 'Has.bicycle',\n",
       " 'Has.motorcycle.scooter',\n",
       " 'Has.car.truck',\n",
       " 'Owns.livestock..herds.or.farm.animals',\n",
       " 'Frequency.takes.milk.or.curd',\n",
       " 'Frequency.eats.pulses.or.beans',\n",
       " 'Frequency.eats.dark.green.leafy.vegetable',\n",
       " 'Frequency.eats.fruits',\n",
       " 'Frequency.eats.eggs',\n",
       " 'Frequency.eats.fish',\n",
       " 'Frequency.eats.chicken.or.meat',\n",
       " 'Frequency.eats.fried.food',\n",
       " 'Frequency.takes.aerated.drinks',\n",
       " 'Frequency.household.members.smoke.inside.the.house',\n",
       " 'Wealth.index',\n",
       " 'Highest.educational.level',\n",
       " 'Currently.has.asthma',\n",
       " 'Currently.has.thyroid.disorder',\n",
       " 'Currently.has.heart.disease',\n",
       " 'Currently.has.cancer',\n",
       " 'Suffers.from.TB',\n",
       " 'HTN',\n",
       " 'Household.head.s.religion',\n",
       " 'Sex',\n",
       " 'Type.of.place.of.residence',\n",
       " 'Household.structure',\n",
       " 'Type.of.caste.or.tribe.of.the.household.head',\n",
       " 'Type.of.cooking.fuel',\n",
       " 'Source.of.drinking.water',\n",
       " 'Target']"
      ]
     },
     "execution_count": 85,
     "metadata": {},
     "output_type": "execute_result"
    }
   ],
   "source": [
    "descrete_list"
   ]
  },
  {
   "cell_type": "code",
   "execution_count": 86,
   "id": "75b86862",
   "metadata": {},
   "outputs": [],
   "source": [
    "for i in descrete_list:\n",
    "    CTABGAN_syn_data[i]=abs(np.round(CTABGAN_syn_data[i]))"
   ]
  },
  {
   "cell_type": "code",
   "execution_count": 87,
   "id": "97c1d1bd",
   "metadata": {},
   "outputs": [],
   "source": [
    "CTABGAN_syn_data['Target']=CTABGAN_syn_data['Target'].astype('int')"
   ]
  },
  {
   "cell_type": "code",
   "execution_count": 88,
   "id": "a7ce2720-13da-4aa4-b167-34538552d9e8",
   "metadata": {},
   "outputs": [
    {
     "data": {
      "text/html": [
       "<div>\n",
       "<style scoped>\n",
       "    .dataframe tbody tr th:only-of-type {\n",
       "        vertical-align: middle;\n",
       "    }\n",
       "\n",
       "    .dataframe tbody tr th {\n",
       "        vertical-align: top;\n",
       "    }\n",
       "\n",
       "    .dataframe thead th {\n",
       "        text-align: right;\n",
       "    }\n",
       "</style>\n",
       "<table border=\"1\" class=\"dataframe\">\n",
       "  <thead>\n",
       "    <tr style=\"text-align: right;\">\n",
       "      <th></th>\n",
       "      <th>Drinks.alcohol</th>\n",
       "      <th>Smoking_stat</th>\n",
       "      <th>Has.refrigerator</th>\n",
       "      <th>Has.bicycle</th>\n",
       "      <th>Has.motorcycle.scooter</th>\n",
       "      <th>Has.car.truck</th>\n",
       "      <th>Owns.livestock..herds.or.farm.animals</th>\n",
       "      <th>Frequency.takes.milk.or.curd</th>\n",
       "      <th>Frequency.eats.pulses.or.beans</th>\n",
       "      <th>Frequency.eats.dark.green.leafy.vegetable</th>\n",
       "      <th>...</th>\n",
       "      <th>Hemoglobin.level..g.dl...1.decimal.</th>\n",
       "      <th>Time.to.get.to.water.source..minutes.</th>\n",
       "      <th>Household.head.s.religion</th>\n",
       "      <th>Sex</th>\n",
       "      <th>Type.of.place.of.residence</th>\n",
       "      <th>Household.structure</th>\n",
       "      <th>Type.of.caste.or.tribe.of.the.household.head</th>\n",
       "      <th>Type.of.cooking.fuel</th>\n",
       "      <th>Source.of.drinking.water</th>\n",
       "      <th>Target</th>\n",
       "    </tr>\n",
       "  </thead>\n",
       "  <tbody>\n",
       "    <tr>\n",
       "      <th>0</th>\n",
       "      <td>0.0</td>\n",
       "      <td>0.0</td>\n",
       "      <td>1.0</td>\n",
       "      <td>1.0</td>\n",
       "      <td>0.0</td>\n",
       "      <td>0.0</td>\n",
       "      <td>0.0</td>\n",
       "      <td>2.0</td>\n",
       "      <td>3.0</td>\n",
       "      <td>3.0</td>\n",
       "      <td>...</td>\n",
       "      <td>10.996827</td>\n",
       "      <td>-0.013011</td>\n",
       "      <td>0.0</td>\n",
       "      <td>1.0</td>\n",
       "      <td>1.0</td>\n",
       "      <td>1.0</td>\n",
       "      <td>1.0</td>\n",
       "      <td>3.0</td>\n",
       "      <td>3.0</td>\n",
       "      <td>1</td>\n",
       "    </tr>\n",
       "    <tr>\n",
       "      <th>1</th>\n",
       "      <td>0.0</td>\n",
       "      <td>0.0</td>\n",
       "      <td>1.0</td>\n",
       "      <td>1.0</td>\n",
       "      <td>1.0</td>\n",
       "      <td>0.0</td>\n",
       "      <td>0.0</td>\n",
       "      <td>2.0</td>\n",
       "      <td>3.0</td>\n",
       "      <td>3.0</td>\n",
       "      <td>...</td>\n",
       "      <td>14.732986</td>\n",
       "      <td>0.004883</td>\n",
       "      <td>0.0</td>\n",
       "      <td>1.0</td>\n",
       "      <td>1.0</td>\n",
       "      <td>0.0</td>\n",
       "      <td>1.0</td>\n",
       "      <td>3.0</td>\n",
       "      <td>2.0</td>\n",
       "      <td>2</td>\n",
       "    </tr>\n",
       "    <tr>\n",
       "      <th>2</th>\n",
       "      <td>0.0</td>\n",
       "      <td>0.0</td>\n",
       "      <td>0.0</td>\n",
       "      <td>1.0</td>\n",
       "      <td>1.0</td>\n",
       "      <td>0.0</td>\n",
       "      <td>0.0</td>\n",
       "      <td>3.0</td>\n",
       "      <td>1.0</td>\n",
       "      <td>3.0</td>\n",
       "      <td>...</td>\n",
       "      <td>10.917786</td>\n",
       "      <td>0.035710</td>\n",
       "      <td>1.0</td>\n",
       "      <td>1.0</td>\n",
       "      <td>0.0</td>\n",
       "      <td>1.0</td>\n",
       "      <td>2.0</td>\n",
       "      <td>1.0</td>\n",
       "      <td>3.0</td>\n",
       "      <td>0</td>\n",
       "    </tr>\n",
       "    <tr>\n",
       "      <th>3</th>\n",
       "      <td>0.0</td>\n",
       "      <td>0.0</td>\n",
       "      <td>0.0</td>\n",
       "      <td>1.0</td>\n",
       "      <td>1.0</td>\n",
       "      <td>0.0</td>\n",
       "      <td>1.0</td>\n",
       "      <td>2.0</td>\n",
       "      <td>3.0</td>\n",
       "      <td>2.0</td>\n",
       "      <td>...</td>\n",
       "      <td>14.313135</td>\n",
       "      <td>0.000251</td>\n",
       "      <td>0.0</td>\n",
       "      <td>1.0</td>\n",
       "      <td>1.0</td>\n",
       "      <td>0.0</td>\n",
       "      <td>1.0</td>\n",
       "      <td>1.0</td>\n",
       "      <td>2.0</td>\n",
       "      <td>2</td>\n",
       "    </tr>\n",
       "    <tr>\n",
       "      <th>4</th>\n",
       "      <td>0.0</td>\n",
       "      <td>0.0</td>\n",
       "      <td>1.0</td>\n",
       "      <td>1.0</td>\n",
       "      <td>0.0</td>\n",
       "      <td>0.0</td>\n",
       "      <td>0.0</td>\n",
       "      <td>2.0</td>\n",
       "      <td>2.0</td>\n",
       "      <td>1.0</td>\n",
       "      <td>...</td>\n",
       "      <td>12.349138</td>\n",
       "      <td>-0.079910</td>\n",
       "      <td>0.0</td>\n",
       "      <td>1.0</td>\n",
       "      <td>0.0</td>\n",
       "      <td>1.0</td>\n",
       "      <td>4.0</td>\n",
       "      <td>3.0</td>\n",
       "      <td>2.0</td>\n",
       "      <td>2</td>\n",
       "    </tr>\n",
       "    <tr>\n",
       "      <th>...</th>\n",
       "      <td>...</td>\n",
       "      <td>...</td>\n",
       "      <td>...</td>\n",
       "      <td>...</td>\n",
       "      <td>...</td>\n",
       "      <td>...</td>\n",
       "      <td>...</td>\n",
       "      <td>...</td>\n",
       "      <td>...</td>\n",
       "      <td>...</td>\n",
       "      <td>...</td>\n",
       "      <td>...</td>\n",
       "      <td>...</td>\n",
       "      <td>...</td>\n",
       "      <td>...</td>\n",
       "      <td>...</td>\n",
       "      <td>...</td>\n",
       "      <td>...</td>\n",
       "      <td>...</td>\n",
       "      <td>...</td>\n",
       "      <td>...</td>\n",
       "    </tr>\n",
       "    <tr>\n",
       "      <th>19995</th>\n",
       "      <td>0.0</td>\n",
       "      <td>0.0</td>\n",
       "      <td>0.0</td>\n",
       "      <td>0.0</td>\n",
       "      <td>0.0</td>\n",
       "      <td>0.0</td>\n",
       "      <td>0.0</td>\n",
       "      <td>3.0</td>\n",
       "      <td>1.0</td>\n",
       "      <td>3.0</td>\n",
       "      <td>...</td>\n",
       "      <td>15.706898</td>\n",
       "      <td>-0.038956</td>\n",
       "      <td>0.0</td>\n",
       "      <td>1.0</td>\n",
       "      <td>0.0</td>\n",
       "      <td>1.0</td>\n",
       "      <td>1.0</td>\n",
       "      <td>1.0</td>\n",
       "      <td>3.0</td>\n",
       "      <td>2</td>\n",
       "    </tr>\n",
       "    <tr>\n",
       "      <th>19996</th>\n",
       "      <td>0.0</td>\n",
       "      <td>0.0</td>\n",
       "      <td>1.0</td>\n",
       "      <td>0.0</td>\n",
       "      <td>1.0</td>\n",
       "      <td>0.0</td>\n",
       "      <td>0.0</td>\n",
       "      <td>3.0</td>\n",
       "      <td>3.0</td>\n",
       "      <td>3.0</td>\n",
       "      <td>...</td>\n",
       "      <td>12.245944</td>\n",
       "      <td>0.013110</td>\n",
       "      <td>0.0</td>\n",
       "      <td>1.0</td>\n",
       "      <td>1.0</td>\n",
       "      <td>0.0</td>\n",
       "      <td>1.0</td>\n",
       "      <td>3.0</td>\n",
       "      <td>3.0</td>\n",
       "      <td>3</td>\n",
       "    </tr>\n",
       "    <tr>\n",
       "      <th>19997</th>\n",
       "      <td>0.0</td>\n",
       "      <td>0.0</td>\n",
       "      <td>0.0</td>\n",
       "      <td>0.0</td>\n",
       "      <td>0.0</td>\n",
       "      <td>0.0</td>\n",
       "      <td>1.0</td>\n",
       "      <td>1.0</td>\n",
       "      <td>0.0</td>\n",
       "      <td>2.0</td>\n",
       "      <td>...</td>\n",
       "      <td>13.355493</td>\n",
       "      <td>10.088996</td>\n",
       "      <td>1.0</td>\n",
       "      <td>1.0</td>\n",
       "      <td>0.0</td>\n",
       "      <td>1.0</td>\n",
       "      <td>1.0</td>\n",
       "      <td>3.0</td>\n",
       "      <td>3.0</td>\n",
       "      <td>1</td>\n",
       "    </tr>\n",
       "    <tr>\n",
       "      <th>19998</th>\n",
       "      <td>0.0</td>\n",
       "      <td>0.0</td>\n",
       "      <td>1.0</td>\n",
       "      <td>1.0</td>\n",
       "      <td>0.0</td>\n",
       "      <td>0.0</td>\n",
       "      <td>0.0</td>\n",
       "      <td>2.0</td>\n",
       "      <td>1.0</td>\n",
       "      <td>3.0</td>\n",
       "      <td>...</td>\n",
       "      <td>11.942732</td>\n",
       "      <td>-0.053454</td>\n",
       "      <td>0.0</td>\n",
       "      <td>1.0</td>\n",
       "      <td>0.0</td>\n",
       "      <td>0.0</td>\n",
       "      <td>4.0</td>\n",
       "      <td>3.0</td>\n",
       "      <td>3.0</td>\n",
       "      <td>1</td>\n",
       "    </tr>\n",
       "    <tr>\n",
       "      <th>19999</th>\n",
       "      <td>0.0</td>\n",
       "      <td>0.0</td>\n",
       "      <td>1.0</td>\n",
       "      <td>1.0</td>\n",
       "      <td>0.0</td>\n",
       "      <td>0.0</td>\n",
       "      <td>0.0</td>\n",
       "      <td>1.0</td>\n",
       "      <td>2.0</td>\n",
       "      <td>2.0</td>\n",
       "      <td>...</td>\n",
       "      <td>11.048727</td>\n",
       "      <td>-0.096040</td>\n",
       "      <td>1.0</td>\n",
       "      <td>1.0</td>\n",
       "      <td>0.0</td>\n",
       "      <td>0.0</td>\n",
       "      <td>1.0</td>\n",
       "      <td>4.0</td>\n",
       "      <td>1.0</td>\n",
       "      <td>1</td>\n",
       "    </tr>\n",
       "  </tbody>\n",
       "</table>\n",
       "<p>20000 rows × 37 columns</p>\n",
       "</div>"
      ],
      "text/plain": [
       "       Drinks.alcohol  Smoking_stat  Has.refrigerator  Has.bicycle  \\\n",
       "0                 0.0           0.0               1.0          1.0   \n",
       "1                 0.0           0.0               1.0          1.0   \n",
       "2                 0.0           0.0               0.0          1.0   \n",
       "3                 0.0           0.0               0.0          1.0   \n",
       "4                 0.0           0.0               1.0          1.0   \n",
       "...               ...           ...               ...          ...   \n",
       "19995             0.0           0.0               0.0          0.0   \n",
       "19996             0.0           0.0               1.0          0.0   \n",
       "19997             0.0           0.0               0.0          0.0   \n",
       "19998             0.0           0.0               1.0          1.0   \n",
       "19999             0.0           0.0               1.0          1.0   \n",
       "\n",
       "       Has.motorcycle.scooter  Has.car.truck  \\\n",
       "0                         0.0            0.0   \n",
       "1                         1.0            0.0   \n",
       "2                         1.0            0.0   \n",
       "3                         1.0            0.0   \n",
       "4                         0.0            0.0   \n",
       "...                       ...            ...   \n",
       "19995                     0.0            0.0   \n",
       "19996                     1.0            0.0   \n",
       "19997                     0.0            0.0   \n",
       "19998                     0.0            0.0   \n",
       "19999                     0.0            0.0   \n",
       "\n",
       "       Owns.livestock..herds.or.farm.animals  Frequency.takes.milk.or.curd  \\\n",
       "0                                        0.0                           2.0   \n",
       "1                                        0.0                           2.0   \n",
       "2                                        0.0                           3.0   \n",
       "3                                        1.0                           2.0   \n",
       "4                                        0.0                           2.0   \n",
       "...                                      ...                           ...   \n",
       "19995                                    0.0                           3.0   \n",
       "19996                                    0.0                           3.0   \n",
       "19997                                    1.0                           1.0   \n",
       "19998                                    0.0                           2.0   \n",
       "19999                                    0.0                           1.0   \n",
       "\n",
       "       Frequency.eats.pulses.or.beans  \\\n",
       "0                                 3.0   \n",
       "1                                 3.0   \n",
       "2                                 1.0   \n",
       "3                                 3.0   \n",
       "4                                 2.0   \n",
       "...                               ...   \n",
       "19995                             1.0   \n",
       "19996                             3.0   \n",
       "19997                             0.0   \n",
       "19998                             1.0   \n",
       "19999                             2.0   \n",
       "\n",
       "       Frequency.eats.dark.green.leafy.vegetable  ...  \\\n",
       "0                                            3.0  ...   \n",
       "1                                            3.0  ...   \n",
       "2                                            3.0  ...   \n",
       "3                                            2.0  ...   \n",
       "4                                            1.0  ...   \n",
       "...                                          ...  ...   \n",
       "19995                                        3.0  ...   \n",
       "19996                                        3.0  ...   \n",
       "19997                                        2.0  ...   \n",
       "19998                                        3.0  ...   \n",
       "19999                                        2.0  ...   \n",
       "\n",
       "       Hemoglobin.level..g.dl...1.decimal.  \\\n",
       "0                                10.996827   \n",
       "1                                14.732986   \n",
       "2                                10.917786   \n",
       "3                                14.313135   \n",
       "4                                12.349138   \n",
       "...                                    ...   \n",
       "19995                            15.706898   \n",
       "19996                            12.245944   \n",
       "19997                            13.355493   \n",
       "19998                            11.942732   \n",
       "19999                            11.048727   \n",
       "\n",
       "       Time.to.get.to.water.source..minutes.  Household.head.s.religion  Sex  \\\n",
       "0                                  -0.013011                        0.0  1.0   \n",
       "1                                   0.004883                        0.0  1.0   \n",
       "2                                   0.035710                        1.0  1.0   \n",
       "3                                   0.000251                        0.0  1.0   \n",
       "4                                  -0.079910                        0.0  1.0   \n",
       "...                                      ...                        ...  ...   \n",
       "19995                              -0.038956                        0.0  1.0   \n",
       "19996                               0.013110                        0.0  1.0   \n",
       "19997                              10.088996                        1.0  1.0   \n",
       "19998                              -0.053454                        0.0  1.0   \n",
       "19999                              -0.096040                        1.0  1.0   \n",
       "\n",
       "       Type.of.place.of.residence  Household.structure  \\\n",
       "0                             1.0                  1.0   \n",
       "1                             1.0                  0.0   \n",
       "2                             0.0                  1.0   \n",
       "3                             1.0                  0.0   \n",
       "4                             0.0                  1.0   \n",
       "...                           ...                  ...   \n",
       "19995                         0.0                  1.0   \n",
       "19996                         1.0                  0.0   \n",
       "19997                         0.0                  1.0   \n",
       "19998                         0.0                  0.0   \n",
       "19999                         0.0                  0.0   \n",
       "\n",
       "       Type.of.caste.or.tribe.of.the.household.head  Type.of.cooking.fuel  \\\n",
       "0                                               1.0                   3.0   \n",
       "1                                               1.0                   3.0   \n",
       "2                                               2.0                   1.0   \n",
       "3                                               1.0                   1.0   \n",
       "4                                               4.0                   3.0   \n",
       "...                                             ...                   ...   \n",
       "19995                                           1.0                   1.0   \n",
       "19996                                           1.0                   3.0   \n",
       "19997                                           1.0                   3.0   \n",
       "19998                                           4.0                   3.0   \n",
       "19999                                           1.0                   4.0   \n",
       "\n",
       "       Source.of.drinking.water  Target  \n",
       "0                           3.0       1  \n",
       "1                           2.0       2  \n",
       "2                           3.0       0  \n",
       "3                           2.0       2  \n",
       "4                           2.0       2  \n",
       "...                         ...     ...  \n",
       "19995                       3.0       2  \n",
       "19996                       3.0       3  \n",
       "19997                       3.0       1  \n",
       "19998                       3.0       1  \n",
       "19999                       1.0       1  \n",
       "\n",
       "[20000 rows x 37 columns]"
      ]
     },
     "execution_count": 88,
     "metadata": {},
     "output_type": "execute_result"
    }
   ],
   "source": [
    "CTABGAN_syn_data"
   ]
  },
  {
   "cell_type": "code",
   "execution_count": 89,
   "id": "29392c0b-f5c5-4b8e-909c-7be8d8559ccd",
   "metadata": {},
   "outputs": [],
   "source": [
    "from fdc.NN_models import *"
   ]
  },
  {
   "cell_type": "code",
   "execution_count": 90,
   "id": "f40de640-2700-4f72-93f0-056b02695d86",
   "metadata": {},
   "outputs": [],
   "source": [
    "def balanced_synthetic_data_CTABGAN(org_data,syn_data,model,descrete_list):\n",
    "    org_data_len = org_data.shape[0]\n",
    "    column_names = list( syn_data.columns)\n",
    "    df_list=[]\n",
    "    n = np.round(org_data_len/len(np.unique(org_data.iloc[:,-1])))\n",
    "    for i in np.unique(org_data.iloc[:,-1]):\n",
    "        m = len(syn_data[syn_data['Target']==i])\n",
    "\n",
    "        if m < n:\n",
    "            syn_data = model.generateData(10000*int(np.round(n/m)+2))\n",
    "            \n",
    "            syn_data = pd.DataFrame(syn_data,columns=column_names)\n",
    "            for i in descrete_list:\n",
    "                syn_data[i]=abs(np.round(syn_data[i]))\n",
    "            syn_data['Target']=syn_data['Target'].astype('int')\n",
    "            print(syn_data['Target'].value_counts())\n",
    "            #print(syn_data)\n",
    "        c_i=syn_data[syn_data['Target']==i]\n",
    "        c_i=c_i.sample(n=int(n),axis=0)\n",
    "        df_list.append(c_i)\n",
    "    balanced_df=pd.concat(df_list,names=column_names)\n",
    "    return balanced_df "
   ]
  },
  {
   "cell_type": "code",
   "execution_count": 91,
   "id": "d3c4ba9a",
   "metadata": {
    "tags": []
   },
   "outputs": [],
   "source": [
    "\n",
    "CTABGAN_syn_data=balanced_synthetic_data_CTABGAN(pd.DataFrame(train_features),CTABGAN_syn_data,gen, descrete_list)"
   ]
  },
  {
   "cell_type": "code",
   "execution_count": 92,
   "id": "f1589e22",
   "metadata": {},
   "outputs": [],
   "source": [
    "CTABGAN_syn_data.to_csv('T2DM_CTABGAN_syn_data.csv',index=False)"
   ]
  },
  {
   "cell_type": "code",
   "execution_count": 93,
   "id": "2e2a98f4",
   "metadata": {},
   "outputs": [],
   "source": [
    "np.random.seed(42)\n",
    "CTABGAN_syn_data=CTABGAN_syn_data.sample(frac=1) #Shuffle the data set\n",
    "np.random.seed(42)\n",
    "i=[x for x in range(np.shape(CTABGAN_syn_data)[0])]\n",
    "\n",
    "CTABGAN_syn_data.set_index(pd.Series(i), inplace=True)"
   ]
  },
  {
   "cell_type": "markdown",
   "id": "0870bbcf",
   "metadata": {},
   "source": [
    "### Train-test split on CTABGAN generated synthetic data points"
   ]
  },
  {
   "cell_type": "code",
   "execution_count": 94,
   "id": "4316e6f7",
   "metadata": {},
   "outputs": [],
   "source": [
    "syn_train_features, syn_test_features, syn_train_labels, syn_test_labels = train_test_split(np.array(CTABGAN_syn_data.drop([\"Target\"],axis=1)), np.array(CTABGAN_syn_data[\"Target\"]), test_size = 0.25, random_state = 42)"
   ]
  },
  {
   "cell_type": "markdown",
   "id": "2dd8dfce",
   "metadata": {},
   "source": [
    "### Gradient boosting classifier on CTABGAN generated synthetic training data  (Model-2)"
   ]
  },
  {
   "cell_type": "code",
   "execution_count": 95,
   "id": "a77cbf2d",
   "metadata": {},
   "outputs": [],
   "source": [
    "from sklearn.ensemble import GradientBoostingClassifier\n",
    "CTABGAN_model_2 = GradientBoostingClassifier(n_estimators=20, learning_rate=0.5, max_features=2, max_depth=2, random_state=42)\n"
   ]
  },
  {
   "cell_type": "markdown",
   "id": "6a017e76",
   "metadata": {},
   "source": [
    "### 5 Fold Cross validation"
   ]
  },
  {
   "cell_type": "code",
   "execution_count": 96,
   "id": "8da0a1b2",
   "metadata": {},
   "outputs": [
    {
     "name": "stdout",
     "output_type": "stream",
     "text": [
      "[0.2475856  0.26514486 0.26514486 0.25812116 0.27680141]\n",
      "Avg : 0.26255957882457864\n"
     ]
    }
   ],
   "source": [
    "score_lr=cross_val_score(CTABGAN_model_2, syn_train_features, syn_train_labels,cv=5)\n",
    "print(score_lr)\n",
    "print(\"Avg :\",np.average(score_lr))\n"
   ]
  },
  {
   "cell_type": "code",
   "execution_count": 97,
   "id": "24c8050a",
   "metadata": {},
   "outputs": [
    {
     "data": {
      "text/html": [
       "<style>#sk-container-id-4 {color: black;background-color: white;}#sk-container-id-4 pre{padding: 0;}#sk-container-id-4 div.sk-toggleable {background-color: white;}#sk-container-id-4 label.sk-toggleable__label {cursor: pointer;display: block;width: 100%;margin-bottom: 0;padding: 0.3em;box-sizing: border-box;text-align: center;}#sk-container-id-4 label.sk-toggleable__label-arrow:before {content: \"▸\";float: left;margin-right: 0.25em;color: #696969;}#sk-container-id-4 label.sk-toggleable__label-arrow:hover:before {color: black;}#sk-container-id-4 div.sk-estimator:hover label.sk-toggleable__label-arrow:before {color: black;}#sk-container-id-4 div.sk-toggleable__content {max-height: 0;max-width: 0;overflow: hidden;text-align: left;background-color: #f0f8ff;}#sk-container-id-4 div.sk-toggleable__content pre {margin: 0.2em;color: black;border-radius: 0.25em;background-color: #f0f8ff;}#sk-container-id-4 input.sk-toggleable__control:checked~div.sk-toggleable__content {max-height: 200px;max-width: 100%;overflow: auto;}#sk-container-id-4 input.sk-toggleable__control:checked~label.sk-toggleable__label-arrow:before {content: \"▾\";}#sk-container-id-4 div.sk-estimator input.sk-toggleable__control:checked~label.sk-toggleable__label {background-color: #d4ebff;}#sk-container-id-4 div.sk-label input.sk-toggleable__control:checked~label.sk-toggleable__label {background-color: #d4ebff;}#sk-container-id-4 input.sk-hidden--visually {border: 0;clip: rect(1px 1px 1px 1px);clip: rect(1px, 1px, 1px, 1px);height: 1px;margin: -1px;overflow: hidden;padding: 0;position: absolute;width: 1px;}#sk-container-id-4 div.sk-estimator {font-family: monospace;background-color: #f0f8ff;border: 1px dotted black;border-radius: 0.25em;box-sizing: border-box;margin-bottom: 0.5em;}#sk-container-id-4 div.sk-estimator:hover {background-color: #d4ebff;}#sk-container-id-4 div.sk-parallel-item::after {content: \"\";width: 100%;border-bottom: 1px solid gray;flex-grow: 1;}#sk-container-id-4 div.sk-label:hover label.sk-toggleable__label {background-color: #d4ebff;}#sk-container-id-4 div.sk-serial::before {content: \"\";position: absolute;border-left: 1px solid gray;box-sizing: border-box;top: 0;bottom: 0;left: 50%;z-index: 0;}#sk-container-id-4 div.sk-serial {display: flex;flex-direction: column;align-items: center;background-color: white;padding-right: 0.2em;padding-left: 0.2em;position: relative;}#sk-container-id-4 div.sk-item {position: relative;z-index: 1;}#sk-container-id-4 div.sk-parallel {display: flex;align-items: stretch;justify-content: center;background-color: white;position: relative;}#sk-container-id-4 div.sk-item::before, #sk-container-id-4 div.sk-parallel-item::before {content: \"\";position: absolute;border-left: 1px solid gray;box-sizing: border-box;top: 0;bottom: 0;left: 50%;z-index: -1;}#sk-container-id-4 div.sk-parallel-item {display: flex;flex-direction: column;z-index: 1;position: relative;background-color: white;}#sk-container-id-4 div.sk-parallel-item:first-child::after {align-self: flex-end;width: 50%;}#sk-container-id-4 div.sk-parallel-item:last-child::after {align-self: flex-start;width: 50%;}#sk-container-id-4 div.sk-parallel-item:only-child::after {width: 0;}#sk-container-id-4 div.sk-dashed-wrapped {border: 1px dashed gray;margin: 0 0.4em 0.5em 0.4em;box-sizing: border-box;padding-bottom: 0.4em;background-color: white;}#sk-container-id-4 div.sk-label label {font-family: monospace;font-weight: bold;display: inline-block;line-height: 1.2em;}#sk-container-id-4 div.sk-label-container {text-align: center;}#sk-container-id-4 div.sk-container {/* jupyter's `normalize.less` sets `[hidden] { display: none; }` but bootstrap.min.css set `[hidden] { display: none !important; }` so we also need the `!important` here to be able to override the default hidden behavior on the sphinx rendered scikit-learn.org. See: https://github.com/scikit-learn/scikit-learn/issues/21755 */display: inline-block !important;position: relative;}#sk-container-id-4 div.sk-text-repr-fallback {display: none;}</style><div id=\"sk-container-id-4\" class=\"sk-top-container\"><div class=\"sk-text-repr-fallback\"><pre>GradientBoostingClassifier(learning_rate=0.5, max_depth=2, max_features=2,\n",
       "                           n_estimators=20, random_state=42)</pre><b>In a Jupyter environment, please rerun this cell to show the HTML representation or trust the notebook. <br />On GitHub, the HTML representation is unable to render, please try loading this page with nbviewer.org.</b></div><div class=\"sk-container\" hidden><div class=\"sk-item\"><div class=\"sk-estimator sk-toggleable\"><input class=\"sk-toggleable__control sk-hidden--visually\" id=\"sk-estimator-id-4\" type=\"checkbox\" checked><label for=\"sk-estimator-id-4\" class=\"sk-toggleable__label sk-toggleable__label-arrow\">GradientBoostingClassifier</label><div class=\"sk-toggleable__content\"><pre>GradientBoostingClassifier(learning_rate=0.5, max_depth=2, max_features=2,\n",
       "                           n_estimators=20, random_state=42)</pre></div></div></div></div></div>"
      ],
      "text/plain": [
       "GradientBoostingClassifier(learning_rate=0.5, max_depth=2, max_features=2,\n",
       "                           n_estimators=20, random_state=42)"
      ]
     },
     "execution_count": 97,
     "metadata": {},
     "output_type": "execute_result"
    }
   ],
   "source": [
    "CTABGAN_model_2.fit(syn_train_features,syn_train_labels )"
   ]
  },
  {
   "cell_type": "markdown",
   "id": "150fd662",
   "metadata": {},
   "source": [
    "### Case-1: predicting validation data using Model-1\n"
   ]
  },
  {
   "cell_type": "code",
   "execution_count": 98,
   "id": "fd6df21b",
   "metadata": {},
   "outputs": [
    {
     "name": "stdout",
     "output_type": "stream",
     "text": [
      "F1_Score of cluster 0 is 0.8588312541037427\n",
      "Geometric mean of cluster 0 is 0.8591129761950762\n",
      "Correctly predicted data points in cluster 0 is 88.14016172506739%\n",
      "\n",
      "\n",
      "F1_Score of cluster 1 is 0.9044776119402985\n",
      "Geometric mean of cluster 1 is 0.9046227178879952\n",
      "Correctly predicted data points in cluster 1 is 92.09726443768997%\n",
      "\n",
      "\n",
      "F1_Score of cluster 2 is 0.8421052631578947\n",
      "Geometric mean of cluster 2 is 0.8427797568688796\n",
      "Correctly predicted data points in cluster 2 is 87.71929824561403%\n",
      "\n",
      "\n",
      "F1_Score of cluster 3 is 0.7731958762886598\n",
      "Geometric mean of cluster 3 is 0.7826098791840771\n",
      "Correctly predicted data points in cluster 3 is 66.96428571428571%\n",
      "\n",
      "\n",
      "weigted average F1_Score of all clusters is 0.8510232274008741\n",
      "weighted average Geometric mean of all clusters is 0.8529913729383206\n",
      "weighted average of Correctly predicted data points in all clusters is 85.30805687203791%\n"
     ]
    }
   ],
   "source": [
    "x=model_1.predict(np.array(test_features))\n",
    "cluster_wise_F1score(list(test_labels),list(x))"
   ]
  },
  {
   "cell_type": "markdown",
   "id": "95c75ffc",
   "metadata": {},
   "source": [
    "### Case-2: predicting validation data using Model-2\n"
   ]
  },
  {
   "cell_type": "code",
   "execution_count": 99,
   "id": "d1cd5f9b",
   "metadata": {},
   "outputs": [
    {
     "name": "stdout",
     "output_type": "stream",
     "text": [
      "F1_Score of cluster 0 is 0.2828713574982231\n",
      "Geometric mean of cluster 0 is 0.2832959077493112\n",
      "Correctly predicted data points in cluster 0 is 26.819407008086255%\n",
      "\n",
      "\n",
      "F1_Score of cluster 1 is 0.30446194225721784\n",
      "Geometric mean of cluster 1 is 0.3073378806144509\n",
      "Correctly predicted data points in cluster 1 is 35.25835866261398%\n",
      "\n",
      "\n",
      "F1_Score of cluster 2 is 0.14986619090098127\n",
      "Geometric mean of cluster 2 is 0.15364219983152877\n",
      "Correctly predicted data points in cluster 2 is 12.280701754385964%\n",
      "\n",
      "\n",
      "F1_Score of cluster 3 is 0.11067193675889328\n",
      "Geometric mean of cluster 3 is 0.1114062274638653\n",
      "Correctly predicted data points in cluster 3 is 12.5%\n",
      "\n",
      "\n",
      "weigted average F1_Score of all clusters is 0.22208373124533426\n",
      "weighted average Geometric mean of all clusters is 0.2241055069442634\n",
      "weighted average of Correctly predicted data points in all clusters is 22.55134281200632%\n"
     ]
    }
   ],
   "source": [
    "y=CTABGAN_model_2.predict(np.array(test_features))\n",
    "\n",
    "cluster_wise_F1score(list(test_labels),list(y))"
   ]
  },
  {
   "cell_type": "markdown",
   "id": "fc2aaee0",
   "metadata": {},
   "source": [
    "### Comparing predicted values from Case-1 & Case-2"
   ]
  },
  {
   "cell_type": "code",
   "execution_count": 100,
   "id": "3b5b6164",
   "metadata": {},
   "outputs": [
    {
     "name": "stdout",
     "output_type": "stream",
     "text": [
      "F1_Score of cluster 0 is 0.30567081604426\n",
      "Geometric mean of cluster 0 is 0.30665915461433246\n",
      "Correctly predicted data points in cluster 0 is 28.297055057618437%\n",
      "\n",
      "\n",
      "F1_Score of cluster 1 is 0.330749354005168\n",
      "Geometric mean of cluster 1 is 0.33311089090223023\n",
      "Correctly predicted data points in cluster 1 is 37.5366568914956%\n",
      "\n",
      "\n",
      "F1_Score of cluster 2 is 0.1494057724957555\n",
      "Geometric mean of cluster 2 is 0.15464391992075696\n",
      "Correctly predicted data points in cluster 2 is 11.875843454790823%\n",
      "\n",
      "\n",
      "F1_Score of cluster 3 is 0.09865470852017938\n",
      "Geometric mean of cluster 3 is 0.10230013401326334\n",
      "Correctly predicted data points in cluster 3 is 13.414634146341465%\n",
      "\n",
      "\n",
      "weigted average F1_Score of all clusters is 0.23987693071724536\n",
      "weighted average Geometric mean of all clusters is 0.24282307107691387\n",
      "weighted average of Correctly predicted data points in all clusters is 24.052132701421797%\n"
     ]
    }
   ],
   "source": [
    "cluster_wise_F1score(list(x),list(y))"
   ]
  },
  {
   "cell_type": "markdown",
   "id": "74209de7",
   "metadata": {},
   "source": [
    "### UMAP on CTABGAN synthetic data"
   ]
  },
  {
   "cell_type": "code",
   "execution_count": 101,
   "id": "df795c45",
   "metadata": {},
   "outputs": [
    {
     "data": {
      "image/png": "[encoded data removed]",
      "text/plain": [
       "<Figure size 500x500 with 1 Axes>"
      ]
     },
     "metadata": {},
     "output_type": "display_data"
    }
   ],
   "source": [
    "from fdc.fdc import feature_clustering, canberra_modified, Clustering, FDC\n",
    "np.random.seed(42)\n",
    "syn_emb_low=feature_clustering(30,0.01,'euclidean',CTABGAN_syn_data.drop([\"Target\"],axis=1),True)"
   ]
  },
  {
   "cell_type": "markdown",
   "id": "c373821f",
   "metadata": {},
   "source": [
    "### FDC on CTABGAN synthetic data"
   ]
  },
  {
   "cell_type": "code",
   "execution_count": 102,
   "id": "89654a46",
   "metadata": {},
   "outputs": [
    {
     "name": "stdout",
     "output_type": "stream",
     "text": [
      "FDC.normalize (init): 0.00002 / 0.000s\n",
      "FDC.normalize (clustering CONT): 15.24741 / 15.247s\n",
      "FDC.normalize (clustering ORD): 17.30398 / 32.551s\n",
      "FDC.normalize (clustering NOM): 42.97393 / 75.525s\n",
      "FDC.normalize (concat): 0.00036 / 75.526s\n",
      "FDC.normalize (umap 5 -> 2): 15.85857 / 91.384s\n",
      "FDC.normalize (array -> DataFrame): 0.00028 / 91.385s\n"
     ]
    },
    {
     "data": {
      "image/png": "[encoded data removed]",
      "text/plain": [
       "<Figure size 500x500 with 1 Axes>"
      ]
     },
     "metadata": {},
     "output_type": "display_data"
    },
    {
     "name": "stdout",
     "output_type": "stream",
     "text": [
      "FDC.normalize (plotting): 0.43969 / 91.824s\n",
      "FDC.normalize (array -> DataFrame): 0.00031 / 91.825s\n",
      "FDC.normalize (total): 0.00001 / 91.825s\n"
     ]
    }
   ],
   "source": [
    "from fdc.fdc import feature_clustering, canberra_modified, Clustering, FDC\n",
    "\n",
    "np.random.seed(42)\n",
    "fdc = FDC(clustering_cont=Clustering('euclidean',30,0.1)\n",
    "          , clustering_ord=Clustering(\"canberra\",30,0.1)\n",
    "          , clustering_nom=Clustering('hamming',30,0.1)\n",
    "          , visual=True\n",
    "          , use_pandas_output=True\n",
    "          , with_2d_embedding=True\n",
    "          )\n",
    "\n",
    "fdc.selectFeatures(continueous=cont_list, nomial=nom_list, ordinal=ord_list)\n",
    "\n",
    "FDC_emb_high,FDC_emb_low = fdc.normalize(CTABGAN_syn_data.drop('Target', axis=1),cont_list=cont_list, nom_list=nom_list, ord_list=ord_list,\n",
    "                  with_2d_embedding=True,\n",
    "                  visual=True)"
   ]
  },
  {
   "cell_type": "markdown",
   "id": "1d563551-aac3-40aa-8cf3-41747b88cb9e",
   "metadata": {},
   "source": [
    "### tabddpm"
   ]
  },
  {
   "cell_type": "code",
   "execution_count": 122,
   "id": "fcb94aba-bd00-45ce-bd0b-08e62f219424",
   "metadata": {},
   "outputs": [],
   "source": [
    "\n",
    "Tabddpm_syn_data=pd.read_csv('T2DM_synth_data_tddpm.csv')\n",
    "Tabddpm_syn_data.drop(['Unnamed: 0'],axis=1,inplace=True)\n",
    "\n"
   ]
  },
  {
   "cell_type": "code",
   "execution_count": 123,
   "id": "751f874f-21a0-41fb-b96a-72261c40ed16",
   "metadata": {},
   "outputs": [
    {
     "data": {
      "text/plain": [
       "1    7261\n",
       "0    7221\n",
       "2    7132\n",
       "3    4386\n",
       "Name: Target, dtype: int64"
      ]
     },
     "execution_count": 123,
     "metadata": {},
     "output_type": "execute_result"
    }
   ],
   "source": [
    "Tabddpm_syn_data['Target'].value_counts()"
   ]
  },
  {
   "cell_type": "code",
   "execution_count": 124,
   "id": "659099a6-43a4-4550-8146-20f18dd5d06b",
   "metadata": {},
   "outputs": [],
   "source": [
    "def balanced_synthetic_data(org_data,syn_data):\n",
    "    import math\n",
    "    org_data_len = org_data.shape[0]\n",
    "    class_counts = org_data.iloc[:,-1].value_counts()\n",
    "    column_names = list( syn_data.columns)\n",
    "    df_list=[]\n",
    "    for i in range(len(class_counts)):\n",
    "        c_i=syn_data[syn_data['Target']==i].sample(n=int(class_counts[i]),axis=0,random_state=42)\n",
    "        df_list.append(c_i)\n",
    "    balanced_df=pd.concat(df_list,names=column_names)\n",
    "    return balanced_df"
   ]
  },
  {
   "cell_type": "code",
   "execution_count": 125,
   "id": "2ae02bea-fa10-42b6-8c9d-97482b2a5920",
   "metadata": {},
   "outputs": [],
   "source": [
    "Tabddpm_syn_data=balanced_synthetic_data(pd.DataFrame(train_features),Tabddpm_syn_data)"
   ]
  },
  {
   "cell_type": "code",
   "execution_count": 126,
   "id": "27bd93df-c233-427e-95fe-940e0529074c",
   "metadata": {},
   "outputs": [
    {
     "data": {
      "text/plain": [
       "0    1898\n",
       "1    1898\n",
       "2    1898\n",
       "3    1898\n",
       "Name: Target, dtype: int64"
      ]
     },
     "execution_count": 126,
     "metadata": {},
     "output_type": "execute_result"
    }
   ],
   "source": [
    "Tabddpm_syn_data['Target'].value_counts()"
   ]
  },
  {
   "cell_type": "code",
   "execution_count": 127,
   "id": "5454d818-7328-461e-8769-02d43ddd4933",
   "metadata": {},
   "outputs": [],
   "source": [
    "Tabddpm_syn_data.to_csv('T2DM_Tabddpm_syn_data(semi_sup).csv',index=False)"
   ]
  },
  {
   "cell_type": "code",
   "execution_count": 128,
   "id": "ba51b317-9e98-4a66-86db-4b3556c46215",
   "metadata": {},
   "outputs": [],
   "source": [
    "#np.random.seed(42)\n",
    "Tabddpm_syn_data=Tabddpm_syn_data.sample(frac=1) #Shuffle the data se\n",
    "#np.random.seed(42)\n",
    "i=[x for x in range(np.shape(Tabddpm_syn_data)[0])]\n",
    "\n",
    "Tabddpm_syn_data.set_index(pd.Series(i), inplace=True)"
   ]
  },
  {
   "cell_type": "code",
   "execution_count": 129,
   "id": "43ebe83d-9696-4dfd-8a67-440eb5472ba8",
   "metadata": {},
   "outputs": [
    {
     "data": {
      "text/html": [
       "<div>\n",
       "<style scoped>\n",
       "    .dataframe tbody tr th:only-of-type {\n",
       "        vertical-align: middle;\n",
       "    }\n",
       "\n",
       "    .dataframe tbody tr th {\n",
       "        vertical-align: top;\n",
       "    }\n",
       "\n",
       "    .dataframe thead th {\n",
       "        text-align: right;\n",
       "    }\n",
       "</style>\n",
       "<table border=\"1\" class=\"dataframe\">\n",
       "  <thead>\n",
       "    <tr style=\"text-align: right;\">\n",
       "      <th></th>\n",
       "      <th>Drinks.alcohol</th>\n",
       "      <th>Smoking_stat</th>\n",
       "      <th>Has.refrigerator</th>\n",
       "      <th>Has.bicycle</th>\n",
       "      <th>Has.motorcycle.scooter</th>\n",
       "      <th>Has.car.truck</th>\n",
       "      <th>Owns.livestock..herds.or.farm.animals</th>\n",
       "      <th>Frequency.takes.milk.or.curd</th>\n",
       "      <th>Frequency.eats.pulses.or.beans</th>\n",
       "      <th>Frequency.eats.dark.green.leafy.vegetable</th>\n",
       "      <th>...</th>\n",
       "      <th>Hemoglobin.level..g.dl...1.decimal.</th>\n",
       "      <th>Time.to.get.to.water.source..minutes.</th>\n",
       "      <th>Household.head.s.religion</th>\n",
       "      <th>Sex</th>\n",
       "      <th>Type.of.place.of.residence</th>\n",
       "      <th>Household.structure</th>\n",
       "      <th>Type.of.caste.or.tribe.of.the.household.head</th>\n",
       "      <th>Type.of.cooking.fuel</th>\n",
       "      <th>Source.of.drinking.water</th>\n",
       "      <th>Target</th>\n",
       "    </tr>\n",
       "  </thead>\n",
       "  <tbody>\n",
       "    <tr>\n",
       "      <th>0</th>\n",
       "      <td>0.0</td>\n",
       "      <td>0.0</td>\n",
       "      <td>0.0</td>\n",
       "      <td>1.0</td>\n",
       "      <td>0.0</td>\n",
       "      <td>0.0</td>\n",
       "      <td>0.0</td>\n",
       "      <td>2.0</td>\n",
       "      <td>2.0</td>\n",
       "      <td>3.0</td>\n",
       "      <td>...</td>\n",
       "      <td>10.126158</td>\n",
       "      <td>0.000000</td>\n",
       "      <td>1.0</td>\n",
       "      <td>1.0</td>\n",
       "      <td>1.0</td>\n",
       "      <td>0.0</td>\n",
       "      <td>4.0</td>\n",
       "      <td>1.0</td>\n",
       "      <td>3.0</td>\n",
       "      <td>0.0</td>\n",
       "    </tr>\n",
       "    <tr>\n",
       "      <th>1</th>\n",
       "      <td>0.0</td>\n",
       "      <td>0.0</td>\n",
       "      <td>1.0</td>\n",
       "      <td>0.0</td>\n",
       "      <td>1.0</td>\n",
       "      <td>0.0</td>\n",
       "      <td>0.0</td>\n",
       "      <td>3.0</td>\n",
       "      <td>2.0</td>\n",
       "      <td>2.0</td>\n",
       "      <td>...</td>\n",
       "      <td>9.868422</td>\n",
       "      <td>0.000000</td>\n",
       "      <td>0.0</td>\n",
       "      <td>1.0</td>\n",
       "      <td>0.0</td>\n",
       "      <td>1.0</td>\n",
       "      <td>1.0</td>\n",
       "      <td>3.0</td>\n",
       "      <td>2.0</td>\n",
       "      <td>2.0</td>\n",
       "    </tr>\n",
       "    <tr>\n",
       "      <th>2</th>\n",
       "      <td>0.0</td>\n",
       "      <td>0.0</td>\n",
       "      <td>0.0</td>\n",
       "      <td>1.0</td>\n",
       "      <td>1.0</td>\n",
       "      <td>0.0</td>\n",
       "      <td>1.0</td>\n",
       "      <td>1.0</td>\n",
       "      <td>2.0</td>\n",
       "      <td>2.0</td>\n",
       "      <td>...</td>\n",
       "      <td>12.571859</td>\n",
       "      <td>16.787531</td>\n",
       "      <td>0.0</td>\n",
       "      <td>1.0</td>\n",
       "      <td>1.0</td>\n",
       "      <td>1.0</td>\n",
       "      <td>4.0</td>\n",
       "      <td>1.0</td>\n",
       "      <td>1.0</td>\n",
       "      <td>3.0</td>\n",
       "    </tr>\n",
       "    <tr>\n",
       "      <th>3</th>\n",
       "      <td>0.0</td>\n",
       "      <td>0.0</td>\n",
       "      <td>0.0</td>\n",
       "      <td>1.0</td>\n",
       "      <td>0.0</td>\n",
       "      <td>0.0</td>\n",
       "      <td>0.0</td>\n",
       "      <td>1.0</td>\n",
       "      <td>2.0</td>\n",
       "      <td>2.0</td>\n",
       "      <td>...</td>\n",
       "      <td>12.398946</td>\n",
       "      <td>0.000000</td>\n",
       "      <td>0.0</td>\n",
       "      <td>1.0</td>\n",
       "      <td>0.0</td>\n",
       "      <td>1.0</td>\n",
       "      <td>1.0</td>\n",
       "      <td>3.0</td>\n",
       "      <td>3.0</td>\n",
       "      <td>2.0</td>\n",
       "    </tr>\n",
       "    <tr>\n",
       "      <th>4</th>\n",
       "      <td>0.0</td>\n",
       "      <td>0.0</td>\n",
       "      <td>0.0</td>\n",
       "      <td>1.0</td>\n",
       "      <td>0.0</td>\n",
       "      <td>0.0</td>\n",
       "      <td>1.0</td>\n",
       "      <td>2.0</td>\n",
       "      <td>2.0</td>\n",
       "      <td>3.0</td>\n",
       "      <td>...</td>\n",
       "      <td>14.342728</td>\n",
       "      <td>5.612651</td>\n",
       "      <td>0.0</td>\n",
       "      <td>1.0</td>\n",
       "      <td>1.0</td>\n",
       "      <td>1.0</td>\n",
       "      <td>2.0</td>\n",
       "      <td>2.0</td>\n",
       "      <td>2.0</td>\n",
       "      <td>0.0</td>\n",
       "    </tr>\n",
       "    <tr>\n",
       "      <th>...</th>\n",
       "      <td>...</td>\n",
       "      <td>...</td>\n",
       "      <td>...</td>\n",
       "      <td>...</td>\n",
       "      <td>...</td>\n",
       "      <td>...</td>\n",
       "      <td>...</td>\n",
       "      <td>...</td>\n",
       "      <td>...</td>\n",
       "      <td>...</td>\n",
       "      <td>...</td>\n",
       "      <td>...</td>\n",
       "      <td>...</td>\n",
       "      <td>...</td>\n",
       "      <td>...</td>\n",
       "      <td>...</td>\n",
       "      <td>...</td>\n",
       "      <td>...</td>\n",
       "      <td>...</td>\n",
       "      <td>...</td>\n",
       "      <td>...</td>\n",
       "    </tr>\n",
       "    <tr>\n",
       "      <th>7587</th>\n",
       "      <td>0.0</td>\n",
       "      <td>0.0</td>\n",
       "      <td>1.0</td>\n",
       "      <td>1.0</td>\n",
       "      <td>1.0</td>\n",
       "      <td>0.0</td>\n",
       "      <td>0.0</td>\n",
       "      <td>3.0</td>\n",
       "      <td>3.0</td>\n",
       "      <td>3.0</td>\n",
       "      <td>...</td>\n",
       "      <td>11.876696</td>\n",
       "      <td>0.000000</td>\n",
       "      <td>1.0</td>\n",
       "      <td>1.0</td>\n",
       "      <td>0.0</td>\n",
       "      <td>0.0</td>\n",
       "      <td>1.0</td>\n",
       "      <td>3.0</td>\n",
       "      <td>3.0</td>\n",
       "      <td>2.0</td>\n",
       "    </tr>\n",
       "    <tr>\n",
       "      <th>7588</th>\n",
       "      <td>0.0</td>\n",
       "      <td>0.0</td>\n",
       "      <td>1.0</td>\n",
       "      <td>1.0</td>\n",
       "      <td>1.0</td>\n",
       "      <td>0.0</td>\n",
       "      <td>0.0</td>\n",
       "      <td>3.0</td>\n",
       "      <td>3.0</td>\n",
       "      <td>3.0</td>\n",
       "      <td>...</td>\n",
       "      <td>13.159216</td>\n",
       "      <td>0.000000</td>\n",
       "      <td>1.0</td>\n",
       "      <td>1.0</td>\n",
       "      <td>0.0</td>\n",
       "      <td>0.0</td>\n",
       "      <td>1.0</td>\n",
       "      <td>1.0</td>\n",
       "      <td>3.0</td>\n",
       "      <td>2.0</td>\n",
       "    </tr>\n",
       "    <tr>\n",
       "      <th>7589</th>\n",
       "      <td>0.0</td>\n",
       "      <td>0.0</td>\n",
       "      <td>1.0</td>\n",
       "      <td>1.0</td>\n",
       "      <td>1.0</td>\n",
       "      <td>0.0</td>\n",
       "      <td>0.0</td>\n",
       "      <td>3.0</td>\n",
       "      <td>3.0</td>\n",
       "      <td>3.0</td>\n",
       "      <td>...</td>\n",
       "      <td>8.879525</td>\n",
       "      <td>0.000000</td>\n",
       "      <td>0.0</td>\n",
       "      <td>1.0</td>\n",
       "      <td>0.0</td>\n",
       "      <td>1.0</td>\n",
       "      <td>1.0</td>\n",
       "      <td>3.0</td>\n",
       "      <td>3.0</td>\n",
       "      <td>2.0</td>\n",
       "    </tr>\n",
       "    <tr>\n",
       "      <th>7590</th>\n",
       "      <td>0.0</td>\n",
       "      <td>0.0</td>\n",
       "      <td>0.0</td>\n",
       "      <td>1.0</td>\n",
       "      <td>0.0</td>\n",
       "      <td>0.0</td>\n",
       "      <td>0.0</td>\n",
       "      <td>3.0</td>\n",
       "      <td>2.0</td>\n",
       "      <td>2.0</td>\n",
       "      <td>...</td>\n",
       "      <td>12.730135</td>\n",
       "      <td>0.000000</td>\n",
       "      <td>1.0</td>\n",
       "      <td>1.0</td>\n",
       "      <td>0.0</td>\n",
       "      <td>1.0</td>\n",
       "      <td>1.0</td>\n",
       "      <td>3.0</td>\n",
       "      <td>3.0</td>\n",
       "      <td>0.0</td>\n",
       "    </tr>\n",
       "    <tr>\n",
       "      <th>7591</th>\n",
       "      <td>0.0</td>\n",
       "      <td>0.0</td>\n",
       "      <td>1.0</td>\n",
       "      <td>1.0</td>\n",
       "      <td>1.0</td>\n",
       "      <td>0.0</td>\n",
       "      <td>0.0</td>\n",
       "      <td>3.0</td>\n",
       "      <td>2.0</td>\n",
       "      <td>3.0</td>\n",
       "      <td>...</td>\n",
       "      <td>12.803479</td>\n",
       "      <td>5.000000</td>\n",
       "      <td>0.0</td>\n",
       "      <td>1.0</td>\n",
       "      <td>0.0</td>\n",
       "      <td>1.0</td>\n",
       "      <td>1.0</td>\n",
       "      <td>3.0</td>\n",
       "      <td>3.0</td>\n",
       "      <td>3.0</td>\n",
       "    </tr>\n",
       "  </tbody>\n",
       "</table>\n",
       "<p>7592 rows × 37 columns</p>\n",
       "</div>"
      ],
      "text/plain": [
       "      Drinks.alcohol  Smoking_stat  Has.refrigerator  Has.bicycle  \\\n",
       "0                0.0           0.0               0.0          1.0   \n",
       "1                0.0           0.0               1.0          0.0   \n",
       "2                0.0           0.0               0.0          1.0   \n",
       "3                0.0           0.0               0.0          1.0   \n",
       "4                0.0           0.0               0.0          1.0   \n",
       "...              ...           ...               ...          ...   \n",
       "7587             0.0           0.0               1.0          1.0   \n",
       "7588             0.0           0.0               1.0          1.0   \n",
       "7589             0.0           0.0               1.0          1.0   \n",
       "7590             0.0           0.0               0.0          1.0   \n",
       "7591             0.0           0.0               1.0          1.0   \n",
       "\n",
       "      Has.motorcycle.scooter  Has.car.truck  \\\n",
       "0                        0.0            0.0   \n",
       "1                        1.0            0.0   \n",
       "2                        1.0            0.0   \n",
       "3                        0.0            0.0   \n",
       "4                        0.0            0.0   \n",
       "...                      ...            ...   \n",
       "7587                     1.0            0.0   \n",
       "7588                     1.0            0.0   \n",
       "7589                     1.0            0.0   \n",
       "7590                     0.0            0.0   \n",
       "7591                     1.0            0.0   \n",
       "\n",
       "      Owns.livestock..herds.or.farm.animals  Frequency.takes.milk.or.curd  \\\n",
       "0                                       0.0                           2.0   \n",
       "1                                       0.0                           3.0   \n",
       "2                                       1.0                           1.0   \n",
       "3                                       0.0                           1.0   \n",
       "4                                       1.0                           2.0   \n",
       "...                                     ...                           ...   \n",
       "7587                                    0.0                           3.0   \n",
       "7588                                    0.0                           3.0   \n",
       "7589                                    0.0                           3.0   \n",
       "7590                                    0.0                           3.0   \n",
       "7591                                    0.0                           3.0   \n",
       "\n",
       "      Frequency.eats.pulses.or.beans  \\\n",
       "0                                2.0   \n",
       "1                                2.0   \n",
       "2                                2.0   \n",
       "3                                2.0   \n",
       "4                                2.0   \n",
       "...                              ...   \n",
       "7587                             3.0   \n",
       "7588                             3.0   \n",
       "7589                             3.0   \n",
       "7590                             2.0   \n",
       "7591                             2.0   \n",
       "\n",
       "      Frequency.eats.dark.green.leafy.vegetable  ...  \\\n",
       "0                                           3.0  ...   \n",
       "1                                           2.0  ...   \n",
       "2                                           2.0  ...   \n",
       "3                                           2.0  ...   \n",
       "4                                           3.0  ...   \n",
       "...                                         ...  ...   \n",
       "7587                                        3.0  ...   \n",
       "7588                                        3.0  ...   \n",
       "7589                                        3.0  ...   \n",
       "7590                                        2.0  ...   \n",
       "7591                                        3.0  ...   \n",
       "\n",
       "      Hemoglobin.level..g.dl...1.decimal.  \\\n",
       "0                               10.126158   \n",
       "1                                9.868422   \n",
       "2                               12.571859   \n",
       "3                               12.398946   \n",
       "4                               14.342728   \n",
       "...                                   ...   \n",
       "7587                            11.876696   \n",
       "7588                            13.159216   \n",
       "7589                             8.879525   \n",
       "7590                            12.730135   \n",
       "7591                            12.803479   \n",
       "\n",
       "      Time.to.get.to.water.source..minutes.  Household.head.s.religion  Sex  \\\n",
       "0                                  0.000000                        1.0  1.0   \n",
       "1                                  0.000000                        0.0  1.0   \n",
       "2                                 16.787531                        0.0  1.0   \n",
       "3                                  0.000000                        0.0  1.0   \n",
       "4                                  5.612651                        0.0  1.0   \n",
       "...                                     ...                        ...  ...   \n",
       "7587                               0.000000                        1.0  1.0   \n",
       "7588                               0.000000                        1.0  1.0   \n",
       "7589                               0.000000                        0.0  1.0   \n",
       "7590                               0.000000                        1.0  1.0   \n",
       "7591                               5.000000                        0.0  1.0   \n",
       "\n",
       "      Type.of.place.of.residence  Household.structure  \\\n",
       "0                            1.0                  0.0   \n",
       "1                            0.0                  1.0   \n",
       "2                            1.0                  1.0   \n",
       "3                            0.0                  1.0   \n",
       "4                            1.0                  1.0   \n",
       "...                          ...                  ...   \n",
       "7587                         0.0                  0.0   \n",
       "7588                         0.0                  0.0   \n",
       "7589                         0.0                  1.0   \n",
       "7590                         0.0                  1.0   \n",
       "7591                         0.0                  1.0   \n",
       "\n",
       "      Type.of.caste.or.tribe.of.the.household.head  Type.of.cooking.fuel  \\\n",
       "0                                              4.0                   1.0   \n",
       "1                                              1.0                   3.0   \n",
       "2                                              4.0                   1.0   \n",
       "3                                              1.0                   3.0   \n",
       "4                                              2.0                   2.0   \n",
       "...                                            ...                   ...   \n",
       "7587                                           1.0                   3.0   \n",
       "7588                                           1.0                   1.0   \n",
       "7589                                           1.0                   3.0   \n",
       "7590                                           1.0                   3.0   \n",
       "7591                                           1.0                   3.0   \n",
       "\n",
       "      Source.of.drinking.water  Target  \n",
       "0                          3.0     0.0  \n",
       "1                          2.0     2.0  \n",
       "2                          1.0     3.0  \n",
       "3                          3.0     2.0  \n",
       "4                          2.0     0.0  \n",
       "...                        ...     ...  \n",
       "7587                       3.0     2.0  \n",
       "7588                       3.0     2.0  \n",
       "7589                       3.0     2.0  \n",
       "7590                       3.0     0.0  \n",
       "7591                       3.0     3.0  \n",
       "\n",
       "[7592 rows x 37 columns]"
      ]
     },
     "execution_count": 129,
     "metadata": {},
     "output_type": "execute_result"
    }
   ],
   "source": [
    "syn_train_data"
   ]
  },
  {
   "cell_type": "markdown",
   "id": "4d869088-7126-4312-89ba-14307b4573f1",
   "metadata": {},
   "source": [
    "### Train test split on synthetic data"
   ]
  },
  {
   "cell_type": "code",
   "execution_count": 130,
   "id": "8eb6749a-818f-447e-9fad-f0f9494a6291",
   "metadata": {},
   "outputs": [],
   "source": [
    "syn_train_features, syn_test_features, syn_train_labels, syn_test_labels = train_test_split(np.array(Tabddpm_syn_data.drop([\"Target\"],axis=1)), np.array(Tabddpm_syn_data[\"Target\"]), test_size = 0.25, random_state = 42)"
   ]
  },
  {
   "cell_type": "markdown",
   "id": "71466a2f-326c-46d8-b41d-8be601064b61",
   "metadata": {},
   "source": [
    "### Gradient boosting classifier on Tabddpm generated synthetic training data  (Model-2)"
   ]
  },
  {
   "cell_type": "code",
   "execution_count": 131,
   "id": "ffca6fcd-e90e-4fc8-9b13-0bf764a972b6",
   "metadata": {
    "scrolled": true
   },
   "outputs": [],
   "source": [
    "from sklearn.ensemble import GradientBoostingClassifier\n",
    "Tabddpm_model_2 = GradientBoostingClassifier(n_estimators=20, learning_rate=0.5, max_features=2, max_depth=2, random_state=42)\n"
   ]
  },
  {
   "cell_type": "markdown",
   "id": "c34c314c-1f73-4548-b72d-c1dd59691078",
   "metadata": {},
   "source": [
    "### 5 Fold Cross Validation"
   ]
  },
  {
   "cell_type": "code",
   "execution_count": 132,
   "id": "5f9c1cb9-4f0e-4c5c-b666-ef27ea062273",
   "metadata": {},
   "outputs": [
    {
     "name": "stdout",
     "output_type": "stream",
     "text": [
      "[0.87884109 0.85074627 0.90079017 0.89113257 0.89630931]\n",
      "Avg : 0.8835638822325876\n"
     ]
    }
   ],
   "source": [
    "score_lr=cross_val_score(Tabddpm_model_2, syn_train_features, syn_train_labels,cv=5)\n",
    "print(score_lr)\n",
    "print(\"Avg :\",np.average(score_lr))\n"
   ]
  },
  {
   "cell_type": "code",
   "execution_count": 133,
   "id": "b846b16e-cdc1-4478-beac-2e1250a6ebd5",
   "metadata": {},
   "outputs": [
    {
     "data": {
      "text/html": [
       "<style>#sk-container-id-6 {color: black;background-color: white;}#sk-container-id-6 pre{padding: 0;}#sk-container-id-6 div.sk-toggleable {background-color: white;}#sk-container-id-6 label.sk-toggleable__label {cursor: pointer;display: block;width: 100%;margin-bottom: 0;padding: 0.3em;box-sizing: border-box;text-align: center;}#sk-container-id-6 label.sk-toggleable__label-arrow:before {content: \"▸\";float: left;margin-right: 0.25em;color: #696969;}#sk-container-id-6 label.sk-toggleable__label-arrow:hover:before {color: black;}#sk-container-id-6 div.sk-estimator:hover label.sk-toggleable__label-arrow:before {color: black;}#sk-container-id-6 div.sk-toggleable__content {max-height: 0;max-width: 0;overflow: hidden;text-align: left;background-color: #f0f8ff;}#sk-container-id-6 div.sk-toggleable__content pre {margin: 0.2em;color: black;border-radius: 0.25em;background-color: #f0f8ff;}#sk-container-id-6 input.sk-toggleable__control:checked~div.sk-toggleable__content {max-height: 200px;max-width: 100%;overflow: auto;}#sk-container-id-6 input.sk-toggleable__control:checked~label.sk-toggleable__label-arrow:before {content: \"▾\";}#sk-container-id-6 div.sk-estimator input.sk-toggleable__control:checked~label.sk-toggleable__label {background-color: #d4ebff;}#sk-container-id-6 div.sk-label input.sk-toggleable__control:checked~label.sk-toggleable__label {background-color: #d4ebff;}#sk-container-id-6 input.sk-hidden--visually {border: 0;clip: rect(1px 1px 1px 1px);clip: rect(1px, 1px, 1px, 1px);height: 1px;margin: -1px;overflow: hidden;padding: 0;position: absolute;width: 1px;}#sk-container-id-6 div.sk-estimator {font-family: monospace;background-color: #f0f8ff;border: 1px dotted black;border-radius: 0.25em;box-sizing: border-box;margin-bottom: 0.5em;}#sk-container-id-6 div.sk-estimator:hover {background-color: #d4ebff;}#sk-container-id-6 div.sk-parallel-item::after {content: \"\";width: 100%;border-bottom: 1px solid gray;flex-grow: 1;}#sk-container-id-6 div.sk-label:hover label.sk-toggleable__label {background-color: #d4ebff;}#sk-container-id-6 div.sk-serial::before {content: \"\";position: absolute;border-left: 1px solid gray;box-sizing: border-box;top: 0;bottom: 0;left: 50%;z-index: 0;}#sk-container-id-6 div.sk-serial {display: flex;flex-direction: column;align-items: center;background-color: white;padding-right: 0.2em;padding-left: 0.2em;position: relative;}#sk-container-id-6 div.sk-item {position: relative;z-index: 1;}#sk-container-id-6 div.sk-parallel {display: flex;align-items: stretch;justify-content: center;background-color: white;position: relative;}#sk-container-id-6 div.sk-item::before, #sk-container-id-6 div.sk-parallel-item::before {content: \"\";position: absolute;border-left: 1px solid gray;box-sizing: border-box;top: 0;bottom: 0;left: 50%;z-index: -1;}#sk-container-id-6 div.sk-parallel-item {display: flex;flex-direction: column;z-index: 1;position: relative;background-color: white;}#sk-container-id-6 div.sk-parallel-item:first-child::after {align-self: flex-end;width: 50%;}#sk-container-id-6 div.sk-parallel-item:last-child::after {align-self: flex-start;width: 50%;}#sk-container-id-6 div.sk-parallel-item:only-child::after {width: 0;}#sk-container-id-6 div.sk-dashed-wrapped {border: 1px dashed gray;margin: 0 0.4em 0.5em 0.4em;box-sizing: border-box;padding-bottom: 0.4em;background-color: white;}#sk-container-id-6 div.sk-label label {font-family: monospace;font-weight: bold;display: inline-block;line-height: 1.2em;}#sk-container-id-6 div.sk-label-container {text-align: center;}#sk-container-id-6 div.sk-container {/* jupyter's `normalize.less` sets `[hidden] { display: none; }` but bootstrap.min.css set `[hidden] { display: none !important; }` so we also need the `!important` here to be able to override the default hidden behavior on the sphinx rendered scikit-learn.org. See: https://github.com/scikit-learn/scikit-learn/issues/21755 */display: inline-block !important;position: relative;}#sk-container-id-6 div.sk-text-repr-fallback {display: none;}</style><div id=\"sk-container-id-6\" class=\"sk-top-container\"><div class=\"sk-text-repr-fallback\"><pre>GradientBoostingClassifier(learning_rate=0.5, max_depth=2, max_features=2,\n",
       "                           n_estimators=20, random_state=42)</pre><b>In a Jupyter environment, please rerun this cell to show the HTML representation or trust the notebook. <br />On GitHub, the HTML representation is unable to render, please try loading this page with nbviewer.org.</b></div><div class=\"sk-container\" hidden><div class=\"sk-item\"><div class=\"sk-estimator sk-toggleable\"><input class=\"sk-toggleable__control sk-hidden--visually\" id=\"sk-estimator-id-6\" type=\"checkbox\" checked><label for=\"sk-estimator-id-6\" class=\"sk-toggleable__label sk-toggleable__label-arrow\">GradientBoostingClassifier</label><div class=\"sk-toggleable__content\"><pre>GradientBoostingClassifier(learning_rate=0.5, max_depth=2, max_features=2,\n",
       "                           n_estimators=20, random_state=42)</pre></div></div></div></div></div>"
      ],
      "text/plain": [
       "GradientBoostingClassifier(learning_rate=0.5, max_depth=2, max_features=2,\n",
       "                           n_estimators=20, random_state=42)"
      ]
     },
     "execution_count": 133,
     "metadata": {},
     "output_type": "execute_result"
    }
   ],
   "source": [
    "Tabddpm_model_2.fit(syn_train_features,syn_train_labels )"
   ]
  },
  {
   "cell_type": "markdown",
   "id": "a42ce02d-b618-42c6-b946-781421f94346",
   "metadata": {},
   "source": [
    "### Case-1: predicting validation data using Model-1\n"
   ]
  },
  {
   "cell_type": "code",
   "execution_count": 134,
   "id": "60af6bd7-b985-46de-ac5c-b9b463bec15e",
   "metadata": {},
   "outputs": [
    {
     "name": "stdout",
     "output_type": "stream",
     "text": [
      "F1_Score of cluster 0 is 0.8588312541037427\n",
      "Geometric mean of cluster 0 is 0.8591129761950762\n",
      "Correctly predicted data points in cluster 0 is 88.14016172506739%\n",
      "\n",
      "\n",
      "F1_Score of cluster 1 is 0.9044776119402985\n",
      "Geometric mean of cluster 1 is 0.9046227178879952\n",
      "Correctly predicted data points in cluster 1 is 92.09726443768997%\n",
      "\n",
      "\n",
      "F1_Score of cluster 2 is 0.8421052631578947\n",
      "Geometric mean of cluster 2 is 0.8427797568688796\n",
      "Correctly predicted data points in cluster 2 is 87.71929824561403%\n",
      "\n",
      "\n",
      "F1_Score of cluster 3 is 0.7731958762886598\n",
      "Geometric mean of cluster 3 is 0.7826098791840771\n",
      "Correctly predicted data points in cluster 3 is 66.96428571428571%\n",
      "\n",
      "\n",
      "weigted average F1_Score of all clusters is 0.8510232274008741\n",
      "weighted average Geometric mean of all clusters is 0.8529913729383206\n",
      "weighted average of Correctly predicted data points in all clusters is 85.30805687203791%\n"
     ]
    }
   ],
   "source": [
    "x=model_1.predict(np.array(test_features))\n",
    "cluster_wise_F1score(list(test_labels),list(x))"
   ]
  },
  {
   "cell_type": "markdown",
   "id": "01bf381e-a25a-4e26-915d-3cc320b43cf0",
   "metadata": {},
   "source": [
    "### Case-2: Predicting validation data using Model-2\n"
   ]
  },
  {
   "cell_type": "code",
   "execution_count": 135,
   "id": "c356640a-9fab-4ed0-9c62-eaeac1c0a39f",
   "metadata": {},
   "outputs": [
    {
     "name": "stdout",
     "output_type": "stream",
     "text": [
      "F1_Score of cluster 0 is 0.37076357697019197\n",
      "Geometric mean of cluster 0 is 0.40340115716362135\n",
      "Correctly predicted data points in cluster 0 is 61.18598382749326%\n",
      "\n",
      "\n",
      "F1_Score of cluster 1 is 0.1456953642384106\n",
      "Geometric mean of cluster 1 is 0.1502765895877537\n",
      "Correctly predicted data points in cluster 1 is 11.702127659574469%\n",
      "\n",
      "\n",
      "F1_Score of cluster 2 is 0.05142083897158321\n",
      "Geometric mean of cluster 2 is 0.09795896894087644\n",
      "Correctly predicted data points in cluster 2 is 2.7777777777777777%\n",
      "\n",
      "\n",
      "F1_Score of cluster 3 is 0.20024420024420023\n",
      "Geometric mean of cluster 3 is 0.20113511149629465\n",
      "Correctly predicted data points in cluster 3 is 18.303571428571427%\n",
      "\n",
      "\n",
      "weigted average F1_Score of all clusters is 0.19583545787785198\n",
      "weighted average Geometric mean of all clusters is 0.21931995231834459\n",
      "weighted average of Correctly predicted data points in all clusters is 24.96050552922591%\n"
     ]
    }
   ],
   "source": [
    "y=Tabddpm_model_2.predict(np.array(test_features))\n",
    "\n",
    "cluster_wise_F1score(list(test_labels),list(y))"
   ]
  },
  {
   "cell_type": "markdown",
   "id": "1b5ca279-e54f-4eb5-bbd9-792782a8964b",
   "metadata": {},
   "source": [
    "### Comparing predicted values from Case-1 & Case-2"
   ]
  },
  {
   "cell_type": "code",
   "execution_count": 136,
   "id": "fa1f79d6-ca0f-421d-8ce9-19aed281312a",
   "metadata": {
    "tags": []
   },
   "outputs": [
    {
     "name": "stdout",
     "output_type": "stream",
     "text": [
      "F1_Score of cluster 0 is 0.3842443729903537\n",
      "Geometric mean of cluster 0 is 0.41398596618898825\n",
      "Correctly predicted data points in cluster 0 is 61.20358514724712%\n",
      "\n",
      "\n",
      "F1_Score of cluster 1 is 0.1332099907493062\n",
      "Geometric mean of cluster 1 is 0.1380237622610374\n",
      "Correctly predicted data points in cluster 1 is 10.557184750733137%\n",
      "\n",
      "\n",
      "F1_Score of cluster 2 is 0.045226130653266326\n",
      "Geometric mean of cluster 2 is 0.08916246290928742\n",
      "Correctly predicted data points in cluster 2 is 2.42914979757085%\n",
      "\n",
      "\n",
      "F1_Score of cluster 3 is 0.14878397711015737\n",
      "Geometric mean of cluster 3 is 0.14906629830773577\n",
      "Correctly predicted data points in cluster 3 is 15.853658536585366%\n",
      "\n",
      "\n",
      "weigted average F1_Score of all clusters is 0.1869106541479838\n",
      "weighted average Geometric mean of all clusters is 0.21027582003015272\n",
      "weighted average of Correctly predicted data points in all clusters is 24.486571879936804%\n"
     ]
    }
   ],
   "source": [
    "cluster_wise_F1score(list(x),list(y))"
   ]
  },
  {
   "cell_type": "markdown",
   "id": "9b21894a-cd21-43cf-bcb2-e8dccd81dbda",
   "metadata": {},
   "source": [
    "### UMAP on synthetic data"
   ]
  },
  {
   "cell_type": "code",
   "execution_count": 137,
   "id": "1bce9cf4-3d93-41e4-ad6d-d6360efa2945",
   "metadata": {},
   "outputs": [
    {
     "data": {
      "image/png": "[encoded data removed]",
      "text/plain": [
       "<Figure size 500x500 with 1 Axes>"
      ]
     },
     "metadata": {},
     "output_type": "display_data"
    }
   ],
   "source": [
    "from fdc.fdc import feature_clustering, canberra_modified, Clustering, FDC\n",
    "np.random.seed(42)\n",
    "syn_emb_low=feature_clustering(30,0.01,'euclidean',Tabddpm_syn_data.drop([\"Target\"],axis=1),True)"
   ]
  },
  {
   "cell_type": "markdown",
   "id": "ccdd6c69-41c8-422a-ac48-1f94609e80aa",
   "metadata": {},
   "source": [
    "### FDC on synthetic data"
   ]
  },
  {
   "cell_type": "code",
   "execution_count": 138,
   "id": "b15bd7ec-e9de-49a7-9ddd-8703d1a64efc",
   "metadata": {},
   "outputs": [
    {
     "name": "stdout",
     "output_type": "stream",
     "text": [
      "FDC.normalize (init): 0.00002 / 0.000s\n",
      "FDC.normalize (clustering CONT): 15.30814 / 15.308s\n",
      "FDC.normalize (clustering ORD): 18.70535 / 34.014s\n",
      "FDC.normalize (clustering NOM): 44.11349 / 78.127s\n",
      "FDC.normalize (concat): 0.00031 / 78.127s\n",
      "FDC.normalize (umap 5 -> 2): 17.02163 / 95.149s\n",
      "FDC.normalize (array -> DataFrame): 0.00028 / 95.149s\n"
     ]
    },
    {
     "data": {
      "image/png": "[encoded data removed]",
      "text/plain": [
       "<Figure size 500x500 with 1 Axes>"
      ]
     },
     "metadata": {},
     "output_type": "display_data"
    },
    {
     "name": "stdout",
     "output_type": "stream",
     "text": [
      "FDC.normalize (plotting): 0.39493 / 95.544s\n",
      "FDC.normalize (array -> DataFrame): 0.00023 / 95.544s\n",
      "FDC.normalize (total): 0.00001 / 95.544s\n"
     ]
    }
   ],
   "source": [
    "from fdc.fdc import feature_clustering, canberra_modified, Clustering, FDC\n",
    "\n",
    "np.random.seed(42)\n",
    "fdc = FDC(clustering_cont=Clustering('euclidean',30,0.1)\n",
    "          , clustering_ord=Clustering(\"canberra\",30,0.1)\n",
    "          , clustering_nom=Clustering('hamming',30,0.1)\n",
    "          , visual=True\n",
    "          , use_pandas_output=True\n",
    "          , with_2d_embedding=True\n",
    "          )\n",
    "\n",
    "fdc.selectFeatures(continueous=cont_list, nomial=nom_list, ordinal=ord_list)\n",
    "\n",
    "FDC_emb_high,FDC_emb_low = fdc.normalize(Tabddpm_syn_data.drop('Target', axis=1),cont_list=cont_list, nom_list=nom_list, ord_list=ord_list,\n",
    "                  with_2d_embedding=True,\n",
    "                  visual=True)"
   ]
  },
  {
   "cell_type": "code",
   "execution_count": 139,
   "id": "cfd3175e-568d-4df5-8a40-a3b9b16896fd",
   "metadata": {},
   "outputs": [
    {
     "data": {
      "image/png": "[encoded data removed]",
      "text/plain": [
       "<Figure size 560.361x500 with 1 Axes>"
      ]
     },
     "metadata": {},
     "output_type": "display_data"
    }
   ],
   "source": [
    "from fdc.clustering import *\n",
    "clustering=Clustering(FDC_emb_low,FDC_emb_low,True)\n",
    "cluster_list,cluster_counts=clustering.K_means(4)"
   ]
  },
  {
   "cell_type": "code",
   "execution_count": 140,
   "id": "8281d578-1f9c-41fb-956a-fc405d559c26",
   "metadata": {},
   "outputs": [
    {
     "data": {
      "text/plain": [
       "array([2873, 1029, 1676, 2014])"
      ]
     },
     "execution_count": 140,
     "metadata": {},
     "output_type": "execute_result"
    }
   ],
   "source": [
    "cluster_counts"
   ]
  },
  {
   "cell_type": "code",
   "execution_count": null,
   "id": "4c6ee1e5-e7bc-465c-b8e4-80930a2469f9",
   "metadata": {},
   "outputs": [],
   "source": []
  }
 ],
 "metadata": {
  "kernelspec": {
   "display_name": "Python 3 (ipykernel)",
   "language": "python",
   "name": "python3"
  },
  "language_info": {
   "codemirror_mode": {
    "name": "ipython",
    "version": 3
   },
   "file_extension": ".py",
   "mimetype": "text/x-python",
   "name": "python",
   "nbconvert_exporter": "python",
   "pygments_lexer": "ipython3",
   "version": "3.8.15"
  }
 },
 "nbformat": 4,
 "nbformat_minor": 5
}
